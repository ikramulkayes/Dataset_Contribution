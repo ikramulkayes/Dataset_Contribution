{
 "cells": [
  {
   "cell_type": "code",
   "execution_count": 49,
   "id": "65f3b860",
   "metadata": {},
   "outputs": [
    {
     "name": "stderr",
     "output_type": "stream",
     "text": [
      "<ipython-input-49-6f06163a13e6>:15: DeprecationWarning: executable_path has been deprecated, please pass in a Service object\n",
      "  driver = webdriver.Chrome(ChromeDriverManager().install())\n",
      "  0%|                                                                                           | 0/66 [00:00<?, ?it/s]\n",
      "  0%|                                                                                          | 0/150 [00:00<?, ?it/s]\u001b[A"
     ]
    },
    {
     "name": "stdout",
     "output_type": "stream",
     "text": [
      "[<selenium.webdriver.remote.webelement.WebElement (session=\"9dde711e96f51ab43a9fa71de8b148c0\", element=\"bda67464-b079-4b37-ae24-e6b8628de395\")>]\n"
     ]
    },
    {
     "name": "stderr",
     "output_type": "stream",
     "text": [
      "\n",
      "  1%|▌                                                                                 | 1/150 [00:07<18:02,  7.26s/it]\u001b[A"
     ]
    },
    {
     "name": "stdout",
     "output_type": "stream",
     "text": [
      "[<selenium.webdriver.remote.webelement.WebElement (session=\"9dde711e96f51ab43a9fa71de8b148c0\", element=\"86cd0e34-25dc-42b3-9724-0039d316a55a\")>]\n"
     ]
    },
    {
     "name": "stderr",
     "output_type": "stream",
     "text": [
      "\n",
      "  1%|█                                                                                 | 2/150 [00:12<15:18,  6.21s/it]\u001b[A"
     ]
    },
    {
     "name": "stdout",
     "output_type": "stream",
     "text": [
      "[<selenium.webdriver.remote.webelement.WebElement (session=\"9dde711e96f51ab43a9fa71de8b148c0\", element=\"13a95cab-17e7-4385-a38b-6f16c8441725\")>]\n"
     ]
    },
    {
     "name": "stderr",
     "output_type": "stream",
     "text": [
      "\n",
      "  2%|█▋                                                                                | 3/150 [00:18<14:28,  5.91s/it]\u001b[A"
     ]
    },
    {
     "name": "stdout",
     "output_type": "stream",
     "text": [
      "[<selenium.webdriver.remote.webelement.WebElement (session=\"9dde711e96f51ab43a9fa71de8b148c0\", element=\"eec43237-3b16-429f-80cc-a3821a653667\")>]\n"
     ]
    },
    {
     "name": "stderr",
     "output_type": "stream",
     "text": [
      "\n",
      "  3%|██▏                                                                               | 4/150 [00:23<14:03,  5.78s/it]\u001b[A"
     ]
    },
    {
     "name": "stdout",
     "output_type": "stream",
     "text": [
      "[<selenium.webdriver.remote.webelement.WebElement (session=\"9dde711e96f51ab43a9fa71de8b148c0\", element=\"2bb27b45-85ed-46b4-9fb2-64b2bef64c76\")>]\n"
     ]
    },
    {
     "name": "stderr",
     "output_type": "stream",
     "text": [
      "\n",
      "  3%|██▋                                                                               | 5/150 [00:30<14:52,  6.16s/it]\u001b[A"
     ]
    },
    {
     "name": "stdout",
     "output_type": "stream",
     "text": [
      "[<selenium.webdriver.remote.webelement.WebElement (session=\"9dde711e96f51ab43a9fa71de8b148c0\", element=\"965ae486-5a5e-4535-845d-07bd86fc6f9a\")>]\n"
     ]
    },
    {
     "name": "stderr",
     "output_type": "stream",
     "text": [
      "\n",
      "  4%|███▎                                                                              | 6/150 [00:36<14:24,  6.00s/it]\u001b[A"
     ]
    },
    {
     "name": "stdout",
     "output_type": "stream",
     "text": [
      "[<selenium.webdriver.remote.webelement.WebElement (session=\"9dde711e96f51ab43a9fa71de8b148c0\", element=\"ebdb43d4-3483-4d6f-9ec9-b8a9cd2dd3d3\")>]\n"
     ]
    },
    {
     "name": "stderr",
     "output_type": "stream",
     "text": [
      "\n",
      "  5%|███▊                                                                              | 7/150 [00:43<14:50,  6.23s/it]\u001b[A"
     ]
    },
    {
     "name": "stdout",
     "output_type": "stream",
     "text": [
      "[<selenium.webdriver.remote.webelement.WebElement (session=\"9dde711e96f51ab43a9fa71de8b148c0\", element=\"7c75f428-ca06-4dea-99b7-7ba988645ad1\")>]\n"
     ]
    },
    {
     "name": "stderr",
     "output_type": "stream",
     "text": [
      "\n",
      "  5%|████▎                                                                             | 8/150 [00:48<14:14,  6.02s/it]\u001b[A"
     ]
    },
    {
     "name": "stdout",
     "output_type": "stream",
     "text": [
      "[<selenium.webdriver.remote.webelement.WebElement (session=\"9dde711e96f51ab43a9fa71de8b148c0\", element=\"38cbf7e7-351e-4cfd-b071-1bd39bfdea8e\")>]\n"
     ]
    },
    {
     "name": "stderr",
     "output_type": "stream",
     "text": [
      "\n",
      "  6%|████▉                                                                             | 9/150 [00:55<14:44,  6.27s/it]\u001b[A"
     ]
    },
    {
     "name": "stdout",
     "output_type": "stream",
     "text": [
      "[<selenium.webdriver.remote.webelement.WebElement (session=\"9dde711e96f51ab43a9fa71de8b148c0\", element=\"f3a35c1e-ba09-4887-b056-0ac3bc69d4d7\")>]\n"
     ]
    },
    {
     "name": "stderr",
     "output_type": "stream",
     "text": [
      "\n",
      "  7%|█████▍                                                                           | 10/150 [01:02<14:54,  6.39s/it]\u001b[A"
     ]
    },
    {
     "name": "stdout",
     "output_type": "stream",
     "text": [
      "[<selenium.webdriver.remote.webelement.WebElement (session=\"9dde711e96f51ab43a9fa71de8b148c0\", element=\"8689b5dd-923c-4f71-b5ef-95d86e4347ae\")>]\n"
     ]
    },
    {
     "name": "stderr",
     "output_type": "stream",
     "text": [
      "\n",
      "  7%|█████▉                                                                           | 11/150 [01:09<15:08,  6.54s/it]\u001b[A"
     ]
    },
    {
     "name": "stdout",
     "output_type": "stream",
     "text": [
      "[<selenium.webdriver.remote.webelement.WebElement (session=\"9dde711e96f51ab43a9fa71de8b148c0\", element=\"546ee702-379f-434b-a276-4a3326c39565\")>]\n"
     ]
    },
    {
     "name": "stderr",
     "output_type": "stream",
     "text": [
      "\n",
      "  8%|██████▍                                                                          | 12/150 [01:15<15:00,  6.53s/it]\u001b[A"
     ]
    },
    {
     "name": "stdout",
     "output_type": "stream",
     "text": [
      "[<selenium.webdriver.remote.webelement.WebElement (session=\"9dde711e96f51ab43a9fa71de8b148c0\", element=\"f19eff41-89e0-40a0-bc5c-f8edf0624f70\")>]\n"
     ]
    },
    {
     "name": "stderr",
     "output_type": "stream",
     "text": [
      "\n",
      "  9%|███████                                                                          | 13/150 [01:22<14:54,  6.53s/it]\u001b[A"
     ]
    },
    {
     "name": "stdout",
     "output_type": "stream",
     "text": [
      "[<selenium.webdriver.remote.webelement.WebElement (session=\"9dde711e96f51ab43a9fa71de8b148c0\", element=\"b6b07a9d-dd4e-4f6b-90aa-e1877156239e\")>]\n"
     ]
    },
    {
     "name": "stderr",
     "output_type": "stream",
     "text": [
      "\n",
      "  9%|███████▌                                                                         | 14/150 [01:28<14:50,  6.55s/it]\u001b[A"
     ]
    },
    {
     "name": "stdout",
     "output_type": "stream",
     "text": [
      "[<selenium.webdriver.remote.webelement.WebElement (session=\"9dde711e96f51ab43a9fa71de8b148c0\", element=\"dd9c96c9-eb8d-4827-9025-d6a19a0af561\")>]\n"
     ]
    },
    {
     "name": "stderr",
     "output_type": "stream",
     "text": [
      "\n",
      " 10%|████████                                                                         | 15/150 [01:35<14:43,  6.55s/it]\u001b[A\n"
     ]
    },
    {
     "name": "stdout",
     "output_type": "stream",
     "text": [
      "[<selenium.webdriver.remote.webelement.WebElement (session=\"9dde711e96f51ab43a9fa71de8b148c0\", element=\"233fd021-3395-4afe-87f2-560e2fb41aef\")>]\n"
     ]
    },
    {
     "name": "stderr",
     "output_type": "stream",
     "text": [
      " 11%|████████▋                                                                        | 16/150 [01:41<14:33,  6.52s/it]\u001b[A"
     ]
    },
    {
     "name": "stdout",
     "output_type": "stream",
     "text": [
      "[<selenium.webdriver.remote.webelement.WebElement (session=\"9dde711e96f51ab43a9fa71de8b148c0\", element=\"2d30834e-2c14-4934-be02-7223e963c04b\")>]\n"
     ]
    },
    {
     "name": "stderr",
     "output_type": "stream",
     "text": [
      "\n",
      " 11%|█████████▏                                                                       | 17/150 [01:48<14:32,  6.56s/it]\u001b[A"
     ]
    },
    {
     "name": "stdout",
     "output_type": "stream",
     "text": [
      "[<selenium.webdriver.remote.webelement.WebElement (session=\"9dde711e96f51ab43a9fa71de8b148c0\", element=\"3e33d2b5-04cb-44f1-8d96-c1c2b8dfcce6\")>]\n"
     ]
    },
    {
     "name": "stderr",
     "output_type": "stream",
     "text": [
      "\n",
      " 12%|█████████▋                                                                       | 18/150 [01:54<14:27,  6.57s/it]\u001b[A"
     ]
    },
    {
     "name": "stdout",
     "output_type": "stream",
     "text": [
      "[<selenium.webdriver.remote.webelement.WebElement (session=\"9dde711e96f51ab43a9fa71de8b148c0\", element=\"0100086c-7ae0-4482-97bc-8322ccddb0d3\")>]\n"
     ]
    },
    {
     "name": "stderr",
     "output_type": "stream",
     "text": [
      "\n",
      " 13%|██████████▎                                                                      | 19/150 [02:01<14:30,  6.64s/it]\u001b[A"
     ]
    },
    {
     "name": "stdout",
     "output_type": "stream",
     "text": [
      "[<selenium.webdriver.remote.webelement.WebElement (session=\"9dde711e96f51ab43a9fa71de8b148c0\", element=\"43987a9f-379f-4249-bbe3-d850379162ea\")>]\n"
     ]
    },
    {
     "name": "stderr",
     "output_type": "stream",
     "text": [
      "\n",
      " 13%|██████████▊                                                                      | 20/150 [02:08<14:20,  6.62s/it]\u001b[A"
     ]
    },
    {
     "name": "stdout",
     "output_type": "stream",
     "text": [
      "[<selenium.webdriver.remote.webelement.WebElement (session=\"9dde711e96f51ab43a9fa71de8b148c0\", element=\"636d9286-afb9-42aa-9769-9feb4ad1de4f\")>]\n"
     ]
    },
    {
     "name": "stderr",
     "output_type": "stream",
     "text": [
      "\n",
      " 14%|███████████▎                                                                     | 21/150 [02:14<14:17,  6.65s/it]\u001b[A"
     ]
    },
    {
     "name": "stdout",
     "output_type": "stream",
     "text": [
      "[<selenium.webdriver.remote.webelement.WebElement (session=\"9dde711e96f51ab43a9fa71de8b148c0\", element=\"5c1d9d7f-4478-434f-87f5-a72a0a4864f5\")>]\n"
     ]
    },
    {
     "name": "stderr",
     "output_type": "stream",
     "text": [
      "\n",
      " 15%|███████████▉                                                                     | 22/150 [02:21<14:09,  6.63s/it]\u001b[A"
     ]
    },
    {
     "name": "stdout",
     "output_type": "stream",
     "text": [
      "[<selenium.webdriver.remote.webelement.WebElement (session=\"9dde711e96f51ab43a9fa71de8b148c0\", element=\"51c72f34-576e-4511-9821-a32b97f15b60\")>]\n"
     ]
    },
    {
     "name": "stderr",
     "output_type": "stream",
     "text": [
      "\n",
      " 15%|████████████▍                                                                    | 23/150 [02:28<14:00,  6.62s/it]\u001b[A"
     ]
    },
    {
     "name": "stdout",
     "output_type": "stream",
     "text": [
      "[<selenium.webdriver.remote.webelement.WebElement (session=\"9dde711e96f51ab43a9fa71de8b148c0\", element=\"8dcc6f00-bc4b-4099-82de-3b4b3915a34b\")>]\n"
     ]
    },
    {
     "name": "stderr",
     "output_type": "stream",
     "text": [
      "\n",
      " 16%|████████████▉                                                                    | 24/150 [02:35<14:12,  6.76s/it]\u001b[A"
     ]
    },
    {
     "name": "stdout",
     "output_type": "stream",
     "text": [
      "[<selenium.webdriver.remote.webelement.WebElement (session=\"9dde711e96f51ab43a9fa71de8b148c0\", element=\"08b45a5b-cafb-4ee4-b98d-8a27e38f432a\")>]\n"
     ]
    },
    {
     "name": "stderr",
     "output_type": "stream",
     "text": [
      "\n",
      " 17%|█████████████▌                                                                   | 25/150 [02:42<14:05,  6.76s/it]\u001b[A"
     ]
    },
    {
     "name": "stdout",
     "output_type": "stream",
     "text": [
      "[<selenium.webdriver.remote.webelement.WebElement (session=\"9dde711e96f51ab43a9fa71de8b148c0\", element=\"122da5f0-7040-40d5-bab5-1677440f8ac8\")>]\n"
     ]
    },
    {
     "name": "stderr",
     "output_type": "stream",
     "text": [
      "\n",
      " 17%|██████████████                                                                   | 26/150 [02:48<13:52,  6.72s/it]\u001b[A"
     ]
    },
    {
     "name": "stdout",
     "output_type": "stream",
     "text": [
      "[<selenium.webdriver.remote.webelement.WebElement (session=\"9dde711e96f51ab43a9fa71de8b148c0\", element=\"cecdb0b7-b5b0-4e64-96e3-3756778025b5\")>]\n"
     ]
    },
    {
     "name": "stderr",
     "output_type": "stream",
     "text": [
      "\n",
      " 18%|██████████████▌                                                                  | 27/150 [02:55<13:52,  6.77s/it]\u001b[A"
     ]
    },
    {
     "name": "stdout",
     "output_type": "stream",
     "text": [
      "[<selenium.webdriver.remote.webelement.WebElement (session=\"9dde711e96f51ab43a9fa71de8b148c0\", element=\"08b2ef25-e306-4aef-8597-1e842be5d31c\")>]\n"
     ]
    },
    {
     "name": "stderr",
     "output_type": "stream",
     "text": [
      "\n",
      " 19%|███████████████                                                                  | 28/150 [03:02<13:36,  6.69s/it]\u001b[A"
     ]
    },
    {
     "name": "stdout",
     "output_type": "stream",
     "text": [
      "[<selenium.webdriver.remote.webelement.WebElement (session=\"9dde711e96f51ab43a9fa71de8b148c0\", element=\"431f0d7b-9248-43e7-8ab7-c69a2254d6b2\")>]\n"
     ]
    },
    {
     "name": "stderr",
     "output_type": "stream",
     "text": [
      "\n",
      " 19%|███████████████▋                                                                 | 29/150 [03:08<13:30,  6.70s/it]\u001b[A"
     ]
    },
    {
     "name": "stdout",
     "output_type": "stream",
     "text": [
      "[<selenium.webdriver.remote.webelement.WebElement (session=\"9dde711e96f51ab43a9fa71de8b148c0\", element=\"f1a1ba34-712a-4384-8869-fbac58bf98a6\")>]\n"
     ]
    },
    {
     "name": "stderr",
     "output_type": "stream",
     "text": [
      "\n",
      " 20%|████████████████▏                                                                | 30/150 [03:16<14:05,  7.05s/it]\u001b[A"
     ]
    },
    {
     "name": "stdout",
     "output_type": "stream",
     "text": [
      "[<selenium.webdriver.remote.webelement.WebElement (session=\"9dde711e96f51ab43a9fa71de8b148c0\", element=\"b2e90f35-2036-4846-b435-4ae212e3f489\")>]\n"
     ]
    },
    {
     "name": "stderr",
     "output_type": "stream",
     "text": [
      "\n",
      " 21%|████████████████▋                                                                | 31/150 [03:23<13:56,  7.03s/it]\u001b[A"
     ]
    },
    {
     "name": "stdout",
     "output_type": "stream",
     "text": [
      "[<selenium.webdriver.remote.webelement.WebElement (session=\"9dde711e96f51ab43a9fa71de8b148c0\", element=\"7ed6c5bb-7553-407f-997f-4c31809d9223\")>]\n"
     ]
    },
    {
     "name": "stderr",
     "output_type": "stream",
     "text": [
      "\n",
      " 21%|█████████████████▎                                                               | 32/150 [03:30<13:37,  6.93s/it]\u001b[A"
     ]
    },
    {
     "name": "stdout",
     "output_type": "stream",
     "text": [
      "[<selenium.webdriver.remote.webelement.WebElement (session=\"9dde711e96f51ab43a9fa71de8b148c0\", element=\"70ffff46-951b-480c-9caf-c207072bf4f2\")>]\n"
     ]
    },
    {
     "name": "stderr",
     "output_type": "stream",
     "text": [
      "\n",
      " 22%|█████████████████▊                                                               | 33/150 [03:36<13:17,  6.82s/it]\u001b[A"
     ]
    },
    {
     "name": "stdout",
     "output_type": "stream",
     "text": [
      "[<selenium.webdriver.remote.webelement.WebElement (session=\"9dde711e96f51ab43a9fa71de8b148c0\", element=\"a5df28bc-495e-4816-8ec8-f83f42369f1a\")>]\n"
     ]
    },
    {
     "name": "stderr",
     "output_type": "stream",
     "text": [
      "\n",
      " 23%|██████████████████▎                                                              | 34/150 [03:43<13:03,  6.76s/it]\u001b[A"
     ]
    },
    {
     "name": "stdout",
     "output_type": "stream",
     "text": [
      "[<selenium.webdriver.remote.webelement.WebElement (session=\"9dde711e96f51ab43a9fa71de8b148c0\", element=\"d52ad481-b5f1-4e0c-8cab-428b2bb2b7e8\")>]\n"
     ]
    },
    {
     "name": "stderr",
     "output_type": "stream",
     "text": [
      "\n",
      " 23%|██████████████████▉                                                              | 35/150 [03:50<12:54,  6.73s/it]\u001b[A"
     ]
    },
    {
     "name": "stdout",
     "output_type": "stream",
     "text": [
      "[<selenium.webdriver.remote.webelement.WebElement (session=\"9dde711e96f51ab43a9fa71de8b148c0\", element=\"134b9281-c1b3-4a6a-9281-c5c9f6ff1505\")>]\n"
     ]
    },
    {
     "name": "stderr",
     "output_type": "stream",
     "text": [
      "\n",
      " 24%|███████████████████▍                                                             | 36/150 [03:56<12:50,  6.75s/it]\u001b[A"
     ]
    },
    {
     "name": "stdout",
     "output_type": "stream",
     "text": [
      "[<selenium.webdriver.remote.webelement.WebElement (session=\"9dde711e96f51ab43a9fa71de8b148c0\", element=\"37d48fc2-d5db-46c2-8c25-73daf0f5f856\")>]\n"
     ]
    },
    {
     "name": "stderr",
     "output_type": "stream",
     "text": [
      "\n",
      " 25%|███████████████████▉                                                             | 37/150 [04:03<12:41,  6.74s/it]\u001b[A"
     ]
    },
    {
     "name": "stdout",
     "output_type": "stream",
     "text": [
      "[<selenium.webdriver.remote.webelement.WebElement (session=\"9dde711e96f51ab43a9fa71de8b148c0\", element=\"df247769-9085-495f-8935-a2a2f2f9a3a0\")>]\n"
     ]
    },
    {
     "name": "stderr",
     "output_type": "stream",
     "text": [
      "\n",
      " 25%|████████████████████▌                                                            | 38/150 [04:10<12:47,  6.85s/it]\u001b[A"
     ]
    },
    {
     "name": "stdout",
     "output_type": "stream",
     "text": [
      "[<selenium.webdriver.remote.webelement.WebElement (session=\"9dde711e96f51ab43a9fa71de8b148c0\", element=\"5ffc6481-36e6-48a1-88d0-f8aa0438559c\")>]\n"
     ]
    },
    {
     "name": "stderr",
     "output_type": "stream",
     "text": [
      "\n",
      " 26%|█████████████████████                                                            | 39/150 [04:17<12:32,  6.78s/it]\u001b[A"
     ]
    },
    {
     "name": "stdout",
     "output_type": "stream",
     "text": [
      "[<selenium.webdriver.remote.webelement.WebElement (session=\"9dde711e96f51ab43a9fa71de8b148c0\", element=\"eb4f3cf4-efc1-462f-971e-8b39a9d0e1d9\")>]\n"
     ]
    },
    {
     "name": "stderr",
     "output_type": "stream",
     "text": [
      "\n",
      " 27%|█████████████████████▌                                                           | 40/150 [04:23<12:20,  6.73s/it]\u001b[A"
     ]
    },
    {
     "name": "stdout",
     "output_type": "stream",
     "text": [
      "[<selenium.webdriver.remote.webelement.WebElement (session=\"9dde711e96f51ab43a9fa71de8b148c0\", element=\"adf2e698-0b3d-43cf-8d6c-c55e60fbb6d7\")>]\n"
     ]
    },
    {
     "name": "stderr",
     "output_type": "stream",
     "text": [
      "\n",
      " 27%|██████████████████████▏                                                          | 41/150 [04:30<12:22,  6.81s/it]\u001b[A"
     ]
    },
    {
     "name": "stdout",
     "output_type": "stream",
     "text": [
      "[<selenium.webdriver.remote.webelement.WebElement (session=\"9dde711e96f51ab43a9fa71de8b148c0\", element=\"5e30193d-66be-4730-a9dc-cbbdae6a4488\")>]\n"
     ]
    },
    {
     "name": "stderr",
     "output_type": "stream",
     "text": [
      "\n",
      " 28%|██████████████████████▋                                                          | 42/150 [04:37<12:15,  6.81s/it]\u001b[A"
     ]
    },
    {
     "name": "stdout",
     "output_type": "stream",
     "text": [
      "[<selenium.webdriver.remote.webelement.WebElement (session=\"9dde711e96f51ab43a9fa71de8b148c0\", element=\"e9dd28bd-62fc-4e30-8216-82b01b72f4b4\")>]\n"
     ]
    },
    {
     "name": "stderr",
     "output_type": "stream",
     "text": [
      "\n",
      " 29%|███████████████████████▏                                                         | 43/150 [04:44<12:01,  6.74s/it]\u001b[A"
     ]
    },
    {
     "name": "stdout",
     "output_type": "stream",
     "text": [
      "[<selenium.webdriver.remote.webelement.WebElement (session=\"9dde711e96f51ab43a9fa71de8b148c0\", element=\"2a4cbec2-d230-4766-8756-0a255b9c81e8\")>]\n"
     ]
    },
    {
     "name": "stderr",
     "output_type": "stream",
     "text": [
      "\n",
      " 29%|███████████████████████▊                                                         | 44/150 [04:51<11:53,  6.73s/it]\u001b[A"
     ]
    },
    {
     "name": "stdout",
     "output_type": "stream",
     "text": [
      "[<selenium.webdriver.remote.webelement.WebElement (session=\"9dde711e96f51ab43a9fa71de8b148c0\", element=\"09daed2d-1965-4d68-94f4-848ef6e7b49e\")>]\n"
     ]
    },
    {
     "name": "stderr",
     "output_type": "stream",
     "text": [
      "\n",
      " 30%|████████████████████████▎                                                        | 45/150 [04:57<11:43,  6.70s/it]\u001b[A"
     ]
    },
    {
     "name": "stdout",
     "output_type": "stream",
     "text": [
      "[<selenium.webdriver.remote.webelement.WebElement (session=\"9dde711e96f51ab43a9fa71de8b148c0\", element=\"8d480dcd-2916-4642-aced-8625be24dcde\")>]\n"
     ]
    },
    {
     "name": "stderr",
     "output_type": "stream",
     "text": [
      "\n",
      " 31%|████████████████████████▊                                                        | 46/150 [05:04<11:33,  6.67s/it]\u001b[A"
     ]
    },
    {
     "name": "stdout",
     "output_type": "stream",
     "text": [
      "[<selenium.webdriver.remote.webelement.WebElement (session=\"9dde711e96f51ab43a9fa71de8b148c0\", element=\"a92aee1c-635e-4a1d-afcc-f899c091e698\")>]\n"
     ]
    },
    {
     "name": "stderr",
     "output_type": "stream",
     "text": [
      "\n",
      " 31%|█████████████████████████▍                                                       | 47/150 [05:10<11:25,  6.66s/it]\u001b[A"
     ]
    },
    {
     "name": "stdout",
     "output_type": "stream",
     "text": [
      "[<selenium.webdriver.remote.webelement.WebElement (session=\"9dde711e96f51ab43a9fa71de8b148c0\", element=\"8c96a0cd-c3ba-44b1-bccf-18689e36af35\")>]\n"
     ]
    },
    {
     "name": "stderr",
     "output_type": "stream",
     "text": [
      "\n",
      " 32%|█████████████████████████▉                                                       | 48/150 [05:17<11:17,  6.64s/it]\u001b[A"
     ]
    },
    {
     "name": "stdout",
     "output_type": "stream",
     "text": [
      "[<selenium.webdriver.remote.webelement.WebElement (session=\"9dde711e96f51ab43a9fa71de8b148c0\", element=\"7ab9c757-4ab9-43c7-955e-42732908ef62\")>]\n"
     ]
    },
    {
     "name": "stderr",
     "output_type": "stream",
     "text": [
      "\n",
      " 33%|██████████████████████████▍                                                      | 49/150 [05:24<11:12,  6.66s/it]\u001b[A"
     ]
    },
    {
     "name": "stdout",
     "output_type": "stream",
     "text": [
      "[<selenium.webdriver.remote.webelement.WebElement (session=\"9dde711e96f51ab43a9fa71de8b148c0\", element=\"72113dee-8beb-402b-b7bf-04d5a40b3ebd\")>]\n"
     ]
    },
    {
     "name": "stderr",
     "output_type": "stream",
     "text": [
      "\n",
      " 33%|███████████████████████████                                                      | 50/150 [05:32<11:04,  6.64s/it]\u001b[A\n",
      "  2%|█▏                                                                              | 1/66 [05:32<5:59:48, 332.13s/it]\n",
      "  0%|                                                                                          | 0/150 [00:00<?, ?it/s]\u001b[A"
     ]
    },
    {
     "name": "stdout",
     "output_type": "stream",
     "text": [
      "[<selenium.webdriver.remote.webelement.WebElement (session=\"9dde711e96f51ab43a9fa71de8b148c0\", element=\"1391aa2c-e6a6-4eee-87b6-8cd76567073b\")>]\n"
     ]
    },
    {
     "name": "stderr",
     "output_type": "stream",
     "text": [
      "\n",
      "  1%|▌                                                                                 | 1/150 [00:06<16:12,  6.53s/it]\u001b[A"
     ]
    },
    {
     "name": "stdout",
     "output_type": "stream",
     "text": [
      "[<selenium.webdriver.remote.webelement.WebElement (session=\"9dde711e96f51ab43a9fa71de8b148c0\", element=\"577bdf79-9c2c-4da3-b9be-ffe5af27b3dc\")>]\n"
     ]
    },
    {
     "name": "stderr",
     "output_type": "stream",
     "text": [
      "\n",
      "  1%|█                                                                                 | 2/150 [00:13<16:13,  6.58s/it]\u001b[A"
     ]
    },
    {
     "name": "stdout",
     "output_type": "stream",
     "text": [
      "[<selenium.webdriver.remote.webelement.WebElement (session=\"9dde711e96f51ab43a9fa71de8b148c0\", element=\"cecefc24-31cd-470a-a587-0c72a8bf76c4\")>]\n"
     ]
    },
    {
     "name": "stderr",
     "output_type": "stream",
     "text": [
      "\n",
      "  2%|█▋                                                                                | 3/150 [00:19<16:04,  6.56s/it]\u001b[A"
     ]
    },
    {
     "name": "stdout",
     "output_type": "stream",
     "text": [
      "[<selenium.webdriver.remote.webelement.WebElement (session=\"9dde711e96f51ab43a9fa71de8b148c0\", element=\"8208a152-a1ca-4a30-b4f1-667205291a35\")>]\n"
     ]
    },
    {
     "name": "stderr",
     "output_type": "stream",
     "text": [
      "\n",
      "  3%|██▏                                                                               | 4/150 [00:26<16:04,  6.61s/it]\u001b[A"
     ]
    },
    {
     "name": "stdout",
     "output_type": "stream",
     "text": [
      "[<selenium.webdriver.remote.webelement.WebElement (session=\"9dde711e96f51ab43a9fa71de8b148c0\", element=\"8a8cbaa1-35cf-473a-b897-45dfed34552a\")>]\n"
     ]
    },
    {
     "name": "stderr",
     "output_type": "stream",
     "text": [
      "\n",
      "  3%|██▋                                                                               | 5/150 [00:32<15:57,  6.60s/it]\u001b[A"
     ]
    },
    {
     "name": "stdout",
     "output_type": "stream",
     "text": [
      "[<selenium.webdriver.remote.webelement.WebElement (session=\"9dde711e96f51ab43a9fa71de8b148c0\", element=\"d4deeb52-5fb4-4a28-9ff7-08c01479872c\")>]\n"
     ]
    },
    {
     "name": "stderr",
     "output_type": "stream",
     "text": [
      "\n",
      "  4%|███▎                                                                              | 6/150 [00:39<15:51,  6.61s/it]\u001b[A"
     ]
    },
    {
     "name": "stdout",
     "output_type": "stream",
     "text": [
      "[<selenium.webdriver.remote.webelement.WebElement (session=\"9dde711e96f51ab43a9fa71de8b148c0\", element=\"7a9c6a76-548d-47ac-b21f-eb3356a05879\")>]\n"
     ]
    },
    {
     "name": "stderr",
     "output_type": "stream",
     "text": [
      "\n",
      "  5%|███▊                                                                              | 7/150 [00:46<15:46,  6.62s/it]\u001b[A"
     ]
    },
    {
     "name": "stdout",
     "output_type": "stream",
     "text": [
      "[<selenium.webdriver.remote.webelement.WebElement (session=\"9dde711e96f51ab43a9fa71de8b148c0\", element=\"c05cb12b-7545-43ea-8cb4-6670f8a002f6\")>]\n"
     ]
    },
    {
     "name": "stderr",
     "output_type": "stream",
     "text": [
      "\n",
      "  5%|████▎                                                                             | 8/150 [00:52<15:43,  6.65s/it]\u001b[A"
     ]
    },
    {
     "name": "stdout",
     "output_type": "stream",
     "text": [
      "[<selenium.webdriver.remote.webelement.WebElement (session=\"9dde711e96f51ab43a9fa71de8b148c0\", element=\"489450ff-0dc4-4c51-a1f3-c025ab479371\")>]\n"
     ]
    },
    {
     "name": "stderr",
     "output_type": "stream",
     "text": [
      "\n",
      "  6%|████▉                                                                             | 9/150 [00:59<15:35,  6.64s/it]\u001b[A"
     ]
    },
    {
     "name": "stdout",
     "output_type": "stream",
     "text": [
      "[<selenium.webdriver.remote.webelement.WebElement (session=\"9dde711e96f51ab43a9fa71de8b148c0\", element=\"8a078d19-f25b-48b4-a12e-dc916aed1ddc\")>]\n"
     ]
    },
    {
     "name": "stderr",
     "output_type": "stream",
     "text": [
      "\n",
      "  7%|█████▍                                                                           | 10/150 [01:06<15:32,  6.66s/it]\u001b[A\n",
      "  7%|█████▉                                                                           | 11/150 [01:12<15:12,  6.56s/it]\u001b[A"
     ]
    },
    {
     "name": "stdout",
     "output_type": "stream",
     "text": [
      "[<selenium.webdriver.remote.webelement.WebElement (session=\"9dde711e96f51ab43a9fa71de8b148c0\", element=\"e9eff60f-845a-40de-88be-0214312a1e49\")>]\n",
      "[<selenium.webdriver.remote.webelement.WebElement (session=\"9dde711e96f51ab43a9fa71de8b148c0\", element=\"f89d3149-40ac-49dd-8760-1579ac79aab5\")>]\n"
     ]
    },
    {
     "name": "stderr",
     "output_type": "stream",
     "text": [
      "\n",
      "  8%|██████▍                                                                          | 12/150 [01:19<15:18,  6.65s/it]\u001b[A"
     ]
    },
    {
     "name": "stdout",
     "output_type": "stream",
     "text": [
      "[<selenium.webdriver.remote.webelement.WebElement (session=\"9dde711e96f51ab43a9fa71de8b148c0\", element=\"a8ca06c8-1616-4a3c-807d-637f6ce1b951\")>]\n"
     ]
    },
    {
     "name": "stderr",
     "output_type": "stream",
     "text": [
      "\n",
      "  9%|███████                                                                          | 13/150 [01:25<15:06,  6.62s/it]\u001b[A"
     ]
    },
    {
     "name": "stdout",
     "output_type": "stream",
     "text": [
      "[<selenium.webdriver.remote.webelement.WebElement (session=\"9dde711e96f51ab43a9fa71de8b148c0\", element=\"e7a67571-2958-41ff-89b9-73ac229da89c\")>]\n"
     ]
    },
    {
     "name": "stderr",
     "output_type": "stream",
     "text": [
      "\n",
      "  9%|███████▌                                                                         | 14/150 [01:32<15:02,  6.63s/it]\u001b[A"
     ]
    },
    {
     "name": "stdout",
     "output_type": "stream",
     "text": [
      "[<selenium.webdriver.remote.webelement.WebElement (session=\"9dde711e96f51ab43a9fa71de8b148c0\", element=\"340427bd-7c4a-4e82-b777-253d2ba8fcbb\")>]\n"
     ]
    },
    {
     "name": "stderr",
     "output_type": "stream",
     "text": [
      "\n",
      " 10%|████████                                                                         | 15/150 [01:39<14:49,  6.59s/it]\u001b[A"
     ]
    },
    {
     "name": "stdout",
     "output_type": "stream",
     "text": [
      "[<selenium.webdriver.remote.webelement.WebElement (session=\"9dde711e96f51ab43a9fa71de8b148c0\", element=\"235a3563-6f72-417c-9c12-38cbdc2ff917\")>]\n"
     ]
    },
    {
     "name": "stderr",
     "output_type": "stream",
     "text": [
      "\n",
      " 11%|████████▋                                                                        | 16/150 [01:45<14:44,  6.60s/it]\u001b[A\n",
      " 11%|█████████▏                                                                       | 17/150 [01:52<14:29,  6.54s/it]\u001b[A"
     ]
    },
    {
     "name": "stdout",
     "output_type": "stream",
     "text": [
      "[<selenium.webdriver.remote.webelement.WebElement (session=\"9dde711e96f51ab43a9fa71de8b148c0\", element=\"acb92117-3ce5-4157-94fb-52d733df49f6\")>]\n",
      "[<selenium.webdriver.remote.webelement.WebElement (session=\"9dde711e96f51ab43a9fa71de8b148c0\", element=\"e7093064-169c-40e2-8ed7-84a8fc59b43b\")>]\n"
     ]
    },
    {
     "name": "stderr",
     "output_type": "stream",
     "text": [
      "\n",
      " 12%|█████████▋                                                                       | 18/150 [01:58<14:25,  6.55s/it]\u001b[A"
     ]
    },
    {
     "name": "stdout",
     "output_type": "stream",
     "text": [
      "[<selenium.webdriver.remote.webelement.WebElement (session=\"9dde711e96f51ab43a9fa71de8b148c0\", element=\"504e0a38-d4dd-4295-bb38-da2d80ddcbca\")>]\n"
     ]
    },
    {
     "name": "stderr",
     "output_type": "stream",
     "text": [
      "\n",
      " 13%|██████████▎                                                                      | 19/150 [02:05<14:16,  6.54s/it]\u001b[A"
     ]
    },
    {
     "name": "stdout",
     "output_type": "stream",
     "text": [
      "[<selenium.webdriver.remote.webelement.WebElement (session=\"9dde711e96f51ab43a9fa71de8b148c0\", element=\"899aa6d2-f7d8-4d95-b83e-b47df534737a\")>]\n"
     ]
    },
    {
     "name": "stderr",
     "output_type": "stream",
     "text": [
      "\n",
      " 13%|██████████▊                                                                      | 20/150 [02:11<14:11,  6.55s/it]\u001b[A"
     ]
    },
    {
     "name": "stdout",
     "output_type": "stream",
     "text": [
      "[<selenium.webdriver.remote.webelement.WebElement (session=\"9dde711e96f51ab43a9fa71de8b148c0\", element=\"20d2e8e5-bb3a-490f-8244-fdc435f37533\")>]\n"
     ]
    },
    {
     "name": "stderr",
     "output_type": "stream",
     "text": [
      "\n",
      " 14%|███████████▎                                                                     | 21/150 [02:18<14:08,  6.57s/it]\u001b[A"
     ]
    },
    {
     "name": "stdout",
     "output_type": "stream",
     "text": [
      "[<selenium.webdriver.remote.webelement.WebElement (session=\"9dde711e96f51ab43a9fa71de8b148c0\", element=\"f38a7d6d-e76d-48c9-bad7-d05ec1b4a3ab\")>]\n"
     ]
    },
    {
     "name": "stderr",
     "output_type": "stream",
     "text": [
      "\n",
      " 15%|███████████▉                                                                     | 22/150 [02:24<13:34,  6.36s/it]\u001b[A"
     ]
    },
    {
     "name": "stdout",
     "output_type": "stream",
     "text": [
      "[<selenium.webdriver.remote.webelement.WebElement (session=\"9dde711e96f51ab43a9fa71de8b148c0\", element=\"dbb05081-da51-4318-8734-26d9fb2b8ef3\")>]\n"
     ]
    },
    {
     "name": "stderr",
     "output_type": "stream",
     "text": [
      "\n",
      " 15%|████████████▍                                                                    | 23/150 [02:30<13:34,  6.41s/it]\u001b[A\n"
     ]
    },
    {
     "name": "stdout",
     "output_type": "stream",
     "text": [
      "[<selenium.webdriver.remote.webelement.WebElement (session=\"9dde711e96f51ab43a9fa71de8b148c0\", element=\"9723b392-08a9-4232-882c-f234a385846f\")>]\n"
     ]
    },
    {
     "name": "stderr",
     "output_type": "stream",
     "text": [
      " 16%|████████████▉                                                                    | 24/150 [02:37<13:27,  6.41s/it]\u001b[A"
     ]
    },
    {
     "name": "stdout",
     "output_type": "stream",
     "text": [
      "[<selenium.webdriver.remote.webelement.WebElement (session=\"9dde711e96f51ab43a9fa71de8b148c0\", element=\"b6721ade-4446-4856-8f39-fc0d5f8421d2\")>]\n"
     ]
    },
    {
     "name": "stderr",
     "output_type": "stream",
     "text": [
      "\n",
      " 17%|█████████████▌                                                                   | 25/150 [02:43<13:30,  6.48s/it]\u001b[A"
     ]
    },
    {
     "name": "stdout",
     "output_type": "stream",
     "text": [
      "[<selenium.webdriver.remote.webelement.WebElement (session=\"9dde711e96f51ab43a9fa71de8b148c0\", element=\"5e99e765-7a0e-457a-9739-23b386ab4756\")>]\n"
     ]
    },
    {
     "name": "stderr",
     "output_type": "stream",
     "text": [
      "\n",
      " 17%|██████████████                                                                   | 26/150 [02:50<13:33,  6.56s/it]\u001b[A"
     ]
    },
    {
     "name": "stdout",
     "output_type": "stream",
     "text": [
      "[<selenium.webdriver.remote.webelement.WebElement (session=\"9dde711e96f51ab43a9fa71de8b148c0\", element=\"93c72767-1a9f-4370-8352-fed98dc86191\")>]\n"
     ]
    },
    {
     "name": "stderr",
     "output_type": "stream",
     "text": [
      "\n",
      " 18%|██████████████▌                                                                  | 27/150 [02:57<13:21,  6.52s/it]\u001b[A"
     ]
    },
    {
     "name": "stdout",
     "output_type": "stream",
     "text": [
      "[<selenium.webdriver.remote.webelement.WebElement (session=\"9dde711e96f51ab43a9fa71de8b148c0\", element=\"0899d43e-09bd-4b73-af24-acb682c19553\")>]\n"
     ]
    },
    {
     "name": "stderr",
     "output_type": "stream",
     "text": [
      "\n",
      " 19%|███████████████                                                                  | 28/150 [03:03<13:23,  6.59s/it]\u001b[A"
     ]
    },
    {
     "name": "stdout",
     "output_type": "stream",
     "text": [
      "[<selenium.webdriver.remote.webelement.WebElement (session=\"9dde711e96f51ab43a9fa71de8b148c0\", element=\"1c6f0d44-5769-4c6c-be46-1780dc95d3ad\")>]\n"
     ]
    },
    {
     "name": "stderr",
     "output_type": "stream",
     "text": [
      "\n",
      " 19%|███████████████▋                                                                 | 29/150 [03:10<13:25,  6.66s/it]\u001b[A"
     ]
    },
    {
     "name": "stdout",
     "output_type": "stream",
     "text": [
      "[<selenium.webdriver.remote.webelement.WebElement (session=\"9dde711e96f51ab43a9fa71de8b148c0\", element=\"e8f3e1d6-9b11-4447-944b-8b37b03dba5b\")>]\n"
     ]
    },
    {
     "name": "stderr",
     "output_type": "stream",
     "text": [
      "\n",
      " 20%|████████████████▏                                                                | 30/150 [03:17<13:22,  6.69s/it]\u001b[A"
     ]
    },
    {
     "name": "stdout",
     "output_type": "stream",
     "text": [
      "[<selenium.webdriver.remote.webelement.WebElement (session=\"9dde711e96f51ab43a9fa71de8b148c0\", element=\"ed27f5e4-1b74-478c-bd52-79f5859338bd\")>]\n"
     ]
    },
    {
     "name": "stderr",
     "output_type": "stream",
     "text": [
      "\n",
      " 21%|████████████████▋                                                                | 31/150 [03:23<13:08,  6.62s/it]\u001b[A"
     ]
    },
    {
     "name": "stdout",
     "output_type": "stream",
     "text": [
      "[<selenium.webdriver.remote.webelement.WebElement (session=\"9dde711e96f51ab43a9fa71de8b148c0\", element=\"b116dfa9-a007-4bd0-82d2-14a01926346d\")>]\n"
     ]
    },
    {
     "name": "stderr",
     "output_type": "stream",
     "text": [
      "\n",
      " 21%|█████████████████▎                                                               | 32/150 [03:30<13:04,  6.65s/it]\u001b[A"
     ]
    },
    {
     "name": "stdout",
     "output_type": "stream",
     "text": [
      "[<selenium.webdriver.remote.webelement.WebElement (session=\"9dde711e96f51ab43a9fa71de8b148c0\", element=\"0040458d-6a13-4f6b-9468-5d54ec62ca44\")>]\n"
     ]
    },
    {
     "name": "stderr",
     "output_type": "stream",
     "text": [
      "\n",
      " 22%|█████████████████▊                                                               | 33/150 [03:37<12:55,  6.63s/it]\u001b[A"
     ]
    },
    {
     "name": "stdout",
     "output_type": "stream",
     "text": [
      "[<selenium.webdriver.remote.webelement.WebElement (session=\"9dde711e96f51ab43a9fa71de8b148c0\", element=\"19fd37ce-4226-436b-8e8f-f109f71f9f8f\")>]\n"
     ]
    },
    {
     "name": "stderr",
     "output_type": "stream",
     "text": [
      "\n",
      " 23%|██████████████████▎                                                              | 34/150 [03:43<12:49,  6.64s/it]\u001b[A"
     ]
    },
    {
     "name": "stdout",
     "output_type": "stream",
     "text": [
      "[<selenium.webdriver.remote.webelement.WebElement (session=\"9dde711e96f51ab43a9fa71de8b148c0\", element=\"72ff4507-ed63-4b33-97c8-2270db81faa4\")>]\n"
     ]
    },
    {
     "name": "stderr",
     "output_type": "stream",
     "text": [
      "\n",
      " 23%|██████████████████▉                                                              | 35/150 [03:50<12:44,  6.65s/it]\u001b[A"
     ]
    },
    {
     "name": "stdout",
     "output_type": "stream",
     "text": [
      "[<selenium.webdriver.remote.webelement.WebElement (session=\"9dde711e96f51ab43a9fa71de8b148c0\", element=\"209972a0-9925-4f0f-99b3-643ad21b71c0\")>]\n"
     ]
    },
    {
     "name": "stderr",
     "output_type": "stream",
     "text": [
      "\n",
      " 24%|███████████████████▍                                                             | 36/150 [03:57<12:39,  6.66s/it]\u001b[A"
     ]
    },
    {
     "name": "stdout",
     "output_type": "stream",
     "text": [
      "[<selenium.webdriver.remote.webelement.WebElement (session=\"9dde711e96f51ab43a9fa71de8b148c0\", element=\"3f50ca28-db72-4348-a2dc-f4da651719d3\")>]\n"
     ]
    },
    {
     "name": "stderr",
     "output_type": "stream",
     "text": [
      "\n",
      " 25%|███████████████████▉                                                             | 37/150 [04:03<12:32,  6.66s/it]\u001b[A"
     ]
    },
    {
     "name": "stdout",
     "output_type": "stream",
     "text": [
      "[<selenium.webdriver.remote.webelement.WebElement (session=\"9dde711e96f51ab43a9fa71de8b148c0\", element=\"d7fb8eb9-137b-4a49-bd64-4cde29e66e45\")>]\n"
     ]
    },
    {
     "name": "stderr",
     "output_type": "stream",
     "text": [
      "\n",
      " 25%|████████████████████▌                                                            | 38/150 [04:10<12:26,  6.67s/it]\u001b[A"
     ]
    },
    {
     "name": "stdout",
     "output_type": "stream",
     "text": [
      "[<selenium.webdriver.remote.webelement.WebElement (session=\"9dde711e96f51ab43a9fa71de8b148c0\", element=\"0eaf41ed-df64-487f-9597-f3b37c233985\")>]\n"
     ]
    },
    {
     "name": "stderr",
     "output_type": "stream",
     "text": [
      "\n",
      " 26%|█████████████████████                                                            | 39/150 [04:17<12:21,  6.68s/it]\u001b[A"
     ]
    },
    {
     "name": "stdout",
     "output_type": "stream",
     "text": [
      "[<selenium.webdriver.remote.webelement.WebElement (session=\"9dde711e96f51ab43a9fa71de8b148c0\", element=\"f926f4b1-8fff-41e0-83f8-94f1d3c7e78d\")>]\n"
     ]
    },
    {
     "name": "stderr",
     "output_type": "stream",
     "text": [
      "\n",
      " 27%|█████████████████████▌                                                           | 40/150 [04:25<12:09,  6.63s/it]\u001b[A\n",
      "  3%|██▍                                                                             | 2/66 [09:57<5:12:16, 292.76s/it]\n",
      "  0%|                                                                                          | 0/150 [00:00<?, ?it/s]\u001b[A"
     ]
    },
    {
     "name": "stdout",
     "output_type": "stream",
     "text": [
      "[<selenium.webdriver.remote.webelement.WebElement (session=\"9dde711e96f51ab43a9fa71de8b148c0\", element=\"1a17981b-0797-4812-a90a-218b63e59e71\")>]\n"
     ]
    },
    {
     "name": "stderr",
     "output_type": "stream",
     "text": [
      "\n",
      "  1%|▌                                                                                 | 1/150 [00:06<15:59,  6.44s/it]\u001b[A\n"
     ]
    },
    {
     "name": "stdout",
     "output_type": "stream",
     "text": [
      "[<selenium.webdriver.remote.webelement.WebElement (session=\"9dde711e96f51ab43a9fa71de8b148c0\", element=\"603a3085-e3f8-43df-a21f-c68adcdd4701\")>]\n"
     ]
    },
    {
     "name": "stderr",
     "output_type": "stream",
     "text": [
      "  1%|█                                                                                 | 2/150 [00:12<15:58,  6.48s/it]\u001b[A"
     ]
    },
    {
     "name": "stdout",
     "output_type": "stream",
     "text": [
      "[<selenium.webdriver.remote.webelement.WebElement (session=\"9dde711e96f51ab43a9fa71de8b148c0\", element=\"a329b73f-fd92-4d6d-bd59-8544d11cad7c\")>]\n"
     ]
    },
    {
     "name": "stderr",
     "output_type": "stream",
     "text": [
      "\n",
      "  2%|█▋                                                                                | 3/150 [00:19<15:55,  6.50s/it]\u001b[A"
     ]
    },
    {
     "name": "stdout",
     "output_type": "stream",
     "text": [
      "[<selenium.webdriver.remote.webelement.WebElement (session=\"9dde711e96f51ab43a9fa71de8b148c0\", element=\"3cc0f3e6-7f61-4fbf-81e1-915c98ef2f6d\")>]\n"
     ]
    },
    {
     "name": "stderr",
     "output_type": "stream",
     "text": [
      "\n",
      "  3%|██▏                                                                               | 4/150 [00:26<15:59,  6.57s/it]\u001b[A"
     ]
    },
    {
     "name": "stdout",
     "output_type": "stream",
     "text": [
      "[<selenium.webdriver.remote.webelement.WebElement (session=\"9dde711e96f51ab43a9fa71de8b148c0\", element=\"2dfa0b67-b4bb-4900-9496-9c590710a12c\")>]\n"
     ]
    },
    {
     "name": "stderr",
     "output_type": "stream",
     "text": [
      "\n",
      "  3%|██▋                                                                               | 5/150 [00:32<15:53,  6.58s/it]\u001b[A"
     ]
    },
    {
     "name": "stdout",
     "output_type": "stream",
     "text": [
      "[<selenium.webdriver.remote.webelement.WebElement (session=\"9dde711e96f51ab43a9fa71de8b148c0\", element=\"9e5a4f0d-b225-42ed-9fc6-995d8ca87630\")>]\n"
     ]
    },
    {
     "name": "stderr",
     "output_type": "stream",
     "text": [
      "\n",
      "  4%|███▎                                                                              | 6/150 [00:39<15:51,  6.61s/it]\u001b[A"
     ]
    },
    {
     "name": "stdout",
     "output_type": "stream",
     "text": [
      "[<selenium.webdriver.remote.webelement.WebElement (session=\"9dde711e96f51ab43a9fa71de8b148c0\", element=\"2248d131-520c-44a4-a852-d50131ec59f8\")>]\n"
     ]
    },
    {
     "name": "stderr",
     "output_type": "stream",
     "text": [
      "\n",
      "  5%|███▊                                                                              | 7/150 [00:46<15:49,  6.64s/it]\u001b[A"
     ]
    },
    {
     "name": "stdout",
     "output_type": "stream",
     "text": [
      "[<selenium.webdriver.remote.webelement.WebElement (session=\"9dde711e96f51ab43a9fa71de8b148c0\", element=\"e265cc18-1057-48c7-acaf-f64ab7bddea6\")>]\n"
     ]
    },
    {
     "name": "stderr",
     "output_type": "stream",
     "text": [
      "\n",
      "  5%|████▎                                                                             | 8/150 [00:52<15:42,  6.64s/it]\u001b[A"
     ]
    },
    {
     "name": "stdout",
     "output_type": "stream",
     "text": [
      "[<selenium.webdriver.remote.webelement.WebElement (session=\"9dde711e96f51ab43a9fa71de8b148c0\", element=\"6ef2fa83-c412-464b-ae8f-461f80c9a1a6\")>]\n"
     ]
    },
    {
     "name": "stderr",
     "output_type": "stream",
     "text": [
      "\n",
      "  6%|████▉                                                                             | 9/150 [00:59<15:34,  6.63s/it]\u001b[A"
     ]
    },
    {
     "name": "stdout",
     "output_type": "stream",
     "text": [
      "[<selenium.webdriver.remote.webelement.WebElement (session=\"9dde711e96f51ab43a9fa71de8b148c0\", element=\"714bbc1e-387d-4d43-8e79-48e9e6b6d28c\")>]\n"
     ]
    },
    {
     "name": "stderr",
     "output_type": "stream",
     "text": [
      "\n",
      "  7%|█████▍                                                                           | 10/150 [01:05<15:22,  6.59s/it]\u001b[A"
     ]
    },
    {
     "name": "stdout",
     "output_type": "stream",
     "text": [
      "[<selenium.webdriver.remote.webelement.WebElement (session=\"9dde711e96f51ab43a9fa71de8b148c0\", element=\"e10e454a-53a8-4d78-8efe-2e2fb778e0e8\")>]\n"
     ]
    },
    {
     "name": "stderr",
     "output_type": "stream",
     "text": [
      "\n",
      "  7%|█████▉                                                                           | 11/150 [01:12<15:27,  6.68s/it]\u001b[A\n",
      "  8%|██████▍                                                                          | 12/150 [01:19<15:07,  6.58s/it]\u001b[A"
     ]
    },
    {
     "name": "stdout",
     "output_type": "stream",
     "text": [
      "[<selenium.webdriver.remote.webelement.WebElement (session=\"9dde711e96f51ab43a9fa71de8b148c0\", element=\"313c798b-b855-48a0-b316-27dfcda9e6e7\")>]\n",
      "[<selenium.webdriver.remote.webelement.WebElement (session=\"9dde711e96f51ab43a9fa71de8b148c0\", element=\"2ebeb11f-c3a4-485b-af56-8a775161ae08\")>]\n"
     ]
    },
    {
     "name": "stderr",
     "output_type": "stream",
     "text": [
      "\n",
      "  9%|███████                                                                          | 13/150 [01:25<14:46,  6.47s/it]\u001b[A"
     ]
    },
    {
     "name": "stdout",
     "output_type": "stream",
     "text": [
      "[<selenium.webdriver.remote.webelement.WebElement (session=\"9dde711e96f51ab43a9fa71de8b148c0\", element=\"d2b9183d-c075-4056-be09-943ba792dd7a\")>]\n"
     ]
    },
    {
     "name": "stderr",
     "output_type": "stream",
     "text": [
      "\n",
      "  9%|███████▌                                                                         | 14/150 [01:32<14:56,  6.59s/it]\u001b[A"
     ]
    },
    {
     "name": "stdout",
     "output_type": "stream",
     "text": [
      "[<selenium.webdriver.remote.webelement.WebElement (session=\"9dde711e96f51ab43a9fa71de8b148c0\", element=\"060c612c-17ae-4f73-ba9f-b168f808f38f\")>]\n"
     ]
    },
    {
     "name": "stderr",
     "output_type": "stream",
     "text": [
      "\n",
      " 10%|████████                                                                         | 15/150 [01:38<14:54,  6.63s/it]\u001b[A"
     ]
    },
    {
     "name": "stdout",
     "output_type": "stream",
     "text": [
      "[<selenium.webdriver.remote.webelement.WebElement (session=\"9dde711e96f51ab43a9fa71de8b148c0\", element=\"eb59bef7-afd1-45d5-840e-60039c9dcb00\")>]\n"
     ]
    },
    {
     "name": "stderr",
     "output_type": "stream",
     "text": [
      "\n",
      " 11%|████████▋                                                                        | 16/150 [01:45<14:46,  6.62s/it]\u001b[A\n"
     ]
    },
    {
     "name": "stdout",
     "output_type": "stream",
     "text": [
      "[<selenium.webdriver.remote.webelement.WebElement (session=\"9dde711e96f51ab43a9fa71de8b148c0\", element=\"dacebc3e-bdd8-4ace-af22-932bc569250f\")>]\n"
     ]
    },
    {
     "name": "stderr",
     "output_type": "stream",
     "text": [
      " 11%|█████████▏                                                                       | 17/150 [01:52<14:37,  6.60s/it]\u001b[A"
     ]
    },
    {
     "name": "stdout",
     "output_type": "stream",
     "text": [
      "[<selenium.webdriver.remote.webelement.WebElement (session=\"9dde711e96f51ab43a9fa71de8b148c0\", element=\"22a0d195-a03b-417b-8242-157c50babe57\")>]\n"
     ]
    },
    {
     "name": "stderr",
     "output_type": "stream",
     "text": [
      "\n",
      " 12%|█████████▋                                                                       | 18/150 [01:58<14:30,  6.60s/it]\u001b[A"
     ]
    },
    {
     "name": "stdout",
     "output_type": "stream",
     "text": [
      "[<selenium.webdriver.remote.webelement.WebElement (session=\"9dde711e96f51ab43a9fa71de8b148c0\", element=\"43bc3ee7-247b-407a-a280-e202d585ca89\")>]\n"
     ]
    },
    {
     "name": "stderr",
     "output_type": "stream",
     "text": [
      "\n",
      " 13%|██████████▎                                                                      | 19/150 [02:06<15:00,  6.87s/it]\u001b[A"
     ]
    },
    {
     "name": "stdout",
     "output_type": "stream",
     "text": [
      "[<selenium.webdriver.remote.webelement.WebElement (session=\"9dde711e96f51ab43a9fa71de8b148c0\", element=\"3bc2b56f-6753-4174-8319-c8b9fc662182\")>]\n"
     ]
    },
    {
     "name": "stderr",
     "output_type": "stream",
     "text": [
      "\n",
      " 13%|██████████▊                                                                      | 20/150 [02:12<14:41,  6.78s/it]\u001b[A"
     ]
    },
    {
     "name": "stdout",
     "output_type": "stream",
     "text": [
      "[<selenium.webdriver.remote.webelement.WebElement (session=\"9dde711e96f51ab43a9fa71de8b148c0\", element=\"eb0aba91-02f5-49da-8836-596e65696734\")>]\n"
     ]
    },
    {
     "name": "stderr",
     "output_type": "stream",
     "text": [
      "\n",
      " 14%|███████████▎                                                                     | 21/150 [02:19<14:28,  6.73s/it]\u001b[A"
     ]
    },
    {
     "name": "stdout",
     "output_type": "stream",
     "text": [
      "[<selenium.webdriver.remote.webelement.WebElement (session=\"9dde711e96f51ab43a9fa71de8b148c0\", element=\"3fc7fcec-8d5c-4d9e-9073-600d20d6a1c0\")>]\n"
     ]
    },
    {
     "name": "stderr",
     "output_type": "stream",
     "text": [
      "\n",
      " 15%|███████████▉                                                                     | 22/150 [02:26<14:20,  6.72s/it]\u001b[A"
     ]
    },
    {
     "name": "stdout",
     "output_type": "stream",
     "text": [
      "[<selenium.webdriver.remote.webelement.WebElement (session=\"9dde711e96f51ab43a9fa71de8b148c0\", element=\"9fa89c94-4a6a-4b3d-a800-57c20519b55a\")>]\n"
     ]
    },
    {
     "name": "stderr",
     "output_type": "stream",
     "text": [
      "\n",
      " 15%|████████████▍                                                                    | 23/150 [02:32<14:15,  6.73s/it]\u001b[A"
     ]
    },
    {
     "name": "stdout",
     "output_type": "stream",
     "text": [
      "[<selenium.webdriver.remote.webelement.WebElement (session=\"9dde711e96f51ab43a9fa71de8b148c0\", element=\"626931a9-e1ed-4e27-a1dc-af8b47322b04\")>]\n"
     ]
    },
    {
     "name": "stderr",
     "output_type": "stream",
     "text": [
      "\n",
      " 16%|████████████▉                                                                    | 24/150 [02:39<14:02,  6.68s/it]\u001b[A"
     ]
    },
    {
     "name": "stdout",
     "output_type": "stream",
     "text": [
      "[<selenium.webdriver.remote.webelement.WebElement (session=\"9dde711e96f51ab43a9fa71de8b148c0\", element=\"6fc25742-2f73-44b0-80b3-69fa84361f8a\")>]\n"
     ]
    },
    {
     "name": "stderr",
     "output_type": "stream",
     "text": [
      "\n",
      " 17%|█████████████▌                                                                   | 25/150 [02:46<14:03,  6.74s/it]\u001b[A"
     ]
    },
    {
     "name": "stdout",
     "output_type": "stream",
     "text": [
      "[<selenium.webdriver.remote.webelement.WebElement (session=\"9dde711e96f51ab43a9fa71de8b148c0\", element=\"a920a609-6f65-41e1-934e-6ead58eeb8ee\")>]\n"
     ]
    },
    {
     "name": "stderr",
     "output_type": "stream",
     "text": [
      "\n",
      " 17%|██████████████                                                                   | 26/150 [02:52<13:55,  6.74s/it]\u001b[A"
     ]
    },
    {
     "name": "stdout",
     "output_type": "stream",
     "text": [
      "[<selenium.webdriver.remote.webelement.WebElement (session=\"9dde711e96f51ab43a9fa71de8b148c0\", element=\"d59be053-a258-41e9-917f-4fcee0a15004\")>]\n"
     ]
    },
    {
     "name": "stderr",
     "output_type": "stream",
     "text": [
      "\n",
      " 18%|██████████████▌                                                                  | 27/150 [03:00<13:44,  6.70s/it]\u001b[A\n",
      "  5%|███▋                                                                            | 3/66 [12:58<4:13:46, 241.69s/it]\n",
      "  0%|                                                                                          | 0/150 [00:00<?, ?it/s]\u001b[A"
     ]
    },
    {
     "name": "stdout",
     "output_type": "stream",
     "text": [
      "[<selenium.webdriver.remote.webelement.WebElement (session=\"9dde711e96f51ab43a9fa71de8b148c0\", element=\"a019fec7-7b31-4c0f-ab20-c572d5c81111\")>]\n"
     ]
    },
    {
     "name": "stderr",
     "output_type": "stream",
     "text": [
      "\n",
      "  1%|▌                                                                                 | 1/150 [00:06<17:02,  6.87s/it]\u001b[A"
     ]
    },
    {
     "name": "stdout",
     "output_type": "stream",
     "text": [
      "[<selenium.webdriver.remote.webelement.WebElement (session=\"9dde711e96f51ab43a9fa71de8b148c0\", element=\"4df12300-8fb2-4a12-93da-47411f7bdde3\")>]\n"
     ]
    },
    {
     "name": "stderr",
     "output_type": "stream",
     "text": [
      "\n",
      "  1%|█                                                                                 | 2/150 [00:12<15:32,  6.30s/it]\u001b[A"
     ]
    },
    {
     "name": "stdout",
     "output_type": "stream",
     "text": [
      "[<selenium.webdriver.remote.webelement.WebElement (session=\"9dde711e96f51ab43a9fa71de8b148c0\", element=\"4a5b119f-8c40-47a7-aa13-edd2fd83177f\")>]\n"
     ]
    },
    {
     "name": "stderr",
     "output_type": "stream",
     "text": [
      "\n",
      "  2%|█▋                                                                                | 3/150 [00:18<15:08,  6.18s/it]\u001b[A"
     ]
    },
    {
     "name": "stdout",
     "output_type": "stream",
     "text": [
      "[<selenium.webdriver.remote.webelement.WebElement (session=\"9dde711e96f51ab43a9fa71de8b148c0\", element=\"6b1af97d-a158-4035-8c87-e3a289d2cd4a\")>]\n"
     ]
    },
    {
     "name": "stderr",
     "output_type": "stream",
     "text": [
      "\n",
      "  3%|██▏                                                                               | 4/150 [00:25<15:49,  6.51s/it]\u001b[A"
     ]
    },
    {
     "name": "stdout",
     "output_type": "stream",
     "text": [
      "[<selenium.webdriver.remote.webelement.WebElement (session=\"9dde711e96f51ab43a9fa71de8b148c0\", element=\"d0e15dde-0cdf-4f10-8041-d8ba9ff06ff3\")>]\n"
     ]
    },
    {
     "name": "stderr",
     "output_type": "stream",
     "text": [
      "\n",
      "  3%|██▋                                                                               | 5/150 [00:32<15:53,  6.58s/it]\u001b[A"
     ]
    },
    {
     "name": "stdout",
     "output_type": "stream",
     "text": [
      "[<selenium.webdriver.remote.webelement.WebElement (session=\"9dde711e96f51ab43a9fa71de8b148c0\", element=\"9fb5d26f-28ba-4586-972b-efbd8ca3d1e2\")>]\n"
     ]
    },
    {
     "name": "stderr",
     "output_type": "stream",
     "text": [
      "\n",
      "  4%|███▎                                                                              | 6/150 [00:39<15:46,  6.57s/it]\u001b[A"
     ]
    },
    {
     "name": "stdout",
     "output_type": "stream",
     "text": [
      "[<selenium.webdriver.remote.webelement.WebElement (session=\"9dde711e96f51ab43a9fa71de8b148c0\", element=\"7c24cde0-3946-482b-a730-7dd78f1f6b8f\")>]\n"
     ]
    },
    {
     "name": "stderr",
     "output_type": "stream",
     "text": [
      "\n",
      "  5%|███▊                                                                              | 7/150 [00:46<16:12,  6.80s/it]\u001b[A"
     ]
    },
    {
     "name": "stdout",
     "output_type": "stream",
     "text": [
      "[<selenium.webdriver.remote.webelement.WebElement (session=\"9dde711e96f51ab43a9fa71de8b148c0\", element=\"b0c0eae4-233b-4bc3-bf2c-98f8c5ae5342\")>]\n"
     ]
    },
    {
     "name": "stderr",
     "output_type": "stream",
     "text": [
      "\n",
      "  5%|████▎                                                                             | 8/150 [00:53<15:58,  6.75s/it]\u001b[A"
     ]
    },
    {
     "name": "stdout",
     "output_type": "stream",
     "text": [
      "[<selenium.webdriver.remote.webelement.WebElement (session=\"9dde711e96f51ab43a9fa71de8b148c0\", element=\"a55bb720-95a0-4d18-8414-50e46bb040c5\")>]\n"
     ]
    },
    {
     "name": "stderr",
     "output_type": "stream",
     "text": [
      "\n",
      "  6%|████▉                                                                             | 9/150 [00:59<15:40,  6.67s/it]\u001b[A"
     ]
    },
    {
     "name": "stdout",
     "output_type": "stream",
     "text": [
      "[<selenium.webdriver.remote.webelement.WebElement (session=\"9dde711e96f51ab43a9fa71de8b148c0\", element=\"24649ae7-9e73-49d9-8c0a-f9e079976c77\")>]\n"
     ]
    },
    {
     "name": "stderr",
     "output_type": "stream",
     "text": [
      "\n",
      "  7%|█████▍                                                                           | 10/150 [01:05<15:02,  6.45s/it]\u001b[A"
     ]
    },
    {
     "name": "stdout",
     "output_type": "stream",
     "text": [
      "[<selenium.webdriver.remote.webelement.WebElement (session=\"9dde711e96f51ab43a9fa71de8b148c0\", element=\"e49c2efe-8cdd-4323-b85d-6e89d38c32fd\")>]\n"
     ]
    },
    {
     "name": "stderr",
     "output_type": "stream",
     "text": [
      "\n",
      "  7%|█████▉                                                                           | 11/150 [01:12<15:00,  6.48s/it]\u001b[A\n"
     ]
    },
    {
     "name": "stdout",
     "output_type": "stream",
     "text": [
      "[<selenium.webdriver.remote.webelement.WebElement (session=\"9dde711e96f51ab43a9fa71de8b148c0\", element=\"96cecbb9-e9a7-4a42-8f1d-56c4fbd4c1d9\")>]\n"
     ]
    },
    {
     "name": "stderr",
     "output_type": "stream",
     "text": [
      "  8%|██████▍                                                                          | 12/150 [01:18<14:56,  6.49s/it]\u001b[A"
     ]
    },
    {
     "name": "stdout",
     "output_type": "stream",
     "text": [
      "[<selenium.webdriver.remote.webelement.WebElement (session=\"9dde711e96f51ab43a9fa71de8b148c0\", element=\"fef09b7a-ac2d-47f7-b1d7-63cc30e88b42\")>]\n"
     ]
    },
    {
     "name": "stderr",
     "output_type": "stream",
     "text": [
      "\n",
      "  9%|███████                                                                          | 13/150 [01:25<14:56,  6.54s/it]\u001b[A"
     ]
    },
    {
     "name": "stdout",
     "output_type": "stream",
     "text": [
      "[<selenium.webdriver.remote.webelement.WebElement (session=\"9dde711e96f51ab43a9fa71de8b148c0\", element=\"06bdb887-0be5-45ab-a2db-34bd9c6a6e21\")>]\n"
     ]
    },
    {
     "name": "stderr",
     "output_type": "stream",
     "text": [
      "\n",
      "  9%|███████▌                                                                         | 14/150 [01:32<15:04,  6.65s/it]\u001b[A"
     ]
    },
    {
     "name": "stdout",
     "output_type": "stream",
     "text": [
      "[<selenium.webdriver.remote.webelement.WebElement (session=\"9dde711e96f51ab43a9fa71de8b148c0\", element=\"6936d94b-09ab-4279-82d7-58044e4eface\")>]\n"
     ]
    },
    {
     "name": "stderr",
     "output_type": "stream",
     "text": [
      "\n",
      " 10%|████████                                                                         | 15/150 [01:38<15:02,  6.68s/it]\u001b[A"
     ]
    },
    {
     "name": "stdout",
     "output_type": "stream",
     "text": [
      "[<selenium.webdriver.remote.webelement.WebElement (session=\"9dde711e96f51ab43a9fa71de8b148c0\", element=\"294e1169-9c3f-4f8a-913f-5b8a076c2a28\")>]\n"
     ]
    },
    {
     "name": "stderr",
     "output_type": "stream",
     "text": [
      "\n",
      " 11%|████████▋                                                                        | 16/150 [01:45<15:04,  6.75s/it]\u001b[A\n",
      " 11%|█████████▏                                                                       | 17/150 [01:52<14:42,  6.64s/it]\u001b[A"
     ]
    },
    {
     "name": "stdout",
     "output_type": "stream",
     "text": [
      "[<selenium.webdriver.remote.webelement.WebElement (session=\"9dde711e96f51ab43a9fa71de8b148c0\", element=\"440695c1-9dea-46fa-a265-fc5475e40dc5\")>]\n",
      "[<selenium.webdriver.remote.webelement.WebElement (session=\"9dde711e96f51ab43a9fa71de8b148c0\", element=\"ea9962db-ba3c-419e-8e81-a2da869a19a3\")>]\n"
     ]
    },
    {
     "name": "stderr",
     "output_type": "stream",
     "text": [
      "\n",
      " 12%|█████████▋                                                                       | 18/150 [01:58<14:35,  6.63s/it]\u001b[A"
     ]
    },
    {
     "name": "stdout",
     "output_type": "stream",
     "text": [
      "[<selenium.webdriver.remote.webelement.WebElement (session=\"9dde711e96f51ab43a9fa71de8b148c0\", element=\"41a6826f-c519-4e51-9aa6-f84fa29212a8\")>]\n"
     ]
    },
    {
     "name": "stderr",
     "output_type": "stream",
     "text": [
      "\n",
      " 13%|██████████▎                                                                      | 19/150 [02:05<14:25,  6.60s/it]\u001b[A"
     ]
    },
    {
     "name": "stdout",
     "output_type": "stream",
     "text": [
      "[<selenium.webdriver.remote.webelement.WebElement (session=\"9dde711e96f51ab43a9fa71de8b148c0\", element=\"8ffefb16-3621-4c2c-a19e-da76445870bd\")>]\n"
     ]
    },
    {
     "name": "stderr",
     "output_type": "stream",
     "text": [
      "\n",
      " 13%|██████████▊                                                                      | 20/150 [02:11<14:21,  6.62s/it]\u001b[A"
     ]
    },
    {
     "name": "stdout",
     "output_type": "stream",
     "text": [
      "[<selenium.webdriver.remote.webelement.WebElement (session=\"9dde711e96f51ab43a9fa71de8b148c0\", element=\"1cf9c284-bfa1-4389-a57a-a40c58b50a14\")>]\n"
     ]
    },
    {
     "name": "stderr",
     "output_type": "stream",
     "text": [
      "\n",
      " 14%|███████████▎                                                                     | 21/150 [02:18<14:16,  6.64s/it]\u001b[A"
     ]
    },
    {
     "name": "stdout",
     "output_type": "stream",
     "text": [
      "[<selenium.webdriver.remote.webelement.WebElement (session=\"9dde711e96f51ab43a9fa71de8b148c0\", element=\"a1f26718-ac1c-4f20-b0b5-46d4a40e207c\")>]\n"
     ]
    },
    {
     "name": "stderr",
     "output_type": "stream",
     "text": [
      "\n",
      " 15%|███████████▉                                                                     | 22/150 [02:25<14:17,  6.70s/it]\u001b[A"
     ]
    },
    {
     "name": "stdout",
     "output_type": "stream",
     "text": [
      "[<selenium.webdriver.remote.webelement.WebElement (session=\"9dde711e96f51ab43a9fa71de8b148c0\", element=\"e96fe734-d6d2-4af1-ba29-3c4d53b6becb\")>]\n"
     ]
    },
    {
     "name": "stderr",
     "output_type": "stream",
     "text": [
      "\n",
      " 15%|████████████▍                                                                    | 23/150 [02:32<14:09,  6.69s/it]\u001b[A"
     ]
    },
    {
     "name": "stdout",
     "output_type": "stream",
     "text": [
      "[<selenium.webdriver.remote.webelement.WebElement (session=\"9dde711e96f51ab43a9fa71de8b148c0\", element=\"6b634e41-b4d9-4959-9be7-b5df6b840e90\")>]\n"
     ]
    },
    {
     "name": "stderr",
     "output_type": "stream",
     "text": [
      "\n",
      " 16%|████████████▉                                                                    | 24/150 [02:38<14:01,  6.68s/it]\u001b[A"
     ]
    },
    {
     "name": "stdout",
     "output_type": "stream",
     "text": [
      "[<selenium.webdriver.remote.webelement.WebElement (session=\"9dde711e96f51ab43a9fa71de8b148c0\", element=\"129327b8-6363-4255-a3be-11e28f0ac97d\")>]\n"
     ]
    },
    {
     "name": "stderr",
     "output_type": "stream",
     "text": [
      "\n",
      " 17%|█████████████▌                                                                   | 25/150 [02:45<13:48,  6.62s/it]\u001b[A"
     ]
    },
    {
     "name": "stdout",
     "output_type": "stream",
     "text": [
      "[<selenium.webdriver.remote.webelement.WebElement (session=\"9dde711e96f51ab43a9fa71de8b148c0\", element=\"ff36aeba-31df-453e-a3e8-53fd6d75231a\")>]\n"
     ]
    },
    {
     "name": "stderr",
     "output_type": "stream",
     "text": [
      "\n",
      " 17%|██████████████                                                                   | 26/150 [02:52<13:56,  6.74s/it]\u001b[A"
     ]
    },
    {
     "name": "stdout",
     "output_type": "stream",
     "text": [
      "[<selenium.webdriver.remote.webelement.WebElement (session=\"9dde711e96f51ab43a9fa71de8b148c0\", element=\"d0f4ddec-9ef2-4b4d-b008-07374bfa99c8\")>]\n"
     ]
    },
    {
     "name": "stderr",
     "output_type": "stream",
     "text": [
      "\n",
      " 18%|██████████████▌                                                                  | 27/150 [02:58<13:44,  6.70s/it]\u001b[A"
     ]
    },
    {
     "name": "stdout",
     "output_type": "stream",
     "text": [
      "[<selenium.webdriver.remote.webelement.WebElement (session=\"9dde711e96f51ab43a9fa71de8b148c0\", element=\"f97c54bf-21bc-4af4-8cbf-84e4b1daf220\")>]\n"
     ]
    },
    {
     "name": "stderr",
     "output_type": "stream",
     "text": [
      "\n",
      " 19%|███████████████                                                                  | 28/150 [03:05<13:34,  6.67s/it]\u001b[A"
     ]
    },
    {
     "name": "stdout",
     "output_type": "stream",
     "text": [
      "[<selenium.webdriver.remote.webelement.WebElement (session=\"9dde711e96f51ab43a9fa71de8b148c0\", element=\"86c58705-84f6-4495-acfb-790c0358809f\")>]\n"
     ]
    },
    {
     "name": "stderr",
     "output_type": "stream",
     "text": [
      "\n",
      " 19%|███████████████▋                                                                 | 29/150 [03:12<13:29,  6.69s/it]\u001b[A\n"
     ]
    },
    {
     "name": "stdout",
     "output_type": "stream",
     "text": [
      "[<selenium.webdriver.remote.webelement.WebElement (session=\"9dde711e96f51ab43a9fa71de8b148c0\", element=\"81a7aafe-37e9-4220-a036-2778c50391e4\")>]\n"
     ]
    },
    {
     "name": "stderr",
     "output_type": "stream",
     "text": [
      " 20%|████████████████▏                                                                | 30/150 [03:18<13:11,  6.60s/it]\u001b[A"
     ]
    },
    {
     "name": "stdout",
     "output_type": "stream",
     "text": [
      "[<selenium.webdriver.remote.webelement.WebElement (session=\"9dde711e96f51ab43a9fa71de8b148c0\", element=\"46feae7c-68b5-4653-a1e0-2b47a28f0dc6\")>]\n"
     ]
    },
    {
     "name": "stderr",
     "output_type": "stream",
     "text": [
      "\n",
      " 21%|████████████████▋                                                                | 31/150 [03:25<13:17,  6.70s/it]\u001b[A"
     ]
    },
    {
     "name": "stdout",
     "output_type": "stream",
     "text": [
      "[<selenium.webdriver.remote.webelement.WebElement (session=\"9dde711e96f51ab43a9fa71de8b148c0\", element=\"aa948c6f-5032-40ac-a0fa-8aa75a0c1d4a\")>]\n"
     ]
    },
    {
     "name": "stderr",
     "output_type": "stream",
     "text": [
      "\n",
      " 21%|█████████████████▎                                                               | 32/150 [03:32<13:14,  6.74s/it]\u001b[A"
     ]
    },
    {
     "name": "stdout",
     "output_type": "stream",
     "text": [
      "[<selenium.webdriver.remote.webelement.WebElement (session=\"9dde711e96f51ab43a9fa71de8b148c0\", element=\"4327c119-f366-4721-b09b-ad124ce8c9b5\")>]\n"
     ]
    },
    {
     "name": "stderr",
     "output_type": "stream",
     "text": [
      "\n",
      " 22%|█████████████████▊                                                               | 33/150 [03:39<13:15,  6.80s/it]\u001b[A"
     ]
    },
    {
     "name": "stdout",
     "output_type": "stream",
     "text": [
      "[<selenium.webdriver.remote.webelement.WebElement (session=\"9dde711e96f51ab43a9fa71de8b148c0\", element=\"834ec36d-6dc2-41e7-9a44-1af23cf114a6\")>]\n"
     ]
    },
    {
     "name": "stderr",
     "output_type": "stream",
     "text": [
      "\n",
      " 23%|██████████████████▎                                                              | 34/150 [03:45<13:02,  6.75s/it]\u001b[A"
     ]
    },
    {
     "name": "stdout",
     "output_type": "stream",
     "text": [
      "[<selenium.webdriver.remote.webelement.WebElement (session=\"9dde711e96f51ab43a9fa71de8b148c0\", element=\"3654137b-b8b8-4656-9af4-bbe4495d12ca\")>]\n"
     ]
    },
    {
     "name": "stderr",
     "output_type": "stream",
     "text": [
      "\n",
      " 23%|██████████████████▉                                                              | 35/150 [03:52<12:53,  6.72s/it]\u001b[A\n",
      " 24%|███████████████████▍                                                             | 36/150 [03:59<12:35,  6.63s/it]\u001b[A"
     ]
    },
    {
     "name": "stdout",
     "output_type": "stream",
     "text": [
      "[<selenium.webdriver.remote.webelement.WebElement (session=\"9dde711e96f51ab43a9fa71de8b148c0\", element=\"f36eabca-70a4-41ce-91f9-a45406456674\")>]\n"
     ]
    },
    {
     "name": "stderr",
     "output_type": "stream",
     "text": [
      " 24%|███████████████████▍                                                             | 36/150 [04:00<12:40,  6.67s/it]\n",
      "  6%|████▊                                                                           | 4/66 [16:58<4:09:10, 241.14s/it]\n",
      "  0%|                                                                                          | 0/150 [00:00<?, ?it/s]\u001b[A"
     ]
    },
    {
     "name": "stdout",
     "output_type": "stream",
     "text": [
      "[<selenium.webdriver.remote.webelement.WebElement (session=\"9dde711e96f51ab43a9fa71de8b148c0\", element=\"c65df391-baa4-431a-8640-18c4ed8c9971\")>]\n"
     ]
    },
    {
     "name": "stderr",
     "output_type": "stream",
     "text": [
      "\n",
      "  1%|▌                                                                                 | 1/150 [00:06<17:00,  6.85s/it]\u001b[A"
     ]
    },
    {
     "name": "stdout",
     "output_type": "stream",
     "text": [
      "[<selenium.webdriver.remote.webelement.WebElement (session=\"9dde711e96f51ab43a9fa71de8b148c0\", element=\"ed384ffc-67e7-4456-a3fe-6fd1d7733b03\")>]\n"
     ]
    },
    {
     "name": "stderr",
     "output_type": "stream",
     "text": [
      "\n",
      "  1%|█                                                                                 | 2/150 [00:13<16:45,  6.79s/it]\u001b[A"
     ]
    },
    {
     "name": "stdout",
     "output_type": "stream",
     "text": [
      "[<selenium.webdriver.remote.webelement.WebElement (session=\"9dde711e96f51ab43a9fa71de8b148c0\", element=\"ff607e5c-7601-4c6e-81e6-e36067fa94b1\")>]\n"
     ]
    },
    {
     "name": "stderr",
     "output_type": "stream",
     "text": [
      "\n",
      "  2%|█▋                                                                                | 3/150 [00:20<16:33,  6.76s/it]\u001b[A"
     ]
    },
    {
     "name": "stdout",
     "output_type": "stream",
     "text": [
      "[<selenium.webdriver.remote.webelement.WebElement (session=\"9dde711e96f51ab43a9fa71de8b148c0\", element=\"95b6166f-9482-44e9-99dd-192233a73f3d\")>]\n"
     ]
    },
    {
     "name": "stderr",
     "output_type": "stream",
     "text": [
      "\n",
      "  3%|██▏                                                                               | 4/150 [00:27<16:29,  6.78s/it]\u001b[A"
     ]
    },
    {
     "name": "stdout",
     "output_type": "stream",
     "text": [
      "[<selenium.webdriver.remote.webelement.WebElement (session=\"9dde711e96f51ab43a9fa71de8b148c0\", element=\"5438008b-d3fe-4060-94e9-1c25806120a6\")>]\n"
     ]
    },
    {
     "name": "stderr",
     "output_type": "stream",
     "text": [
      "\n",
      "  3%|██▋                                                                               | 5/150 [00:33<16:17,  6.74s/it]\u001b[A"
     ]
    },
    {
     "name": "stdout",
     "output_type": "stream",
     "text": [
      "[<selenium.webdriver.remote.webelement.WebElement (session=\"9dde711e96f51ab43a9fa71de8b148c0\", element=\"4333e765-7519-460f-a8f2-97d76f6b6f5e\")>]\n"
     ]
    },
    {
     "name": "stderr",
     "output_type": "stream",
     "text": [
      "\n",
      "  4%|███▎                                                                              | 6/150 [00:40<16:00,  6.67s/it]\u001b[A"
     ]
    },
    {
     "name": "stdout",
     "output_type": "stream",
     "text": [
      "[<selenium.webdriver.remote.webelement.WebElement (session=\"9dde711e96f51ab43a9fa71de8b148c0\", element=\"7f6a5e93-aeef-4f82-85dc-7465d591466c\")>]\n"
     ]
    },
    {
     "name": "stderr",
     "output_type": "stream",
     "text": [
      "\n",
      "  5%|███▊                                                                              | 7/150 [00:46<15:50,  6.65s/it]\u001b[A"
     ]
    },
    {
     "name": "stdout",
     "output_type": "stream",
     "text": [
      "[<selenium.webdriver.remote.webelement.WebElement (session=\"9dde711e96f51ab43a9fa71de8b148c0\", element=\"86e89600-1070-4807-80ff-2631cedd6b40\")>]\n"
     ]
    },
    {
     "name": "stderr",
     "output_type": "stream",
     "text": [
      "\n",
      "  5%|████▎                                                                             | 8/150 [00:53<15:42,  6.63s/it]\u001b[A"
     ]
    },
    {
     "name": "stdout",
     "output_type": "stream",
     "text": [
      "[<selenium.webdriver.remote.webelement.WebElement (session=\"9dde711e96f51ab43a9fa71de8b148c0\", element=\"987aefee-bd6c-4630-961b-d7b5a884cd46\")>]\n"
     ]
    },
    {
     "name": "stderr",
     "output_type": "stream",
     "text": [
      "\n",
      "  6%|████▉                                                                             | 9/150 [01:00<15:37,  6.65s/it]\u001b[A"
     ]
    },
    {
     "name": "stdout",
     "output_type": "stream",
     "text": [
      "[<selenium.webdriver.remote.webelement.WebElement (session=\"9dde711e96f51ab43a9fa71de8b148c0\", element=\"d8f38d0e-6f11-4a0b-9ac7-84d7e248f30b\")>]\n"
     ]
    },
    {
     "name": "stderr",
     "output_type": "stream",
     "text": [
      "\n",
      "  7%|█████▍                                                                           | 10/150 [01:06<15:25,  6.61s/it]\u001b[A"
     ]
    },
    {
     "name": "stdout",
     "output_type": "stream",
     "text": [
      "[<selenium.webdriver.remote.webelement.WebElement (session=\"9dde711e96f51ab43a9fa71de8b148c0\", element=\"2a5d2380-3ea8-491b-b725-acc6b268277b\")>]\n"
     ]
    },
    {
     "name": "stderr",
     "output_type": "stream",
     "text": [
      "\n",
      "  7%|█████▉                                                                           | 11/150 [01:13<15:19,  6.61s/it]\u001b[A"
     ]
    },
    {
     "name": "stdout",
     "output_type": "stream",
     "text": [
      "[<selenium.webdriver.remote.webelement.WebElement (session=\"9dde711e96f51ab43a9fa71de8b148c0\", element=\"29eb6f84-dc46-410e-80b1-5c1131217e0f\")>]\n"
     ]
    },
    {
     "name": "stderr",
     "output_type": "stream",
     "text": [
      "\n",
      "  8%|██████▍                                                                          | 12/150 [01:20<15:16,  6.64s/it]\u001b[A"
     ]
    },
    {
     "name": "stdout",
     "output_type": "stream",
     "text": [
      "[<selenium.webdriver.remote.webelement.WebElement (session=\"9dde711e96f51ab43a9fa71de8b148c0\", element=\"f7c29ac7-716f-4a7e-bff0-217772c6db15\")>]\n"
     ]
    },
    {
     "name": "stderr",
     "output_type": "stream",
     "text": [
      "\n",
      "  9%|███████                                                                          | 13/150 [01:26<15:05,  6.61s/it]\u001b[A"
     ]
    },
    {
     "name": "stdout",
     "output_type": "stream",
     "text": [
      "[<selenium.webdriver.remote.webelement.WebElement (session=\"9dde711e96f51ab43a9fa71de8b148c0\", element=\"96b78462-5835-479d-a2bb-b4290b6e10b1\")>]\n"
     ]
    },
    {
     "name": "stderr",
     "output_type": "stream",
     "text": [
      "\n",
      "  9%|███████▌                                                                         | 14/150 [01:33<14:55,  6.58s/it]\u001b[A"
     ]
    },
    {
     "name": "stdout",
     "output_type": "stream",
     "text": [
      "[<selenium.webdriver.remote.webelement.WebElement (session=\"9dde711e96f51ab43a9fa71de8b148c0\", element=\"fd4b16f6-f458-47dc-9292-b55df70aeb6b\")>]\n"
     ]
    },
    {
     "name": "stderr",
     "output_type": "stream",
     "text": [
      "\n",
      " 10%|████████                                                                         | 15/150 [01:39<14:46,  6.57s/it]\u001b[A"
     ]
    },
    {
     "name": "stdout",
     "output_type": "stream",
     "text": [
      "[<selenium.webdriver.remote.webelement.WebElement (session=\"9dde711e96f51ab43a9fa71de8b148c0\", element=\"fe9c7192-01da-4b4b-b372-123d8f75ede6\")>]\n"
     ]
    },
    {
     "name": "stderr",
     "output_type": "stream",
     "text": [
      "\n",
      " 11%|████████▋                                                                        | 16/150 [01:46<14:38,  6.56s/it]\u001b[A"
     ]
    },
    {
     "name": "stdout",
     "output_type": "stream",
     "text": [
      "[<selenium.webdriver.remote.webelement.WebElement (session=\"9dde711e96f51ab43a9fa71de8b148c0\", element=\"ca81e7f0-d354-4e89-84a4-d42e51e2f766\")>]\n"
     ]
    },
    {
     "name": "stderr",
     "output_type": "stream",
     "text": [
      "\n",
      " 11%|█████████▏                                                                       | 17/150 [01:52<14:30,  6.54s/it]\u001b[A"
     ]
    },
    {
     "name": "stdout",
     "output_type": "stream",
     "text": [
      "[<selenium.webdriver.remote.webelement.WebElement (session=\"9dde711e96f51ab43a9fa71de8b148c0\", element=\"ce255eb4-c553-4fd5-82ba-a94f48ea5126\")>]\n"
     ]
    },
    {
     "name": "stderr",
     "output_type": "stream",
     "text": [
      "\n",
      " 12%|█████████▋                                                                       | 18/150 [01:59<14:21,  6.52s/it]\u001b[A"
     ]
    },
    {
     "name": "stdout",
     "output_type": "stream",
     "text": [
      "[<selenium.webdriver.remote.webelement.WebElement (session=\"9dde711e96f51ab43a9fa71de8b148c0\", element=\"0a6f7514-c60c-4d2a-961f-2e01051b1aeb\")>]\n"
     ]
    },
    {
     "name": "stderr",
     "output_type": "stream",
     "text": [
      "\n",
      " 13%|██████████▎                                                                      | 19/150 [02:05<14:15,  6.53s/it]\u001b[A"
     ]
    },
    {
     "name": "stdout",
     "output_type": "stream",
     "text": [
      "[<selenium.webdriver.remote.webelement.WebElement (session=\"9dde711e96f51ab43a9fa71de8b148c0\", element=\"371c8f02-a2fd-4141-8ea3-3d9a31d7c201\")>]\n"
     ]
    },
    {
     "name": "stderr",
     "output_type": "stream",
     "text": [
      "\n",
      " 13%|██████████▊                                                                      | 20/150 [02:12<14:08,  6.52s/it]\u001b[A"
     ]
    },
    {
     "name": "stdout",
     "output_type": "stream",
     "text": [
      "[<selenium.webdriver.remote.webelement.WebElement (session=\"9dde711e96f51ab43a9fa71de8b148c0\", element=\"f2c86f5b-6b5d-4d4f-8243-751456bba572\")>]\n"
     ]
    },
    {
     "name": "stderr",
     "output_type": "stream",
     "text": [
      "\n",
      " 14%|███████████▎                                                                     | 21/150 [02:18<14:05,  6.56s/it]\u001b[A"
     ]
    },
    {
     "name": "stdout",
     "output_type": "stream",
     "text": [
      "[<selenium.webdriver.remote.webelement.WebElement (session=\"9dde711e96f51ab43a9fa71de8b148c0\", element=\"c721c600-51fa-4e0d-b583-cb8cdedc5914\")>]\n"
     ]
    },
    {
     "name": "stderr",
     "output_type": "stream",
     "text": [
      "\n",
      " 15%|███████████▉                                                                     | 22/150 [02:25<13:58,  6.55s/it]\u001b[A"
     ]
    },
    {
     "name": "stdout",
     "output_type": "stream",
     "text": [
      "[<selenium.webdriver.remote.webelement.WebElement (session=\"9dde711e96f51ab43a9fa71de8b148c0\", element=\"cc574d74-3287-4e57-8ffd-d211d009ba2d\")>]\n"
     ]
    },
    {
     "name": "stderr",
     "output_type": "stream",
     "text": [
      "\n",
      " 15%|████████████▍                                                                    | 23/150 [02:32<13:53,  6.56s/it]\u001b[A"
     ]
    },
    {
     "name": "stdout",
     "output_type": "stream",
     "text": [
      "[<selenium.webdriver.remote.webelement.WebElement (session=\"9dde711e96f51ab43a9fa71de8b148c0\", element=\"0f10742f-e0d7-4434-b3fd-06c79f312faa\")>]\n"
     ]
    },
    {
     "name": "stderr",
     "output_type": "stream",
     "text": [
      "\n",
      " 16%|████████████▉                                                                    | 24/150 [02:38<13:46,  6.56s/it]\u001b[A"
     ]
    },
    {
     "name": "stdout",
     "output_type": "stream",
     "text": [
      "[<selenium.webdriver.remote.webelement.WebElement (session=\"9dde711e96f51ab43a9fa71de8b148c0\", element=\"1c263226-97a9-494f-b079-11b549790267\")>]\n"
     ]
    },
    {
     "name": "stderr",
     "output_type": "stream",
     "text": [
      "\n",
      " 17%|█████████████▌                                                                   | 25/150 [02:45<13:39,  6.56s/it]\u001b[A"
     ]
    },
    {
     "name": "stdout",
     "output_type": "stream",
     "text": [
      "[<selenium.webdriver.remote.webelement.WebElement (session=\"9dde711e96f51ab43a9fa71de8b148c0\", element=\"39a00f2b-f663-4d13-9e17-6576d6963e6c\")>]\n"
     ]
    },
    {
     "name": "stderr",
     "output_type": "stream",
     "text": [
      "\n",
      " 17%|██████████████                                                                   | 26/150 [02:51<13:33,  6.56s/it]\u001b[A"
     ]
    },
    {
     "name": "stdout",
     "output_type": "stream",
     "text": [
      "[<selenium.webdriver.remote.webelement.WebElement (session=\"9dde711e96f51ab43a9fa71de8b148c0\", element=\"c9fd7436-7282-4094-87df-032a30a410d9\")>]\n"
     ]
    },
    {
     "name": "stderr",
     "output_type": "stream",
     "text": [
      "\n",
      " 18%|██████████████▌                                                                  | 27/150 [02:58<13:27,  6.56s/it]\u001b[A"
     ]
    },
    {
     "name": "stdout",
     "output_type": "stream",
     "text": [
      "[<selenium.webdriver.remote.webelement.WebElement (session=\"9dde711e96f51ab43a9fa71de8b148c0\", element=\"31604873-54fc-4104-8d76-6fa70fb280ba\")>]\n"
     ]
    },
    {
     "name": "stderr",
     "output_type": "stream",
     "text": [
      "\n",
      " 19%|███████████████                                                                  | 28/150 [03:05<13:41,  6.73s/it]\u001b[A"
     ]
    },
    {
     "name": "stdout",
     "output_type": "stream",
     "text": [
      "[<selenium.webdriver.remote.webelement.WebElement (session=\"9dde711e96f51ab43a9fa71de8b148c0\", element=\"83673cc7-e631-4a84-adb7-c1e88028dd8d\")>]\n"
     ]
    },
    {
     "name": "stderr",
     "output_type": "stream",
     "text": [
      "\n",
      " 19%|███████████████▋                                                                 | 29/150 [03:12<13:34,  6.73s/it]\u001b[A"
     ]
    },
    {
     "name": "stdout",
     "output_type": "stream",
     "text": [
      "[<selenium.webdriver.remote.webelement.WebElement (session=\"9dde711e96f51ab43a9fa71de8b148c0\", element=\"ef45121d-2a11-4935-b5da-952353387494\")>]\n"
     ]
    },
    {
     "name": "stderr",
     "output_type": "stream",
     "text": [
      "\n",
      " 20%|████████████████▏                                                                | 30/150 [03:18<13:18,  6.66s/it]\u001b[A"
     ]
    },
    {
     "name": "stdout",
     "output_type": "stream",
     "text": [
      "[<selenium.webdriver.remote.webelement.WebElement (session=\"9dde711e96f51ab43a9fa71de8b148c0\", element=\"88bf2cc6-ef82-4984-8dcd-a4a93e9d9a29\")>]\n"
     ]
    },
    {
     "name": "stderr",
     "output_type": "stream",
     "text": [
      "\n",
      " 21%|████████████████▋                                                                | 31/150 [03:25<13:13,  6.67s/it]\u001b[A"
     ]
    },
    {
     "name": "stdout",
     "output_type": "stream",
     "text": [
      "[<selenium.webdriver.remote.webelement.WebElement (session=\"9dde711e96f51ab43a9fa71de8b148c0\", element=\"f659d36c-edbd-4bb2-955a-545afbd23c5a\")>]\n"
     ]
    },
    {
     "name": "stderr",
     "output_type": "stream",
     "text": [
      "\n",
      " 21%|█████████████████▎                                                               | 32/150 [03:32<13:13,  6.73s/it]\u001b[A"
     ]
    },
    {
     "name": "stdout",
     "output_type": "stream",
     "text": [
      "[<selenium.webdriver.remote.webelement.WebElement (session=\"9dde711e96f51ab43a9fa71de8b148c0\", element=\"212d94ed-2f88-495b-bccc-b6d5471fedbb\")>]\n"
     ]
    },
    {
     "name": "stderr",
     "output_type": "stream",
     "text": [
      "\n",
      " 22%|█████████████████▊                                                               | 33/150 [03:38<13:06,  6.72s/it]\u001b[A\n",
      " 23%|██████████████████▎                                                              | 34/150 [03:45<12:50,  6.64s/it]\u001b[A"
     ]
    },
    {
     "name": "stdout",
     "output_type": "stream",
     "text": [
      "[<selenium.webdriver.remote.webelement.WebElement (session=\"9dde711e96f51ab43a9fa71de8b148c0\", element=\"ab2d4333-2723-49eb-bc89-c86ca9fe07e3\")>]\n"
     ]
    },
    {
     "name": "stderr",
     "output_type": "stream",
     "text": [
      " 23%|██████████████████▎                                                              | 34/150 [03:46<12:52,  6.66s/it]\n",
      "  8%|██████                                                                          | 5/66 [20:45<3:59:46, 235.85s/it]\n",
      "  0%|                                                                                          | 0/150 [00:00<?, ?it/s]\u001b[A"
     ]
    },
    {
     "name": "stdout",
     "output_type": "stream",
     "text": [
      "[<selenium.webdriver.remote.webelement.WebElement (session=\"9dde711e96f51ab43a9fa71de8b148c0\", element=\"ddb868ab-d50f-4e10-bf76-155822584e1c\")>]\n"
     ]
    },
    {
     "name": "stderr",
     "output_type": "stream",
     "text": [
      "\n",
      "  1%|▌                                                                                 | 1/150 [00:06<16:17,  6.56s/it]\u001b[A"
     ]
    },
    {
     "name": "stdout",
     "output_type": "stream",
     "text": [
      "[<selenium.webdriver.remote.webelement.WebElement (session=\"9dde711e96f51ab43a9fa71de8b148c0\", element=\"90b8fdf1-921f-4e9b-93ff-6e6d23501b8e\")>]\n"
     ]
    },
    {
     "name": "stderr",
     "output_type": "stream",
     "text": [
      "\n",
      "  1%|█                                                                                 | 2/150 [00:13<16:04,  6.52s/it]\u001b[A"
     ]
    },
    {
     "name": "stdout",
     "output_type": "stream",
     "text": [
      "[<selenium.webdriver.remote.webelement.WebElement (session=\"9dde711e96f51ab43a9fa71de8b148c0\", element=\"726580ca-82c7-44e0-8cb3-391a2888e522\")>]\n"
     ]
    },
    {
     "name": "stderr",
     "output_type": "stream",
     "text": [
      "\n",
      "  2%|█▋                                                                                | 3/150 [00:19<15:54,  6.49s/it]\u001b[A"
     ]
    },
    {
     "name": "stdout",
     "output_type": "stream",
     "text": [
      "[<selenium.webdriver.remote.webelement.WebElement (session=\"9dde711e96f51ab43a9fa71de8b148c0\", element=\"cb0d4c6c-284c-4825-8aa9-7a52ab255de1\")>]\n"
     ]
    },
    {
     "name": "stderr",
     "output_type": "stream",
     "text": [
      "\n",
      "  3%|██▏                                                                               | 4/150 [00:25<15:08,  6.22s/it]\u001b[A\n"
     ]
    },
    {
     "name": "stdout",
     "output_type": "stream",
     "text": [
      "[<selenium.webdriver.remote.webelement.WebElement (session=\"9dde711e96f51ab43a9fa71de8b148c0\", element=\"58334138-d420-4425-bf5e-2c94c292920b\")>]\n"
     ]
    },
    {
     "name": "stderr",
     "output_type": "stream",
     "text": [
      "  3%|██▋                                                                               | 5/150 [00:31<15:12,  6.29s/it]\u001b[A"
     ]
    },
    {
     "name": "stdout",
     "output_type": "stream",
     "text": [
      "[<selenium.webdriver.remote.webelement.WebElement (session=\"9dde711e96f51ab43a9fa71de8b148c0\", element=\"80916056-1b47-4a93-bcd8-d5759efcee0e\")>]\n"
     ]
    },
    {
     "name": "stderr",
     "output_type": "stream",
     "text": [
      "\n",
      "  4%|███▎                                                                              | 6/150 [00:39<16:01,  6.68s/it]\u001b[A"
     ]
    },
    {
     "name": "stdout",
     "output_type": "stream",
     "text": [
      "[<selenium.webdriver.remote.webelement.WebElement (session=\"9dde711e96f51ab43a9fa71de8b148c0\", element=\"d305ae24-8ac2-43b0-ab70-94678a9059d3\")>]\n"
     ]
    },
    {
     "name": "stderr",
     "output_type": "stream",
     "text": [
      "\n",
      "  5%|███▊                                                                              | 7/150 [00:45<15:47,  6.63s/it]\u001b[A"
     ]
    },
    {
     "name": "stdout",
     "output_type": "stream",
     "text": [
      "[<selenium.webdriver.remote.webelement.WebElement (session=\"9dde711e96f51ab43a9fa71de8b148c0\", element=\"8ef5e286-5f92-42bf-ae80-c40ab42e1526\")>]\n"
     ]
    },
    {
     "name": "stderr",
     "output_type": "stream",
     "text": [
      "\n",
      "  5%|████▎                                                                             | 8/150 [00:51<15:08,  6.40s/it]\u001b[A"
     ]
    },
    {
     "name": "stdout",
     "output_type": "stream",
     "text": [
      "[<selenium.webdriver.remote.webelement.WebElement (session=\"9dde711e96f51ab43a9fa71de8b148c0\", element=\"a85bcb51-f8cb-4094-8c0f-69b1f3e9ad80\")>]\n"
     ]
    },
    {
     "name": "stderr",
     "output_type": "stream",
     "text": [
      "\n",
      "  6%|████▉                                                                             | 9/150 [00:58<15:09,  6.45s/it]\u001b[A"
     ]
    },
    {
     "name": "stdout",
     "output_type": "stream",
     "text": [
      "[<selenium.webdriver.remote.webelement.WebElement (session=\"9dde711e96f51ab43a9fa71de8b148c0\", element=\"7654bb44-98aa-4def-b509-c7ba99cde09a\")>]\n"
     ]
    },
    {
     "name": "stderr",
     "output_type": "stream",
     "text": [
      "\n",
      "  7%|█████▍                                                                           | 10/150 [01:05<15:20,  6.58s/it]\u001b[A"
     ]
    },
    {
     "name": "stdout",
     "output_type": "stream",
     "text": [
      "[<selenium.webdriver.remote.webelement.WebElement (session=\"9dde711e96f51ab43a9fa71de8b148c0\", element=\"89ba04b7-2741-474a-8e77-d953c92d26b2\")>]\n"
     ]
    },
    {
     "name": "stderr",
     "output_type": "stream",
     "text": [
      "\n",
      "  7%|█████▉                                                                           | 11/150 [01:11<15:09,  6.54s/it]\u001b[A"
     ]
    },
    {
     "name": "stdout",
     "output_type": "stream",
     "text": [
      "[<selenium.webdriver.remote.webelement.WebElement (session=\"9dde711e96f51ab43a9fa71de8b148c0\", element=\"b149aad0-c289-48b5-8baf-26ffb7917697\")>]\n"
     ]
    },
    {
     "name": "stderr",
     "output_type": "stream",
     "text": [
      "\n",
      "  8%|██████▍                                                                          | 12/150 [01:18<15:06,  6.57s/it]\u001b[A"
     ]
    },
    {
     "name": "stdout",
     "output_type": "stream",
     "text": [
      "[<selenium.webdriver.remote.webelement.WebElement (session=\"9dde711e96f51ab43a9fa71de8b148c0\", element=\"5dd59e8b-239c-484a-98b4-a859269424d7\")>]\n"
     ]
    },
    {
     "name": "stderr",
     "output_type": "stream",
     "text": [
      "\n",
      "  9%|███████                                                                          | 13/150 [01:24<14:59,  6.56s/it]\u001b[A\n"
     ]
    },
    {
     "name": "stdout",
     "output_type": "stream",
     "text": [
      "[<selenium.webdriver.remote.webelement.WebElement (session=\"9dde711e96f51ab43a9fa71de8b148c0\", element=\"d358f869-dc6e-4db9-8223-edfa12b259ae\")>]\n"
     ]
    },
    {
     "name": "stderr",
     "output_type": "stream",
     "text": [
      "  9%|███████▌                                                                         | 14/150 [01:31<14:51,  6.55s/it]\u001b[A"
     ]
    },
    {
     "name": "stdout",
     "output_type": "stream",
     "text": [
      "[<selenium.webdriver.remote.webelement.WebElement (session=\"9dde711e96f51ab43a9fa71de8b148c0\", element=\"5b7a06d5-609c-451c-88f8-b84255794c0a\")>]\n"
     ]
    },
    {
     "name": "stderr",
     "output_type": "stream",
     "text": [
      "\n",
      " 10%|████████                                                                         | 15/150 [01:38<15:03,  6.69s/it]\u001b[A\n",
      " 11%|████████▋                                                                        | 16/150 [01:44<14:47,  6.62s/it]\u001b[A"
     ]
    },
    {
     "name": "stdout",
     "output_type": "stream",
     "text": [
      "[<selenium.webdriver.remote.webelement.WebElement (session=\"9dde711e96f51ab43a9fa71de8b148c0\", element=\"47b593f1-887c-420d-8d9c-6cb3e276b1f5\")>]\n",
      "[<selenium.webdriver.remote.webelement.WebElement (session=\"9dde711e96f51ab43a9fa71de8b148c0\", element=\"0b086852-0c77-4d0c-9592-8417b8fbf638\")>]\n"
     ]
    },
    {
     "name": "stderr",
     "output_type": "stream",
     "text": [
      "\n",
      " 11%|█████████▏                                                                       | 17/150 [01:51<14:33,  6.57s/it]\u001b[A"
     ]
    },
    {
     "name": "stdout",
     "output_type": "stream",
     "text": [
      "[<selenium.webdriver.remote.webelement.WebElement (session=\"9dde711e96f51ab43a9fa71de8b148c0\", element=\"224075a8-831d-40f9-94f9-e9b877bddd37\")>]\n"
     ]
    },
    {
     "name": "stderr",
     "output_type": "stream",
     "text": [
      "\n",
      " 12%|█████████▋                                                                       | 18/150 [01:56<13:57,  6.35s/it]\u001b[A"
     ]
    },
    {
     "name": "stdout",
     "output_type": "stream",
     "text": [
      "[<selenium.webdriver.remote.webelement.WebElement (session=\"9dde711e96f51ab43a9fa71de8b148c0\", element=\"f4885316-6a3e-455d-9209-c546da96513d\")>]\n"
     ]
    },
    {
     "name": "stderr",
     "output_type": "stream",
     "text": [
      "\n",
      " 13%|██████████▎                                                                      | 19/150 [02:03<14:11,  6.50s/it]\u001b[A\n",
      " 13%|██████████▊                                                                      | 20/150 [02:10<14:04,  6.50s/it]\u001b[A"
     ]
    },
    {
     "name": "stdout",
     "output_type": "stream",
     "text": [
      "[<selenium.webdriver.remote.webelement.WebElement (session=\"9dde711e96f51ab43a9fa71de8b148c0\", element=\"013686d4-c1f5-4596-af45-4b0c25df6872\")>]\n",
      "[<selenium.webdriver.remote.webelement.WebElement (session=\"9dde711e96f51ab43a9fa71de8b148c0\", element=\"cb2602c2-19a1-4353-9635-8d826dddf586\")>]\n"
     ]
    },
    {
     "name": "stderr",
     "output_type": "stream",
     "text": [
      "\n",
      " 14%|███████████▎                                                                     | 21/150 [02:18<14:48,  6.89s/it]\u001b[A"
     ]
    },
    {
     "name": "stdout",
     "output_type": "stream",
     "text": [
      "[<selenium.webdriver.remote.webelement.WebElement (session=\"9dde711e96f51ab43a9fa71de8b148c0\", element=\"b0c38d46-548d-4b6c-a6a0-d844a1aef20a\")>]\n"
     ]
    },
    {
     "name": "stderr",
     "output_type": "stream",
     "text": [
      "\n",
      " 15%|███████████▉                                                                     | 22/150 [02:24<14:36,  6.84s/it]\u001b[A\n"
     ]
    },
    {
     "name": "stdout",
     "output_type": "stream",
     "text": [
      "[<selenium.webdriver.remote.webelement.WebElement (session=\"9dde711e96f51ab43a9fa71de8b148c0\", element=\"70f224b8-44f5-4ec0-bff8-73c31fe0ecd4\")>]\n"
     ]
    },
    {
     "name": "stderr",
     "output_type": "stream",
     "text": [
      " 15%|████████████▍                                                                    | 23/150 [02:31<14:11,  6.70s/it]\u001b[A"
     ]
    },
    {
     "name": "stdout",
     "output_type": "stream",
     "text": [
      "[<selenium.webdriver.remote.webelement.WebElement (session=\"9dde711e96f51ab43a9fa71de8b148c0\", element=\"4fb2b289-1d68-4154-88c2-9bdc30e3fbc7\")>]\n"
     ]
    },
    {
     "name": "stderr",
     "output_type": "stream",
     "text": [
      "\n",
      " 16%|████████████▉                                                                    | 24/150 [02:39<13:56,  6.64s/it]\u001b[A\n",
      "  9%|███████▎                                                                        | 6/66 [23:24<3:29:49, 209.83s/it]\n",
      "  0%|                                                                                          | 0/150 [00:00<?, ?it/s]\u001b[A"
     ]
    },
    {
     "name": "stdout",
     "output_type": "stream",
     "text": [
      "[<selenium.webdriver.remote.webelement.WebElement (session=\"9dde711e96f51ab43a9fa71de8b148c0\", element=\"d6c182fb-9be5-4cf6-9315-94b07244266e\")>]\n"
     ]
    },
    {
     "name": "stderr",
     "output_type": "stream",
     "text": [
      "\n",
      "  1%|▌                                                                                 | 1/150 [00:06<16:37,  6.69s/it]\u001b[A"
     ]
    },
    {
     "name": "stdout",
     "output_type": "stream",
     "text": [
      "[<selenium.webdriver.remote.webelement.WebElement (session=\"9dde711e96f51ab43a9fa71de8b148c0\", element=\"b27f78e2-59ae-4087-915c-f58534775e53\")>]\n"
     ]
    },
    {
     "name": "stderr",
     "output_type": "stream",
     "text": [
      "\n",
      "  1%|█                                                                                 | 2/150 [00:13<16:14,  6.59s/it]\u001b[A"
     ]
    },
    {
     "name": "stdout",
     "output_type": "stream",
     "text": [
      "[<selenium.webdriver.remote.webelement.WebElement (session=\"9dde711e96f51ab43a9fa71de8b148c0\", element=\"c821329d-857c-4a79-9d35-7caf36a25e24\")>]\n"
     ]
    },
    {
     "name": "stderr",
     "output_type": "stream",
     "text": [
      "\n",
      "  2%|█▋                                                                                | 3/150 [00:19<16:10,  6.60s/it]\u001b[A"
     ]
    },
    {
     "name": "stdout",
     "output_type": "stream",
     "text": [
      "[<selenium.webdriver.remote.webelement.WebElement (session=\"9dde711e96f51ab43a9fa71de8b148c0\", element=\"ed509053-b95b-4d75-8cba-b33344ee67e1\")>]\n"
     ]
    },
    {
     "name": "stderr",
     "output_type": "stream",
     "text": [
      "\n",
      "  3%|██▏                                                                               | 4/150 [00:26<15:57,  6.56s/it]\u001b[A"
     ]
    },
    {
     "name": "stdout",
     "output_type": "stream",
     "text": [
      "[<selenium.webdriver.remote.webelement.WebElement (session=\"9dde711e96f51ab43a9fa71de8b148c0\", element=\"6e65a529-100c-4da9-826a-adef640853f0\")>]\n"
     ]
    },
    {
     "name": "stderr",
     "output_type": "stream",
     "text": [
      "\n",
      "  3%|██▋                                                                               | 5/150 [00:33<15:58,  6.61s/it]\u001b[A"
     ]
    },
    {
     "name": "stdout",
     "output_type": "stream",
     "text": [
      "[<selenium.webdriver.remote.webelement.WebElement (session=\"9dde711e96f51ab43a9fa71de8b148c0\", element=\"ff0aecd2-048d-4006-92d3-069f8eaa3c74\")>]\n"
     ]
    },
    {
     "name": "stderr",
     "output_type": "stream",
     "text": [
      "\n",
      "  4%|███▎                                                                              | 6/150 [00:39<15:59,  6.66s/it]\u001b[A"
     ]
    },
    {
     "name": "stdout",
     "output_type": "stream",
     "text": [
      "[<selenium.webdriver.remote.webelement.WebElement (session=\"9dde711e96f51ab43a9fa71de8b148c0\", element=\"1f14859d-49ca-46f3-ae3b-1084da7df842\")>]\n"
     ]
    },
    {
     "name": "stderr",
     "output_type": "stream",
     "text": [
      "\n",
      "  5%|███▊                                                                              | 7/150 [00:46<15:47,  6.63s/it]\u001b[A"
     ]
    },
    {
     "name": "stdout",
     "output_type": "stream",
     "text": [
      "[<selenium.webdriver.remote.webelement.WebElement (session=\"9dde711e96f51ab43a9fa71de8b148c0\", element=\"25f6b1e7-5d39-4d0d-81bc-5c814fd50e50\")>]\n"
     ]
    },
    {
     "name": "stderr",
     "output_type": "stream",
     "text": [
      "\n",
      "  5%|████▎                                                                             | 8/150 [00:53<15:45,  6.66s/it]\u001b[A"
     ]
    },
    {
     "name": "stdout",
     "output_type": "stream",
     "text": [
      "[<selenium.webdriver.remote.webelement.WebElement (session=\"9dde711e96f51ab43a9fa71de8b148c0\", element=\"0bcfd48c-a846-4abb-aa82-838f46092da8\")>]\n"
     ]
    },
    {
     "name": "stderr",
     "output_type": "stream",
     "text": [
      "\n",
      "  6%|████▉                                                                             | 9/150 [01:00<15:52,  6.75s/it]\u001b[A"
     ]
    },
    {
     "name": "stdout",
     "output_type": "stream",
     "text": [
      "[<selenium.webdriver.remote.webelement.WebElement (session=\"9dde711e96f51ab43a9fa71de8b148c0\", element=\"894f98ca-43da-42ea-b173-03ac0d2940f9\")>]\n"
     ]
    },
    {
     "name": "stderr",
     "output_type": "stream",
     "text": [
      "\n",
      "  7%|█████▍                                                                           | 10/150 [01:06<15:32,  6.66s/it]\u001b[A"
     ]
    },
    {
     "name": "stdout",
     "output_type": "stream",
     "text": [
      "[<selenium.webdriver.remote.webelement.WebElement (session=\"9dde711e96f51ab43a9fa71de8b148c0\", element=\"5a51663e-f3d1-4ddf-a796-b794f9a71cbd\")>]\n"
     ]
    },
    {
     "name": "stderr",
     "output_type": "stream",
     "text": [
      "\n",
      "  7%|█████▉                                                                           | 11/150 [01:13<15:30,  6.69s/it]\u001b[A\n",
      "  8%|██████▍                                                                          | 12/150 [01:19<15:14,  6.63s/it]\u001b[A"
     ]
    },
    {
     "name": "stdout",
     "output_type": "stream",
     "text": [
      "[<selenium.webdriver.remote.webelement.WebElement (session=\"9dde711e96f51ab43a9fa71de8b148c0\", element=\"552bc7ca-fc3b-4a7a-aad3-27ffe1dce599\")>]\n",
      "[<selenium.webdriver.remote.webelement.WebElement (session=\"9dde711e96f51ab43a9fa71de8b148c0\", element=\"728b280e-1050-49f2-b92a-f6066a898e6b\")>]\n"
     ]
    },
    {
     "name": "stderr",
     "output_type": "stream",
     "text": [
      "\n",
      "  9%|███████                                                                          | 13/150 [01:26<15:11,  6.65s/it]\u001b[A"
     ]
    },
    {
     "name": "stdout",
     "output_type": "stream",
     "text": [
      "[<selenium.webdriver.remote.webelement.WebElement (session=\"9dde711e96f51ab43a9fa71de8b148c0\", element=\"869c66ca-fb2f-4c63-adfe-e38640febf15\")>]\n"
     ]
    },
    {
     "name": "stderr",
     "output_type": "stream",
     "text": [
      "\n",
      "  9%|███████▌                                                                         | 14/150 [01:32<15:00,  6.62s/it]\u001b[A"
     ]
    },
    {
     "name": "stdout",
     "output_type": "stream",
     "text": [
      "[<selenium.webdriver.remote.webelement.WebElement (session=\"9dde711e96f51ab43a9fa71de8b148c0\", element=\"5948ec16-7432-44d9-8f65-196bcc54e088\")>]\n"
     ]
    },
    {
     "name": "stderr",
     "output_type": "stream",
     "text": [
      "\n",
      " 10%|████████                                                                         | 15/150 [01:40<15:17,  6.80s/it]\u001b[A"
     ]
    },
    {
     "name": "stdout",
     "output_type": "stream",
     "text": [
      "[<selenium.webdriver.remote.webelement.WebElement (session=\"9dde711e96f51ab43a9fa71de8b148c0\", element=\"7dd6b8a7-d095-4bdb-be0c-f519f1befe41\")>]\n"
     ]
    },
    {
     "name": "stderr",
     "output_type": "stream",
     "text": [
      "\n",
      " 11%|████████▋                                                                        | 16/150 [01:46<15:02,  6.74s/it]\u001b[A\n",
      " 11%|█████████▏                                                                       | 17/150 [01:53<14:46,  6.66s/it]\u001b[A"
     ]
    },
    {
     "name": "stdout",
     "output_type": "stream",
     "text": [
      "[<selenium.webdriver.remote.webelement.WebElement (session=\"9dde711e96f51ab43a9fa71de8b148c0\", element=\"b78765aa-63d1-454b-9d9d-748e18c4bcf6\")>]\n",
      "[<selenium.webdriver.remote.webelement.WebElement (session=\"9dde711e96f51ab43a9fa71de8b148c0\", element=\"dc3cd91c-1cc4-4a8a-92e4-1d03eae3d299\")>]\n"
     ]
    },
    {
     "name": "stderr",
     "output_type": "stream",
     "text": [
      "\n",
      " 12%|█████████▋                                                                       | 18/150 [01:59<14:37,  6.64s/it]\u001b[A"
     ]
    },
    {
     "name": "stdout",
     "output_type": "stream",
     "text": [
      "[<selenium.webdriver.remote.webelement.WebElement (session=\"9dde711e96f51ab43a9fa71de8b148c0\", element=\"eb87536b-327e-4eb2-99b8-286ff995abb0\")>]\n"
     ]
    },
    {
     "name": "stderr",
     "output_type": "stream",
     "text": [
      "\n",
      " 13%|██████████▎                                                                      | 19/150 [02:05<14:01,  6.42s/it]\u001b[A"
     ]
    },
    {
     "name": "stdout",
     "output_type": "stream",
     "text": [
      "[<selenium.webdriver.remote.webelement.WebElement (session=\"9dde711e96f51ab43a9fa71de8b148c0\", element=\"53158ab8-5f3f-494c-8df8-6ed5d486f5b0\")>]\n"
     ]
    },
    {
     "name": "stderr",
     "output_type": "stream",
     "text": [
      "\n",
      " 13%|██████████▊                                                                      | 20/150 [02:13<14:38,  6.76s/it]\u001b[A"
     ]
    },
    {
     "name": "stdout",
     "output_type": "stream",
     "text": [
      "[<selenium.webdriver.remote.webelement.WebElement (session=\"9dde711e96f51ab43a9fa71de8b148c0\", element=\"d151cfc8-b4a0-4c98-aec1-bbe337d4d107\")>]\n"
     ]
    },
    {
     "name": "stderr",
     "output_type": "stream",
     "text": [
      "\n",
      " 14%|███████████▎                                                                     | 21/150 [02:21<14:26,  6.72s/it]\u001b[A\n",
      " 11%|████████▍                                                                       | 7/66 [25:45<3:04:13, 187.34s/it]\n",
      "  0%|                                                                                          | 0/150 [00:00<?, ?it/s]\u001b[A"
     ]
    },
    {
     "name": "stdout",
     "output_type": "stream",
     "text": [
      "[<selenium.webdriver.remote.webelement.WebElement (session=\"9dde711e96f51ab43a9fa71de8b148c0\", element=\"9acd43d0-902c-4f12-8288-7d5148b7a0d4\")>]\n"
     ]
    },
    {
     "name": "stderr",
     "output_type": "stream",
     "text": [
      "\n",
      "  1%|▌                                                                                 | 1/150 [00:06<16:12,  6.53s/it]\u001b[A"
     ]
    },
    {
     "name": "stdout",
     "output_type": "stream",
     "text": [
      "[<selenium.webdriver.remote.webelement.WebElement (session=\"9dde711e96f51ab43a9fa71de8b148c0\", element=\"c66e6dd7-223e-410c-af72-59da60aaedd2\")>]\n"
     ]
    },
    {
     "name": "stderr",
     "output_type": "stream",
     "text": [
      "\n",
      "  1%|█                                                                                 | 2/150 [00:12<14:59,  6.08s/it]\u001b[A"
     ]
    },
    {
     "name": "stdout",
     "output_type": "stream",
     "text": [
      "[<selenium.webdriver.remote.webelement.WebElement (session=\"9dde711e96f51ab43a9fa71de8b148c0\", element=\"aaebb07a-0834-45af-92bd-7e44be6af48e\")>]\n"
     ]
    },
    {
     "name": "stderr",
     "output_type": "stream",
     "text": [
      "\n",
      "  2%|█▋                                                                                | 3/150 [00:18<15:17,  6.24s/it]\u001b[A"
     ]
    },
    {
     "name": "stdout",
     "output_type": "stream",
     "text": [
      "[<selenium.webdriver.remote.webelement.WebElement (session=\"9dde711e96f51ab43a9fa71de8b148c0\", element=\"e25cb34b-dcc9-46e0-8ee4-feb9e4f866cf\")>]\n"
     ]
    },
    {
     "name": "stderr",
     "output_type": "stream",
     "text": [
      "\n",
      "  3%|██▏                                                                               | 4/150 [00:27<16:34,  6.81s/it]\u001b[A\n",
      " 12%|█████████▋                                                                      | 8/66 [26:12<2:11:50, 136.38s/it]\n",
      "  0%|                                                                                          | 0/150 [00:00<?, ?it/s]\u001b[A"
     ]
    },
    {
     "name": "stdout",
     "output_type": "stream",
     "text": [
      "[<selenium.webdriver.remote.webelement.WebElement (session=\"9dde711e96f51ab43a9fa71de8b148c0\", element=\"9a0182c0-414e-41ef-b4b6-a5ac89804e5c\")>]\n"
     ]
    },
    {
     "name": "stderr",
     "output_type": "stream",
     "text": [
      "\n",
      "  1%|▌                                                                                 | 1/150 [00:06<16:34,  6.68s/it]\u001b[A"
     ]
    },
    {
     "name": "stdout",
     "output_type": "stream",
     "text": [
      "[<selenium.webdriver.remote.webelement.WebElement (session=\"9dde711e96f51ab43a9fa71de8b148c0\", element=\"68b39449-8dba-40da-a510-f1f7d6f82197\")>]\n"
     ]
    },
    {
     "name": "stderr",
     "output_type": "stream",
     "text": [
      "\n",
      "  1%|█                                                                                 | 2/150 [00:13<16:29,  6.68s/it]\u001b[A"
     ]
    },
    {
     "name": "stdout",
     "output_type": "stream",
     "text": [
      "[<selenium.webdriver.remote.webelement.WebElement (session=\"9dde711e96f51ab43a9fa71de8b148c0\", element=\"6fd6b63b-5388-41df-83bb-e7220fe204de\")>]\n"
     ]
    },
    {
     "name": "stderr",
     "output_type": "stream",
     "text": [
      "\n",
      "  2%|█▋                                                                                | 3/150 [00:19<16:10,  6.60s/it]\u001b[A"
     ]
    },
    {
     "name": "stdout",
     "output_type": "stream",
     "text": [
      "[<selenium.webdriver.remote.webelement.WebElement (session=\"9dde711e96f51ab43a9fa71de8b148c0\", element=\"b9f1d49f-7fc3-4846-97fd-c9c98e82a59d\")>]\n"
     ]
    },
    {
     "name": "stderr",
     "output_type": "stream",
     "text": [
      "\n",
      "  3%|██▏                                                                               | 4/150 [00:26<15:58,  6.57s/it]\u001b[A\n",
      "  3%|██▋                                                                               | 5/150 [00:32<15:48,  6.54s/it]\u001b[A"
     ]
    },
    {
     "name": "stdout",
     "output_type": "stream",
     "text": [
      "[<selenium.webdriver.remote.webelement.WebElement (session=\"9dde711e96f51ab43a9fa71de8b148c0\", element=\"35f2d6be-7652-45fd-9614-72e2cf9b348d\")>]\n",
      "[<selenium.webdriver.remote.webelement.WebElement (session=\"9dde711e96f51ab43a9fa71de8b148c0\", element=\"8c6f5f3e-5333-4903-81b7-2b132323cb31\")>]\n"
     ]
    },
    {
     "name": "stderr",
     "output_type": "stream",
     "text": [
      "\n",
      "  4%|███▎                                                                              | 6/150 [00:39<15:37,  6.51s/it]\u001b[A\n"
     ]
    },
    {
     "name": "stdout",
     "output_type": "stream",
     "text": [
      "[<selenium.webdriver.remote.webelement.WebElement (session=\"9dde711e96f51ab43a9fa71de8b148c0\", element=\"a348fef2-5ad1-4ee5-9680-1f6306855040\")>]\n"
     ]
    },
    {
     "name": "stderr",
     "output_type": "stream",
     "text": [
      "  5%|███▊                                                                              | 7/150 [00:45<15:31,  6.52s/it]\u001b[A"
     ]
    },
    {
     "name": "stdout",
     "output_type": "stream",
     "text": [
      "[<selenium.webdriver.remote.webelement.WebElement (session=\"9dde711e96f51ab43a9fa71de8b148c0\", element=\"0a91a912-4f9f-4a4c-990f-40941d5fd94e\")>]\n"
     ]
    },
    {
     "name": "stderr",
     "output_type": "stream",
     "text": [
      "\n",
      "  5%|████▎                                                                             | 8/150 [00:52<15:27,  6.53s/it]\u001b[A"
     ]
    },
    {
     "name": "stdout",
     "output_type": "stream",
     "text": [
      "[<selenium.webdriver.remote.webelement.WebElement (session=\"9dde711e96f51ab43a9fa71de8b148c0\", element=\"59a1421d-9b20-44a4-91c4-311b48144bb4\")>]\n"
     ]
    },
    {
     "name": "stderr",
     "output_type": "stream",
     "text": [
      "\n",
      "  6%|████▉                                                                             | 9/150 [00:59<15:23,  6.55s/it]\u001b[A"
     ]
    },
    {
     "name": "stdout",
     "output_type": "stream",
     "text": [
      "[<selenium.webdriver.remote.webelement.WebElement (session=\"9dde711e96f51ab43a9fa71de8b148c0\", element=\"d937f09e-8d66-4983-8d51-613e0b3c5d42\")>]\n"
     ]
    },
    {
     "name": "stderr",
     "output_type": "stream",
     "text": [
      "\n",
      "  7%|█████▍                                                                           | 10/150 [01:05<15:18,  6.56s/it]\u001b[A\n"
     ]
    },
    {
     "name": "stdout",
     "output_type": "stream",
     "text": [
      "[<selenium.webdriver.remote.webelement.WebElement (session=\"9dde711e96f51ab43a9fa71de8b148c0\", element=\"52075425-d74c-4fa6-824a-c877905d1a48\")>]\n"
     ]
    },
    {
     "name": "stderr",
     "output_type": "stream",
     "text": [
      "  7%|█████▉                                                                           | 11/150 [01:12<15:07,  6.53s/it]\u001b[A"
     ]
    },
    {
     "name": "stdout",
     "output_type": "stream",
     "text": [
      "[<selenium.webdriver.remote.webelement.WebElement (session=\"9dde711e96f51ab43a9fa71de8b148c0\", element=\"d9fe5e23-8a0e-4f40-bf85-9a99372c9457\")>]\n"
     ]
    },
    {
     "name": "stderr",
     "output_type": "stream",
     "text": [
      "\n",
      "  8%|██████▍                                                                          | 12/150 [01:18<15:02,  6.54s/it]\u001b[A"
     ]
    },
    {
     "name": "stdout",
     "output_type": "stream",
     "text": [
      "[<selenium.webdriver.remote.webelement.WebElement (session=\"9dde711e96f51ab43a9fa71de8b148c0\", element=\"6c177ade-83fa-4a02-aba0-d44352c30eb6\")>]\n"
     ]
    },
    {
     "name": "stderr",
     "output_type": "stream",
     "text": [
      "\n",
      "  9%|███████                                                                          | 13/150 [01:25<14:59,  6.56s/it]\u001b[A"
     ]
    },
    {
     "name": "stdout",
     "output_type": "stream",
     "text": [
      "[<selenium.webdriver.remote.webelement.WebElement (session=\"9dde711e96f51ab43a9fa71de8b148c0\", element=\"3d8ae4bb-ab08-410d-b7cf-cfcec760813f\")>]\n"
     ]
    },
    {
     "name": "stderr",
     "output_type": "stream",
     "text": [
      "\n",
      "  9%|███████▌                                                                         | 14/150 [01:32<15:02,  6.64s/it]\u001b[A"
     ]
    },
    {
     "name": "stdout",
     "output_type": "stream",
     "text": [
      "[<selenium.webdriver.remote.webelement.WebElement (session=\"9dde711e96f51ab43a9fa71de8b148c0\", element=\"649e9323-50c2-4866-8b03-4b0a6af8e640\")>]\n"
     ]
    },
    {
     "name": "stderr",
     "output_type": "stream",
     "text": [
      "\n",
      " 10%|████████                                                                         | 15/150 [01:38<15:03,  6.69s/it]\u001b[A"
     ]
    },
    {
     "name": "stdout",
     "output_type": "stream",
     "text": [
      "[<selenium.webdriver.remote.webelement.WebElement (session=\"9dde711e96f51ab43a9fa71de8b148c0\", element=\"85b41a45-c18b-4988-b926-1c15862c9d15\")>]\n"
     ]
    },
    {
     "name": "stderr",
     "output_type": "stream",
     "text": [
      "\n",
      " 11%|████████▋                                                                        | 16/150 [01:45<14:52,  6.66s/it]\u001b[A"
     ]
    },
    {
     "name": "stdout",
     "output_type": "stream",
     "text": [
      "[<selenium.webdriver.remote.webelement.WebElement (session=\"9dde711e96f51ab43a9fa71de8b148c0\", element=\"0bc48dd3-af62-470f-bc7d-808953fbdeff\")>]\n"
     ]
    },
    {
     "name": "stderr",
     "output_type": "stream",
     "text": [
      "\n",
      " 11%|█████████▏                                                                       | 17/150 [01:52<14:57,  6.75s/it]\u001b[A"
     ]
    },
    {
     "name": "stdout",
     "output_type": "stream",
     "text": [
      "[<selenium.webdriver.remote.webelement.WebElement (session=\"9dde711e96f51ab43a9fa71de8b148c0\", element=\"300450b8-810e-4d78-ba5e-ff4ea877d710\")>]\n"
     ]
    },
    {
     "name": "stderr",
     "output_type": "stream",
     "text": [
      "\n",
      " 12%|█████████▋                                                                       | 18/150 [01:59<14:44,  6.70s/it]\u001b[A"
     ]
    },
    {
     "name": "stdout",
     "output_type": "stream",
     "text": [
      "[<selenium.webdriver.remote.webelement.WebElement (session=\"9dde711e96f51ab43a9fa71de8b148c0\", element=\"77c49a85-37eb-41fb-b01b-059a3ed407b0\")>]\n"
     ]
    },
    {
     "name": "stderr",
     "output_type": "stream",
     "text": [
      "\n",
      " 13%|██████████▎                                                                      | 19/150 [02:05<14:32,  6.66s/it]\u001b[A"
     ]
    },
    {
     "name": "stdout",
     "output_type": "stream",
     "text": [
      "[<selenium.webdriver.remote.webelement.WebElement (session=\"9dde711e96f51ab43a9fa71de8b148c0\", element=\"ba184a2c-f936-4b2a-9bb3-7c36bd2edad8\")>]\n"
     ]
    },
    {
     "name": "stderr",
     "output_type": "stream",
     "text": [
      "\n",
      " 13%|██████████▊                                                                      | 20/150 [02:12<14:55,  6.89s/it]\u001b[A\n"
     ]
    },
    {
     "name": "stdout",
     "output_type": "stream",
     "text": [
      "[<selenium.webdriver.remote.webelement.WebElement (session=\"9dde711e96f51ab43a9fa71de8b148c0\", element=\"d4202eaf-5194-4e3f-b77c-e46ffeb78a79\")>]\n"
     ]
    },
    {
     "name": "stderr",
     "output_type": "stream",
     "text": [
      " 14%|███████████▎                                                                     | 21/150 [02:19<14:32,  6.76s/it]\u001b[A"
     ]
    },
    {
     "name": "stdout",
     "output_type": "stream",
     "text": [
      "[<selenium.webdriver.remote.webelement.WebElement (session=\"9dde711e96f51ab43a9fa71de8b148c0\", element=\"de7fa569-61d4-459a-bba2-c55eb10e2831\")>]\n"
     ]
    },
    {
     "name": "stderr",
     "output_type": "stream",
     "text": [
      "\n",
      " 15%|███████████▉                                                                     | 22/150 [02:25<14:14,  6.68s/it]\u001b[A"
     ]
    },
    {
     "name": "stdout",
     "output_type": "stream",
     "text": [
      "[<selenium.webdriver.remote.webelement.WebElement (session=\"9dde711e96f51ab43a9fa71de8b148c0\", element=\"a1b2ba6d-c365-4e63-b1a2-7fc6937e305d\")>]\n"
     ]
    },
    {
     "name": "stderr",
     "output_type": "stream",
     "text": [
      "\n",
      " 15%|████████████▍                                                                    | 23/150 [02:32<14:05,  6.66s/it]\u001b[A"
     ]
    },
    {
     "name": "stdout",
     "output_type": "stream",
     "text": [
      "[<selenium.webdriver.remote.webelement.WebElement (session=\"9dde711e96f51ab43a9fa71de8b148c0\", element=\"7deb2ccd-3c64-4721-845a-4c3cc2a2c4f2\")>]\n"
     ]
    },
    {
     "name": "stderr",
     "output_type": "stream",
     "text": [
      "\n",
      " 16%|████████████▉                                                                    | 24/150 [02:40<14:30,  6.91s/it]\u001b[A"
     ]
    },
    {
     "name": "stdout",
     "output_type": "stream",
     "text": [
      "[<selenium.webdriver.remote.webelement.WebElement (session=\"9dde711e96f51ab43a9fa71de8b148c0\", element=\"ae26b9cb-9a98-4ba7-ba12-3711cac26f13\")>]\n"
     ]
    },
    {
     "name": "stderr",
     "output_type": "stream",
     "text": [
      "\n",
      " 17%|█████████████▌                                                                   | 25/150 [02:46<14:19,  6.88s/it]\u001b[A"
     ]
    },
    {
     "name": "stdout",
     "output_type": "stream",
     "text": [
      "[<selenium.webdriver.remote.webelement.WebElement (session=\"9dde711e96f51ab43a9fa71de8b148c0\", element=\"750e8698-85bc-4a0f-a0b4-fe0cdf822f7b\")>]\n"
     ]
    },
    {
     "name": "stderr",
     "output_type": "stream",
     "text": [
      "\n",
      " 17%|██████████████                                                                   | 26/150 [02:53<14:00,  6.78s/it]\u001b[A\n",
      " 18%|██████████████▌                                                                  | 27/150 [02:59<13:42,  6.69s/it]\u001b[A"
     ]
    },
    {
     "name": "stdout",
     "output_type": "stream",
     "text": [
      "[<selenium.webdriver.remote.webelement.WebElement (session=\"9dde711e96f51ab43a9fa71de8b148c0\", element=\"e1ce61d4-2fc3-4a92-8155-585eb0dd0322\")>]\n",
      "[<selenium.webdriver.remote.webelement.WebElement (session=\"9dde711e96f51ab43a9fa71de8b148c0\", element=\"b00afeb5-78c1-4177-88a4-7ea73684ae1c\")>]\n"
     ]
    },
    {
     "name": "stderr",
     "output_type": "stream",
     "text": [
      "\n",
      " 19%|███████████████                                                                  | 28/150 [03:06<13:29,  6.64s/it]\u001b[A\n",
      " 19%|███████████████▋                                                                 | 29/150 [03:12<13:17,  6.59s/it]\u001b[A"
     ]
    },
    {
     "name": "stdout",
     "output_type": "stream",
     "text": [
      "[<selenium.webdriver.remote.webelement.WebElement (session=\"9dde711e96f51ab43a9fa71de8b148c0\", element=\"20f2020c-c174-4aa4-978e-f2174afe80ad\")>]\n",
      "[<selenium.webdriver.remote.webelement.WebElement (session=\"9dde711e96f51ab43a9fa71de8b148c0\", element=\"cac01a92-ac0a-4ead-9ddb-a6d0e379e85f\")>]\n"
     ]
    },
    {
     "name": "stderr",
     "output_type": "stream",
     "text": [
      "\n",
      " 20%|████████████████▏                                                                | 30/150 [03:19<13:11,  6.60s/it]\u001b[A\n",
      " 21%|████████████████▋                                                                | 31/150 [03:25<12:57,  6.53s/it]\u001b[A"
     ]
    },
    {
     "name": "stdout",
     "output_type": "stream",
     "text": [
      "[<selenium.webdriver.remote.webelement.WebElement (session=\"9dde711e96f51ab43a9fa71de8b148c0\", element=\"412315ac-ee57-40da-95ad-8767b0a66e8d\")>]\n"
     ]
    },
    {
     "name": "stderr",
     "output_type": "stream",
     "text": [
      " 21%|████████████████▋                                                                | 31/150 [03:27<13:14,  6.68s/it]\n",
      " 14%|██████████▉                                                                     | 9/66 [29:39<2:30:33, 158.48s/it]\n",
      "  0%|                                                                                          | 0/150 [00:00<?, ?it/s]\u001b[A"
     ]
    },
    {
     "name": "stdout",
     "output_type": "stream",
     "text": [
      "[<selenium.webdriver.remote.webelement.WebElement (session=\"9dde711e96f51ab43a9fa71de8b148c0\", element=\"54e407f8-9669-4525-bdd6-9578133707a0\")>]\n"
     ]
    },
    {
     "name": "stderr",
     "output_type": "stream",
     "text": [
      "\n",
      "  1%|▌                                                                                 | 1/150 [00:06<16:24,  6.61s/it]\u001b[A"
     ]
    },
    {
     "name": "stdout",
     "output_type": "stream",
     "text": [
      "[<selenium.webdriver.remote.webelement.WebElement (session=\"9dde711e96f51ab43a9fa71de8b148c0\", element=\"d1671870-19ed-4116-9911-ba7eebe9ae05\")>]\n"
     ]
    },
    {
     "name": "stderr",
     "output_type": "stream",
     "text": [
      "\n",
      "  1%|█                                                                                 | 2/150 [00:13<16:20,  6.62s/it]\u001b[A"
     ]
    },
    {
     "name": "stdout",
     "output_type": "stream",
     "text": [
      "[<selenium.webdriver.remote.webelement.WebElement (session=\"9dde711e96f51ab43a9fa71de8b148c0\", element=\"8189d9a8-6053-4292-b5c6-221a3ce4a2f8\")>]\n"
     ]
    },
    {
     "name": "stderr",
     "output_type": "stream",
     "text": [
      "\n",
      "  2%|█▋                                                                                | 3/150 [00:19<16:16,  6.64s/it]\u001b[A\n",
      "  3%|██▏                                                                               | 4/150 [00:27<16:40,  6.85s/it]\u001b[A"
     ]
    },
    {
     "name": "stdout",
     "output_type": "stream",
     "text": [
      "[<selenium.webdriver.remote.webelement.WebElement (session=\"9dde711e96f51ab43a9fa71de8b148c0\", element=\"6b008366-b2db-419a-8c6f-afe223feac13\")>]\n",
      "[<selenium.webdriver.remote.webelement.WebElement (session=\"9dde711e96f51ab43a9fa71de8b148c0\", element=\"b97b17f2-b1d4-44eb-8f9a-6c8823ee5027\")>]\n"
     ]
    },
    {
     "name": "stderr",
     "output_type": "stream",
     "text": [
      "\n",
      "  3%|██▋                                                                               | 5/150 [00:33<16:22,  6.77s/it]\u001b[A"
     ]
    },
    {
     "name": "stdout",
     "output_type": "stream",
     "text": [
      "[<selenium.webdriver.remote.webelement.WebElement (session=\"9dde711e96f51ab43a9fa71de8b148c0\", element=\"f3b51800-8873-47b2-b783-08a673d9bccc\")>]\n"
     ]
    },
    {
     "name": "stderr",
     "output_type": "stream",
     "text": [
      "\n",
      "  4%|███▎                                                                              | 6/150 [00:40<16:03,  6.69s/it]\u001b[A"
     ]
    },
    {
     "name": "stdout",
     "output_type": "stream",
     "text": [
      "[<selenium.webdriver.remote.webelement.WebElement (session=\"9dde711e96f51ab43a9fa71de8b148c0\", element=\"04bd9288-4ca2-459d-bd3e-7c6ae08da9cf\")>]\n"
     ]
    },
    {
     "name": "stderr",
     "output_type": "stream",
     "text": [
      "\n",
      "  5%|███▊                                                                              | 7/150 [00:46<15:48,  6.64s/it]\u001b[A"
     ]
    },
    {
     "name": "stdout",
     "output_type": "stream",
     "text": [
      "[<selenium.webdriver.remote.webelement.WebElement (session=\"9dde711e96f51ab43a9fa71de8b148c0\", element=\"2ba83604-6766-4938-90ef-f3238e833623\")>]\n"
     ]
    },
    {
     "name": "stderr",
     "output_type": "stream",
     "text": [
      "\n",
      "  5%|████▎                                                                             | 8/150 [00:53<15:38,  6.61s/it]\u001b[A\n",
      "  6%|████▉                                                                             | 9/150 [00:59<15:21,  6.53s/it]\u001b[A"
     ]
    },
    {
     "name": "stdout",
     "output_type": "stream",
     "text": [
      "[<selenium.webdriver.remote.webelement.WebElement (session=\"9dde711e96f51ab43a9fa71de8b148c0\", element=\"ad8fd30c-a514-41be-952e-f46575b969cd\")>]\n",
      "[<selenium.webdriver.remote.webelement.WebElement (session=\"9dde711e96f51ab43a9fa71de8b148c0\", element=\"df641055-f620-4d17-ab03-150f5aa2a63c\")>]\n"
     ]
    },
    {
     "name": "stderr",
     "output_type": "stream",
     "text": [
      "\n",
      "  7%|█████▍                                                                           | 10/150 [01:06<15:15,  6.54s/it]\u001b[A"
     ]
    },
    {
     "name": "stdout",
     "output_type": "stream",
     "text": [
      "[<selenium.webdriver.remote.webelement.WebElement (session=\"9dde711e96f51ab43a9fa71de8b148c0\", element=\"b7546bf8-e653-4c2f-b02a-df44d86980d1\")>]\n"
     ]
    },
    {
     "name": "stderr",
     "output_type": "stream",
     "text": [
      "\n",
      "  7%|█████▉                                                                           | 11/150 [01:12<15:13,  6.57s/it]\u001b[A"
     ]
    },
    {
     "name": "stdout",
     "output_type": "stream",
     "text": [
      "[<selenium.webdriver.remote.webelement.WebElement (session=\"9dde711e96f51ab43a9fa71de8b148c0\", element=\"074751eb-fcc2-4ed3-98b9-80cfc05ad183\")>]\n"
     ]
    },
    {
     "name": "stderr",
     "output_type": "stream",
     "text": [
      "\n",
      "  8%|██████▍                                                                          | 12/150 [01:19<15:08,  6.58s/it]\u001b[A"
     ]
    },
    {
     "name": "stdout",
     "output_type": "stream",
     "text": [
      "[<selenium.webdriver.remote.webelement.WebElement (session=\"9dde711e96f51ab43a9fa71de8b148c0\", element=\"29b7b3b0-c886-4f54-88b0-737a8cedaa19\")>]\n"
     ]
    },
    {
     "name": "stderr",
     "output_type": "stream",
     "text": [
      "\n",
      "  9%|███████                                                                          | 13/150 [01:26<15:05,  6.61s/it]\u001b[A"
     ]
    },
    {
     "name": "stdout",
     "output_type": "stream",
     "text": [
      "[<selenium.webdriver.remote.webelement.WebElement (session=\"9dde711e96f51ab43a9fa71de8b148c0\", element=\"c1df4eaa-3aa7-4a84-a44e-530f18dcdc11\")>]\n"
     ]
    },
    {
     "name": "stderr",
     "output_type": "stream",
     "text": [
      "\n",
      "  9%|███████▌                                                                         | 14/150 [01:32<15:05,  6.66s/it]\u001b[A"
     ]
    },
    {
     "name": "stdout",
     "output_type": "stream",
     "text": [
      "[<selenium.webdriver.remote.webelement.WebElement (session=\"9dde711e96f51ab43a9fa71de8b148c0\", element=\"0b4f6c80-6b2b-4ee9-a782-33c5681e37f9\")>]\n"
     ]
    },
    {
     "name": "stderr",
     "output_type": "stream",
     "text": [
      "\n",
      " 10%|████████                                                                         | 15/150 [01:39<15:03,  6.69s/it]\u001b[A"
     ]
    },
    {
     "name": "stdout",
     "output_type": "stream",
     "text": [
      "[<selenium.webdriver.remote.webelement.WebElement (session=\"9dde711e96f51ab43a9fa71de8b148c0\", element=\"d8ad0a8a-ae38-4404-a26f-ec29c8b9b3ad\")>]\n"
     ]
    },
    {
     "name": "stderr",
     "output_type": "stream",
     "text": [
      "\n",
      " 11%|████████▋                                                                        | 16/150 [01:46<14:48,  6.63s/it]\u001b[A"
     ]
    },
    {
     "name": "stdout",
     "output_type": "stream",
     "text": [
      "[<selenium.webdriver.remote.webelement.WebElement (session=\"9dde711e96f51ab43a9fa71de8b148c0\", element=\"6ed138de-8482-46a1-83ae-776667722290\")>]\n"
     ]
    },
    {
     "name": "stderr",
     "output_type": "stream",
     "text": [
      "\n",
      " 11%|█████████▏                                                                       | 17/150 [01:52<14:41,  6.63s/it]\u001b[A"
     ]
    },
    {
     "name": "stdout",
     "output_type": "stream",
     "text": [
      "[<selenium.webdriver.remote.webelement.WebElement (session=\"9dde711e96f51ab43a9fa71de8b148c0\", element=\"f84e179c-f527-4303-84ad-f6fe0b092b58\")>]\n"
     ]
    },
    {
     "name": "stderr",
     "output_type": "stream",
     "text": [
      "\n",
      " 12%|█████████▋                                                                       | 18/150 [01:59<14:39,  6.66s/it]\u001b[A"
     ]
    },
    {
     "name": "stdout",
     "output_type": "stream",
     "text": [
      "[<selenium.webdriver.remote.webelement.WebElement (session=\"9dde711e96f51ab43a9fa71de8b148c0\", element=\"70904a47-b986-45eb-b7cf-fb5f329e4090\")>]\n"
     ]
    },
    {
     "name": "stderr",
     "output_type": "stream",
     "text": [
      "\n",
      " 13%|██████████▎                                                                      | 19/150 [02:06<14:39,  6.71s/it]\u001b[A"
     ]
    },
    {
     "name": "stdout",
     "output_type": "stream",
     "text": [
      "[<selenium.webdriver.remote.webelement.WebElement (session=\"9dde711e96f51ab43a9fa71de8b148c0\", element=\"93f2ab57-a857-412b-a52a-4bf203c0750d\")>]\n"
     ]
    },
    {
     "name": "stderr",
     "output_type": "stream",
     "text": [
      "\n",
      " 13%|██████████▊                                                                      | 20/150 [02:13<14:29,  6.69s/it]\u001b[A"
     ]
    },
    {
     "name": "stdout",
     "output_type": "stream",
     "text": [
      "[<selenium.webdriver.remote.webelement.WebElement (session=\"9dde711e96f51ab43a9fa71de8b148c0\", element=\"9b1b55cf-579b-4baa-adcb-316a8bc97591\")>]\n"
     ]
    },
    {
     "name": "stderr",
     "output_type": "stream",
     "text": [
      "\n",
      " 14%|███████████▎                                                                     | 21/150 [02:18<13:47,  6.41s/it]\u001b[A"
     ]
    },
    {
     "name": "stdout",
     "output_type": "stream",
     "text": [
      "[<selenium.webdriver.remote.webelement.WebElement (session=\"9dde711e96f51ab43a9fa71de8b148c0\", element=\"d6ccfe0b-df48-470d-90a5-fc7e1c5eb0a4\")>]\n"
     ]
    },
    {
     "name": "stderr",
     "output_type": "stream",
     "text": [
      "\n",
      " 15%|███████████▉                                                                     | 22/150 [02:25<14:00,  6.57s/it]\u001b[A"
     ]
    },
    {
     "name": "stdout",
     "output_type": "stream",
     "text": [
      "[<selenium.webdriver.remote.webelement.WebElement (session=\"9dde711e96f51ab43a9fa71de8b148c0\", element=\"5d5de16a-cc4e-4e95-afc7-0b15f0728a8d\")>]\n"
     ]
    },
    {
     "name": "stderr",
     "output_type": "stream",
     "text": [
      "\n",
      " 15%|████████████▍                                                                    | 23/150 [02:32<14:02,  6.64s/it]\u001b[A"
     ]
    },
    {
     "name": "stdout",
     "output_type": "stream",
     "text": [
      "[<selenium.webdriver.remote.webelement.WebElement (session=\"9dde711e96f51ab43a9fa71de8b148c0\", element=\"6842834b-9986-4bda-9174-fd3b5aff2c1b\")>]\n"
     ]
    },
    {
     "name": "stderr",
     "output_type": "stream",
     "text": [
      "\n",
      " 16%|████████████▉                                                                    | 24/150 [02:40<14:02,  6.68s/it]\u001b[A\n",
      " 15%|███████████▉                                                                   | 10/66 [32:20<2:28:28, 159.08s/it]\n",
      "  0%|                                                                                          | 0/150 [00:00<?, ?it/s]\u001b[A"
     ]
    },
    {
     "name": "stdout",
     "output_type": "stream",
     "text": [
      "[<selenium.webdriver.remote.webelement.WebElement (session=\"9dde711e96f51ab43a9fa71de8b148c0\", element=\"ec7bcc6b-83a5-449e-b862-3dadb6358c09\")>]\n"
     ]
    },
    {
     "name": "stderr",
     "output_type": "stream",
     "text": [
      "\n",
      "  1%|▌                                                                                 | 1/150 [00:06<17:15,  6.95s/it]\u001b[A"
     ]
    },
    {
     "name": "stdout",
     "output_type": "stream",
     "text": [
      "[<selenium.webdriver.remote.webelement.WebElement (session=\"9dde711e96f51ab43a9fa71de8b148c0\", element=\"5dbe65b3-6de1-42b9-be27-b6e23e72bae8\")>]\n"
     ]
    },
    {
     "name": "stderr",
     "output_type": "stream",
     "text": [
      "\n",
      "  1%|█                                                                                 | 2/150 [00:13<16:57,  6.87s/it]\u001b[A"
     ]
    },
    {
     "name": "stdout",
     "output_type": "stream",
     "text": [
      "[<selenium.webdriver.remote.webelement.WebElement (session=\"9dde711e96f51ab43a9fa71de8b148c0\", element=\"b4878202-d989-4b81-9cfc-d278141d28a2\")>]\n"
     ]
    },
    {
     "name": "stderr",
     "output_type": "stream",
     "text": [
      "\n",
      "  2%|█▋                                                                                | 3/150 [00:20<16:36,  6.78s/it]\u001b[A"
     ]
    },
    {
     "name": "stdout",
     "output_type": "stream",
     "text": [
      "[<selenium.webdriver.remote.webelement.WebElement (session=\"9dde711e96f51ab43a9fa71de8b148c0\", element=\"05aa4c77-8dd0-4043-8e24-604c8f742f63\")>]\n"
     ]
    },
    {
     "name": "stderr",
     "output_type": "stream",
     "text": [
      "\n",
      "  3%|██▏                                                                               | 4/150 [00:27<16:20,  6.72s/it]\u001b[A"
     ]
    },
    {
     "name": "stdout",
     "output_type": "stream",
     "text": [
      "[<selenium.webdriver.remote.webelement.WebElement (session=\"9dde711e96f51ab43a9fa71de8b148c0\", element=\"15105420-dcb7-4973-832c-7e2bb75ab6b6\")>]\n"
     ]
    },
    {
     "name": "stderr",
     "output_type": "stream",
     "text": [
      "\n",
      "  3%|██▋                                                                               | 5/150 [00:33<16:05,  6.66s/it]\u001b[A"
     ]
    },
    {
     "name": "stdout",
     "output_type": "stream",
     "text": [
      "[<selenium.webdriver.remote.webelement.WebElement (session=\"9dde711e96f51ab43a9fa71de8b148c0\", element=\"3159b3be-77ea-4e9e-81c1-273c5ee3475e\")>]\n"
     ]
    },
    {
     "name": "stderr",
     "output_type": "stream",
     "text": [
      "\n",
      "  4%|███▎                                                                              | 6/150 [00:40<16:02,  6.68s/it]\u001b[A"
     ]
    },
    {
     "name": "stdout",
     "output_type": "stream",
     "text": [
      "[<selenium.webdriver.remote.webelement.WebElement (session=\"9dde711e96f51ab43a9fa71de8b148c0\", element=\"35840f73-6a4a-42be-957a-a19821b0a46f\")>]\n"
     ]
    },
    {
     "name": "stderr",
     "output_type": "stream",
     "text": [
      "\n",
      "  5%|███▊                                                                              | 7/150 [00:47<16:05,  6.75s/it]\u001b[A"
     ]
    },
    {
     "name": "stdout",
     "output_type": "stream",
     "text": [
      "[<selenium.webdriver.remote.webelement.WebElement (session=\"9dde711e96f51ab43a9fa71de8b148c0\", element=\"49e4b1ae-ab45-40d2-be74-a5b43dc07087\")>]\n"
     ]
    },
    {
     "name": "stderr",
     "output_type": "stream",
     "text": [
      "\n",
      "  5%|████▎                                                                             | 8/150 [00:54<16:07,  6.82s/it]\u001b[A"
     ]
    },
    {
     "name": "stdout",
     "output_type": "stream",
     "text": [
      "[<selenium.webdriver.remote.webelement.WebElement (session=\"9dde711e96f51ab43a9fa71de8b148c0\", element=\"dae4be2c-f02a-4f57-849c-e5082a81d616\")>]\n"
     ]
    },
    {
     "name": "stderr",
     "output_type": "stream",
     "text": [
      "\n",
      "  6%|████▉                                                                             | 9/150 [01:00<15:54,  6.77s/it]\u001b[A"
     ]
    },
    {
     "name": "stdout",
     "output_type": "stream",
     "text": [
      "[<selenium.webdriver.remote.webelement.WebElement (session=\"9dde711e96f51ab43a9fa71de8b148c0\", element=\"494733c6-1e3a-4834-b698-ea282a35e7b1\")>]\n"
     ]
    },
    {
     "name": "stderr",
     "output_type": "stream",
     "text": [
      "\n",
      "  7%|█████▍                                                                           | 10/150 [01:07<15:40,  6.72s/it]\u001b[A"
     ]
    },
    {
     "name": "stdout",
     "output_type": "stream",
     "text": [
      "[<selenium.webdriver.remote.webelement.WebElement (session=\"9dde711e96f51ab43a9fa71de8b148c0\", element=\"4cac756a-4864-4cd0-8e9a-b3d7cf907d28\")>]\n"
     ]
    },
    {
     "name": "stderr",
     "output_type": "stream",
     "text": [
      "\n",
      "  7%|█████▉                                                                           | 11/150 [01:14<15:32,  6.71s/it]\u001b[A"
     ]
    },
    {
     "name": "stdout",
     "output_type": "stream",
     "text": [
      "[<selenium.webdriver.remote.webelement.WebElement (session=\"9dde711e96f51ab43a9fa71de8b148c0\", element=\"2850b1e4-8b96-4419-a7c4-e0979a6205e3\")>]\n"
     ]
    },
    {
     "name": "stderr",
     "output_type": "stream",
     "text": [
      "\n",
      "  8%|██████▍                                                                          | 12/150 [01:20<14:51,  6.46s/it]\u001b[A"
     ]
    },
    {
     "name": "stdout",
     "output_type": "stream",
     "text": [
      "[<selenium.webdriver.remote.webelement.WebElement (session=\"9dde711e96f51ab43a9fa71de8b148c0\", element=\"3086dd38-7e89-4749-9531-a9d5581737f5\")>]\n"
     ]
    },
    {
     "name": "stderr",
     "output_type": "stream",
     "text": [
      "\n",
      "  9%|███████                                                                          | 13/150 [01:26<14:52,  6.51s/it]\u001b[A"
     ]
    },
    {
     "name": "stdout",
     "output_type": "stream",
     "text": [
      "[<selenium.webdriver.remote.webelement.WebElement (session=\"9dde711e96f51ab43a9fa71de8b148c0\", element=\"920076d7-f3a1-4ccf-987d-0eae5a1228de\")>]\n"
     ]
    },
    {
     "name": "stderr",
     "output_type": "stream",
     "text": [
      "\n",
      "  9%|███████▌                                                                         | 14/150 [01:33<14:47,  6.53s/it]\u001b[A"
     ]
    },
    {
     "name": "stdout",
     "output_type": "stream",
     "text": [
      "[<selenium.webdriver.remote.webelement.WebElement (session=\"9dde711e96f51ab43a9fa71de8b148c0\", element=\"a441b954-9f9c-4328-880c-ef8f3ba16b97\")>]\n"
     ]
    },
    {
     "name": "stderr",
     "output_type": "stream",
     "text": [
      "\n",
      " 10%|████████                                                                         | 15/150 [01:39<14:49,  6.59s/it]\u001b[A"
     ]
    },
    {
     "name": "stdout",
     "output_type": "stream",
     "text": [
      "[<selenium.webdriver.remote.webelement.WebElement (session=\"9dde711e96f51ab43a9fa71de8b148c0\", element=\"70c16036-b89e-4db7-8e37-2adce07c1eed\")>]\n"
     ]
    },
    {
     "name": "stderr",
     "output_type": "stream",
     "text": [
      "\n",
      " 11%|████████▋                                                                        | 16/150 [01:46<14:44,  6.60s/it]\u001b[A"
     ]
    },
    {
     "name": "stdout",
     "output_type": "stream",
     "text": [
      "[<selenium.webdriver.remote.webelement.WebElement (session=\"9dde711e96f51ab43a9fa71de8b148c0\", element=\"86687798-a895-42c2-92de-55ed0230179a\")>]\n"
     ]
    },
    {
     "name": "stderr",
     "output_type": "stream",
     "text": [
      "\n",
      " 11%|█████████▏                                                                       | 17/150 [01:53<14:38,  6.61s/it]\u001b[A"
     ]
    },
    {
     "name": "stdout",
     "output_type": "stream",
     "text": [
      "[<selenium.webdriver.remote.webelement.WebElement (session=\"9dde711e96f51ab43a9fa71de8b148c0\", element=\"c058e7f1-5b4f-4b15-9576-b0165c272edc\")>]\n"
     ]
    },
    {
     "name": "stderr",
     "output_type": "stream",
     "text": [
      "\n",
      " 12%|█████████▋                                                                       | 18/150 [02:00<14:42,  6.69s/it]\u001b[A"
     ]
    },
    {
     "name": "stdout",
     "output_type": "stream",
     "text": [
      "[<selenium.webdriver.remote.webelement.WebElement (session=\"9dde711e96f51ab43a9fa71de8b148c0\", element=\"4fe5a090-bd77-4a8d-99f7-b638339c1ad6\")>]\n"
     ]
    },
    {
     "name": "stderr",
     "output_type": "stream",
     "text": [
      "\n",
      " 13%|██████████▎                                                                      | 19/150 [02:06<14:29,  6.64s/it]\u001b[A"
     ]
    },
    {
     "name": "stdout",
     "output_type": "stream",
     "text": [
      "[<selenium.webdriver.remote.webelement.WebElement (session=\"9dde711e96f51ab43a9fa71de8b148c0\", element=\"8cea837e-9f8d-47d9-ac5f-edef624b79ba\")>]\n"
     ]
    },
    {
     "name": "stderr",
     "output_type": "stream",
     "text": [
      "\n",
      " 13%|██████████▊                                                                      | 20/150 [02:13<14:32,  6.71s/it]\u001b[A"
     ]
    },
    {
     "name": "stdout",
     "output_type": "stream",
     "text": [
      "[<selenium.webdriver.remote.webelement.WebElement (session=\"9dde711e96f51ab43a9fa71de8b148c0\", element=\"76b5563a-ad4d-4289-8ac4-445f1efc9169\")>]\n"
     ]
    },
    {
     "name": "stderr",
     "output_type": "stream",
     "text": [
      "\n",
      " 14%|███████████▎                                                                     | 21/150 [02:20<14:23,  6.70s/it]\u001b[A"
     ]
    },
    {
     "name": "stdout",
     "output_type": "stream",
     "text": [
      "[<selenium.webdriver.remote.webelement.WebElement (session=\"9dde711e96f51ab43a9fa71de8b148c0\", element=\"aaa0af96-9b1c-4601-911f-a10dbb075bed\")>]\n"
     ]
    },
    {
     "name": "stderr",
     "output_type": "stream",
     "text": [
      "\n",
      " 15%|███████████▉                                                                     | 22/150 [02:28<14:22,  6.74s/it]\u001b[A\n",
      " 17%|█████████████▏                                                                 | 11/66 [34:48<2:22:47, 155.76s/it]\n",
      "  0%|                                                                                          | 0/150 [00:00<?, ?it/s]\u001b[A"
     ]
    },
    {
     "name": "stdout",
     "output_type": "stream",
     "text": [
      "[<selenium.webdriver.remote.webelement.WebElement (session=\"9dde711e96f51ab43a9fa71de8b148c0\", element=\"c43e6cd8-deee-4c09-a805-15ef5b2ec0bd\")>]\n"
     ]
    },
    {
     "name": "stderr",
     "output_type": "stream",
     "text": [
      "\n",
      "  1%|▌                                                                                 | 1/150 [00:06<15:55,  6.41s/it]\u001b[A"
     ]
    },
    {
     "name": "stdout",
     "output_type": "stream",
     "text": [
      "[<selenium.webdriver.remote.webelement.WebElement (session=\"9dde711e96f51ab43a9fa71de8b148c0\", element=\"d3020468-34c5-423d-85d9-66d0b33c34fb\")>]\n"
     ]
    },
    {
     "name": "stderr",
     "output_type": "stream",
     "text": [
      "\n",
      "  1%|█                                                                                 | 2/150 [00:12<15:59,  6.48s/it]\u001b[A"
     ]
    },
    {
     "name": "stdout",
     "output_type": "stream",
     "text": [
      "[<selenium.webdriver.remote.webelement.WebElement (session=\"9dde711e96f51ab43a9fa71de8b148c0\", element=\"b6a7a275-cf98-402c-9707-06901d9c36f8\")>]\n"
     ]
    },
    {
     "name": "stderr",
     "output_type": "stream",
     "text": [
      "\n",
      "  2%|█▋                                                                                | 3/150 [00:19<15:58,  6.52s/it]\u001b[A"
     ]
    },
    {
     "name": "stdout",
     "output_type": "stream",
     "text": [
      "[<selenium.webdriver.remote.webelement.WebElement (session=\"9dde711e96f51ab43a9fa71de8b148c0\", element=\"58dbb8d8-d158-469c-8c7c-c95723219c1b\")>]\n"
     ]
    },
    {
     "name": "stderr",
     "output_type": "stream",
     "text": [
      "\n",
      "  3%|██▏                                                                               | 4/150 [00:27<17:07,  7.04s/it]\u001b[A"
     ]
    },
    {
     "name": "stdout",
     "output_type": "stream",
     "text": [
      "[<selenium.webdriver.remote.webelement.WebElement (session=\"9dde711e96f51ab43a9fa71de8b148c0\", element=\"b8bd5670-d557-4d6b-ac77-aa0160fba251\")>]\n"
     ]
    },
    {
     "name": "stderr",
     "output_type": "stream",
     "text": [
      "\n",
      "  3%|██▋                                                                               | 5/150 [00:33<16:38,  6.89s/it]\u001b[A"
     ]
    },
    {
     "name": "stdout",
     "output_type": "stream",
     "text": [
      "[<selenium.webdriver.remote.webelement.WebElement (session=\"9dde711e96f51ab43a9fa71de8b148c0\", element=\"be8093d6-2a7b-4bb0-a88f-74a5d380f015\")>]\n"
     ]
    },
    {
     "name": "stderr",
     "output_type": "stream",
     "text": [
      "\n",
      "  4%|███▎                                                                              | 6/150 [00:40<16:19,  6.80s/it]\u001b[A"
     ]
    },
    {
     "name": "stdout",
     "output_type": "stream",
     "text": [
      "[<selenium.webdriver.remote.webelement.WebElement (session=\"9dde711e96f51ab43a9fa71de8b148c0\", element=\"a7dda597-938e-4727-910b-0b2ededf9ce9\")>]\n"
     ]
    },
    {
     "name": "stderr",
     "output_type": "stream",
     "text": [
      "\n",
      "  5%|███▊                                                                              | 7/150 [00:47<16:00,  6.71s/it]\u001b[A"
     ]
    },
    {
     "name": "stdout",
     "output_type": "stream",
     "text": [
      "[<selenium.webdriver.remote.webelement.WebElement (session=\"9dde711e96f51ab43a9fa71de8b148c0\", element=\"ed2d6a5d-2101-42a4-9224-a08f08650ca2\")>]\n"
     ]
    },
    {
     "name": "stderr",
     "output_type": "stream",
     "text": [
      "\n",
      "  5%|████▎                                                                             | 8/150 [00:53<15:49,  6.69s/it]\u001b[A"
     ]
    },
    {
     "name": "stdout",
     "output_type": "stream",
     "text": [
      "[<selenium.webdriver.remote.webelement.WebElement (session=\"9dde711e96f51ab43a9fa71de8b148c0\", element=\"1e441581-cf05-49cb-b737-3b4c2785d581\")>]\n"
     ]
    },
    {
     "name": "stderr",
     "output_type": "stream",
     "text": [
      "\n",
      "  6%|████▉                                                                             | 9/150 [01:00<15:44,  6.70s/it]\u001b[A"
     ]
    },
    {
     "name": "stdout",
     "output_type": "stream",
     "text": [
      "[<selenium.webdriver.remote.webelement.WebElement (session=\"9dde711e96f51ab43a9fa71de8b148c0\", element=\"57a42457-5f4d-454f-93bd-f1b4d3f98bde\")>]\n"
     ]
    },
    {
     "name": "stderr",
     "output_type": "stream",
     "text": [
      "\n",
      "  7%|█████▍                                                                           | 10/150 [01:07<15:36,  6.69s/it]\u001b[A"
     ]
    },
    {
     "name": "stdout",
     "output_type": "stream",
     "text": [
      "[<selenium.webdriver.remote.webelement.WebElement (session=\"9dde711e96f51ab43a9fa71de8b148c0\", element=\"2fc4592d-e5f8-4277-b8a8-dd60d0daf101\")>]\n"
     ]
    },
    {
     "name": "stderr",
     "output_type": "stream",
     "text": [
      "\n",
      "  7%|█████▉                                                                           | 11/150 [01:13<15:22,  6.63s/it]\u001b[A"
     ]
    },
    {
     "name": "stdout",
     "output_type": "stream",
     "text": [
      "[<selenium.webdriver.remote.webelement.WebElement (session=\"9dde711e96f51ab43a9fa71de8b148c0\", element=\"8c3da68b-5a90-4f94-a5d3-33c46fc4bdc1\")>]\n"
     ]
    },
    {
     "name": "stderr",
     "output_type": "stream",
     "text": [
      "\n",
      "  8%|██████▍                                                                          | 12/150 [01:21<15:56,  6.93s/it]\u001b[A"
     ]
    },
    {
     "name": "stdout",
     "output_type": "stream",
     "text": [
      "[<selenium.webdriver.remote.webelement.WebElement (session=\"9dde711e96f51ab43a9fa71de8b148c0\", element=\"22952867-8bbb-4e7b-b4f8-1d63e6dddb5c\")>]\n"
     ]
    },
    {
     "name": "stderr",
     "output_type": "stream",
     "text": [
      "\n",
      "  9%|███████                                                                          | 13/150 [01:27<15:35,  6.83s/it]\u001b[A"
     ]
    },
    {
     "name": "stdout",
     "output_type": "stream",
     "text": [
      "[<selenium.webdriver.remote.webelement.WebElement (session=\"9dde711e96f51ab43a9fa71de8b148c0\", element=\"4e6618c6-1dc2-4854-82bd-6e54276ef576\")>]\n"
     ]
    },
    {
     "name": "stderr",
     "output_type": "stream",
     "text": [
      "\n",
      "  9%|███████▌                                                                         | 14/150 [01:34<15:17,  6.74s/it]\u001b[A"
     ]
    },
    {
     "name": "stdout",
     "output_type": "stream",
     "text": [
      "[<selenium.webdriver.remote.webelement.WebElement (session=\"9dde711e96f51ab43a9fa71de8b148c0\", element=\"1a542444-d082-4cd4-b3b6-7d3b33be398c\")>]\n"
     ]
    },
    {
     "name": "stderr",
     "output_type": "stream",
     "text": [
      "\n",
      " 10%|████████                                                                         | 15/150 [01:41<15:08,  6.73s/it]\u001b[A"
     ]
    },
    {
     "name": "stdout",
     "output_type": "stream",
     "text": [
      "[<selenium.webdriver.remote.webelement.WebElement (session=\"9dde711e96f51ab43a9fa71de8b148c0\", element=\"e47cd0dd-1b94-486e-afb5-3cedc4540d24\")>]\n"
     ]
    },
    {
     "name": "stderr",
     "output_type": "stream",
     "text": [
      "\n",
      " 11%|████████▋                                                                        | 16/150 [01:47<14:55,  6.68s/it]\u001b[A"
     ]
    },
    {
     "name": "stdout",
     "output_type": "stream",
     "text": [
      "[<selenium.webdriver.remote.webelement.WebElement (session=\"9dde711e96f51ab43a9fa71de8b148c0\", element=\"1b5cbff3-9232-43b6-817d-c01fdef8d0fc\")>]\n"
     ]
    },
    {
     "name": "stderr",
     "output_type": "stream",
     "text": [
      "\n",
      " 11%|█████████▏                                                                       | 17/150 [01:54<14:51,  6.71s/it]\u001b[A"
     ]
    },
    {
     "name": "stdout",
     "output_type": "stream",
     "text": [
      "[<selenium.webdriver.remote.webelement.WebElement (session=\"9dde711e96f51ab43a9fa71de8b148c0\", element=\"4bf4b6a3-e75a-4671-b83c-5b754c88ccc8\")>]\n"
     ]
    },
    {
     "name": "stderr",
     "output_type": "stream",
     "text": [
      "\n",
      " 12%|█████████▋                                                                       | 18/150 [02:01<14:48,  6.73s/it]\u001b[A"
     ]
    },
    {
     "name": "stdout",
     "output_type": "stream",
     "text": [
      "[<selenium.webdriver.remote.webelement.WebElement (session=\"9dde711e96f51ab43a9fa71de8b148c0\", element=\"1cc03f32-853b-40d4-a520-1ab6260f7608\")>]\n"
     ]
    },
    {
     "name": "stderr",
     "output_type": "stream",
     "text": [
      "\n",
      " 13%|██████████▎                                                                      | 19/150 [02:07<14:09,  6.48s/it]\u001b[A"
     ]
    },
    {
     "name": "stdout",
     "output_type": "stream",
     "text": [
      "[<selenium.webdriver.remote.webelement.WebElement (session=\"9dde711e96f51ab43a9fa71de8b148c0\", element=\"3648e01c-a050-4bd9-a4fa-219048faa650\")>]\n"
     ]
    },
    {
     "name": "stderr",
     "output_type": "stream",
     "text": [
      "\n",
      " 13%|██████████▊                                                                      | 20/150 [02:13<14:03,  6.49s/it]\u001b[A"
     ]
    },
    {
     "name": "stdout",
     "output_type": "stream",
     "text": [
      "[<selenium.webdriver.remote.webelement.WebElement (session=\"9dde711e96f51ab43a9fa71de8b148c0\", element=\"2b9f8a7b-7dbe-4397-8262-74a008061387\")>]\n"
     ]
    },
    {
     "name": "stderr",
     "output_type": "stream",
     "text": [
      "\n",
      " 14%|███████████▎                                                                     | 21/150 [02:21<14:38,  6.81s/it]\u001b[A"
     ]
    },
    {
     "name": "stdout",
     "output_type": "stream",
     "text": [
      "[<selenium.webdriver.remote.webelement.WebElement (session=\"9dde711e96f51ab43a9fa71de8b148c0\", element=\"361fbb20-263b-4452-9e6e-e95fff418c94\")>]\n"
     ]
    },
    {
     "name": "stderr",
     "output_type": "stream",
     "text": [
      "\n",
      " 15%|███████████▉                                                                     | 22/150 [02:27<14:22,  6.74s/it]\u001b[A"
     ]
    },
    {
     "name": "stdout",
     "output_type": "stream",
     "text": [
      "[<selenium.webdriver.remote.webelement.WebElement (session=\"9dde711e96f51ab43a9fa71de8b148c0\", element=\"6e425f33-8628-432f-bfa9-e55aeea761ab\")>]\n"
     ]
    },
    {
     "name": "stderr",
     "output_type": "stream",
     "text": [
      "\n",
      " 15%|████████████▍                                                                    | 23/150 [02:34<14:14,  6.73s/it]\u001b[A"
     ]
    },
    {
     "name": "stdout",
     "output_type": "stream",
     "text": [
      "[<selenium.webdriver.remote.webelement.WebElement (session=\"9dde711e96f51ab43a9fa71de8b148c0\", element=\"cd5f5278-baa9-4e44-9768-0eea6d2ceed6\")>]\n"
     ]
    },
    {
     "name": "stderr",
     "output_type": "stream",
     "text": [
      "\n",
      " 16%|████████████▉                                                                    | 24/150 [02:41<14:01,  6.68s/it]\u001b[A"
     ]
    },
    {
     "name": "stdout",
     "output_type": "stream",
     "text": [
      "[<selenium.webdriver.remote.webelement.WebElement (session=\"9dde711e96f51ab43a9fa71de8b148c0\", element=\"f892f029-974a-4267-828b-efea84cbbdfa\")>]\n"
     ]
    },
    {
     "name": "stderr",
     "output_type": "stream",
     "text": [
      "\n",
      " 17%|█████████████▌                                                                   | 25/150 [02:48<14:03,  6.75s/it]\u001b[A\n",
      " 18%|██████████████▎                                                                | 12/66 [37:37<2:23:43, 159.70s/it]\n",
      "  0%|                                                                                          | 0/150 [00:00<?, ?it/s]\u001b[A"
     ]
    },
    {
     "name": "stdout",
     "output_type": "stream",
     "text": [
      "[<selenium.webdriver.remote.webelement.WebElement (session=\"9dde711e96f51ab43a9fa71de8b148c0\", element=\"2d55158c-6afe-4b4e-9a81-6507ade80ec6\")>]\n"
     ]
    },
    {
     "name": "stderr",
     "output_type": "stream",
     "text": [
      "\n",
      "  1%|▌                                                                                 | 1/150 [00:07<19:10,  7.72s/it]\u001b[A"
     ]
    },
    {
     "name": "stdout",
     "output_type": "stream",
     "text": [
      "[<selenium.webdriver.remote.webelement.WebElement (session=\"9dde711e96f51ab43a9fa71de8b148c0\", element=\"91d6d4ab-0bb2-4cf4-95c0-fde137a2833a\")>]\n"
     ]
    },
    {
     "name": "stderr",
     "output_type": "stream",
     "text": [
      "\n",
      "  1%|█                                                                                 | 2/150 [00:14<17:52,  7.24s/it]\u001b[A"
     ]
    },
    {
     "name": "stdout",
     "output_type": "stream",
     "text": [
      "[<selenium.webdriver.remote.webelement.WebElement (session=\"9dde711e96f51ab43a9fa71de8b148c0\", element=\"83fe57f0-c52d-4445-8c56-ba77fc4c4229\")>]\n"
     ]
    },
    {
     "name": "stderr",
     "output_type": "stream",
     "text": [
      "\n",
      "  2%|█▋                                                                                | 3/150 [00:21<16:59,  6.93s/it]\u001b[A"
     ]
    },
    {
     "name": "stdout",
     "output_type": "stream",
     "text": [
      "[<selenium.webdriver.remote.webelement.WebElement (session=\"9dde711e96f51ab43a9fa71de8b148c0\", element=\"b577bf64-823b-4926-a1b3-972b4ec83a02\")>]\n"
     ]
    },
    {
     "name": "stderr",
     "output_type": "stream",
     "text": [
      "\n",
      "  3%|██▏                                                                               | 4/150 [00:28<16:45,  6.88s/it]\u001b[A"
     ]
    },
    {
     "name": "stdout",
     "output_type": "stream",
     "text": [
      "[<selenium.webdriver.remote.webelement.WebElement (session=\"9dde711e96f51ab43a9fa71de8b148c0\", element=\"029ab5d5-d524-40d5-908f-fa5caaf090ed\")>]\n"
     ]
    },
    {
     "name": "stderr",
     "output_type": "stream",
     "text": [
      "\n",
      "  3%|██▋                                                                               | 5/150 [00:34<16:19,  6.76s/it]\u001b[A"
     ]
    },
    {
     "name": "stdout",
     "output_type": "stream",
     "text": [
      "[<selenium.webdriver.remote.webelement.WebElement (session=\"9dde711e96f51ab43a9fa71de8b148c0\", element=\"d05b1b4f-e131-40d0-8c11-08f648207b5e\")>]\n"
     ]
    },
    {
     "name": "stderr",
     "output_type": "stream",
     "text": [
      "\n",
      "  4%|███▎                                                                              | 6/150 [00:41<16:32,  6.89s/it]\u001b[A"
     ]
    },
    {
     "name": "stdout",
     "output_type": "stream",
     "text": [
      "[<selenium.webdriver.remote.webelement.WebElement (session=\"9dde711e96f51ab43a9fa71de8b148c0\", element=\"62a7fbed-07e8-45f8-9d00-a8b91e6434fc\")>]\n"
     ]
    },
    {
     "name": "stderr",
     "output_type": "stream",
     "text": [
      "\n",
      "  5%|███▊                                                                              | 7/150 [00:48<16:21,  6.86s/it]\u001b[A"
     ]
    },
    {
     "name": "stdout",
     "output_type": "stream",
     "text": [
      "[<selenium.webdriver.remote.webelement.WebElement (session=\"9dde711e96f51ab43a9fa71de8b148c0\", element=\"f4f60320-c21a-4995-997e-b8b95be0f332\")>]\n"
     ]
    },
    {
     "name": "stderr",
     "output_type": "stream",
     "text": [
      "\n",
      "  5%|████▎                                                                             | 8/150 [00:55<16:09,  6.83s/it]\u001b[A"
     ]
    },
    {
     "name": "stdout",
     "output_type": "stream",
     "text": [
      "[<selenium.webdriver.remote.webelement.WebElement (session=\"9dde711e96f51ab43a9fa71de8b148c0\", element=\"593c3fe8-25f8-4429-bcd9-052c6f0b805b\")>]\n"
     ]
    },
    {
     "name": "stderr",
     "output_type": "stream",
     "text": [
      "\n",
      "  6%|████▉                                                                             | 9/150 [01:03<16:47,  7.15s/it]\u001b[A\n",
      "  7%|█████▍                                                                           | 10/150 [01:09<16:10,  6.93s/it]\u001b[A"
     ]
    },
    {
     "name": "stdout",
     "output_type": "stream",
     "text": [
      "[<selenium.webdriver.remote.webelement.WebElement (session=\"9dde711e96f51ab43a9fa71de8b148c0\", element=\"22c40af6-835f-4fda-abf5-19d7f7a6c500\")>]\n",
      "[<selenium.webdriver.remote.webelement.WebElement (session=\"9dde711e96f51ab43a9fa71de8b148c0\", element=\"95f8c433-b808-415d-b1e6-0e4c8c31073c\")>]\n"
     ]
    },
    {
     "name": "stderr",
     "output_type": "stream",
     "text": [
      "\n",
      "  7%|█████▉                                                                           | 11/150 [01:16<15:59,  6.90s/it]\u001b[A"
     ]
    },
    {
     "name": "stdout",
     "output_type": "stream",
     "text": [
      "[<selenium.webdriver.remote.webelement.WebElement (session=\"9dde711e96f51ab43a9fa71de8b148c0\", element=\"1c254963-400e-421f-b431-6df928eec523\")>]\n"
     ]
    },
    {
     "name": "stderr",
     "output_type": "stream",
     "text": [
      "\n",
      "  8%|██████▍                                                                          | 12/150 [01:23<15:44,  6.85s/it]\u001b[A\n",
      "  9%|███████                                                                          | 13/150 [01:29<15:25,  6.75s/it]\u001b[A"
     ]
    },
    {
     "name": "stdout",
     "output_type": "stream",
     "text": [
      "[<selenium.webdriver.remote.webelement.WebElement (session=\"9dde711e96f51ab43a9fa71de8b148c0\", element=\"86cc2ab2-0b4a-4d56-b83f-5c3b865d5b32\")>]\n",
      "[<selenium.webdriver.remote.webelement.WebElement (session=\"9dde711e96f51ab43a9fa71de8b148c0\", element=\"8ed1cef2-2e12-496c-8c67-550651798666\")>]\n"
     ]
    },
    {
     "name": "stderr",
     "output_type": "stream",
     "text": [
      "\n",
      "  9%|███████▌                                                                         | 14/150 [01:37<15:48,  6.97s/it]\u001b[A"
     ]
    },
    {
     "name": "stdout",
     "output_type": "stream",
     "text": [
      "[<selenium.webdriver.remote.webelement.WebElement (session=\"9dde711e96f51ab43a9fa71de8b148c0\", element=\"e64f0df3-fd8a-4cc3-84ab-35d3086fa3e3\")>]\n"
     ]
    },
    {
     "name": "stderr",
     "output_type": "stream",
     "text": [
      "\n",
      " 10%|████████                                                                         | 15/150 [01:43<15:29,  6.89s/it]\u001b[A"
     ]
    },
    {
     "name": "stdout",
     "output_type": "stream",
     "text": [
      "[<selenium.webdriver.remote.webelement.WebElement (session=\"9dde711e96f51ab43a9fa71de8b148c0\", element=\"439a2b58-f160-497a-b752-0968806c1937\")>]\n"
     ]
    },
    {
     "name": "stderr",
     "output_type": "stream",
     "text": [
      "\n",
      " 11%|████████▋                                                                        | 16/150 [01:50<15:27,  6.92s/it]\u001b[A"
     ]
    },
    {
     "name": "stdout",
     "output_type": "stream",
     "text": [
      "[<selenium.webdriver.remote.webelement.WebElement (session=\"9dde711e96f51ab43a9fa71de8b148c0\", element=\"f07ce594-6924-4e9e-80f4-699da6c8293e\")>]\n"
     ]
    },
    {
     "name": "stderr",
     "output_type": "stream",
     "text": [
      "\n",
      " 11%|█████████▏                                                                       | 17/150 [01:57<15:06,  6.82s/it]\u001b[A\n"
     ]
    },
    {
     "name": "stdout",
     "output_type": "stream",
     "text": [
      "[<selenium.webdriver.remote.webelement.WebElement (session=\"9dde711e96f51ab43a9fa71de8b148c0\", element=\"d32c8b5c-7ecb-46c1-82f5-2f23d12158a4\")>]\n"
     ]
    },
    {
     "name": "stderr",
     "output_type": "stream",
     "text": [
      " 12%|█████████▋                                                                       | 18/150 [02:03<14:47,  6.72s/it]\u001b[A"
     ]
    },
    {
     "name": "stdout",
     "output_type": "stream",
     "text": [
      "[<selenium.webdriver.remote.webelement.WebElement (session=\"9dde711e96f51ab43a9fa71de8b148c0\", element=\"84b21fd3-76b0-4f0c-ad7a-a59464873192\")>]\n"
     ]
    },
    {
     "name": "stderr",
     "output_type": "stream",
     "text": [
      "\n",
      " 13%|██████████▎                                                                      | 19/150 [02:10<14:30,  6.65s/it]\u001b[A\n",
      " 13%|██████████▊                                                                      | 20/150 [02:16<14:09,  6.54s/it]\u001b[A"
     ]
    },
    {
     "name": "stdout",
     "output_type": "stream",
     "text": [
      "[<selenium.webdriver.remote.webelement.WebElement (session=\"9dde711e96f51ab43a9fa71de8b148c0\", element=\"a60b2ffb-0043-4868-965a-641a9664ccb0\")>]\n",
      "[<selenium.webdriver.remote.webelement.WebElement (session=\"9dde711e96f51ab43a9fa71de8b148c0\", element=\"74c0955b-59f9-45c0-b082-f59b14cfe3cb\")>]\n"
     ]
    },
    {
     "name": "stderr",
     "output_type": "stream",
     "text": [
      "\n",
      " 14%|███████████▎                                                                     | 21/150 [02:23<14:07,  6.57s/it]\u001b[A"
     ]
    },
    {
     "name": "stdout",
     "output_type": "stream",
     "text": [
      "[<selenium.webdriver.remote.webelement.WebElement (session=\"9dde711e96f51ab43a9fa71de8b148c0\", element=\"de31e50a-9572-458f-84c8-fd0058005793\")>]\n"
     ]
    },
    {
     "name": "stderr",
     "output_type": "stream",
     "text": [
      "\n",
      " 15%|███████████▉                                                                     | 22/150 [02:29<13:29,  6.33s/it]\u001b[A"
     ]
    },
    {
     "name": "stdout",
     "output_type": "stream",
     "text": [
      "[<selenium.webdriver.remote.webelement.WebElement (session=\"9dde711e96f51ab43a9fa71de8b148c0\", element=\"354621a4-1c5f-4b9d-8a2a-44df127fc775\")>]\n"
     ]
    },
    {
     "name": "stderr",
     "output_type": "stream",
     "text": [
      "\n",
      " 15%|████████████▍                                                                    | 23/150 [02:35<13:36,  6.43s/it]\u001b[A"
     ]
    },
    {
     "name": "stdout",
     "output_type": "stream",
     "text": [
      "[<selenium.webdriver.remote.webelement.WebElement (session=\"9dde711e96f51ab43a9fa71de8b148c0\", element=\"d7508e1b-0297-4f36-b8ff-c15905a04e03\")>]\n"
     ]
    },
    {
     "name": "stderr",
     "output_type": "stream",
     "text": [
      "\n",
      " 16%|████████████▉                                                                    | 24/150 [02:42<13:36,  6.48s/it]\u001b[A"
     ]
    },
    {
     "name": "stdout",
     "output_type": "stream",
     "text": [
      "[<selenium.webdriver.remote.webelement.WebElement (session=\"9dde711e96f51ab43a9fa71de8b148c0\", element=\"fb4689df-f587-42f1-b9f2-f6da530737dc\")>]\n"
     ]
    },
    {
     "name": "stderr",
     "output_type": "stream",
     "text": [
      "\n",
      " 17%|█████████████▌                                                                   | 25/150 [02:48<13:34,  6.52s/it]\u001b[A"
     ]
    },
    {
     "name": "stdout",
     "output_type": "stream",
     "text": [
      "[<selenium.webdriver.remote.webelement.WebElement (session=\"9dde711e96f51ab43a9fa71de8b148c0\", element=\"b708c410-0f47-4ddd-83b4-bb89240d054a\")>]\n"
     ]
    },
    {
     "name": "stderr",
     "output_type": "stream",
     "text": [
      "\n",
      " 17%|██████████████                                                                   | 26/150 [02:55<13:29,  6.53s/it]\u001b[A"
     ]
    },
    {
     "name": "stdout",
     "output_type": "stream",
     "text": [
      "[<selenium.webdriver.remote.webelement.WebElement (session=\"9dde711e96f51ab43a9fa71de8b148c0\", element=\"f33c99f0-7ad7-4307-acf4-acb3f6e30f85\")>]\n"
     ]
    },
    {
     "name": "stderr",
     "output_type": "stream",
     "text": [
      "\n",
      " 18%|██████████████▌                                                                  | 27/150 [03:02<13:29,  6.58s/it]\u001b[A"
     ]
    },
    {
     "name": "stdout",
     "output_type": "stream",
     "text": [
      "[<selenium.webdriver.remote.webelement.WebElement (session=\"9dde711e96f51ab43a9fa71de8b148c0\", element=\"254169e6-b1c1-4cfe-9070-f60967bbca82\")>]\n"
     ]
    },
    {
     "name": "stderr",
     "output_type": "stream",
     "text": [
      "\n",
      " 19%|███████████████                                                                  | 28/150 [03:08<13:22,  6.58s/it]\u001b[A"
     ]
    },
    {
     "name": "stdout",
     "output_type": "stream",
     "text": [
      "[<selenium.webdriver.remote.webelement.WebElement (session=\"9dde711e96f51ab43a9fa71de8b148c0\", element=\"70c42b0a-05fe-459a-af6a-12e84b4e0d71\")>]\n"
     ]
    },
    {
     "name": "stderr",
     "output_type": "stream",
     "text": [
      "\n",
      " 19%|███████████████▋                                                                 | 29/150 [03:17<13:44,  6.81s/it]\u001b[A\n",
      " 20%|███████████████▌                                                               | 13/66 [40:54<2:31:12, 171.18s/it]\n",
      "  0%|                                                                                          | 0/150 [00:00<?, ?it/s]\u001b[A\n"
     ]
    },
    {
     "name": "stdout",
     "output_type": "stream",
     "text": [
      "[<selenium.webdriver.remote.webelement.WebElement (session=\"9dde711e96f51ab43a9fa71de8b148c0\", element=\"f1da1243-c4ba-42ab-aef7-67d1218d6d77\")>]\n"
     ]
    },
    {
     "name": "stderr",
     "output_type": "stream",
     "text": [
      "  1%|▌                                                                                 | 1/150 [00:06<15:50,  6.38s/it]\u001b[A"
     ]
    },
    {
     "name": "stdout",
     "output_type": "stream",
     "text": [
      "[<selenium.webdriver.remote.webelement.WebElement (session=\"9dde711e96f51ab43a9fa71de8b148c0\", element=\"69eb9769-2c20-4d18-ba78-72da36b40bc1\")>]\n"
     ]
    },
    {
     "name": "stderr",
     "output_type": "stream",
     "text": [
      "\n",
      "  1%|█                                                                                 | 2/150 [00:12<16:00,  6.49s/it]\u001b[A"
     ]
    },
    {
     "name": "stdout",
     "output_type": "stream",
     "text": [
      "[<selenium.webdriver.remote.webelement.WebElement (session=\"9dde711e96f51ab43a9fa71de8b148c0\", element=\"fc317844-2a53-4aea-937d-55dc10a890ee\")>]\n"
     ]
    },
    {
     "name": "stderr",
     "output_type": "stream",
     "text": [
      "\n",
      "  2%|█▋                                                                                | 3/150 [00:19<15:51,  6.48s/it]\u001b[A"
     ]
    },
    {
     "name": "stdout",
     "output_type": "stream",
     "text": [
      "[<selenium.webdriver.remote.webelement.WebElement (session=\"9dde711e96f51ab43a9fa71de8b148c0\", element=\"b95d9792-f8f1-4853-8d16-c4bafbd7deb2\")>]\n"
     ]
    },
    {
     "name": "stderr",
     "output_type": "stream",
     "text": [
      "\n",
      "  3%|██▏                                                                               | 4/150 [00:26<15:53,  6.53s/it]\u001b[A\n",
      "  3%|██▋                                                                               | 5/150 [00:31<15:04,  6.24s/it]\u001b[A"
     ]
    },
    {
     "name": "stdout",
     "output_type": "stream",
     "text": [
      "[<selenium.webdriver.remote.webelement.WebElement (session=\"9dde711e96f51ab43a9fa71de8b148c0\", element=\"bf5278bb-b048-4753-b6fe-b16fb536eb32\")>]\n",
      "[<selenium.webdriver.remote.webelement.WebElement (session=\"9dde711e96f51ab43a9fa71de8b148c0\", element=\"ef6a482d-a3c4-4fb1-9442-f6849d9a0dd5\")>]\n"
     ]
    },
    {
     "name": "stderr",
     "output_type": "stream",
     "text": [
      "\n",
      "  4%|███▎                                                                              | 6/150 [00:37<14:46,  6.16s/it]\u001b[A"
     ]
    },
    {
     "name": "stdout",
     "output_type": "stream",
     "text": [
      "[<selenium.webdriver.remote.webelement.WebElement (session=\"9dde711e96f51ab43a9fa71de8b148c0\", element=\"4a08a212-8fd3-4c27-8e0c-3887574c74be\")>]\n"
     ]
    },
    {
     "name": "stderr",
     "output_type": "stream",
     "text": [
      "\n",
      "  5%|███▊                                                                              | 7/150 [00:44<14:52,  6.24s/it]\u001b[A"
     ]
    },
    {
     "name": "stdout",
     "output_type": "stream",
     "text": [
      "[<selenium.webdriver.remote.webelement.WebElement (session=\"9dde711e96f51ab43a9fa71de8b148c0\", element=\"9454ce41-a834-4224-894f-b30ce04d80a8\")>]\n"
     ]
    },
    {
     "name": "stderr",
     "output_type": "stream",
     "text": [
      "\n",
      "  5%|████▎                                                                             | 8/150 [00:50<15:00,  6.34s/it]\u001b[A"
     ]
    },
    {
     "name": "stdout",
     "output_type": "stream",
     "text": [
      "[<selenium.webdriver.remote.webelement.WebElement (session=\"9dde711e96f51ab43a9fa71de8b148c0\", element=\"edff636a-be64-46c0-b304-b1c87ad83403\")>]\n"
     ]
    },
    {
     "name": "stderr",
     "output_type": "stream",
     "text": [
      "\n",
      "  6%|████▉                                                                             | 9/150 [00:57<15:03,  6.41s/it]\u001b[A"
     ]
    },
    {
     "name": "stdout",
     "output_type": "stream",
     "text": [
      "[<selenium.webdriver.remote.webelement.WebElement (session=\"9dde711e96f51ab43a9fa71de8b148c0\", element=\"fea81848-fc8e-4f12-8572-eb3fe468c4d9\")>]\n"
     ]
    },
    {
     "name": "stderr",
     "output_type": "stream",
     "text": [
      "\n",
      "  7%|█████▍                                                                           | 10/150 [01:03<15:04,  6.46s/it]\u001b[A"
     ]
    },
    {
     "name": "stdout",
     "output_type": "stream",
     "text": [
      "[<selenium.webdriver.remote.webelement.WebElement (session=\"9dde711e96f51ab43a9fa71de8b148c0\", element=\"5653ae4a-d042-4753-8f03-a7fc4f15f418\")>]\n"
     ]
    },
    {
     "name": "stderr",
     "output_type": "stream",
     "text": [
      "\n",
      "  7%|█████▉                                                                           | 11/150 [01:09<14:28,  6.25s/it]\u001b[A\n"
     ]
    },
    {
     "name": "stdout",
     "output_type": "stream",
     "text": [
      "[<selenium.webdriver.remote.webelement.WebElement (session=\"9dde711e96f51ab43a9fa71de8b148c0\", element=\"c34ccf73-2a6f-4111-9eeb-7151ee3cc204\")>]\n"
     ]
    },
    {
     "name": "stderr",
     "output_type": "stream",
     "text": [
      "  8%|██████▍                                                                          | 12/150 [01:16<14:32,  6.32s/it]\u001b[A"
     ]
    },
    {
     "name": "stdout",
     "output_type": "stream",
     "text": [
      "[<selenium.webdriver.remote.webelement.WebElement (session=\"9dde711e96f51ab43a9fa71de8b148c0\", element=\"1e949abe-dc0c-4aee-81a6-e8cb7697ae7d\")>]\n"
     ]
    },
    {
     "name": "stderr",
     "output_type": "stream",
     "text": [
      "\n",
      "  9%|███████                                                                          | 13/150 [01:22<14:33,  6.38s/it]\u001b[A\n",
      "  9%|███████▌                                                                         | 14/150 [01:31<15:55,  7.03s/it]"
     ]
    },
    {
     "name": "stdout",
     "output_type": "stream",
     "text": [
      "[<selenium.webdriver.remote.webelement.WebElement (session=\"9dde711e96f51ab43a9fa71de8b148c0\", element=\"7054e1b2-1a0b-4cb2-85ca-9e1ad5204e17\")>]\n"
     ]
    },
    {
     "name": "stderr",
     "output_type": "stream",
     "text": [
      "\u001b[A"
     ]
    },
    {
     "name": "stdout",
     "output_type": "stream",
     "text": [
      "[<selenium.webdriver.remote.webelement.WebElement (session=\"9dde711e96f51ab43a9fa71de8b148c0\", element=\"0eea3d71-c8b9-464b-b782-b1fa60507a41\")>]\n"
     ]
    },
    {
     "name": "stderr",
     "output_type": "stream",
     "text": [
      "\n",
      " 10%|████████                                                                         | 15/150 [01:37<15:25,  6.86s/it]\u001b[A\n",
      " 11%|████████▋                                                                        | 16/150 [01:44<15:01,  6.73s/it]\u001b[A"
     ]
    },
    {
     "name": "stdout",
     "output_type": "stream",
     "text": [
      "[<selenium.webdriver.remote.webelement.WebElement (session=\"9dde711e96f51ab43a9fa71de8b148c0\", element=\"30cdff4e-187d-42ed-99d9-d251331715cd\")>]\n",
      "[<selenium.webdriver.remote.webelement.WebElement (session=\"9dde711e96f51ab43a9fa71de8b148c0\", element=\"8ae889d1-0a10-412f-a320-9aafb8df1d3c\")>]\n"
     ]
    },
    {
     "name": "stderr",
     "output_type": "stream",
     "text": [
      "\n",
      " 11%|█████████▏                                                                       | 17/150 [01:50<14:46,  6.66s/it]\u001b[A"
     ]
    },
    {
     "name": "stdout",
     "output_type": "stream",
     "text": [
      "[<selenium.webdriver.remote.webelement.WebElement (session=\"9dde711e96f51ab43a9fa71de8b148c0\", element=\"66ba5349-ab96-436e-846e-4fbb09d8454a\")>]\n"
     ]
    },
    {
     "name": "stderr",
     "output_type": "stream",
     "text": [
      "\n",
      " 12%|█████████▋                                                                       | 18/150 [01:57<14:43,  6.69s/it]\u001b[A\n",
      " 13%|██████████▎                                                                      | 19/150 [02:02<13:54,  6.37s/it]\u001b[A"
     ]
    },
    {
     "name": "stdout",
     "output_type": "stream",
     "text": [
      "[<selenium.webdriver.remote.webelement.WebElement (session=\"9dde711e96f51ab43a9fa71de8b148c0\", element=\"9259817a-d8ef-46b2-b7ae-b989164d0d04\")>]\n",
      "[<selenium.webdriver.remote.webelement.WebElement (session=\"9dde711e96f51ab43a9fa71de8b148c0\", element=\"aea69603-3fdd-482b-959c-251da10ef253\")>]\n"
     ]
    },
    {
     "name": "stderr",
     "output_type": "stream",
     "text": [
      "\n",
      " 13%|██████████▊                                                                      | 20/150 [02:09<14:04,  6.50s/it]\u001b[A"
     ]
    },
    {
     "name": "stdout",
     "output_type": "stream",
     "text": [
      "[<selenium.webdriver.remote.webelement.WebElement (session=\"9dde711e96f51ab43a9fa71de8b148c0\", element=\"58403af6-8dd2-46a9-8a60-8fc8f7a40cd8\")>]\n"
     ]
    },
    {
     "name": "stderr",
     "output_type": "stream",
     "text": [
      "\n",
      " 14%|███████████▎                                                                     | 21/150 [02:16<14:00,  6.52s/it]\u001b[A\n",
      " 15%|███████████▉                                                                     | 22/150 [02:22<13:49,  6.48s/it]\u001b[A"
     ]
    },
    {
     "name": "stdout",
     "output_type": "stream",
     "text": [
      "[<selenium.webdriver.remote.webelement.WebElement (session=\"9dde711e96f51ab43a9fa71de8b148c0\", element=\"47423098-785f-4493-ad19-8a13873d3fc3\")>]\n",
      "[<selenium.webdriver.remote.webelement.WebElement (session=\"9dde711e96f51ab43a9fa71de8b148c0\", element=\"f3e2ccaa-2970-4e24-b493-75101ab23e4d\")>]\n"
     ]
    },
    {
     "name": "stderr",
     "output_type": "stream",
     "text": [
      "\n",
      " 15%|████████████▍                                                                    | 23/150 [02:29<13:43,  6.49s/it]\u001b[A"
     ]
    },
    {
     "name": "stdout",
     "output_type": "stream",
     "text": [
      "[<selenium.webdriver.remote.webelement.WebElement (session=\"9dde711e96f51ab43a9fa71de8b148c0\", element=\"aaca0d7b-bd89-41c1-8a23-55006021c43d\")>]\n"
     ]
    },
    {
     "name": "stderr",
     "output_type": "stream",
     "text": [
      "\n",
      " 16%|████████████▉                                                                    | 24/150 [02:35<13:41,  6.52s/it]\u001b[A"
     ]
    },
    {
     "name": "stdout",
     "output_type": "stream",
     "text": [
      "[<selenium.webdriver.remote.webelement.WebElement (session=\"9dde711e96f51ab43a9fa71de8b148c0\", element=\"4b414fd2-31ac-4b5c-903d-6563b638b26b\")>]\n"
     ]
    },
    {
     "name": "stderr",
     "output_type": "stream",
     "text": [
      "\n",
      " 17%|█████████████▌                                                                   | 25/150 [02:42<13:38,  6.55s/it]\u001b[A"
     ]
    },
    {
     "name": "stdout",
     "output_type": "stream",
     "text": [
      "[<selenium.webdriver.remote.webelement.WebElement (session=\"9dde711e96f51ab43a9fa71de8b148c0\", element=\"059293f7-04b0-48b7-8876-f8b0b34bfa72\")>]\n"
     ]
    },
    {
     "name": "stderr",
     "output_type": "stream",
     "text": [
      "\n",
      " 17%|██████████████                                                                   | 26/150 [02:49<13:57,  6.76s/it]\u001b[A\n",
      " 18%|██████████████▌                                                                  | 27/150 [02:55<13:34,  6.62s/it]\u001b[A"
     ]
    },
    {
     "name": "stdout",
     "output_type": "stream",
     "text": [
      "[<selenium.webdriver.remote.webelement.WebElement (session=\"9dde711e96f51ab43a9fa71de8b148c0\", element=\"5d051562-32f9-42fe-92a5-d65f1f74e24e\")>]\n",
      "[<selenium.webdriver.remote.webelement.WebElement (session=\"9dde711e96f51ab43a9fa71de8b148c0\", element=\"c028d118-4813-48b2-b995-0d7670fd2379\")>]\n"
     ]
    },
    {
     "name": "stderr",
     "output_type": "stream",
     "text": [
      "\n",
      " 19%|███████████████                                                                  | 28/150 [03:02<13:27,  6.62s/it]\u001b[A"
     ]
    },
    {
     "name": "stdout",
     "output_type": "stream",
     "text": [
      "[<selenium.webdriver.remote.webelement.WebElement (session=\"9dde711e96f51ab43a9fa71de8b148c0\", element=\"757c5f2d-a340-4667-b052-54d8f317148c\")>]\n"
     ]
    },
    {
     "name": "stderr",
     "output_type": "stream",
     "text": [
      "\n",
      " 19%|███████████████▋                                                                 | 29/150 [03:09<13:25,  6.66s/it]\u001b[A"
     ]
    },
    {
     "name": "stdout",
     "output_type": "stream",
     "text": [
      "[<selenium.webdriver.remote.webelement.WebElement (session=\"9dde711e96f51ab43a9fa71de8b148c0\", element=\"8dfef36e-9023-4589-b994-2c0ed2d55c78\")>]\n"
     ]
    },
    {
     "name": "stderr",
     "output_type": "stream",
     "text": [
      "\n",
      " 20%|████████████████▏                                                                | 30/150 [03:16<13:44,  6.87s/it]\u001b[A"
     ]
    },
    {
     "name": "stdout",
     "output_type": "stream",
     "text": [
      "[<selenium.webdriver.remote.webelement.WebElement (session=\"9dde711e96f51ab43a9fa71de8b148c0\", element=\"3b39d0ad-55e7-4e62-9095-c4c7fd376dee\")>]\n"
     ]
    },
    {
     "name": "stderr",
     "output_type": "stream",
     "text": [
      "\n",
      " 21%|████████████████▋                                                                | 31/150 [03:23<13:22,  6.75s/it]\u001b[A"
     ]
    },
    {
     "name": "stdout",
     "output_type": "stream",
     "text": [
      "[<selenium.webdriver.remote.webelement.WebElement (session=\"9dde711e96f51ab43a9fa71de8b148c0\", element=\"26e9b61b-9819-4127-a72e-3258be74299a\")>]\n"
     ]
    },
    {
     "name": "stderr",
     "output_type": "stream",
     "text": [
      "\n",
      " 21%|█████████████████▎                                                               | 32/150 [03:29<12:46,  6.50s/it]\u001b[A"
     ]
    },
    {
     "name": "stdout",
     "output_type": "stream",
     "text": [
      "[<selenium.webdriver.remote.webelement.WebElement (session=\"9dde711e96f51ab43a9fa71de8b148c0\", element=\"83a3b49c-5eac-4012-abb5-dc9022e1bc9a\")>]\n"
     ]
    },
    {
     "name": "stderr",
     "output_type": "stream",
     "text": [
      "\n",
      " 22%|█████████████████▊                                                               | 33/150 [03:35<12:42,  6.52s/it]\u001b[A"
     ]
    },
    {
     "name": "stdout",
     "output_type": "stream",
     "text": [
      "[<selenium.webdriver.remote.webelement.WebElement (session=\"9dde711e96f51ab43a9fa71de8b148c0\", element=\"de101045-9a72-4ade-aad9-2317eed5ff23\")>]\n"
     ]
    },
    {
     "name": "stderr",
     "output_type": "stream",
     "text": [
      "\n",
      " 23%|██████████████████▎                                                              | 34/150 [03:41<12:15,  6.34s/it]\u001b[A"
     ]
    },
    {
     "name": "stdout",
     "output_type": "stream",
     "text": [
      "[<selenium.webdriver.remote.webelement.WebElement (session=\"9dde711e96f51ab43a9fa71de8b148c0\", element=\"5920bd9f-ec44-475c-89ec-b750493c5a75\")>]\n"
     ]
    },
    {
     "name": "stderr",
     "output_type": "stream",
     "text": [
      "\n",
      " 23%|██████████████████▉                                                              | 35/150 [03:48<12:15,  6.39s/it]\u001b[A"
     ]
    },
    {
     "name": "stdout",
     "output_type": "stream",
     "text": [
      "[<selenium.webdriver.remote.webelement.WebElement (session=\"9dde711e96f51ab43a9fa71de8b148c0\", element=\"37fdbb98-9e24-40a3-baf3-07cb0192fe39\")>]\n"
     ]
    },
    {
     "name": "stderr",
     "output_type": "stream",
     "text": [
      "\n",
      " 24%|███████████████████▍                                                             | 36/150 [03:54<12:24,  6.53s/it]\u001b[A\n",
      " 21%|████████████████▊                                                              | 14/66 [44:49<2:45:03, 190.45s/it]\n",
      "  0%|                                                                                          | 0/150 [00:00<?, ?it/s]\u001b[A\n",
      "  1%|▌                                                                                 | 1/150 [00:06<15:56,  6.42s/it]\u001b[A"
     ]
    },
    {
     "name": "stdout",
     "output_type": "stream",
     "text": [
      "[<selenium.webdriver.remote.webelement.WebElement (session=\"9dde711e96f51ab43a9fa71de8b148c0\", element=\"5a65ea6b-89cc-47ef-a40e-b58f2182d96e\")>]\n",
      "[<selenium.webdriver.remote.webelement.WebElement (session=\"9dde711e96f51ab43a9fa71de8b148c0\", element=\"186bd4fa-5164-4f98-8a6f-df0659442b70\")>]\n"
     ]
    },
    {
     "name": "stderr",
     "output_type": "stream",
     "text": [
      "\n",
      "  1%|█                                                                                 | 2/150 [00:12<15:33,  6.31s/it]\u001b[A\n",
      "  2%|█▋                                                                                | 3/150 [00:20<16:38,  6.79s/it]\u001b[A"
     ]
    },
    {
     "name": "stdout",
     "output_type": "stream",
     "text": [
      "[<selenium.webdriver.remote.webelement.WebElement (session=\"9dde711e96f51ab43a9fa71de8b148c0\", element=\"9ac87f19-50dd-4ef0-8d1c-8150676163f2\")>]\n",
      "[<selenium.webdriver.remote.webelement.WebElement (session=\"9dde711e96f51ab43a9fa71de8b148c0\", element=\"28a31c20-e26e-4820-9400-5f8f1fb89482\")>]\n"
     ]
    },
    {
     "name": "stderr",
     "output_type": "stream",
     "text": [
      "\n",
      "  3%|██▏                                                                               | 4/150 [00:26<16:17,  6.69s/it]\u001b[A"
     ]
    },
    {
     "name": "stdout",
     "output_type": "stream",
     "text": [
      "[<selenium.webdriver.remote.webelement.WebElement (session=\"9dde711e96f51ab43a9fa71de8b148c0\", element=\"168e25ce-ed60-40bd-86f1-e3f589eeeab7\")>]\n"
     ]
    },
    {
     "name": "stderr",
     "output_type": "stream",
     "text": [
      "\n",
      "  3%|██▋                                                                               | 5/150 [00:33<15:59,  6.61s/it]\u001b[A"
     ]
    },
    {
     "name": "stdout",
     "output_type": "stream",
     "text": [
      "[<selenium.webdriver.remote.webelement.WebElement (session=\"9dde711e96f51ab43a9fa71de8b148c0\", element=\"556b721b-e98c-4cc0-9b3f-eefa87158335\")>]\n"
     ]
    },
    {
     "name": "stderr",
     "output_type": "stream",
     "text": [
      "\n",
      "  4%|███▎                                                                              | 6/150 [00:39<15:51,  6.61s/it]\u001b[A"
     ]
    },
    {
     "name": "stdout",
     "output_type": "stream",
     "text": [
      "[<selenium.webdriver.remote.webelement.WebElement (session=\"9dde711e96f51ab43a9fa71de8b148c0\", element=\"a75f77a0-b8f8-4ef0-af8e-7f00546bde76\")>]\n"
     ]
    },
    {
     "name": "stderr",
     "output_type": "stream",
     "text": [
      "\n",
      "  5%|███▊                                                                              | 7/150 [00:46<15:47,  6.63s/it]\u001b[A"
     ]
    },
    {
     "name": "stdout",
     "output_type": "stream",
     "text": [
      "[<selenium.webdriver.remote.webelement.WebElement (session=\"9dde711e96f51ab43a9fa71de8b148c0\", element=\"bd634582-ccd1-439b-a97d-eb9477e81773\")>]\n"
     ]
    },
    {
     "name": "stderr",
     "output_type": "stream",
     "text": [
      "\n",
      "  5%|████▎                                                                             | 8/150 [00:52<15:06,  6.39s/it]\u001b[A\n"
     ]
    },
    {
     "name": "stdout",
     "output_type": "stream",
     "text": [
      "[<selenium.webdriver.remote.webelement.WebElement (session=\"9dde711e96f51ab43a9fa71de8b148c0\", element=\"c31617ab-f10f-44d6-8164-7219428f456e\")>]\n"
     ]
    },
    {
     "name": "stderr",
     "output_type": "stream",
     "text": [
      "  6%|████▉                                                                             | 9/150 [00:57<14:30,  6.17s/it]\u001b[A"
     ]
    },
    {
     "name": "stdout",
     "output_type": "stream",
     "text": [
      "[<selenium.webdriver.remote.webelement.WebElement (session=\"9dde711e96f51ab43a9fa71de8b148c0\", element=\"f6bb7612-d357-4cb5-a377-dbc114e5707f\")>]\n"
     ]
    },
    {
     "name": "stderr",
     "output_type": "stream",
     "text": [
      "\n",
      "  7%|█████▍                                                                           | 10/150 [01:05<15:21,  6.58s/it]\u001b[A\n",
      " 23%|█████████████████▉                                                             | 15/66 [45:55<2:09:56, 152.88s/it]\n",
      "  0%|                                                                                          | 0/150 [00:00<?, ?it/s]\u001b[A\n",
      "  1%|▌                                                                                 | 1/150 [00:06<16:04,  6.48s/it]\u001b[A"
     ]
    },
    {
     "name": "stdout",
     "output_type": "stream",
     "text": [
      "[<selenium.webdriver.remote.webelement.WebElement (session=\"9dde711e96f51ab43a9fa71de8b148c0\", element=\"471a5fbc-0abf-4814-81f6-1ea06363194c\")>]\n",
      "[<selenium.webdriver.remote.webelement.WebElement (session=\"9dde711e96f51ab43a9fa71de8b148c0\", element=\"eb5a008e-f346-4d32-9850-4f14d186e642\")>]\n"
     ]
    },
    {
     "name": "stderr",
     "output_type": "stream",
     "text": [
      "\n",
      "  1%|█                                                                                 | 2/150 [00:12<14:53,  6.04s/it]\u001b[A"
     ]
    },
    {
     "name": "stdout",
     "output_type": "stream",
     "text": [
      "[<selenium.webdriver.remote.webelement.WebElement (session=\"9dde711e96f51ab43a9fa71de8b148c0\", element=\"e65a06ab-cd66-4d1f-a1aa-661013edb921\")>]\n"
     ]
    },
    {
     "name": "stderr",
     "output_type": "stream",
     "text": [
      "\n",
      "  2%|█▋                                                                                | 3/150 [00:18<15:32,  6.35s/it]\u001b[A"
     ]
    },
    {
     "name": "stdout",
     "output_type": "stream",
     "text": [
      "[<selenium.webdriver.remote.webelement.WebElement (session=\"9dde711e96f51ab43a9fa71de8b148c0\", element=\"154778e0-1a1d-4d83-8d12-c49e2f4bec94\")>]\n"
     ]
    },
    {
     "name": "stderr",
     "output_type": "stream",
     "text": [
      "\n",
      "  3%|██▏                                                                               | 4/150 [00:25<15:36,  6.41s/it]\u001b[A"
     ]
    },
    {
     "name": "stdout",
     "output_type": "stream",
     "text": [
      "[<selenium.webdriver.remote.webelement.WebElement (session=\"9dde711e96f51ab43a9fa71de8b148c0\", element=\"873a271f-28f5-4a99-a872-8b2bdca496d1\")>]\n"
     ]
    },
    {
     "name": "stderr",
     "output_type": "stream",
     "text": [
      "\n",
      "  3%|██▋                                                                               | 5/150 [00:31<14:56,  6.18s/it]\u001b[A"
     ]
    },
    {
     "name": "stdout",
     "output_type": "stream",
     "text": [
      "[<selenium.webdriver.remote.webelement.WebElement (session=\"9dde711e96f51ab43a9fa71de8b148c0\", element=\"b030ef47-ffbb-4cd0-8392-e8290e62e5d8\")>]\n"
     ]
    },
    {
     "name": "stderr",
     "output_type": "stream",
     "text": [
      "\n",
      "  4%|███▎                                                                              | 6/150 [00:37<15:06,  6.30s/it]\u001b[A"
     ]
    },
    {
     "name": "stdout",
     "output_type": "stream",
     "text": [
      "[<selenium.webdriver.remote.webelement.WebElement (session=\"9dde711e96f51ab43a9fa71de8b148c0\", element=\"d87b25c9-557d-4513-94f5-84c3b23357d9\")>]\n"
     ]
    },
    {
     "name": "stderr",
     "output_type": "stream",
     "text": [
      "\n",
      "  5%|███▊                                                                              | 7/150 [00:44<15:38,  6.57s/it]\u001b[A"
     ]
    },
    {
     "name": "stdout",
     "output_type": "stream",
     "text": [
      "[<selenium.webdriver.remote.webelement.WebElement (session=\"9dde711e96f51ab43a9fa71de8b148c0\", element=\"b8e51b72-8abc-435b-85f9-786bc167be4d\")>]\n"
     ]
    },
    {
     "name": "stderr",
     "output_type": "stream",
     "text": [
      "\n",
      "  5%|████▎                                                                             | 8/150 [00:50<14:53,  6.29s/it]\u001b[A"
     ]
    },
    {
     "name": "stdout",
     "output_type": "stream",
     "text": [
      "[<selenium.webdriver.remote.webelement.WebElement (session=\"9dde711e96f51ab43a9fa71de8b148c0\", element=\"9b1a485e-74cc-433b-8883-fdbfe3dbe9ba\")>]\n"
     ]
    },
    {
     "name": "stderr",
     "output_type": "stream",
     "text": [
      "\n",
      "  6%|████▉                                                                             | 9/150 [00:56<14:32,  6.19s/it]\u001b[A"
     ]
    },
    {
     "name": "stdout",
     "output_type": "stream",
     "text": [
      "[<selenium.webdriver.remote.webelement.WebElement (session=\"9dde711e96f51ab43a9fa71de8b148c0\", element=\"cb10bb5a-5cd2-4ee5-af72-0021bf50f906\")>]\n"
     ]
    },
    {
     "name": "stderr",
     "output_type": "stream",
     "text": [
      "\n",
      "  7%|█████▍                                                                           | 10/150 [01:03<14:51,  6.37s/it]\u001b[A"
     ]
    },
    {
     "name": "stdout",
     "output_type": "stream",
     "text": [
      "[<selenium.webdriver.remote.webelement.WebElement (session=\"9dde711e96f51ab43a9fa71de8b148c0\", element=\"42d26bd3-74ea-4282-a590-caf1f47abf85\")>]\n"
     ]
    },
    {
     "name": "stderr",
     "output_type": "stream",
     "text": [
      "\n",
      "  7%|█████▉                                                                           | 11/150 [01:09<14:27,  6.24s/it]\u001b[A"
     ]
    },
    {
     "name": "stdout",
     "output_type": "stream",
     "text": [
      "[<selenium.webdriver.remote.webelement.WebElement (session=\"9dde711e96f51ab43a9fa71de8b148c0\", element=\"af87659c-a935-4986-a4e1-3ca4cb1bb8c0\")>]\n"
     ]
    },
    {
     "name": "stderr",
     "output_type": "stream",
     "text": [
      "\n",
      "  8%|██████▍                                                                          | 12/150 [01:16<14:48,  6.44s/it]\u001b[A"
     ]
    },
    {
     "name": "stdout",
     "output_type": "stream",
     "text": [
      "[<selenium.webdriver.remote.webelement.WebElement (session=\"9dde711e96f51ab43a9fa71de8b148c0\", element=\"1c331c7b-ca90-4b72-bd42-4fb19829b713\")>]\n"
     ]
    },
    {
     "name": "stderr",
     "output_type": "stream",
     "text": [
      "\n",
      "  9%|███████                                                                          | 13/150 [01:23<14:36,  6.40s/it]\u001b[A\n",
      " 24%|███████████████████▏                                                           | 16/66 [47:18<1:49:55, 131.90s/it]\n",
      "  0%|                                                                                          | 0/150 [00:00<?, ?it/s]\u001b[A"
     ]
    },
    {
     "name": "stdout",
     "output_type": "stream",
     "text": [
      "[<selenium.webdriver.remote.webelement.WebElement (session=\"9dde711e96f51ab43a9fa71de8b148c0\", element=\"623458ca-f94e-4ac5-a0fc-45e86db3c12f\")>]\n"
     ]
    },
    {
     "name": "stderr",
     "output_type": "stream",
     "text": [
      "\n",
      "  1%|▌                                                                                 | 1/150 [00:05<14:17,  5.76s/it]\u001b[A"
     ]
    },
    {
     "name": "stdout",
     "output_type": "stream",
     "text": [
      "[<selenium.webdriver.remote.webelement.WebElement (session=\"9dde711e96f51ab43a9fa71de8b148c0\", element=\"13231da9-4825-46c6-be2e-72ded58dee8e\")>]\n"
     ]
    },
    {
     "name": "stderr",
     "output_type": "stream",
     "text": [
      "\n",
      "  1%|█                                                                                 | 2/150 [00:12<15:24,  6.25s/it]\u001b[A\n"
     ]
    },
    {
     "name": "stdout",
     "output_type": "stream",
     "text": [
      "[<selenium.webdriver.remote.webelement.WebElement (session=\"9dde711e96f51ab43a9fa71de8b148c0\", element=\"16b2de82-5abd-4f0f-af64-3fb0b2c1747d\")>]\n"
     ]
    },
    {
     "name": "stderr",
     "output_type": "stream",
     "text": [
      "  2%|█▋                                                                                | 3/150 [00:18<15:30,  6.33s/it]\u001b[A"
     ]
    },
    {
     "name": "stdout",
     "output_type": "stream",
     "text": [
      "[<selenium.webdriver.remote.webelement.WebElement (session=\"9dde711e96f51ab43a9fa71de8b148c0\", element=\"741bc963-115e-463e-8223-6b55d7811b1a\")>]\n"
     ]
    },
    {
     "name": "stderr",
     "output_type": "stream",
     "text": [
      "\n",
      "  3%|██▏                                                                               | 4/150 [00:24<14:49,  6.09s/it]\u001b[A\n",
      "  3%|██▋                                                                               | 5/150 [00:31<15:06,  6.25s/it]\u001b[A"
     ]
    },
    {
     "name": "stdout",
     "output_type": "stream",
     "text": [
      "[<selenium.webdriver.remote.webelement.WebElement (session=\"9dde711e96f51ab43a9fa71de8b148c0\", element=\"daa8bf19-3056-48d9-9dec-231247b94d58\")>]\n"
     ]
    },
    {
     "name": "stderr",
     "output_type": "stream",
     "text": [
      "\n",
      "  4%|███▎                                                                              | 6/150 [00:36<14:32,  6.06s/it]\u001b[A"
     ]
    },
    {
     "name": "stdout",
     "output_type": "stream",
     "text": [
      "[<selenium.webdriver.remote.webelement.WebElement (session=\"9dde711e96f51ab43a9fa71de8b148c0\", element=\"44f9a264-1ce9-4fa2-b0a9-56f8115cef6c\")>]\n"
     ]
    },
    {
     "name": "stderr",
     "output_type": "stream",
     "text": [
      "\n",
      "  5%|███▊                                                                              | 7/150 [00:43<14:44,  6.19s/it]\u001b[A"
     ]
    },
    {
     "name": "stdout",
     "output_type": "stream",
     "text": [
      "[<selenium.webdriver.remote.webelement.WebElement (session=\"9dde711e96f51ab43a9fa71de8b148c0\", element=\"d51b309d-eea8-4cf3-b1c2-6463b6ac6e8e\")>]\n",
      "[<selenium.webdriver.remote.webelement.WebElement (session=\"9dde711e96f51ab43a9fa71de8b148c0\", element=\"969198f2-b6c1-433e-a6ac-4cb2c689ee9a\")>]\n"
     ]
    },
    {
     "name": "stderr",
     "output_type": "stream",
     "text": [
      "\n",
      "  5%|████▎                                                                             | 8/150 [00:49<14:48,  6.26s/it]\u001b[A"
     ]
    },
    {
     "name": "stdout",
     "output_type": "stream",
     "text": [
      "[<selenium.webdriver.remote.webelement.WebElement (session=\"9dde711e96f51ab43a9fa71de8b148c0\", element=\"bfe36f48-b458-4152-b465-df0640970780\")>]\n"
     ]
    },
    {
     "name": "stderr",
     "output_type": "stream",
     "text": [
      "\n",
      "  6%|████▉                                                                             | 9/150 [00:56<14:59,  6.38s/it]\u001b[A\n",
      "  7%|█████▍                                                                           | 10/150 [01:01<14:16,  6.12s/it]\u001b[A"
     ]
    },
    {
     "name": "stdout",
     "output_type": "stream",
     "text": [
      "[<selenium.webdriver.remote.webelement.WebElement (session=\"9dde711e96f51ab43a9fa71de8b148c0\", element=\"1b36ff9e-4632-4cc0-8c7d-bfe788841ae7\")>]\n"
     ]
    },
    {
     "name": "stderr",
     "output_type": "stream",
     "text": [
      "  7%|█████▍                                                                           | 10/150 [01:02<14:40,  6.29s/it]\n",
      " 26%|████████████████████▎                                                          | 17/66 [48:21<1:30:46, 111.15s/it]\n",
      "  0%|                                                                                          | 0/150 [00:00<?, ?it/s]\u001b[A"
     ]
    },
    {
     "name": "stdout",
     "output_type": "stream",
     "text": [
      "[<selenium.webdriver.remote.webelement.WebElement (session=\"9dde711e96f51ab43a9fa71de8b148c0\", element=\"676f021d-cbbc-416c-a432-2d7fdc24424a\")>]\n"
     ]
    },
    {
     "name": "stderr",
     "output_type": "stream",
     "text": [
      "\n",
      "  1%|▌                                                                                 | 1/150 [00:06<16:17,  6.56s/it]\u001b[A\n",
      "  1%|█                                                                                 | 2/150 [00:13<16:00,  6.49s/it]\u001b[A"
     ]
    },
    {
     "name": "stdout",
     "output_type": "stream",
     "text": [
      "[<selenium.webdriver.remote.webelement.WebElement (session=\"9dde711e96f51ab43a9fa71de8b148c0\", element=\"95056885-5216-4153-bf47-4a1f3a39ebd3\")>]\n",
      "[<selenium.webdriver.remote.webelement.WebElement (session=\"9dde711e96f51ab43a9fa71de8b148c0\", element=\"6b4bafb1-bf08-41ab-91a4-ee69c813fa11\")>]\n"
     ]
    },
    {
     "name": "stderr",
     "output_type": "stream",
     "text": [
      "\n",
      "  2%|█▋                                                                                | 3/150 [00:19<16:04,  6.56s/it]\u001b[A"
     ]
    },
    {
     "name": "stdout",
     "output_type": "stream",
     "text": [
      "[<selenium.webdriver.remote.webelement.WebElement (session=\"9dde711e96f51ab43a9fa71de8b148c0\", element=\"69402572-eb91-4fd5-960a-a49f8f2b60c3\")>]\n"
     ]
    },
    {
     "name": "stderr",
     "output_type": "stream",
     "text": [
      "\n",
      "  3%|██▏                                                                               | 4/150 [00:25<15:08,  6.23s/it]\u001b[A"
     ]
    },
    {
     "name": "stdout",
     "output_type": "stream",
     "text": [
      "[<selenium.webdriver.remote.webelement.WebElement (session=\"9dde711e96f51ab43a9fa71de8b148c0\", element=\"ae021cc6-579c-4107-b05d-fd3bc0773464\")>]\n"
     ]
    },
    {
     "name": "stderr",
     "output_type": "stream",
     "text": [
      "\n",
      "  3%|██▋                                                                               | 5/150 [00:31<15:20,  6.35s/it]\u001b[A"
     ]
    },
    {
     "name": "stdout",
     "output_type": "stream",
     "text": [
      "[<selenium.webdriver.remote.webelement.WebElement (session=\"9dde711e96f51ab43a9fa71de8b148c0\", element=\"65121b77-b068-4fe4-9490-21e794aea3f0\")>]\n"
     ]
    },
    {
     "name": "stderr",
     "output_type": "stream",
     "text": [
      "\n",
      "  4%|███▎                                                                              | 6/150 [00:37<14:47,  6.16s/it]\u001b[A"
     ]
    },
    {
     "name": "stdout",
     "output_type": "stream",
     "text": [
      "[<selenium.webdriver.remote.webelement.WebElement (session=\"9dde711e96f51ab43a9fa71de8b148c0\", element=\"99466916-d8a0-48fa-ab62-6c622969da99\")>]\n"
     ]
    },
    {
     "name": "stderr",
     "output_type": "stream",
     "text": [
      "\n",
      "  5%|███▊                                                                              | 7/150 [00:44<14:58,  6.28s/it]\u001b[A"
     ]
    },
    {
     "name": "stdout",
     "output_type": "stream",
     "text": [
      "[<selenium.webdriver.remote.webelement.WebElement (session=\"9dde711e96f51ab43a9fa71de8b148c0\", element=\"31ecbfb7-f4a8-4988-a478-a831bbd3e945\")>]\n"
     ]
    },
    {
     "name": "stderr",
     "output_type": "stream",
     "text": [
      "\n",
      "  5%|████▎                                                                             | 8/150 [00:50<14:59,  6.33s/it]\u001b[A"
     ]
    },
    {
     "name": "stdout",
     "output_type": "stream",
     "text": [
      "[<selenium.webdriver.remote.webelement.WebElement (session=\"9dde711e96f51ab43a9fa71de8b148c0\", element=\"57ec4379-24df-47c4-a54f-5e03233c1b67\")>]\n"
     ]
    },
    {
     "name": "stderr",
     "output_type": "stream",
     "text": [
      "\n",
      "  6%|████▉                                                                             | 9/150 [00:56<14:34,  6.21s/it]\u001b[A"
     ]
    },
    {
     "name": "stdout",
     "output_type": "stream",
     "text": [
      "[<selenium.webdriver.remote.webelement.WebElement (session=\"9dde711e96f51ab43a9fa71de8b148c0\", element=\"d190f51e-842d-4bbd-a243-35b90049d683\")>]\n"
     ]
    },
    {
     "name": "stderr",
     "output_type": "stream",
     "text": [
      "\n",
      "  7%|█████▍                                                                           | 10/150 [01:03<14:45,  6.33s/it]\u001b[A"
     ]
    },
    {
     "name": "stdout",
     "output_type": "stream",
     "text": [
      "[<selenium.webdriver.remote.webelement.WebElement (session=\"9dde711e96f51ab43a9fa71de8b148c0\", element=\"bc60d29a-d944-4af1-aaa3-c8189889216a\")>]\n"
     ]
    },
    {
     "name": "stderr",
     "output_type": "stream",
     "text": [
      "\n",
      "  7%|█████▉                                                                           | 11/150 [01:09<14:47,  6.38s/it]\u001b[A"
     ]
    },
    {
     "name": "stdout",
     "output_type": "stream",
     "text": [
      "[<selenium.webdriver.remote.webelement.WebElement (session=\"9dde711e96f51ab43a9fa71de8b148c0\", element=\"81d8f1b5-e067-4cfd-bf3a-3446ca699320\")>]\n"
     ]
    },
    {
     "name": "stderr",
     "output_type": "stream",
     "text": [
      "\n",
      "  8%|██████▍                                                                          | 12/150 [01:16<14:49,  6.44s/it]\u001b[A"
     ]
    },
    {
     "name": "stdout",
     "output_type": "stream",
     "text": [
      "[<selenium.webdriver.remote.webelement.WebElement (session=\"9dde711e96f51ab43a9fa71de8b148c0\", element=\"e9de8586-c6da-40f5-8999-995a6d3ac18e\")>]\n"
     ]
    },
    {
     "name": "stderr",
     "output_type": "stream",
     "text": [
      "\n",
      "  9%|███████                                                                          | 13/150 [01:22<14:47,  6.48s/it]\u001b[A"
     ]
    },
    {
     "name": "stdout",
     "output_type": "stream",
     "text": [
      "[<selenium.webdriver.remote.webelement.WebElement (session=\"9dde711e96f51ab43a9fa71de8b148c0\", element=\"32fd0aa8-e9f7-4305-9ea2-926380468550\")>]\n"
     ]
    },
    {
     "name": "stderr",
     "output_type": "stream",
     "text": [
      "\n",
      "  9%|███████▌                                                                         | 14/150 [01:28<14:10,  6.26s/it]\u001b[A"
     ]
    },
    {
     "name": "stdout",
     "output_type": "stream",
     "text": [
      "[<selenium.webdriver.remote.webelement.WebElement (session=\"9dde711e96f51ab43a9fa71de8b148c0\", element=\"4e264957-9d3c-4f1f-81f7-e7a793f00d20\")>]\n"
     ]
    },
    {
     "name": "stderr",
     "output_type": "stream",
     "text": [
      "\n",
      " 10%|████████                                                                         | 15/150 [01:35<14:21,  6.38s/it]\u001b[A"
     ]
    },
    {
     "name": "stdout",
     "output_type": "stream",
     "text": [
      "[<selenium.webdriver.remote.webelement.WebElement (session=\"9dde711e96f51ab43a9fa71de8b148c0\", element=\"cd60262a-d203-4345-8f39-92a3b66dda5f\")>]\n"
     ]
    },
    {
     "name": "stderr",
     "output_type": "stream",
     "text": [
      "\n",
      " 11%|████████▋                                                                        | 16/150 [01:41<13:49,  6.19s/it]\u001b[A\n"
     ]
    },
    {
     "name": "stdout",
     "output_type": "stream",
     "text": [
      "[<selenium.webdriver.remote.webelement.WebElement (session=\"9dde711e96f51ab43a9fa71de8b148c0\", element=\"396c4dbc-5fd8-419b-a489-0f1a7581a1c1\")>]\n"
     ]
    },
    {
     "name": "stderr",
     "output_type": "stream",
     "text": [
      " 11%|█████████▏                                                                       | 17/150 [01:47<13:54,  6.28s/it]\u001b[A"
     ]
    },
    {
     "name": "stdout",
     "output_type": "stream",
     "text": [
      "[<selenium.webdriver.remote.webelement.WebElement (session=\"9dde711e96f51ab43a9fa71de8b148c0\", element=\"aa3c8752-9c04-49a9-b4c3-052ec856b04a\")>]\n"
     ]
    },
    {
     "name": "stderr",
     "output_type": "stream",
     "text": [
      "\n",
      " 12%|█████████▋                                                                       | 18/150 [01:54<13:59,  6.36s/it]\u001b[A"
     ]
    },
    {
     "name": "stdout",
     "output_type": "stream",
     "text": [
      "[<selenium.webdriver.remote.webelement.WebElement (session=\"9dde711e96f51ab43a9fa71de8b148c0\", element=\"48cb6786-1a7d-4bdd-984f-3abcacbc00c8\")>]\n"
     ]
    },
    {
     "name": "stderr",
     "output_type": "stream",
     "text": [
      "\n",
      " 13%|██████████▎                                                                      | 19/150 [02:00<14:07,  6.47s/it]\u001b[A"
     ]
    },
    {
     "name": "stdout",
     "output_type": "stream",
     "text": [
      "[<selenium.webdriver.remote.webelement.WebElement (session=\"9dde711e96f51ab43a9fa71de8b148c0\", element=\"d3466949-5ef5-49d2-80cf-c537ef5a8b38\")>]\n"
     ]
    },
    {
     "name": "stderr",
     "output_type": "stream",
     "text": [
      "\n",
      " 13%|██████████▊                                                                      | 20/150 [02:06<13:35,  6.27s/it]\u001b[A"
     ]
    },
    {
     "name": "stdout",
     "output_type": "stream",
     "text": [
      "[<selenium.webdriver.remote.webelement.WebElement (session=\"9dde711e96f51ab43a9fa71de8b148c0\", element=\"1505fadf-0792-4f65-b7bc-39f7e8bef357\")>]\n"
     ]
    },
    {
     "name": "stderr",
     "output_type": "stream",
     "text": [
      "\n",
      " 14%|███████████▎                                                                     | 21/150 [02:13<13:45,  6.40s/it]\u001b[A"
     ]
    },
    {
     "name": "stdout",
     "output_type": "stream",
     "text": [
      "[<selenium.webdriver.remote.webelement.WebElement (session=\"9dde711e96f51ab43a9fa71de8b148c0\", element=\"08c2f278-151a-45eb-8946-232b2bbe5a77\")>]\n"
     ]
    },
    {
     "name": "stderr",
     "output_type": "stream",
     "text": [
      "\n",
      " 15%|███████████▉                                                                     | 22/150 [02:19<13:44,  6.44s/it]\u001b[A\n"
     ]
    },
    {
     "name": "stdout",
     "output_type": "stream",
     "text": [
      "[<selenium.webdriver.remote.webelement.WebElement (session=\"9dde711e96f51ab43a9fa71de8b148c0\", element=\"627e1e54-8f0d-4eac-ae42-a9fd765052dc\")>]\n"
     ]
    },
    {
     "name": "stderr",
     "output_type": "stream",
     "text": [
      " 15%|████████████▍                                                                    | 23/150 [02:25<13:10,  6.23s/it]\u001b[A"
     ]
    },
    {
     "name": "stdout",
     "output_type": "stream",
     "text": [
      "[<selenium.webdriver.remote.webelement.WebElement (session=\"9dde711e96f51ab43a9fa71de8b148c0\", element=\"278cd610-17cb-4441-ad66-8e781db41574\")>]\n"
     ]
    },
    {
     "name": "stderr",
     "output_type": "stream",
     "text": [
      "\n",
      " 16%|████████████▉                                                                    | 24/150 [02:32<13:16,  6.32s/it]\u001b[A\n",
      " 17%|█████████████▌                                                                   | 25/150 [02:38<13:12,  6.34s/it]\u001b[A"
     ]
    },
    {
     "name": "stdout",
     "output_type": "stream",
     "text": [
      "[<selenium.webdriver.remote.webelement.WebElement (session=\"9dde711e96f51ab43a9fa71de8b148c0\", element=\"8ae054b1-0bcb-41f7-b810-18ceec2e0e6c\")>]\n"
     ]
    },
    {
     "name": "stderr",
     "output_type": "stream",
     "text": [
      "\n",
      " 17%|██████████████                                                                   | 26/150 [02:44<13:11,  6.38s/it]\u001b[A"
     ]
    },
    {
     "name": "stdout",
     "output_type": "stream",
     "text": [
      "[<selenium.webdriver.remote.webelement.WebElement (session=\"9dde711e96f51ab43a9fa71de8b148c0\", element=\"88469e2a-e08a-41eb-9187-8ef7c38c0045\")>]\n",
      "[<selenium.webdriver.remote.webelement.WebElement (session=\"9dde711e96f51ab43a9fa71de8b148c0\", element=\"9fef8cd6-c874-40bc-b974-bd6dece2e125\")>]\n"
     ]
    },
    {
     "name": "stderr",
     "output_type": "stream",
     "text": [
      "\n",
      " 18%|██████████████▌                                                                  | 27/150 [02:51<13:10,  6.43s/it]\u001b[A"
     ]
    },
    {
     "name": "stdout",
     "output_type": "stream",
     "text": [
      "[<selenium.webdriver.remote.webelement.WebElement (session=\"9dde711e96f51ab43a9fa71de8b148c0\", element=\"bcf9f750-747d-4454-aa2f-7c41ce5d0168\")>]\n"
     ]
    },
    {
     "name": "stderr",
     "output_type": "stream",
     "text": [
      "\n",
      " 19%|███████████████                                                                  | 28/150 [02:58<13:14,  6.51s/it]\u001b[A"
     ]
    },
    {
     "name": "stdout",
     "output_type": "stream",
     "text": [
      "[<selenium.webdriver.remote.webelement.WebElement (session=\"9dde711e96f51ab43a9fa71de8b148c0\", element=\"c47c4ecb-9070-4e83-a26b-957c056e888d\")>]\n"
     ]
    },
    {
     "name": "stderr",
     "output_type": "stream",
     "text": [
      "\n",
      " 19%|███████████████▋                                                                 | 29/150 [03:04<13:11,  6.54s/it]\u001b[A"
     ]
    },
    {
     "name": "stdout",
     "output_type": "stream",
     "text": [
      "[<selenium.webdriver.remote.webelement.WebElement (session=\"9dde711e96f51ab43a9fa71de8b148c0\", element=\"fd7c8993-0371-4b0e-b2e6-455ae10bb214\")>]\n"
     ]
    },
    {
     "name": "stderr",
     "output_type": "stream",
     "text": [
      "\n",
      " 20%|████████████████▏                                                                | 30/150 [03:11<13:08,  6.57s/it]\u001b[A"
     ]
    },
    {
     "name": "stdout",
     "output_type": "stream",
     "text": [
      "[<selenium.webdriver.remote.webelement.WebElement (session=\"9dde711e96f51ab43a9fa71de8b148c0\", element=\"28951782-f349-4a59-bffd-c13d8429e46a\")>]\n"
     ]
    },
    {
     "name": "stderr",
     "output_type": "stream",
     "text": [
      "\n",
      " 21%|████████████████▋                                                                | 31/150 [03:17<12:41,  6.40s/it]\u001b[A"
     ]
    },
    {
     "name": "stdout",
     "output_type": "stream",
     "text": [
      "[<selenium.webdriver.remote.webelement.WebElement (session=\"9dde711e96f51ab43a9fa71de8b148c0\", element=\"75665625-e376-424e-a5ad-6e74eb76a85c\")>]\n"
     ]
    },
    {
     "name": "stderr",
     "output_type": "stream",
     "text": [
      "\n",
      " 21%|█████████████████▎                                                               | 32/150 [03:23<12:37,  6.42s/it]\u001b[A"
     ]
    },
    {
     "name": "stdout",
     "output_type": "stream",
     "text": [
      "[<selenium.webdriver.remote.webelement.WebElement (session=\"9dde711e96f51ab43a9fa71de8b148c0\", element=\"756f4985-09e8-430c-960f-4af547993c05\")>]\n"
     ]
    },
    {
     "name": "stderr",
     "output_type": "stream",
     "text": [
      "\n",
      " 22%|█████████████████▊                                                               | 33/150 [03:29<12:13,  6.27s/it]\u001b[A"
     ]
    },
    {
     "name": "stdout",
     "output_type": "stream",
     "text": [
      "[<selenium.webdriver.remote.webelement.WebElement (session=\"9dde711e96f51ab43a9fa71de8b148c0\", element=\"8f5aa941-054a-4eb7-be8d-f336970d4a87\")>]\n"
     ]
    },
    {
     "name": "stderr",
     "output_type": "stream",
     "text": [
      "\n",
      " 23%|██████████████████▎                                                              | 34/150 [03:35<11:53,  6.15s/it]\u001b[A\n"
     ]
    },
    {
     "name": "stdout",
     "output_type": "stream",
     "text": [
      "[<selenium.webdriver.remote.webelement.WebElement (session=\"9dde711e96f51ab43a9fa71de8b148c0\", element=\"34f11bbc-093d-4f78-b041-88cfbed32fd6\")>]\n"
     ]
    },
    {
     "name": "stderr",
     "output_type": "stream",
     "text": [
      " 23%|██████████████████▉                                                              | 35/150 [03:42<12:00,  6.27s/it]\u001b[A"
     ]
    },
    {
     "name": "stdout",
     "output_type": "stream",
     "text": [
      "[<selenium.webdriver.remote.webelement.WebElement (session=\"9dde711e96f51ab43a9fa71de8b148c0\", element=\"ebf2a896-9b4e-4072-bd18-ce24799aff86\")>]\n"
     ]
    },
    {
     "name": "stderr",
     "output_type": "stream",
     "text": [
      "\n",
      " 24%|███████████████████▍                                                             | 36/150 [03:48<11:40,  6.14s/it]\u001b[A"
     ]
    },
    {
     "name": "stdout",
     "output_type": "stream",
     "text": [
      "[<selenium.webdriver.remote.webelement.WebElement (session=\"9dde711e96f51ab43a9fa71de8b148c0\", element=\"d877c7ca-4c93-4937-9d75-fdb128002a1e\")>]\n"
     ]
    },
    {
     "name": "stderr",
     "output_type": "stream",
     "text": [
      "\n",
      " 25%|███████████████████▉                                                             | 37/150 [03:53<11:22,  6.04s/it]\u001b[A"
     ]
    },
    {
     "name": "stdout",
     "output_type": "stream",
     "text": [
      "[<selenium.webdriver.remote.webelement.WebElement (session=\"9dde711e96f51ab43a9fa71de8b148c0\", element=\"5116429c-fa01-4094-90bd-6c9b619f11ef\")>]\n"
     ]
    },
    {
     "name": "stderr",
     "output_type": "stream",
     "text": [
      "\n",
      " 25%|████████████████████▌                                                            | 38/150 [03:59<11:13,  6.02s/it]\u001b[A"
     ]
    },
    {
     "name": "stdout",
     "output_type": "stream",
     "text": [
      "[<selenium.webdriver.remote.webelement.WebElement (session=\"9dde711e96f51ab43a9fa71de8b148c0\", element=\"1a567672-6568-4f3b-83a2-7c2b388a81a5\")>]\n"
     ]
    },
    {
     "name": "stderr",
     "output_type": "stream",
     "text": [
      "\n",
      " 26%|█████████████████████                                                            | 39/150 [04:05<11:01,  5.96s/it]\u001b[A"
     ]
    },
    {
     "name": "stdout",
     "output_type": "stream",
     "text": [
      "[<selenium.webdriver.remote.webelement.WebElement (session=\"9dde711e96f51ab43a9fa71de8b148c0\", element=\"57a98e0b-b1bc-43e3-abe9-a565cbdd4e79\")>]\n"
     ]
    },
    {
     "name": "stderr",
     "output_type": "stream",
     "text": [
      "\n",
      " 27%|█████████████████████▌                                                           | 40/150 [04:11<10:49,  5.91s/it]\u001b[A"
     ]
    },
    {
     "name": "stdout",
     "output_type": "stream",
     "text": [
      "[<selenium.webdriver.remote.webelement.WebElement (session=\"9dde711e96f51ab43a9fa71de8b148c0\", element=\"49af5630-434c-4002-bfae-8739c086d79e\")>]\n"
     ]
    },
    {
     "name": "stderr",
     "output_type": "stream",
     "text": [
      "\n",
      " 27%|██████████████████████▏                                                          | 41/150 [04:18<11:09,  6.14s/it]\u001b[A"
     ]
    },
    {
     "name": "stdout",
     "output_type": "stream",
     "text": [
      "[<selenium.webdriver.remote.webelement.WebElement (session=\"9dde711e96f51ab43a9fa71de8b148c0\", element=\"a4f61db0-d8c2-4ca0-bd2b-b1e9c8e0f214\")>]\n"
     ]
    },
    {
     "name": "stderr",
     "output_type": "stream",
     "text": [
      "\n",
      " 28%|██████████████████████▋                                                          | 42/150 [04:25<11:23,  6.33s/it]\u001b[A\n",
      " 27%|█████████████████████▌                                                         | 18/66 [52:47<2:06:07, 157.66s/it]\n",
      "  0%|                                                                                          | 0/150 [00:00<?, ?it/s]\u001b[A\n",
      "  1%|▌                                                                                 | 1/150 [00:06<15:58,  6.44s/it]\u001b[A"
     ]
    },
    {
     "name": "stdout",
     "output_type": "stream",
     "text": [
      "[<selenium.webdriver.remote.webelement.WebElement (session=\"9dde711e96f51ab43a9fa71de8b148c0\", element=\"23cc1344-f562-40c2-ba52-c51565bff9fb\")>]\n"
     ]
    },
    {
     "name": "stderr",
     "output_type": "stream",
     "text": [
      "\n",
      "  1%|█                                                                                 | 2/150 [00:12<14:47,  6.00s/it]\u001b[A"
     ]
    },
    {
     "name": "stdout",
     "output_type": "stream",
     "text": [
      "[<selenium.webdriver.remote.webelement.WebElement (session=\"9dde711e96f51ab43a9fa71de8b148c0\", element=\"3f8f6c4a-b42f-4a2a-8315-95f7375569eb\")>]\n"
     ]
    },
    {
     "name": "stderr",
     "output_type": "stream",
     "text": [
      "\n",
      "  2%|█▋                                                                                | 3/150 [00:18<15:10,  6.20s/it]\u001b[A"
     ]
    },
    {
     "name": "stdout",
     "output_type": "stream",
     "text": [
      "[<selenium.webdriver.remote.webelement.WebElement (session=\"9dde711e96f51ab43a9fa71de8b148c0\", element=\"e1300162-b08b-445a-9660-2da113275463\")>]\n"
     ]
    },
    {
     "name": "stderr",
     "output_type": "stream",
     "text": [
      "\n",
      "  3%|██▏                                                                               | 4/150 [00:24<14:33,  5.98s/it]\u001b[A"
     ]
    },
    {
     "name": "stdout",
     "output_type": "stream",
     "text": [
      "[<selenium.webdriver.remote.webelement.WebElement (session=\"9dde711e96f51ab43a9fa71de8b148c0\", element=\"1c1b95de-1bdc-4e10-992e-7f96b94cdcdf\")>]\n"
     ]
    },
    {
     "name": "stderr",
     "output_type": "stream",
     "text": [
      "\n",
      "  3%|██▋                                                                               | 5/150 [00:30<14:50,  6.14s/it]\u001b[A"
     ]
    },
    {
     "name": "stdout",
     "output_type": "stream",
     "text": [
      "[<selenium.webdriver.remote.webelement.WebElement (session=\"9dde711e96f51ab43a9fa71de8b148c0\", element=\"6ce9ba10-7f6b-45d1-829d-5590e6a59fea\")>]\n"
     ]
    },
    {
     "name": "stderr",
     "output_type": "stream",
     "text": [
      "\n",
      "  4%|███▎                                                                              | 6/150 [00:37<15:01,  6.26s/it]\u001b[A"
     ]
    },
    {
     "name": "stdout",
     "output_type": "stream",
     "text": [
      "[<selenium.webdriver.remote.webelement.WebElement (session=\"9dde711e96f51ab43a9fa71de8b148c0\", element=\"b2e79dba-7421-43f0-9a9a-e179960f09d2\")>]\n",
      "[<selenium.webdriver.remote.webelement.WebElement (session=\"9dde711e96f51ab43a9fa71de8b148c0\", element=\"43aec0f2-c3ff-43d8-8fcf-f321bb4a93af\")>]\n"
     ]
    },
    {
     "name": "stderr",
     "output_type": "stream",
     "text": [
      "\n",
      "  5%|███▊                                                                              | 7/150 [00:43<15:06,  6.34s/it]\u001b[A\n",
      "  5%|████▎                                                                             | 8/150 [00:49<15:01,  6.35s/it]\u001b[A"
     ]
    },
    {
     "name": "stdout",
     "output_type": "stream",
     "text": [
      "[<selenium.webdriver.remote.webelement.WebElement (session=\"9dde711e96f51ab43a9fa71de8b148c0\", element=\"c0152e7b-1fbc-49d9-8a9f-0791b83679e2\")>]\n",
      "[<selenium.webdriver.remote.webelement.WebElement (session=\"9dde711e96f51ab43a9fa71de8b148c0\", element=\"b501b1b4-39c3-47da-8701-111630fecddc\")>]\n"
     ]
    },
    {
     "name": "stderr",
     "output_type": "stream",
     "text": [
      "\n",
      "  6%|████▉                                                                             | 9/150 [00:56<15:05,  6.42s/it]\u001b[A"
     ]
    },
    {
     "name": "stdout",
     "output_type": "stream",
     "text": [
      "[<selenium.webdriver.remote.webelement.WebElement (session=\"9dde711e96f51ab43a9fa71de8b148c0\", element=\"433082fd-9407-4eef-bfe2-02edefaf7324\")>]\n"
     ]
    },
    {
     "name": "stderr",
     "output_type": "stream",
     "text": [
      "\n",
      "  7%|█████▍                                                                           | 10/150 [01:03<14:59,  6.43s/it]\u001b[A\n",
      "  7%|█████▉                                                                           | 11/150 [01:08<14:17,  6.17s/it]\u001b[A"
     ]
    },
    {
     "name": "stdout",
     "output_type": "stream",
     "text": [
      "[<selenium.webdriver.remote.webelement.WebElement (session=\"9dde711e96f51ab43a9fa71de8b148c0\", element=\"7247fd16-e4dd-4487-a54f-45cce51661b1\")>]\n"
     ]
    },
    {
     "name": "stderr",
     "output_type": "stream",
     "text": [
      "\n",
      "  8%|██████▍                                                                          | 12/150 [01:14<13:48,  6.00s/it]\u001b[A"
     ]
    },
    {
     "name": "stdout",
     "output_type": "stream",
     "text": [
      "[<selenium.webdriver.remote.webelement.WebElement (session=\"9dde711e96f51ab43a9fa71de8b148c0\", element=\"f4cc9cf2-dd0e-4e35-a207-39767e0eb334\")>]\n"
     ]
    },
    {
     "name": "stderr",
     "output_type": "stream",
     "text": [
      "\n",
      "  9%|███████                                                                          | 13/150 [01:20<13:57,  6.11s/it]\u001b[A"
     ]
    },
    {
     "name": "stdout",
     "output_type": "stream",
     "text": [
      "[<selenium.webdriver.remote.webelement.WebElement (session=\"9dde711e96f51ab43a9fa71de8b148c0\", element=\"694fa822-1c53-43d2-923a-64ea00e0f5ec\")>]\n"
     ]
    },
    {
     "name": "stderr",
     "output_type": "stream",
     "text": [
      "\n",
      "  9%|███████▌                                                                         | 14/150 [01:26<13:33,  5.98s/it]\u001b[A"
     ]
    },
    {
     "name": "stdout",
     "output_type": "stream",
     "text": [
      "[<selenium.webdriver.remote.webelement.WebElement (session=\"9dde711e96f51ab43a9fa71de8b148c0\", element=\"994377f7-7fba-4624-8882-424f11fa11e2\")>]\n"
     ]
    },
    {
     "name": "stderr",
     "output_type": "stream",
     "text": [
      "\n",
      " 10%|████████                                                                         | 15/150 [01:31<13:09,  5.85s/it]\u001b[A"
     ]
    },
    {
     "name": "stdout",
     "output_type": "stream",
     "text": [
      "[<selenium.webdriver.remote.webelement.WebElement (session=\"9dde711e96f51ab43a9fa71de8b148c0\", element=\"4de759c3-1226-49a9-a4ee-987c0b985c37\")>]\n"
     ]
    },
    {
     "name": "stderr",
     "output_type": "stream",
     "text": [
      "\n",
      " 11%|████████▋                                                                        | 16/150 [01:37<12:54,  5.78s/it]\u001b[A"
     ]
    },
    {
     "name": "stdout",
     "output_type": "stream",
     "text": [
      "[<selenium.webdriver.remote.webelement.WebElement (session=\"9dde711e96f51ab43a9fa71de8b148c0\", element=\"1fe3d4e8-5829-4fb0-a782-2226d0ff3e2a\")>]\n"
     ]
    },
    {
     "name": "stderr",
     "output_type": "stream",
     "text": [
      "\n"
     ]
    },
    {
     "name": "stdout",
     "output_type": "stream",
     "text": [
      "[<selenium.webdriver.remote.webelement.WebElement (session=\"9dde711e96f51ab43a9fa71de8b148c0\", element=\"de21c1aa-a6e8-4338-841c-41dfd433c222\")>]\n"
     ]
    },
    {
     "name": "stderr",
     "output_type": "stream",
     "text": [
      " 11%|█████████▏                                                                       | 17/150 [01:43<13:16,  5.99s/it]\u001b[A"
     ]
    },
    {
     "name": "stdout",
     "output_type": "stream",
     "text": [
      "[<selenium.webdriver.remote.webelement.WebElement (session=\"9dde711e96f51ab43a9fa71de8b148c0\", element=\"439c0571-fd65-4610-b3b1-1e7508795804\")>]\n"
     ]
    },
    {
     "name": "stderr",
     "output_type": "stream",
     "text": [
      "\n",
      " 12%|█████████▋                                                                       | 18/150 [01:50<13:41,  6.22s/it]\u001b[A\n",
      " 13%|██████████▎                                                                      | 19/150 [01:56<13:14,  6.07s/it]\u001b[A"
     ]
    },
    {
     "name": "stdout",
     "output_type": "stream",
     "text": [
      "[<selenium.webdriver.remote.webelement.WebElement (session=\"9dde711e96f51ab43a9fa71de8b148c0\", element=\"e2a335ba-da51-4563-991b-33df19e98aac\")>]\n"
     ]
    },
    {
     "name": "stderr",
     "output_type": "stream",
     "text": [
      "\n",
      " 13%|██████████▊                                                                      | 20/150 [02:02<13:20,  6.16s/it]\u001b[A"
     ]
    },
    {
     "name": "stdout",
     "output_type": "stream",
     "text": [
      "[<selenium.webdriver.remote.webelement.WebElement (session=\"9dde711e96f51ab43a9fa71de8b148c0\", element=\"21f34e37-66d8-4e2c-995a-a4ebb1ee33b2\")>]\n"
     ]
    },
    {
     "name": "stderr",
     "output_type": "stream",
     "text": [
      "\n",
      " 14%|███████████▎                                                                     | 21/150 [02:08<12:57,  6.02s/it]\u001b[A"
     ]
    },
    {
     "name": "stdout",
     "output_type": "stream",
     "text": [
      "[<selenium.webdriver.remote.webelement.WebElement (session=\"9dde711e96f51ab43a9fa71de8b148c0\", element=\"ebf2eacb-685d-488f-a134-c771aa16956e\")>]\n",
      "[<selenium.webdriver.remote.webelement.WebElement (session=\"9dde711e96f51ab43a9fa71de8b148c0\", element=\"aff9beab-2fc9-4e6e-919f-387c475602be\")>]\n"
     ]
    },
    {
     "name": "stderr",
     "output_type": "stream",
     "text": [
      "\n",
      " 15%|███████████▉                                                                     | 22/150 [02:15<13:16,  6.22s/it]\u001b[A\n",
      " 15%|████████████▍                                                                    | 23/150 [02:21<13:13,  6.25s/it]\u001b[A"
     ]
    },
    {
     "name": "stdout",
     "output_type": "stream",
     "text": [
      "[<selenium.webdriver.remote.webelement.WebElement (session=\"9dde711e96f51ab43a9fa71de8b148c0\", element=\"b764c4ee-72a3-47dd-97fa-a9f3d24ed488\")>]\n"
     ]
    },
    {
     "name": "stderr",
     "output_type": "stream",
     "text": [
      "\n",
      " 16%|████████████▉                                                                    | 24/150 [02:27<13:14,  6.30s/it]\u001b[A"
     ]
    },
    {
     "name": "stdout",
     "output_type": "stream",
     "text": [
      "[<selenium.webdriver.remote.webelement.WebElement (session=\"9dde711e96f51ab43a9fa71de8b148c0\", element=\"7f82ae3f-2c8f-42a9-9e37-b653c910a40b\")>]\n",
      "[<selenium.webdriver.remote.webelement.WebElement (session=\"9dde711e96f51ab43a9fa71de8b148c0\", element=\"982d8605-c19f-4df3-8002-e39ba0a2d86a\")>]\n"
     ]
    },
    {
     "name": "stderr",
     "output_type": "stream",
     "text": [
      "\n",
      " 17%|█████████████▌                                                                   | 25/150 [02:33<12:44,  6.12s/it]\u001b[A\n",
      " 17%|██████████████                                                                   | 26/150 [02:40<12:51,  6.22s/it]\u001b[A"
     ]
    },
    {
     "name": "stdout",
     "output_type": "stream",
     "text": [
      "[<selenium.webdriver.remote.webelement.WebElement (session=\"9dde711e96f51ab43a9fa71de8b148c0\", element=\"7fc2f142-ac1f-4c8b-97cc-b6a6c69310fa\")>]\n"
     ]
    },
    {
     "name": "stderr",
     "output_type": "stream",
     "text": [
      "\n",
      " 18%|██████████████▌                                                                  | 27/150 [02:46<12:50,  6.27s/it]"
     ]
    },
    {
     "name": "stdout",
     "output_type": "stream",
     "text": [
      "[<selenium.webdriver.remote.webelement.WebElement (session=\"9dde711e96f51ab43a9fa71de8b148c0\", element=\"ab25ceb7-5af5-4f04-8167-5792053b886c\")>]\n"
     ]
    },
    {
     "name": "stderr",
     "output_type": "stream",
     "text": [
      "\u001b[A\n",
      " 19%|███████████████                                                                  | 28/150 [02:52<12:49,  6.31s/it]\u001b[A"
     ]
    },
    {
     "name": "stdout",
     "output_type": "stream",
     "text": [
      "[<selenium.webdriver.remote.webelement.WebElement (session=\"9dde711e96f51ab43a9fa71de8b148c0\", element=\"5af786ab-c9f6-45e7-bc92-fba294a155b7\")>]\n"
     ]
    },
    {
     "name": "stderr",
     "output_type": "stream",
     "text": [
      "\n",
      " 19%|███████████████▋                                                                 | 29/150 [02:58<12:17,  6.10s/it]\u001b[A"
     ]
    },
    {
     "name": "stdout",
     "output_type": "stream",
     "text": [
      "[<selenium.webdriver.remote.webelement.WebElement (session=\"9dde711e96f51ab43a9fa71de8b148c0\", element=\"c0b5ecb3-a54c-4e9d-bfe7-b3505847405c\")>]\n"
     ]
    },
    {
     "name": "stderr",
     "output_type": "stream",
     "text": [
      "\n",
      " 20%|████████████████▏                                                                | 30/150 [03:04<11:53,  5.95s/it]\u001b[A"
     ]
    },
    {
     "name": "stdout",
     "output_type": "stream",
     "text": [
      "[<selenium.webdriver.remote.webelement.WebElement (session=\"9dde711e96f51ab43a9fa71de8b148c0\", element=\"9ad295ba-167e-467f-bf00-8eaf36c98f5c\")>]\n",
      "[<selenium.webdriver.remote.webelement.WebElement (session=\"9dde711e96f51ab43a9fa71de8b148c0\", element=\"7092e27c-046e-4bdd-919c-2dc79fc98022\")>]\n"
     ]
    },
    {
     "name": "stderr",
     "output_type": "stream",
     "text": [
      "\n",
      " 21%|████████████████▋                                                                | 31/150 [03:09<11:42,  5.90s/it]\u001b[A\n",
      " 21%|█████████████████▎                                                               | 32/150 [03:16<11:54,  6.05s/it]\u001b[A"
     ]
    },
    {
     "name": "stdout",
     "output_type": "stream",
     "text": [
      "[<selenium.webdriver.remote.webelement.WebElement (session=\"9dde711e96f51ab43a9fa71de8b148c0\", element=\"ea78a738-5670-4b0d-b683-14f121f7838d\")>]\n",
      "[<selenium.webdriver.remote.webelement.WebElement (session=\"9dde711e96f51ab43a9fa71de8b148c0\", element=\"c38c01ba-f32c-44b7-8154-3c4f0f5ee235\")>]\n"
     ]
    },
    {
     "name": "stderr",
     "output_type": "stream",
     "text": [
      "\n",
      " 22%|█████████████████▊                                                               | 33/150 [03:21<11:36,  5.95s/it]\u001b[A"
     ]
    },
    {
     "name": "stdout",
     "output_type": "stream",
     "text": [
      "[<selenium.webdriver.remote.webelement.WebElement (session=\"9dde711e96f51ab43a9fa71de8b148c0\", element=\"df3d40db-96f1-4aed-8175-63e95dd7b223\")>]\n"
     ]
    },
    {
     "name": "stderr",
     "output_type": "stream",
     "text": [
      "\n",
      " 23%|██████████████████▎                                                              | 34/150 [03:27<11:22,  5.88s/it]\u001b[A"
     ]
    },
    {
     "name": "stdout",
     "output_type": "stream",
     "text": [
      "[<selenium.webdriver.remote.webelement.WebElement (session=\"9dde711e96f51ab43a9fa71de8b148c0\", element=\"2a8e5454-b3f6-4216-a850-48029a9c04a1\")>]\n"
     ]
    },
    {
     "name": "stderr",
     "output_type": "stream",
     "text": [
      "\n",
      " 23%|██████████████████▉                                                              | 35/150 [03:33<11:13,  5.86s/it]\u001b[A\n",
      " 24%|███████████████████▍                                                             | 36/150 [03:39<11:28,  6.04s/it]\u001b[A"
     ]
    },
    {
     "name": "stdout",
     "output_type": "stream",
     "text": [
      "[<selenium.webdriver.remote.webelement.WebElement (session=\"9dde711e96f51ab43a9fa71de8b148c0\", element=\"b48282b4-eb43-4ca7-ae28-f08ebd35e78e\")>]\n",
      "[<selenium.webdriver.remote.webelement.WebElement (session=\"9dde711e96f51ab43a9fa71de8b148c0\", element=\"1a5196fa-0752-4fdb-a441-5baa505ad254\")>]\n"
     ]
    },
    {
     "name": "stderr",
     "output_type": "stream",
     "text": [
      "\n",
      " 25%|███████████████████▉                                                             | 37/150 [03:46<11:43,  6.23s/it]\u001b[A"
     ]
    },
    {
     "name": "stdout",
     "output_type": "stream",
     "text": [
      "[<selenium.webdriver.remote.webelement.WebElement (session=\"9dde711e96f51ab43a9fa71de8b148c0\", element=\"ce9f6b3a-0b18-4825-bbf4-bd0f5f637bf3\")>]\n"
     ]
    },
    {
     "name": "stderr",
     "output_type": "stream",
     "text": [
      "\n",
      " 25%|████████████████████▌                                                            | 38/150 [03:53<11:49,  6.33s/it]\u001b[A\n",
      " 26%|█████████████████████                                                            | 39/150 [03:59<11:44,  6.35s/it]\u001b[A"
     ]
    },
    {
     "name": "stdout",
     "output_type": "stream",
     "text": [
      "[<selenium.webdriver.remote.webelement.WebElement (session=\"9dde711e96f51ab43a9fa71de8b148c0\", element=\"a5666f9e-c6e1-4cf0-9bd5-5e6a21974c66\")>]\n",
      "[<selenium.webdriver.remote.webelement.WebElement (session=\"9dde711e96f51ab43a9fa71de8b148c0\", element=\"982b9ff4-31b1-468f-a75f-b13c91a31146\")>]\n"
     ]
    },
    {
     "name": "stderr",
     "output_type": "stream",
     "text": [
      "\n",
      " 27%|█████████████████████▌                                                           | 40/150 [04:05<11:41,  6.37s/it]\u001b[A\n",
      " 27%|██████████████████████▏                                                          | 41/150 [04:12<11:37,  6.40s/it]\u001b[A"
     ]
    },
    {
     "name": "stdout",
     "output_type": "stream",
     "text": [
      "[<selenium.webdriver.remote.webelement.WebElement (session=\"9dde711e96f51ab43a9fa71de8b148c0\", element=\"e2545637-3bd6-4871-913e-583d0fd7e7ad\")>]\n"
     ]
    },
    {
     "name": "stderr",
     "output_type": "stream",
     "text": [
      "\n",
      " 28%|██████████████████████▋                                                          | 42/150 [04:18<11:30,  6.40s/it]\u001b[A"
     ]
    },
    {
     "name": "stdout",
     "output_type": "stream",
     "text": [
      "[<selenium.webdriver.remote.webelement.WebElement (session=\"9dde711e96f51ab43a9fa71de8b148c0\", element=\"9fcd3874-10bd-42d3-ac09-b6e784dc6624\")>]\n"
     ]
    },
    {
     "name": "stderr",
     "output_type": "stream",
     "text": [
      "\n",
      " 29%|███████████████████████▏                                                         | 43/150 [04:25<11:19,  6.35s/it]\u001b[A"
     ]
    },
    {
     "name": "stdout",
     "output_type": "stream",
     "text": [
      "[<selenium.webdriver.remote.webelement.WebElement (session=\"9dde711e96f51ab43a9fa71de8b148c0\", element=\"809ee034-7c69-4f59-9524-42c897004a5d\")>]\n",
      "[<selenium.webdriver.remote.webelement.WebElement (session=\"9dde711e96f51ab43a9fa71de8b148c0\", element=\"047faa37-cb08-4d00-8fc9-f304691574bc\")>]\n"
     ]
    },
    {
     "name": "stderr",
     "output_type": "stream",
     "text": [
      "\n",
      " 29%|███████████████████████▊                                                         | 44/150 [04:31<11:21,  6.43s/it]\u001b[A"
     ]
    },
    {
     "name": "stdout",
     "output_type": "stream",
     "text": [
      "[<selenium.webdriver.remote.webelement.WebElement (session=\"9dde711e96f51ab43a9fa71de8b148c0\", element=\"0ac22297-8515-47be-ae46-711d48a8679b\")>]\n"
     ]
    },
    {
     "name": "stderr",
     "output_type": "stream",
     "text": [
      "\n",
      " 30%|████████████████████████▎                                                        | 45/150 [04:38<11:17,  6.46s/it]\u001b[A\n",
      " 31%|████████████████████████▊                                                        | 46/150 [04:43<10:46,  6.21s/it]\u001b[A"
     ]
    },
    {
     "name": "stdout",
     "output_type": "stream",
     "text": [
      "[<selenium.webdriver.remote.webelement.WebElement (session=\"9dde711e96f51ab43a9fa71de8b148c0\", element=\"66b6a938-8fb8-41ef-81d6-cd0771cdb799\")>]\n"
     ]
    },
    {
     "name": "stderr",
     "output_type": "stream",
     "text": [
      "\n",
      " 31%|█████████████████████████▍                                                       | 47/150 [04:50<10:42,  6.24s/it]\u001b[A"
     ]
    },
    {
     "name": "stdout",
     "output_type": "stream",
     "text": [
      "[<selenium.webdriver.remote.webelement.WebElement (session=\"9dde711e96f51ab43a9fa71de8b148c0\", element=\"f44e06d0-e0af-4c1d-b4de-4d9c84b0f4cf\")>]\n"
     ]
    },
    {
     "name": "stderr",
     "output_type": "stream",
     "text": [
      "\n",
      " 32%|█████████████████████████▉                                                       | 48/150 [04:55<10:17,  6.05s/it]\u001b[A"
     ]
    },
    {
     "name": "stdout",
     "output_type": "stream",
     "text": [
      "[<selenium.webdriver.remote.webelement.WebElement (session=\"9dde711e96f51ab43a9fa71de8b148c0\", element=\"b901262f-98d2-4875-a0df-8602d7e6c1cd\")>]\n",
      "[<selenium.webdriver.remote.webelement.WebElement (session=\"9dde711e96f51ab43a9fa71de8b148c0\", element=\"dfad6b18-268c-4315-b74e-cb17464b472a\")>]\n"
     ]
    },
    {
     "name": "stderr",
     "output_type": "stream",
     "text": [
      "\n",
      " 33%|██████████████████████████▍                                                      | 49/150 [05:02<10:23,  6.18s/it]\u001b[A"
     ]
    },
    {
     "name": "stdout",
     "output_type": "stream",
     "text": [
      "[<selenium.webdriver.remote.webelement.WebElement (session=\"9dde711e96f51ab43a9fa71de8b148c0\", element=\"5860fa54-c05f-4967-aa70-68db241b8833\")>]\n"
     ]
    },
    {
     "name": "stderr",
     "output_type": "stream",
     "text": [
      "\n",
      " 33%|███████████████████████████                                                      | 50/150 [05:08<10:28,  6.28s/it]\u001b[A"
     ]
    },
    {
     "name": "stdout",
     "output_type": "stream",
     "text": [
      "[<selenium.webdriver.remote.webelement.WebElement (session=\"9dde711e96f51ab43a9fa71de8b148c0\", element=\"c6e0dbc4-6dbe-4a06-89fb-3f393dd401e6\")>]\n"
     ]
    },
    {
     "name": "stderr",
     "output_type": "stream",
     "text": [
      "\n",
      " 34%|███████████████████████████▌                                                     | 51/150 [05:15<10:27,  6.34s/it]\u001b[A\n",
      " 35%|████████████████████████████                                                     | 52/150 [05:21<10:24,  6.37s/it]\u001b[A"
     ]
    },
    {
     "name": "stdout",
     "output_type": "stream",
     "text": [
      "[<selenium.webdriver.remote.webelement.WebElement (session=\"9dde711e96f51ab43a9fa71de8b148c0\", element=\"6d9b2d59-0c9f-4d09-8ca9-9a78fd8928dd\")>]\n"
     ]
    },
    {
     "name": "stderr",
     "output_type": "stream",
     "text": [
      "\n",
      " 35%|████████████████████████████▌                                                    | 53/150 [05:27<10:16,  6.35s/it]\u001b[A"
     ]
    },
    {
     "name": "stdout",
     "output_type": "stream",
     "text": [
      "[<selenium.webdriver.remote.webelement.WebElement (session=\"9dde711e96f51ab43a9fa71de8b148c0\", element=\"e529eba6-4687-4280-b352-96df93892238\")>]\n"
     ]
    },
    {
     "name": "stderr",
     "output_type": "stream",
     "text": [
      "\n",
      " 36%|█████████████████████████████▏                                                   | 54/150 [05:34<10:12,  6.38s/it]\u001b[A"
     ]
    },
    {
     "name": "stdout",
     "output_type": "stream",
     "text": [
      "[<selenium.webdriver.remote.webelement.WebElement (session=\"9dde711e96f51ab43a9fa71de8b148c0\", element=\"982ad1ba-ad03-4d30-85e2-b3568d619e97\")>]\n",
      "[<selenium.webdriver.remote.webelement.WebElement (session=\"9dde711e96f51ab43a9fa71de8b148c0\", element=\"5c27a3d9-470b-457c-ac0b-6e6d55d83b01\")>]\n"
     ]
    },
    {
     "name": "stderr",
     "output_type": "stream",
     "text": [
      "\n",
      " 37%|█████████████████████████████▋                                                   | 55/150 [05:40<10:11,  6.43s/it]\u001b[A\n",
      " 37%|██████████████████████████████▏                                                  | 56/150 [05:47<10:04,  6.44s/it]\u001b[A"
     ]
    },
    {
     "name": "stdout",
     "output_type": "stream",
     "text": [
      "[<selenium.webdriver.remote.webelement.WebElement (session=\"9dde711e96f51ab43a9fa71de8b148c0\", element=\"b035ae2a-4181-4efe-926e-e4483e5ab15a\")>]\n"
     ]
    },
    {
     "name": "stderr",
     "output_type": "stream",
     "text": [
      "\n",
      " 38%|██████████████████████████████▊                                                  | 57/150 [05:53<09:57,  6.43s/it]\u001b[A"
     ]
    },
    {
     "name": "stdout",
     "output_type": "stream",
     "text": [
      "[<selenium.webdriver.remote.webelement.WebElement (session=\"9dde711e96f51ab43a9fa71de8b148c0\", element=\"d68f5bf4-1404-4582-80cd-53a36378617e\")>]\n"
     ]
    },
    {
     "name": "stderr",
     "output_type": "stream",
     "text": [
      "\n",
      " 39%|███████████████████████████████▎                                                 | 58/150 [06:00<09:49,  6.41s/it]\u001b[A"
     ]
    },
    {
     "name": "stdout",
     "output_type": "stream",
     "text": [
      "[<selenium.webdriver.remote.webelement.WebElement (session=\"9dde711e96f51ab43a9fa71de8b148c0\", element=\"eda44608-4b66-4213-93a5-4c120a300fb1\")>]\n"
     ]
    },
    {
     "name": "stderr",
     "output_type": "stream",
     "text": [
      "\n"
     ]
    },
    {
     "name": "stdout",
     "output_type": "stream",
     "text": [
      "[<selenium.webdriver.remote.webelement.WebElement (session=\"9dde711e96f51ab43a9fa71de8b148c0\", element=\"9e47b485-1a25-45bb-9a5e-8fc5dcd4c913\")>]\n"
     ]
    },
    {
     "name": "stderr",
     "output_type": "stream",
     "text": [
      " 39%|███████████████████████████████▊                                                 | 59/150 [06:06<09:47,  6.46s/it]\u001b[A\n",
      " 40%|████████████████████████████████▍                                                | 60/150 [06:13<09:42,  6.48s/it]\u001b[A"
     ]
    },
    {
     "name": "stdout",
     "output_type": "stream",
     "text": [
      "[<selenium.webdriver.remote.webelement.WebElement (session=\"9dde711e96f51ab43a9fa71de8b148c0\", element=\"f35c56c8-9f4f-4e88-b876-750268f40b73\")>]\n"
     ]
    },
    {
     "name": "stderr",
     "output_type": "stream",
     "text": [
      "\n",
      " 41%|████████████████████████████████▉                                                | 61/150 [06:19<09:34,  6.46s/it]\u001b[A"
     ]
    },
    {
     "name": "stdout",
     "output_type": "stream",
     "text": [
      "[<selenium.webdriver.remote.webelement.WebElement (session=\"9dde711e96f51ab43a9fa71de8b148c0\", element=\"94683a2a-3e2f-42b0-830b-8c7cf5d46bf8\")>]\n"
     ]
    },
    {
     "name": "stderr",
     "output_type": "stream",
     "text": [
      "\n",
      " 41%|█████████████████████████████████▍                                               | 62/150 [06:25<09:08,  6.23s/it]\u001b[A"
     ]
    },
    {
     "name": "stdout",
     "output_type": "stream",
     "text": [
      "[<selenium.webdriver.remote.webelement.WebElement (session=\"9dde711e96f51ab43a9fa71de8b148c0\", element=\"12168f22-dda8-46d3-82c4-4321803ff900\")>]\n"
     ]
    },
    {
     "name": "stderr",
     "output_type": "stream",
     "text": [
      "\n",
      " 42%|██████████████████████████████████                                               | 63/150 [06:31<09:05,  6.27s/it]\u001b[A"
     ]
    },
    {
     "name": "stdout",
     "output_type": "stream",
     "text": [
      "[<selenium.webdriver.remote.webelement.WebElement (session=\"9dde711e96f51ab43a9fa71de8b148c0\", element=\"7c7759fa-6368-4837-bc10-7b5855d8164c\")>]\n"
     ]
    },
    {
     "name": "stderr",
     "output_type": "stream",
     "text": [
      "\n",
      " 43%|██████████████████████████████████▌                                              | 64/150 [06:38<09:05,  6.34s/it]\u001b[A"
     ]
    },
    {
     "name": "stdout",
     "output_type": "stream",
     "text": [
      "[<selenium.webdriver.remote.webelement.WebElement (session=\"9dde711e96f51ab43a9fa71de8b148c0\", element=\"21db52d8-f455-4616-afb4-c03e10f31bae\")>]\n"
     ]
    },
    {
     "name": "stderr",
     "output_type": "stream",
     "text": [
      "\n",
      " 43%|███████████████████████████████████                                              | 65/150 [06:44<09:01,  6.37s/it]\u001b[A"
     ]
    },
    {
     "name": "stdout",
     "output_type": "stream",
     "text": [
      "[<selenium.webdriver.remote.webelement.WebElement (session=\"9dde711e96f51ab43a9fa71de8b148c0\", element=\"cd0c5447-9ab5-4de9-a07f-3abb0d377ea9\")>]\n",
      "[<selenium.webdriver.remote.webelement.WebElement (session=\"9dde711e96f51ab43a9fa71de8b148c0\", element=\"9986a35b-0d4f-488e-be8d-2122ad25c597\")>]\n"
     ]
    },
    {
     "name": "stderr",
     "output_type": "stream",
     "text": [
      "\n",
      " 44%|███████████████████████████████████▋                                             | 66/150 [06:51<08:59,  6.43s/it]\u001b[A\n",
      " 45%|████████████████████████████████████▏                                            | 67/150 [06:56<08:32,  6.17s/it]\u001b[A"
     ]
    },
    {
     "name": "stdout",
     "output_type": "stream",
     "text": [
      "[<selenium.webdriver.remote.webelement.WebElement (session=\"9dde711e96f51ab43a9fa71de8b148c0\", element=\"8b5cc1de-8981-41aa-922b-8184a332a0b5\")>]\n",
      "[<selenium.webdriver.remote.webelement.WebElement (session=\"9dde711e96f51ab43a9fa71de8b148c0\", element=\"a95480df-7a1e-45a6-b503-6a58a0252cdd\")>]\n"
     ]
    },
    {
     "name": "stderr",
     "output_type": "stream",
     "text": [
      "\n",
      " 45%|████████████████████████████████████▋                                            | 68/150 [07:03<08:38,  6.33s/it]\u001b[A"
     ]
    },
    {
     "name": "stdout",
     "output_type": "stream",
     "text": [
      "[<selenium.webdriver.remote.webelement.WebElement (session=\"9dde711e96f51ab43a9fa71de8b148c0\", element=\"ece34338-b84b-44e1-89b4-919457552ea7\")>]\n"
     ]
    },
    {
     "name": "stderr",
     "output_type": "stream",
     "text": [
      "\n",
      " 46%|█████████████████████████████████████▎                                           | 69/150 [07:10<08:42,  6.45s/it]\u001b[A\n",
      " 47%|█████████████████████████████████████▊                                           | 70/150 [07:16<08:36,  6.45s/it]\u001b[A"
     ]
    },
    {
     "name": "stdout",
     "output_type": "stream",
     "text": [
      "[<selenium.webdriver.remote.webelement.WebElement (session=\"9dde711e96f51ab43a9fa71de8b148c0\", element=\"6b7e89aa-279c-4028-9c8d-7f9b23fdd62e\")>]\n",
      "[<selenium.webdriver.remote.webelement.WebElement (session=\"9dde711e96f51ab43a9fa71de8b148c0\", element=\"f4aa6899-5308-425d-a447-53bd425368d1\")>]\n"
     ]
    },
    {
     "name": "stderr",
     "output_type": "stream",
     "text": [
      "\n",
      " 47%|██████████████████████████████████████▎                                          | 71/150 [07:23<08:32,  6.49s/it]\u001b[A"
     ]
    },
    {
     "name": "stdout",
     "output_type": "stream",
     "text": [
      "[<selenium.webdriver.remote.webelement.WebElement (session=\"9dde711e96f51ab43a9fa71de8b148c0\", element=\"ee8ef2f8-795b-40c9-9106-6d2050a64549\")>]\n"
     ]
    },
    {
     "name": "stderr",
     "output_type": "stream",
     "text": [
      "\n",
      " 48%|██████████████████████████████████████▉                                          | 72/150 [07:29<08:08,  6.26s/it]\u001b[A"
     ]
    },
    {
     "name": "stdout",
     "output_type": "stream",
     "text": [
      "[<selenium.webdriver.remote.webelement.WebElement (session=\"9dde711e96f51ab43a9fa71de8b148c0\", element=\"f1ca3b32-40b6-4073-a90b-31dc10152fed\")>]\n"
     ]
    },
    {
     "name": "stderr",
     "output_type": "stream",
     "text": [
      "\n",
      " 49%|███████████████████████████████████████▍                                         | 73/150 [07:35<08:09,  6.36s/it]\u001b[A"
     ]
    },
    {
     "name": "stdout",
     "output_type": "stream",
     "text": [
      "[<selenium.webdriver.remote.webelement.WebElement (session=\"9dde711e96f51ab43a9fa71de8b148c0\", element=\"58e2b59b-bd4f-4479-9ef9-899476c60dd4\")>]\n"
     ]
    },
    {
     "name": "stderr",
     "output_type": "stream",
     "text": [
      "\n",
      " 49%|███████████████████████████████████████▉                                         | 74/150 [07:42<08:08,  6.42s/it]\u001b[A\n",
      " 50%|████████████████████████████████████████▌                                        | 75/150 [07:47<07:43,  6.18s/it]\u001b[A"
     ]
    },
    {
     "name": "stdout",
     "output_type": "stream",
     "text": [
      "[<selenium.webdriver.remote.webelement.WebElement (session=\"9dde711e96f51ab43a9fa71de8b148c0\", element=\"6306c909-33d6-4d74-882b-caece7e2f6be\")>]\n"
     ]
    },
    {
     "name": "stderr",
     "output_type": "stream",
     "text": [
      "\n",
      " 51%|█████████████████████████████████████████                                        | 76/150 [07:54<07:44,  6.28s/it]\u001b[A"
     ]
    },
    {
     "name": "stdout",
     "output_type": "stream",
     "text": [
      "[<selenium.webdriver.remote.webelement.WebElement (session=\"9dde711e96f51ab43a9fa71de8b148c0\", element=\"51967913-7ccb-4d5f-a628-db367c9895dc\")>]\n",
      "[<selenium.webdriver.remote.webelement.WebElement (session=\"9dde711e96f51ab43a9fa71de8b148c0\", element=\"ce2ae011-e7fe-4dfc-b78a-cdd25a4fcea2\")>]\n"
     ]
    },
    {
     "name": "stderr",
     "output_type": "stream",
     "text": [
      "\n",
      " 51%|█████████████████████████████████████████▌                                       | 77/150 [08:00<07:42,  6.34s/it]\u001b[A"
     ]
    },
    {
     "name": "stdout",
     "output_type": "stream",
     "text": [
      "[<selenium.webdriver.remote.webelement.WebElement (session=\"9dde711e96f51ab43a9fa71de8b148c0\", element=\"498d193f-9357-4578-8412-e661d780467b\")>]\n"
     ]
    },
    {
     "name": "stderr",
     "output_type": "stream",
     "text": [
      "\n",
      " 52%|██████████████████████████████████████████                                       | 78/150 [08:08<07:56,  6.62s/it]\u001b[A\n",
      " 53%|██████████████████████████████████████████▋                                      | 79/150 [08:14<07:46,  6.58s/it]\u001b[A"
     ]
    },
    {
     "name": "stdout",
     "output_type": "stream",
     "text": [
      "[<selenium.webdriver.remote.webelement.WebElement (session=\"9dde711e96f51ab43a9fa71de8b148c0\", element=\"c04ff8cc-77be-415d-809e-3ea8705d1c39\")>]\n",
      "[<selenium.webdriver.remote.webelement.WebElement (session=\"9dde711e96f51ab43a9fa71de8b148c0\", element=\"bd42d82c-ad38-43d4-acc4-f4307bd6dd37\")>]\n"
     ]
    },
    {
     "name": "stderr",
     "output_type": "stream",
     "text": [
      "\n",
      " 53%|███████████████████████████████████████████▏                                     | 80/150 [08:21<07:40,  6.58s/it]\u001b[A\n"
     ]
    },
    {
     "name": "stdout",
     "output_type": "stream",
     "text": [
      "[<selenium.webdriver.remote.webelement.WebElement (session=\"9dde711e96f51ab43a9fa71de8b148c0\", element=\"c0612f90-f48a-473e-aeff-fa78913f5530\")>]\n"
     ]
    },
    {
     "name": "stderr",
     "output_type": "stream",
     "text": [
      " 54%|███████████████████████████████████████████▋                                     | 81/150 [08:27<07:33,  6.57s/it]\u001b[A\n",
      " 55%|████████████████████████████████████████████▎                                    | 82/150 [08:34<07:22,  6.50s/it]\u001b[A"
     ]
    },
    {
     "name": "stdout",
     "output_type": "stream",
     "text": [
      "[<selenium.webdriver.remote.webelement.WebElement (session=\"9dde711e96f51ab43a9fa71de8b148c0\", element=\"f1cb9913-082d-4dd1-9a02-e21ba56e46b8\")>]\n",
      "[<selenium.webdriver.remote.webelement.WebElement (session=\"9dde711e96f51ab43a9fa71de8b148c0\", element=\"1d12d9c1-3762-49cf-9509-bb98e25a7978\")>]\n"
     ]
    },
    {
     "name": "stderr",
     "output_type": "stream",
     "text": [
      "\n",
      " 55%|████████████████████████████████████████████▊                                    | 83/150 [08:40<07:15,  6.49s/it]\u001b[A\n",
      " 56%|█████████████████████████████████████████████▎                                   | 84/150 [08:46<07:06,  6.46s/it]\u001b[A"
     ]
    },
    {
     "name": "stdout",
     "output_type": "stream",
     "text": [
      "[<selenium.webdriver.remote.webelement.WebElement (session=\"9dde711e96f51ab43a9fa71de8b148c0\", element=\"3a2b0ce1-d8f0-4bbe-a915-2f87ad5118c5\")>]\n"
     ]
    },
    {
     "name": "stderr",
     "output_type": "stream",
     "text": [
      "\n",
      " 57%|█████████████████████████████████████████████▉                                   | 85/150 [08:52<06:44,  6.23s/it]\u001b[A"
     ]
    },
    {
     "name": "stdout",
     "output_type": "stream",
     "text": [
      "[<selenium.webdriver.remote.webelement.WebElement (session=\"9dde711e96f51ab43a9fa71de8b148c0\", element=\"291cce57-dae9-45c2-82c2-ffcbc4d84e18\")>]\n"
     ]
    },
    {
     "name": "stderr",
     "output_type": "stream",
     "text": [
      "\n"
     ]
    },
    {
     "name": "stdout",
     "output_type": "stream",
     "text": [
      "[<selenium.webdriver.remote.webelement.WebElement (session=\"9dde711e96f51ab43a9fa71de8b148c0\", element=\"fd076bd3-909a-44a0-833f-2555281d4794\")>]\n"
     ]
    },
    {
     "name": "stderr",
     "output_type": "stream",
     "text": [
      " 57%|██████████████████████████████████████████████▍                                  | 86/150 [08:59<06:45,  6.33s/it]\u001b[A\n",
      " 58%|██████████████████████████████████████████████▉                                  | 87/150 [09:05<06:41,  6.38s/it]\u001b[A"
     ]
    },
    {
     "name": "stdout",
     "output_type": "stream",
     "text": [
      "[<selenium.webdriver.remote.webelement.WebElement (session=\"9dde711e96f51ab43a9fa71de8b148c0\", element=\"52c87209-ee79-4355-b911-05c5f1bc3685\")>]\n",
      "[<selenium.webdriver.remote.webelement.WebElement (session=\"9dde711e96f51ab43a9fa71de8b148c0\", element=\"091171fa-918d-4a1e-a11c-6d35da77e522\")>]\n"
     ]
    },
    {
     "name": "stderr",
     "output_type": "stream",
     "text": [
      "\n",
      " 59%|███████████████████████████████████████████████▌                                 | 88/150 [09:12<06:39,  6.44s/it]\u001b[A"
     ]
    },
    {
     "name": "stdout",
     "output_type": "stream",
     "text": [
      "[<selenium.webdriver.remote.webelement.WebElement (session=\"9dde711e96f51ab43a9fa71de8b148c0\", element=\"f04dcd9f-109e-4f34-99ae-717bf51142f7\")>]\n"
     ]
    },
    {
     "name": "stderr",
     "output_type": "stream",
     "text": [
      "\n",
      " 59%|████████████████████████████████████████████████                                 | 89/150 [09:19<06:41,  6.59s/it]\u001b[A"
     ]
    },
    {
     "name": "stdout",
     "output_type": "stream",
     "text": [
      "[<selenium.webdriver.remote.webelement.WebElement (session=\"9dde711e96f51ab43a9fa71de8b148c0\", element=\"91e7f6fb-0c07-4618-ba3f-399b3d3b7dff\")>]\n"
     ]
    },
    {
     "name": "stderr",
     "output_type": "stream",
     "text": [
      "\n",
      " 60%|████████████████████████████████████████████████▌                                | 90/150 [09:25<06:34,  6.57s/it]\u001b[A\n"
     ]
    },
    {
     "name": "stdout",
     "output_type": "stream",
     "text": [
      "[<selenium.webdriver.remote.webelement.WebElement (session=\"9dde711e96f51ab43a9fa71de8b148c0\", element=\"a14ce779-f419-4279-89fa-720dd042bd24\")>]\n"
     ]
    },
    {
     "name": "stderr",
     "output_type": "stream",
     "text": [
      " 61%|█████████████████████████████████████████████████▏                               | 91/150 [09:32<06:26,  6.54s/it]\u001b[A\n"
     ]
    },
    {
     "name": "stdout",
     "output_type": "stream",
     "text": [
      "[<selenium.webdriver.remote.webelement.WebElement (session=\"9dde711e96f51ab43a9fa71de8b148c0\", element=\"8afeb21e-16d6-4e39-9a6a-e92471ede97c\")>]\n"
     ]
    },
    {
     "name": "stderr",
     "output_type": "stream",
     "text": [
      " 61%|█████████████████████████████████████████████████▋                               | 92/150 [09:38<06:17,  6.50s/it]\u001b[A\n",
      " 62%|██████████████████████████████████████████████████▏                              | 93/150 [09:44<06:09,  6.48s/it]\u001b[A"
     ]
    },
    {
     "name": "stdout",
     "output_type": "stream",
     "text": [
      "[<selenium.webdriver.remote.webelement.WebElement (session=\"9dde711e96f51ab43a9fa71de8b148c0\", element=\"11839f21-c764-4ded-9d3c-1635c2a5714b\")>]\n",
      "[<selenium.webdriver.remote.webelement.WebElement (session=\"9dde711e96f51ab43a9fa71de8b148c0\", element=\"a6242af3-5816-4758-9733-ad331f6a9e34\")>]\n"
     ]
    },
    {
     "name": "stderr",
     "output_type": "stream",
     "text": [
      "\n",
      " 63%|██████████████████████████████████████████████████▊                              | 94/150 [09:51<06:04,  6.51s/it]\u001b[A\n",
      " 63%|███████████████████████████████████████████████████▎                             | 95/150 [09:57<05:56,  6.47s/it]\u001b[A"
     ]
    },
    {
     "name": "stdout",
     "output_type": "stream",
     "text": [
      "[<selenium.webdriver.remote.webelement.WebElement (session=\"9dde711e96f51ab43a9fa71de8b148c0\", element=\"1b082190-c2bd-4189-ad89-667fc3f0ac46\")>]\n"
     ]
    },
    {
     "name": "stderr",
     "output_type": "stream",
     "text": [
      "\n",
      " 64%|███████████████████████████████████████████████████▊                             | 96/150 [10:04<05:49,  6.47s/it]\u001b[A"
     ]
    },
    {
     "name": "stdout",
     "output_type": "stream",
     "text": [
      "[<selenium.webdriver.remote.webelement.WebElement (session=\"9dde711e96f51ab43a9fa71de8b148c0\", element=\"90c8fa6f-198c-46da-b7f5-0cdb0793cae9\")>]\n"
     ]
    },
    {
     "name": "stderr",
     "output_type": "stream",
     "text": [
      "\n",
      " 65%|████████████████████████████████████████████████████▍                            | 97/150 [10:10<05:43,  6.48s/it]\u001b[A"
     ]
    },
    {
     "name": "stdout",
     "output_type": "stream",
     "text": [
      "[<selenium.webdriver.remote.webelement.WebElement (session=\"9dde711e96f51ab43a9fa71de8b148c0\", element=\"e936562a-53c0-43be-a136-4cf27acd999a\")>]\n"
     ]
    },
    {
     "name": "stderr",
     "output_type": "stream",
     "text": [
      "\n",
      " 65%|████████████████████████████████████████████████████▉                            | 98/150 [10:17<05:35,  6.46s/it]\u001b[A"
     ]
    },
    {
     "name": "stdout",
     "output_type": "stream",
     "text": [
      "[<selenium.webdriver.remote.webelement.WebElement (session=\"9dde711e96f51ab43a9fa71de8b148c0\", element=\"c6460658-d63c-4a14-88fa-5dc76f761b3f\")>]\n"
     ]
    },
    {
     "name": "stderr",
     "output_type": "stream",
     "text": [
      "\n",
      " 66%|█████████████████████████████████████████████████████▍                           | 99/150 [10:23<05:28,  6.44s/it]\u001b[A"
     ]
    },
    {
     "name": "stdout",
     "output_type": "stream",
     "text": [
      "[<selenium.webdriver.remote.webelement.WebElement (session=\"9dde711e96f51ab43a9fa71de8b148c0\", element=\"e5f0aee3-830f-45f5-a8b3-62ce6dda87ba\")>]\n"
     ]
    },
    {
     "name": "stderr",
     "output_type": "stream",
     "text": [
      "\n",
      " 67%|█████████████████████████████████████████████████████▎                          | 100/150 [10:30<05:20,  6.41s/it]\u001b[A"
     ]
    },
    {
     "name": "stdout",
     "output_type": "stream",
     "text": [
      "[<selenium.webdriver.remote.webelement.WebElement (session=\"9dde711e96f51ab43a9fa71de8b148c0\", element=\"07abae2d-3db8-437b-b228-d34aaf43621d\")>]\n"
     ]
    },
    {
     "name": "stderr",
     "output_type": "stream",
     "text": [
      "\n",
      " 67%|█████████████████████████████████████████████████████▊                          | 101/150 [10:35<05:02,  6.18s/it]\u001b[A"
     ]
    },
    {
     "name": "stdout",
     "output_type": "stream",
     "text": [
      "[<selenium.webdriver.remote.webelement.WebElement (session=\"9dde711e96f51ab43a9fa71de8b148c0\", element=\"afdef579-1249-4835-a272-474a52910dcd\")>]\n",
      "[<selenium.webdriver.remote.webelement.WebElement (session=\"9dde711e96f51ab43a9fa71de8b148c0\", element=\"e64b1837-3806-43ab-8608-49cccad771f2\")>]\n"
     ]
    },
    {
     "name": "stderr",
     "output_type": "stream",
     "text": [
      "\n",
      " 68%|██████████████████████████████████████████████████████▍                         | 102/150 [10:42<05:03,  6.32s/it]\u001b[A"
     ]
    },
    {
     "name": "stdout",
     "output_type": "stream",
     "text": [
      "[<selenium.webdriver.remote.webelement.WebElement (session=\"9dde711e96f51ab43a9fa71de8b148c0\", element=\"89c6a8e6-5682-486c-8a1f-e1fe3591c567\")>]\n"
     ]
    },
    {
     "name": "stderr",
     "output_type": "stream",
     "text": [
      "\n",
      " 69%|██████████████████████████████████████████████████████▉                         | 103/150 [10:48<05:01,  6.41s/it]\u001b[A"
     ]
    },
    {
     "name": "stdout",
     "output_type": "stream",
     "text": [
      "[<selenium.webdriver.remote.webelement.WebElement (session=\"9dde711e96f51ab43a9fa71de8b148c0\", element=\"0378fd43-2f31-4c8f-8670-f7766ef42ecd\")>]\n"
     ]
    },
    {
     "name": "stderr",
     "output_type": "stream",
     "text": [
      "\n",
      " 69%|███████████████████████████████████████████████████████▍                        | 104/150 [10:55<04:59,  6.51s/it]\u001b[A"
     ]
    },
    {
     "name": "stdout",
     "output_type": "stream",
     "text": [
      "[<selenium.webdriver.remote.webelement.WebElement (session=\"9dde711e96f51ab43a9fa71de8b148c0\", element=\"061ba9d7-8897-44e5-b860-171e183a12ca\")>]\n"
     ]
    },
    {
     "name": "stderr",
     "output_type": "stream",
     "text": [
      "\n",
      " 70%|████████████████████████████████████████████████████████                        | 105/150 [11:02<04:57,  6.61s/it]\u001b[A"
     ]
    },
    {
     "name": "stdout",
     "output_type": "stream",
     "text": [
      "[<selenium.webdriver.remote.webelement.WebElement (session=\"9dde711e96f51ab43a9fa71de8b148c0\", element=\"992f131d-d5f4-43d3-bff5-b8c1771cb929\")>]\n"
     ]
    },
    {
     "name": "stderr",
     "output_type": "stream",
     "text": [
      "\n",
      " 71%|████████████████████████████████████████████████████████▌                       | 106/150 [11:08<04:43,  6.44s/it]\u001b[A"
     ]
    },
    {
     "name": "stdout",
     "output_type": "stream",
     "text": [
      "[<selenium.webdriver.remote.webelement.WebElement (session=\"9dde711e96f51ab43a9fa71de8b148c0\", element=\"4b4e5ddb-8bfe-41bb-b7b6-9fdcb405c6f4\")>]\n"
     ]
    },
    {
     "name": "stderr",
     "output_type": "stream",
     "text": [
      "\n",
      " 71%|█████████████████████████████████████████████████████████                       | 107/150 [11:15<04:40,  6.53s/it]\u001b[A\n",
      " 72%|█████████████████████████████████████████████████████████▌                      | 108/150 [11:21<04:32,  6.49s/it]\u001b[A"
     ]
    },
    {
     "name": "stdout",
     "output_type": "stream",
     "text": [
      "[<selenium.webdriver.remote.webelement.WebElement (session=\"9dde711e96f51ab43a9fa71de8b148c0\", element=\"850ca22f-7f6b-41c3-bb68-4f9a4cdc5dbe\")>]\n",
      "[<selenium.webdriver.remote.webelement.WebElement (session=\"9dde711e96f51ab43a9fa71de8b148c0\", element=\"73572c5c-18a3-4c41-81d0-0ffc73a4c9bd\")>]\n"
     ]
    },
    {
     "name": "stderr",
     "output_type": "stream",
     "text": [
      "\n",
      " 73%|██████████████████████████████████████████████████████████▏                     | 109/150 [11:28<04:29,  6.57s/it]\u001b[A\n",
      " 73%|██████████████████████████████████████████████████████████▋                     | 110/150 [11:34<04:21,  6.54s/it]\u001b[A"
     ]
    },
    {
     "name": "stdout",
     "output_type": "stream",
     "text": [
      "[<selenium.webdriver.remote.webelement.WebElement (session=\"9dde711e96f51ab43a9fa71de8b148c0\", element=\"08e5d7a5-35a6-4fea-a55f-e9772ee0081a\")>]\n"
     ]
    },
    {
     "name": "stderr",
     "output_type": "stream",
     "text": [
      "\n",
      " 74%|███████████████████████████████████████████████████████████▏                    | 111/150 [11:41<04:14,  6.53s/it]\u001b[A"
     ]
    },
    {
     "name": "stdout",
     "output_type": "stream",
     "text": [
      "[<selenium.webdriver.remote.webelement.WebElement (session=\"9dde711e96f51ab43a9fa71de8b148c0\", element=\"905c1962-9621-42a1-a5cf-6b940abe8dfa\")>]\n"
     ]
    },
    {
     "name": "stderr",
     "output_type": "stream",
     "text": [
      "\n",
      " 75%|███████████████████████████████████████████████████████████▋                    | 112/150 [11:47<04:07,  6.50s/it]\u001b[A"
     ]
    },
    {
     "name": "stdout",
     "output_type": "stream",
     "text": [
      "[<selenium.webdriver.remote.webelement.WebElement (session=\"9dde711e96f51ab43a9fa71de8b148c0\", element=\"cd6f61c8-0911-400f-a3e0-f119df5ce62f\")>]\n"
     ]
    },
    {
     "name": "stderr",
     "output_type": "stream",
     "text": [
      "\n",
      " 75%|████████████████████████████████████████████████████████████▎                   | 113/150 [11:54<04:00,  6.49s/it]\u001b[A"
     ]
    },
    {
     "name": "stdout",
     "output_type": "stream",
     "text": [
      "[<selenium.webdriver.remote.webelement.WebElement (session=\"9dde711e96f51ab43a9fa71de8b148c0\", element=\"9399f4b4-f693-4283-8d93-f48d3b602dd6\")>]\n"
     ]
    },
    {
     "name": "stderr",
     "output_type": "stream",
     "text": [
      "\n",
      " 76%|████████████████████████████████████████████████████████████▊                   | 114/150 [12:00<03:52,  6.46s/it]\u001b[A"
     ]
    },
    {
     "name": "stdout",
     "output_type": "stream",
     "text": [
      "[<selenium.webdriver.remote.webelement.WebElement (session=\"9dde711e96f51ab43a9fa71de8b148c0\", element=\"19ec2043-7ef1-4b3a-ad97-4e1870a2cdc1\")>]\n",
      "[<selenium.webdriver.remote.webelement.WebElement (session=\"9dde711e96f51ab43a9fa71de8b148c0\", element=\"e22594cb-8662-4229-9445-fd8f14ed0546\")>]\n"
     ]
    },
    {
     "name": "stderr",
     "output_type": "stream",
     "text": [
      "\n",
      " 77%|█████████████████████████████████████████████████████████████▎                  | 115/150 [12:07<03:48,  6.53s/it]\u001b[A"
     ]
    },
    {
     "name": "stdout",
     "output_type": "stream",
     "text": [
      "[<selenium.webdriver.remote.webelement.WebElement (session=\"9dde711e96f51ab43a9fa71de8b148c0\", element=\"8f253d42-e370-4721-ae6a-a23e1e2703d7\")>]\n"
     ]
    },
    {
     "name": "stderr",
     "output_type": "stream",
     "text": [
      "\n",
      " 77%|█████████████████████████████████████████████████████████████▊                  | 116/150 [12:13<03:41,  6.52s/it]\u001b[A\n",
      " 78%|██████████████████████████████████████████████████████████████▍                 | 117/150 [12:20<03:33,  6.46s/it]\u001b[A"
     ]
    },
    {
     "name": "stdout",
     "output_type": "stream",
     "text": [
      "[<selenium.webdriver.remote.webelement.WebElement (session=\"9dde711e96f51ab43a9fa71de8b148c0\", element=\"2c0918bb-a9b3-4003-b794-1cf07dfcf406\")>]\n",
      "[<selenium.webdriver.remote.webelement.WebElement (session=\"9dde711e96f51ab43a9fa71de8b148c0\", element=\"a1662d99-dade-45a8-944f-f9bf36945efb\")>]\n"
     ]
    },
    {
     "name": "stderr",
     "output_type": "stream",
     "text": [
      "\n",
      " 79%|██████████████████████████████████████████████████████████████▉                 | 118/150 [12:26<03:28,  6.52s/it]\u001b[A"
     ]
    },
    {
     "name": "stdout",
     "output_type": "stream",
     "text": [
      "[<selenium.webdriver.remote.webelement.WebElement (session=\"9dde711e96f51ab43a9fa71de8b148c0\", element=\"fa6e8ba2-4003-40d7-b14f-b1efe6b93884\")>]\n"
     ]
    },
    {
     "name": "stderr",
     "output_type": "stream",
     "text": [
      "\n",
      " 79%|███████████████████████████████████████████████████████████████▍                | 119/150 [12:35<03:40,  7.12s/it]\u001b[A\n",
      " 80%|████████████████████████████████████████████████████████████████                | 120/150 [12:41<03:27,  6.91s/it]\u001b[A"
     ]
    },
    {
     "name": "stdout",
     "output_type": "stream",
     "text": [
      "[<selenium.webdriver.remote.webelement.WebElement (session=\"9dde711e96f51ab43a9fa71de8b148c0\", element=\"de10834b-b08c-4758-9e42-a712b4b26e86\")>]\n"
     ]
    },
    {
     "name": "stderr",
     "output_type": "stream",
     "text": [
      "\n",
      " 81%|████████████████████████████████████████████████████████████████▌               | 121/150 [12:48<03:15,  6.76s/it]\u001b[A"
     ]
    },
    {
     "name": "stdout",
     "output_type": "stream",
     "text": [
      "[<selenium.webdriver.remote.webelement.WebElement (session=\"9dde711e96f51ab43a9fa71de8b148c0\", element=\"2fc7c407-9f18-4fec-bced-a3a70482625b\")>]\n"
     ]
    },
    {
     "name": "stderr",
     "output_type": "stream",
     "text": [
      "\n",
      " 81%|█████████████████████████████████████████████████████████████████               | 122/150 [12:54<03:06,  6.67s/it]\u001b[A"
     ]
    },
    {
     "name": "stdout",
     "output_type": "stream",
     "text": [
      "[<selenium.webdriver.remote.webelement.WebElement (session=\"9dde711e96f51ab43a9fa71de8b148c0\", element=\"2d03677c-e74b-41fa-97e4-7df3b0608cc5\")>]\n"
     ]
    },
    {
     "name": "stderr",
     "output_type": "stream",
     "text": [
      "\n",
      " 82%|█████████████████████████████████████████████████████████████████▌              | 123/150 [13:01<02:57,  6.57s/it]\u001b[A"
     ]
    },
    {
     "name": "stdout",
     "output_type": "stream",
     "text": [
      "[<selenium.webdriver.remote.webelement.WebElement (session=\"9dde711e96f51ab43a9fa71de8b148c0\", element=\"1acced69-75ce-4b42-8337-7e94932196c6\")>]\n"
     ]
    },
    {
     "name": "stderr",
     "output_type": "stream",
     "text": [
      "\n",
      " 83%|██████████████████████████████████████████████████████████████████▏             | 124/150 [13:07<02:50,  6.57s/it]\u001b[A"
     ]
    },
    {
     "name": "stdout",
     "output_type": "stream",
     "text": [
      "[<selenium.webdriver.remote.webelement.WebElement (session=\"9dde711e96f51ab43a9fa71de8b148c0\", element=\"eb1f3f95-147f-4004-ab35-2be4042300e2\")>]\n"
     ]
    },
    {
     "name": "stderr",
     "output_type": "stream",
     "text": [
      "\n",
      " 83%|██████████████████████████████████████████████████████████████████▋             | 125/150 [13:14<02:43,  6.53s/it]\u001b[A"
     ]
    },
    {
     "name": "stdout",
     "output_type": "stream",
     "text": [
      "[<selenium.webdriver.remote.webelement.WebElement (session=\"9dde711e96f51ab43a9fa71de8b148c0\", element=\"0c23cff8-9743-4115-8b93-7c7fdf9db0ad\")>]\n"
     ]
    },
    {
     "name": "stderr",
     "output_type": "stream",
     "text": [
      "\n",
      " 84%|███████████████████████████████████████████████████████████████████▏            | 126/150 [13:20<02:36,  6.52s/it]\u001b[A"
     ]
    },
    {
     "name": "stdout",
     "output_type": "stream",
     "text": [
      "[<selenium.webdriver.remote.webelement.WebElement (session=\"9dde711e96f51ab43a9fa71de8b148c0\", element=\"7b6f974c-2c2b-41e1-bb93-7d5e5c9fb3eb\")>]\n"
     ]
    },
    {
     "name": "stderr",
     "output_type": "stream",
     "text": [
      "\n",
      " 85%|███████████████████████████████████████████████████████████████████▋            | 127/150 [13:26<02:23,  6.25s/it]\u001b[A"
     ]
    },
    {
     "name": "stdout",
     "output_type": "stream",
     "text": [
      "[<selenium.webdriver.remote.webelement.WebElement (session=\"9dde711e96f51ab43a9fa71de8b148c0\", element=\"3365c1a5-5743-4cdc-a34d-831784e4ec54\")>]\n"
     ]
    },
    {
     "name": "stderr",
     "output_type": "stream",
     "text": [
      "\n",
      " 85%|████████████████████████████████████████████████████████████████████▎           | 128/150 [13:32<02:18,  6.31s/it]\u001b[A"
     ]
    },
    {
     "name": "stdout",
     "output_type": "stream",
     "text": [
      "[<selenium.webdriver.remote.webelement.WebElement (session=\"9dde711e96f51ab43a9fa71de8b148c0\", element=\"96bf379a-19f2-4762-8a53-394fe1ae004a\")>]\n"
     ]
    },
    {
     "name": "stderr",
     "output_type": "stream",
     "text": [
      "\n",
      " 86%|████████████████████████████████████████████████████████████████████▊           | 129/150 [13:39<02:13,  6.34s/it]\u001b[A"
     ]
    },
    {
     "name": "stdout",
     "output_type": "stream",
     "text": [
      "[<selenium.webdriver.remote.webelement.WebElement (session=\"9dde711e96f51ab43a9fa71de8b148c0\", element=\"15fae1fa-abe2-490c-ac7b-3e0c203574be\")>]\n"
     ]
    },
    {
     "name": "stderr",
     "output_type": "stream",
     "text": [
      "\n",
      " 87%|█████████████████████████████████████████████████████████████████████▎          | 130/150 [13:45<02:07,  6.38s/it]\u001b[A"
     ]
    },
    {
     "name": "stdout",
     "output_type": "stream",
     "text": [
      "[<selenium.webdriver.remote.webelement.WebElement (session=\"9dde711e96f51ab43a9fa71de8b148c0\", element=\"82c9be5c-10c9-4889-832c-56384bd12cf0\")>]\n"
     ]
    },
    {
     "name": "stderr",
     "output_type": "stream",
     "text": [
      "\n",
      " 87%|█████████████████████████████████████████████████████████████████████▊          | 131/150 [13:51<02:01,  6.40s/it]\u001b[A"
     ]
    },
    {
     "name": "stdout",
     "output_type": "stream",
     "text": [
      "[<selenium.webdriver.remote.webelement.WebElement (session=\"9dde711e96f51ab43a9fa71de8b148c0\", element=\"f3e3810c-567a-4b08-9c6c-2bab9ef6d31b\")>]\n",
      "[<selenium.webdriver.remote.webelement.WebElement (session=\"9dde711e96f51ab43a9fa71de8b148c0\", element=\"b0af10e0-18ee-41a0-8ef2-6483fb6d3c35\")>]\n"
     ]
    },
    {
     "name": "stderr",
     "output_type": "stream",
     "text": [
      "\n",
      " 88%|██████████████████████████████████████████████████████████████████████▍         | 132/150 [13:58<01:55,  6.44s/it]\u001b[A\n",
      " 89%|██████████████████████████████████████████████████████████████████████▉         | 133/150 [14:04<01:48,  6.40s/it]\u001b[A"
     ]
    },
    {
     "name": "stdout",
     "output_type": "stream",
     "text": [
      "[<selenium.webdriver.remote.webelement.WebElement (session=\"9dde711e96f51ab43a9fa71de8b148c0\", element=\"2149c177-aab2-481d-82b4-bd6f0cc9a5f8\")>]\n"
     ]
    },
    {
     "name": "stderr",
     "output_type": "stream",
     "text": [
      "\n",
      " 89%|███████████████████████████████████████████████████████████████████████▍        | 134/150 [14:11<01:42,  6.39s/it]\u001b[A"
     ]
    },
    {
     "name": "stdout",
     "output_type": "stream",
     "text": [
      "[<selenium.webdriver.remote.webelement.WebElement (session=\"9dde711e96f51ab43a9fa71de8b148c0\", element=\"d3d4e42b-47b3-4393-a8dd-5bc09b89c4fa\")>]\n",
      "[<selenium.webdriver.remote.webelement.WebElement (session=\"9dde711e96f51ab43a9fa71de8b148c0\", element=\"ec2b552a-549e-43c8-b53a-374e9dad574e\")>]\n"
     ]
    },
    {
     "name": "stderr",
     "output_type": "stream",
     "text": [
      "\n",
      " 90%|████████████████████████████████████████████████████████████████████████        | 135/150 [14:17<01:36,  6.43s/it]\u001b[A"
     ]
    },
    {
     "name": "stdout",
     "output_type": "stream",
     "text": [
      "[<selenium.webdriver.remote.webelement.WebElement (session=\"9dde711e96f51ab43a9fa71de8b148c0\", element=\"f6533fbe-fcfa-428a-ae15-29641a1de2b1\")>]\n"
     ]
    },
    {
     "name": "stderr",
     "output_type": "stream",
     "text": [
      "\n",
      " 91%|████████████████████████████████████████████████████████████████████████▌       | 136/150 [14:24<01:30,  6.50s/it]\u001b[A\n",
      " 91%|█████████████████████████████████████████████████████████████████████████       | 137/150 [14:30<01:24,  6.50s/it]\u001b[A"
     ]
    },
    {
     "name": "stdout",
     "output_type": "stream",
     "text": [
      "[<selenium.webdriver.remote.webelement.WebElement (session=\"9dde711e96f51ab43a9fa71de8b148c0\", element=\"01b3a876-155e-4d54-ad7f-f0c59cce034d\")>]\n"
     ]
    },
    {
     "name": "stderr",
     "output_type": "stream",
     "text": [
      "\n",
      " 92%|█████████████████████████████████████████████████████████████████████████▌      | 138/150 [14:37<01:17,  6.47s/it]\u001b[A"
     ]
    },
    {
     "name": "stdout",
     "output_type": "stream",
     "text": [
      "[<selenium.webdriver.remote.webelement.WebElement (session=\"9dde711e96f51ab43a9fa71de8b148c0\", element=\"1a24ccd2-ba0f-49f5-add4-8ae5e4733607\")>]\n",
      "[<selenium.webdriver.remote.webelement.WebElement (session=\"9dde711e96f51ab43a9fa71de8b148c0\", element=\"d73db17d-8db2-4dfe-bef3-5ce95981d0c7\")>]\n"
     ]
    },
    {
     "name": "stderr",
     "output_type": "stream",
     "text": [
      "\n",
      " 93%|██████████████████████████████████████████████████████████████████████████▏     | 139/150 [14:43<01:12,  6.55s/it]\u001b[A\n",
      " 93%|██████████████████████████████████████████████████████████████████████████▋     | 140/150 [14:50<01:05,  6.51s/it]\u001b[A"
     ]
    },
    {
     "name": "stdout",
     "output_type": "stream",
     "text": [
      "[<selenium.webdriver.remote.webelement.WebElement (session=\"9dde711e96f51ab43a9fa71de8b148c0\", element=\"54674177-be81-4f73-96d0-01edc9de6013\")>]\n"
     ]
    },
    {
     "name": "stderr",
     "output_type": "stream",
     "text": [
      "\n",
      " 94%|███████████████████████████████████████████████████████████████████████████▏    | 141/150 [14:56<00:58,  6.50s/it]\u001b[A"
     ]
    },
    {
     "name": "stdout",
     "output_type": "stream",
     "text": [
      "[<selenium.webdriver.remote.webelement.WebElement (session=\"9dde711e96f51ab43a9fa71de8b148c0\", element=\"35b8313f-26c9-4390-8e42-ce0fb2e16d69\")>]\n"
     ]
    },
    {
     "name": "stderr",
     "output_type": "stream",
     "text": [
      "\n",
      " 95%|███████████████████████████████████████████████████████████████████████████▋    | 142/150 [15:03<00:51,  6.47s/it]\u001b[A"
     ]
    },
    {
     "name": "stdout",
     "output_type": "stream",
     "text": [
      "[<selenium.webdriver.remote.webelement.WebElement (session=\"9dde711e96f51ab43a9fa71de8b148c0\", element=\"a00449c2-1cd5-4db1-8857-8f8aa209b820\")>]\n"
     ]
    },
    {
     "name": "stderr",
     "output_type": "stream",
     "text": [
      "\n",
      " 95%|████████████████████████████████████████████████████████████████████████████▎   | 143/150 [15:09<00:45,  6.45s/it]\u001b[A"
     ]
    },
    {
     "name": "stdout",
     "output_type": "stream",
     "text": [
      "[<selenium.webdriver.remote.webelement.WebElement (session=\"9dde711e96f51ab43a9fa71de8b148c0\", element=\"9c912196-46a6-4e24-a8cb-71573c132213\")>]\n"
     ]
    },
    {
     "name": "stderr",
     "output_type": "stream",
     "text": [
      "\n",
      " 96%|████████████████████████████████████████████████████████████████████████████▊   | 144/150 [15:16<00:38,  6.43s/it]\u001b[A"
     ]
    },
    {
     "name": "stdout",
     "output_type": "stream",
     "text": [
      "[<selenium.webdriver.remote.webelement.WebElement (session=\"9dde711e96f51ab43a9fa71de8b148c0\", element=\"e4c6bf9b-b2c9-4232-9924-816be288bd06\")>]\n",
      "[<selenium.webdriver.remote.webelement.WebElement (session=\"9dde711e96f51ab43a9fa71de8b148c0\", element=\"81b232a0-d9ed-4344-a4c6-d00c189d9a24\")>]\n"
     ]
    },
    {
     "name": "stderr",
     "output_type": "stream",
     "text": [
      "\n",
      " 97%|█████████████████████████████████████████████████████████████████████████████▎  | 145/150 [15:22<00:32,  6.51s/it]\u001b[A\n",
      " 97%|█████████████████████████████████████████████████████████████████████████████▊  | 146/150 [15:29<00:25,  6.49s/it]\u001b[A"
     ]
    },
    {
     "name": "stdout",
     "output_type": "stream",
     "text": [
      "[<selenium.webdriver.remote.webelement.WebElement (session=\"9dde711e96f51ab43a9fa71de8b148c0\", element=\"20015b72-e125-4511-84c6-92d479a06f9c\")>]\n",
      "[<selenium.webdriver.remote.webelement.WebElement (session=\"9dde711e96f51ab43a9fa71de8b148c0\", element=\"1760b15f-5b53-45fb-b332-2efc41404374\")>]\n"
     ]
    },
    {
     "name": "stderr",
     "output_type": "stream",
     "text": [
      "\n",
      " 98%|██████████████████████████████████████████████████████████████████████████████▍ | 147/150 [15:34<00:18,  6.28s/it]\u001b[A\n",
      " 99%|██████████████████████████████████████████████████████████████████████████████▉ | 148/150 [15:43<00:13,  6.94s/it]\u001b[A"
     ]
    },
    {
     "name": "stdout",
     "output_type": "stream",
     "text": [
      "[<selenium.webdriver.remote.webelement.WebElement (session=\"9dde711e96f51ab43a9fa71de8b148c0\", element=\"ba419b0e-cccc-4716-8fd4-82153c96bb79\")>]\n"
     ]
    },
    {
     "name": "stderr",
     "output_type": "stream",
     "text": [
      "\n",
      " 99%|███████████████████████████████████████████████████████████████████████████████▍| 149/150 [15:49<00:06,  6.54s/it]\u001b[A"
     ]
    },
    {
     "name": "stdout",
     "output_type": "stream",
     "text": [
      "[<selenium.webdriver.remote.webelement.WebElement (session=\"9dde711e96f51ab43a9fa71de8b148c0\", element=\"c144a1cc-7099-4884-ad4a-fedb02c61ac5\")>]\n"
     ]
    },
    {
     "name": "stderr",
     "output_type": "stream",
     "text": [
      "\n",
      "100%|████████████████████████████████████████████████████████████████████████████████| 150/150 [15:54<00:00,  6.36s/it]\u001b[A\n",
      " 29%|██████████████████████▏                                                      | 19/66 [1:08:42<5:11:01, 397.05s/it]\n",
      "  0%|                                                                                          | 0/150 [00:00<?, ?it/s]\u001b[A"
     ]
    },
    {
     "name": "stdout",
     "output_type": "stream",
     "text": [
      "[<selenium.webdriver.remote.webelement.WebElement (session=\"9dde711e96f51ab43a9fa71de8b148c0\", element=\"f9208b0f-0a78-4419-b4c8-88fd111abef9\")>]\n",
      "[<selenium.webdriver.remote.webelement.WebElement (session=\"9dde711e96f51ab43a9fa71de8b148c0\", element=\"6a588993-b0bb-47e9-be3f-8989ec6c4087\")>]\n"
     ]
    },
    {
     "name": "stderr",
     "output_type": "stream",
     "text": [
      "\n",
      "  1%|▌                                                                                 | 1/150 [00:05<14:37,  5.89s/it]\u001b[A"
     ]
    },
    {
     "name": "stdout",
     "output_type": "stream",
     "text": [
      "[<selenium.webdriver.remote.webelement.WebElement (session=\"9dde711e96f51ab43a9fa71de8b148c0\", element=\"93561b94-fd84-4396-8008-6411d0b1c661\")>]\n"
     ]
    },
    {
     "name": "stderr",
     "output_type": "stream",
     "text": [
      "\n",
      "  1%|█                                                                                 | 2/150 [00:12<15:23,  6.24s/it]\u001b[A"
     ]
    },
    {
     "name": "stdout",
     "output_type": "stream",
     "text": [
      "[<selenium.webdriver.remote.webelement.WebElement (session=\"9dde711e96f51ab43a9fa71de8b148c0\", element=\"05c0fe9d-e9dc-4498-83ad-57f29cd9ca14\")>]\n"
     ]
    },
    {
     "name": "stderr",
     "output_type": "stream",
     "text": [
      "\n",
      "  2%|█▋                                                                                | 3/150 [00:18<15:42,  6.41s/it]\u001b[A"
     ]
    },
    {
     "name": "stdout",
     "output_type": "stream",
     "text": [
      "[<selenium.webdriver.remote.webelement.WebElement (session=\"9dde711e96f51ab43a9fa71de8b148c0\", element=\"8e24241c-b8d7-44b4-971d-d7ecd3e51d4d\")>]\n"
     ]
    },
    {
     "name": "stderr",
     "output_type": "stream",
     "text": [
      "\n",
      "  3%|██▏                                                                               | 4/150 [00:25<15:49,  6.50s/it]\u001b[A"
     ]
    },
    {
     "name": "stdout",
     "output_type": "stream",
     "text": [
      "[<selenium.webdriver.remote.webelement.WebElement (session=\"9dde711e96f51ab43a9fa71de8b148c0\", element=\"f9512f5a-fe50-4fd2-beb8-2d3b98e7687e\")>]\n"
     ]
    },
    {
     "name": "stderr",
     "output_type": "stream",
     "text": [
      "\n",
      "  3%|██▋                                                                               | 5/150 [00:32<15:42,  6.50s/it]\u001b[A"
     ]
    },
    {
     "name": "stdout",
     "output_type": "stream",
     "text": [
      "[<selenium.webdriver.remote.webelement.WebElement (session=\"9dde711e96f51ab43a9fa71de8b148c0\", element=\"434b38f1-4e20-46ef-80bd-734022ce0c7d\")>]\n"
     ]
    },
    {
     "name": "stderr",
     "output_type": "stream",
     "text": [
      "\n",
      "  4%|███▎                                                                              | 6/150 [00:38<15:46,  6.57s/it]\u001b[A"
     ]
    },
    {
     "name": "stdout",
     "output_type": "stream",
     "text": [
      "[<selenium.webdriver.remote.webelement.WebElement (session=\"9dde711e96f51ab43a9fa71de8b148c0\", element=\"c760f559-1e42-4e96-8ad2-8dfab2ce7470\")>]\n"
     ]
    },
    {
     "name": "stderr",
     "output_type": "stream",
     "text": [
      "\n",
      "  5%|███▊                                                                              | 7/150 [00:45<15:38,  6.57s/it]\u001b[A"
     ]
    },
    {
     "name": "stdout",
     "output_type": "stream",
     "text": [
      "[<selenium.webdriver.remote.webelement.WebElement (session=\"9dde711e96f51ab43a9fa71de8b148c0\", element=\"76d6741c-cb79-4693-810c-519da046a8b8\")>]\n"
     ]
    },
    {
     "name": "stderr",
     "output_type": "stream",
     "text": [
      "\n",
      "  5%|████▎                                                                             | 8/150 [00:52<15:37,  6.60s/it]\u001b[A"
     ]
    },
    {
     "name": "stdout",
     "output_type": "stream",
     "text": [
      "[<selenium.webdriver.remote.webelement.WebElement (session=\"9dde711e96f51ab43a9fa71de8b148c0\", element=\"4a57e726-6716-4c02-a035-a9aad5799384\")>]\n"
     ]
    },
    {
     "name": "stderr",
     "output_type": "stream",
     "text": [
      "\n",
      "  6%|████▉                                                                             | 9/150 [00:58<15:24,  6.56s/it]\u001b[A"
     ]
    },
    {
     "name": "stdout",
     "output_type": "stream",
     "text": [
      "[<selenium.webdriver.remote.webelement.WebElement (session=\"9dde711e96f51ab43a9fa71de8b148c0\", element=\"f4a200f6-1e70-4471-a14f-fe2ed6af4e63\")>]\n"
     ]
    },
    {
     "name": "stderr",
     "output_type": "stream",
     "text": [
      "\n",
      "  7%|█████▍                                                                           | 10/150 [01:05<15:22,  6.59s/it]\u001b[A"
     ]
    },
    {
     "name": "stdout",
     "output_type": "stream",
     "text": [
      "[<selenium.webdriver.remote.webelement.WebElement (session=\"9dde711e96f51ab43a9fa71de8b148c0\", element=\"2a7bcadf-488a-47f3-bbc5-e3a30a68a447\")>]\n"
     ]
    },
    {
     "name": "stderr",
     "output_type": "stream",
     "text": [
      "\n",
      "  7%|█████▉                                                                           | 11/150 [01:11<15:15,  6.59s/it]\u001b[A"
     ]
    },
    {
     "name": "stdout",
     "output_type": "stream",
     "text": [
      "[<selenium.webdriver.remote.webelement.WebElement (session=\"9dde711e96f51ab43a9fa71de8b148c0\", element=\"dadbfe92-d264-4602-adf0-96c18ade9e5e\")>]\n"
     ]
    },
    {
     "name": "stderr",
     "output_type": "stream",
     "text": [
      "\n",
      "  8%|██████▍                                                                          | 12/150 [01:17<14:38,  6.36s/it]\u001b[A"
     ]
    },
    {
     "name": "stdout",
     "output_type": "stream",
     "text": [
      "[<selenium.webdriver.remote.webelement.WebElement (session=\"9dde711e96f51ab43a9fa71de8b148c0\", element=\"ee734332-0a64-4dc6-9af4-090a4beff4eb\")>]\n"
     ]
    },
    {
     "name": "stderr",
     "output_type": "stream",
     "text": [
      "\n",
      "  9%|███████                                                                          | 13/150 [01:24<14:38,  6.41s/it]\u001b[A"
     ]
    },
    {
     "name": "stdout",
     "output_type": "stream",
     "text": [
      "[<selenium.webdriver.remote.webelement.WebElement (session=\"9dde711e96f51ab43a9fa71de8b148c0\", element=\"6823080f-2060-44d1-b69a-d4846d7587a3\")>]\n"
     ]
    },
    {
     "name": "stderr",
     "output_type": "stream",
     "text": [
      "\n",
      "  9%|███████▌                                                                         | 14/150 [01:30<14:10,  6.25s/it]\u001b[A"
     ]
    },
    {
     "name": "stdout",
     "output_type": "stream",
     "text": [
      "[<selenium.webdriver.remote.webelement.WebElement (session=\"9dde711e96f51ab43a9fa71de8b148c0\", element=\"dec071ba-a35d-4487-8787-ad73533d6b70\")>]\n"
     ]
    },
    {
     "name": "stderr",
     "output_type": "stream",
     "text": [
      "\n",
      " 10%|████████                                                                         | 15/150 [01:35<13:49,  6.15s/it]\u001b[A"
     ]
    },
    {
     "name": "stdout",
     "output_type": "stream",
     "text": [
      "[<selenium.webdriver.remote.webelement.WebElement (session=\"9dde711e96f51ab43a9fa71de8b148c0\", element=\"4e3a15d0-a943-48c5-bec9-5d1c02e2e3a5\")>]\n"
     ]
    },
    {
     "name": "stderr",
     "output_type": "stream",
     "text": [
      "\n",
      " 11%|████████▋                                                                        | 16/150 [01:42<14:00,  6.27s/it]\u001b[A"
     ]
    },
    {
     "name": "stdout",
     "output_type": "stream",
     "text": [
      "[<selenium.webdriver.remote.webelement.WebElement (session=\"9dde711e96f51ab43a9fa71de8b148c0\", element=\"e185b40b-5b8d-4234-b53e-bde39cabc030\")>]\n"
     ]
    },
    {
     "name": "stderr",
     "output_type": "stream",
     "text": [
      "\n",
      " 11%|█████████▏                                                                       | 17/150 [01:49<14:07,  6.37s/it]\u001b[A"
     ]
    },
    {
     "name": "stdout",
     "output_type": "stream",
     "text": [
      "[<selenium.webdriver.remote.webelement.WebElement (session=\"9dde711e96f51ab43a9fa71de8b148c0\", element=\"00d00cf1-517c-4cfa-aaf6-05022f191ea3\")>]\n"
     ]
    },
    {
     "name": "stderr",
     "output_type": "stream",
     "text": [
      "\n",
      " 12%|█████████▋                                                                       | 18/150 [01:55<14:05,  6.41s/it]\u001b[A"
     ]
    },
    {
     "name": "stdout",
     "output_type": "stream",
     "text": [
      "[<selenium.webdriver.remote.webelement.WebElement (session=\"9dde711e96f51ab43a9fa71de8b148c0\", element=\"64e183e6-972e-4647-bbef-3c210d6aeffe\")>]\n"
     ]
    },
    {
     "name": "stderr",
     "output_type": "stream",
     "text": [
      "\n",
      " 13%|██████████▎                                                                      | 19/150 [02:02<14:08,  6.48s/it]\u001b[A"
     ]
    },
    {
     "name": "stdout",
     "output_type": "stream",
     "text": [
      "[<selenium.webdriver.remote.webelement.WebElement (session=\"9dde711e96f51ab43a9fa71de8b148c0\", element=\"ef7313f8-e086-4f3d-930f-d9edbe7d8280\")>]\n"
     ]
    },
    {
     "name": "stderr",
     "output_type": "stream",
     "text": [
      "\n",
      " 13%|██████████▊                                                                      | 20/150 [02:08<14:08,  6.53s/it]\u001b[A"
     ]
    },
    {
     "name": "stdout",
     "output_type": "stream",
     "text": [
      "[<selenium.webdriver.remote.webelement.WebElement (session=\"9dde711e96f51ab43a9fa71de8b148c0\", element=\"66bd884b-12d4-40c8-a7d3-0d761d3f8e1e\")>]\n"
     ]
    },
    {
     "name": "stderr",
     "output_type": "stream",
     "text": [
      "\n",
      " 14%|███████████▎                                                                     | 21/150 [02:14<13:34,  6.32s/it]\u001b[A"
     ]
    },
    {
     "name": "stdout",
     "output_type": "stream",
     "text": [
      "[<selenium.webdriver.remote.webelement.WebElement (session=\"9dde711e96f51ab43a9fa71de8b148c0\", element=\"eb18aea8-3781-4c79-a712-5d36dd89bea9\")>]\n"
     ]
    },
    {
     "name": "stderr",
     "output_type": "stream",
     "text": [
      "\n",
      " 15%|███████████▉                                                                     | 22/150 [02:21<13:40,  6.41s/it]\u001b[A"
     ]
    },
    {
     "name": "stdout",
     "output_type": "stream",
     "text": [
      "[<selenium.webdriver.remote.webelement.WebElement (session=\"9dde711e96f51ab43a9fa71de8b148c0\", element=\"17029204-0533-4b0d-ac2a-d68d7937fcc4\")>]\n"
     ]
    },
    {
     "name": "stderr",
     "output_type": "stream",
     "text": [
      "\n",
      " 15%|████████████▍                                                                    | 23/150 [02:27<13:42,  6.48s/it]\u001b[A"
     ]
    },
    {
     "name": "stdout",
     "output_type": "stream",
     "text": [
      "[<selenium.webdriver.remote.webelement.WebElement (session=\"9dde711e96f51ab43a9fa71de8b148c0\", element=\"5c44b6d2-bf72-4f51-ac08-b84f1408db7c\")>]\n"
     ]
    },
    {
     "name": "stderr",
     "output_type": "stream",
     "text": [
      "\n",
      " 16%|████████████▉                                                                    | 24/150 [02:33<13:11,  6.28s/it]\u001b[A"
     ]
    },
    {
     "name": "stdout",
     "output_type": "stream",
     "text": [
      "[<selenium.webdriver.remote.webelement.WebElement (session=\"9dde711e96f51ab43a9fa71de8b148c0\", element=\"deae959e-2a97-43b0-aaad-92aaddff3580\")>]\n"
     ]
    },
    {
     "name": "stderr",
     "output_type": "stream",
     "text": [
      "\n",
      " 17%|█████████████▌                                                                   | 25/150 [02:39<12:48,  6.15s/it]\u001b[A"
     ]
    },
    {
     "name": "stdout",
     "output_type": "stream",
     "text": [
      "[<selenium.webdriver.remote.webelement.WebElement (session=\"9dde711e96f51ab43a9fa71de8b148c0\", element=\"886fda74-c2fa-472c-b08b-f18961f35fc3\")>]\n"
     ]
    },
    {
     "name": "stderr",
     "output_type": "stream",
     "text": [
      "\n",
      " 17%|██████████████                                                                   | 26/150 [02:46<12:59,  6.29s/it]\u001b[A"
     ]
    },
    {
     "name": "stdout",
     "output_type": "stream",
     "text": [
      "[<selenium.webdriver.remote.webelement.WebElement (session=\"9dde711e96f51ab43a9fa71de8b148c0\", element=\"01627c91-ea9b-4ddb-94bd-318196b887a8\")>]\n"
     ]
    },
    {
     "name": "stderr",
     "output_type": "stream",
     "text": [
      "\n",
      " 18%|██████████████▌                                                                  | 27/150 [02:52<13:03,  6.37s/it]\u001b[A"
     ]
    },
    {
     "name": "stdout",
     "output_type": "stream",
     "text": [
      "[<selenium.webdriver.remote.webelement.WebElement (session=\"9dde711e96f51ab43a9fa71de8b148c0\", element=\"749f12fe-b30d-444a-91b2-bbdf3456537c\")>]\n"
     ]
    },
    {
     "name": "stderr",
     "output_type": "stream",
     "text": [
      "\n",
      " 19%|███████████████                                                                  | 28/150 [02:59<13:04,  6.43s/it]\u001b[A"
     ]
    },
    {
     "name": "stdout",
     "output_type": "stream",
     "text": [
      "[<selenium.webdriver.remote.webelement.WebElement (session=\"9dde711e96f51ab43a9fa71de8b148c0\", element=\"67575b8e-2587-4ccd-a7cd-dd58851a09ef\")>]\n"
     ]
    },
    {
     "name": "stderr",
     "output_type": "stream",
     "text": [
      "\n",
      " 19%|███████████████▋                                                                 | 29/150 [03:05<13:03,  6.47s/it]\u001b[A"
     ]
    },
    {
     "name": "stdout",
     "output_type": "stream",
     "text": [
      "[<selenium.webdriver.remote.webelement.WebElement (session=\"9dde711e96f51ab43a9fa71de8b148c0\", element=\"2b22c93f-8ece-4e4a-871a-38ddf664e8ec\")>]\n"
     ]
    },
    {
     "name": "stderr",
     "output_type": "stream",
     "text": [
      "\n",
      " 20%|████████████████▏                                                                | 30/150 [03:12<13:02,  6.52s/it]\u001b[A"
     ]
    },
    {
     "name": "stdout",
     "output_type": "stream",
     "text": [
      "[<selenium.webdriver.remote.webelement.WebElement (session=\"9dde711e96f51ab43a9fa71de8b148c0\", element=\"b51d45bd-be1e-4b3a-bea4-bfc2c2f0663c\")>]\n"
     ]
    },
    {
     "name": "stderr",
     "output_type": "stream",
     "text": [
      "\n",
      " 21%|████████████████▋                                                                | 31/150 [03:20<12:49,  6.46s/it]\u001b[A\n",
      " 30%|███████████████████████▎                                                     | 20/66 [1:12:02<4:19:07, 338.00s/it]\n",
      "  0%|                                                                                          | 0/150 [00:00<?, ?it/s]\u001b[A"
     ]
    },
    {
     "name": "stdout",
     "output_type": "stream",
     "text": [
      "[<selenium.webdriver.remote.webelement.WebElement (session=\"9dde711e96f51ab43a9fa71de8b148c0\", element=\"a3eb42f7-0a84-4adf-8f04-bf21f21da238\")>]\n"
     ]
    },
    {
     "name": "stderr",
     "output_type": "stream",
     "text": [
      "\n",
      "  1%|▌                                                                                 | 1/150 [00:06<15:50,  6.38s/it]\u001b[A"
     ]
    },
    {
     "name": "stdout",
     "output_type": "stream",
     "text": [
      "[<selenium.webdriver.remote.webelement.WebElement (session=\"9dde711e96f51ab43a9fa71de8b148c0\", element=\"f3b2e5bf-38c0-4146-a03e-ca7fee2600f7\")>]\n"
     ]
    },
    {
     "name": "stderr",
     "output_type": "stream",
     "text": [
      "\n",
      "  1%|█                                                                                 | 2/150 [00:13<16:06,  6.53s/it]\u001b[A"
     ]
    },
    {
     "name": "stdout",
     "output_type": "stream",
     "text": [
      "[<selenium.webdriver.remote.webelement.WebElement (session=\"9dde711e96f51ab43a9fa71de8b148c0\", element=\"66511ee7-324d-4c10-a9af-6a85dc30ac86\")>]\n"
     ]
    },
    {
     "name": "stderr",
     "output_type": "stream",
     "text": [
      "\n",
      "  2%|█▋                                                                                | 3/150 [00:19<15:58,  6.52s/it]\u001b[A\n"
     ]
    },
    {
     "name": "stdout",
     "output_type": "stream",
     "text": [
      "[<selenium.webdriver.remote.webelement.WebElement (session=\"9dde711e96f51ab43a9fa71de8b148c0\", element=\"6c94be64-01ca-4ca3-9e07-eb96c47c042f\")>]\n"
     ]
    },
    {
     "name": "stderr",
     "output_type": "stream",
     "text": [
      "  3%|██▏                                                                               | 4/150 [00:26<15:53,  6.53s/it]\u001b[A"
     ]
    },
    {
     "name": "stdout",
     "output_type": "stream",
     "text": [
      "[<selenium.webdriver.remote.webelement.WebElement (session=\"9dde711e96f51ab43a9fa71de8b148c0\", element=\"7be67d6c-bfd1-4bf6-80ed-8f037147f3fd\")>]\n"
     ]
    },
    {
     "name": "stderr",
     "output_type": "stream",
     "text": [
      "\n",
      "  3%|██▋                                                                               | 5/150 [00:32<15:46,  6.53s/it]\u001b[A\n",
      "  4%|███▎                                                                              | 6/150 [00:39<15:37,  6.51s/it]\u001b[A"
     ]
    },
    {
     "name": "stdout",
     "output_type": "stream",
     "text": [
      "[<selenium.webdriver.remote.webelement.WebElement (session=\"9dde711e96f51ab43a9fa71de8b148c0\", element=\"769e95ee-e29e-44e7-a0a8-072c4b675c87\")>]\n",
      "[<selenium.webdriver.remote.webelement.WebElement (session=\"9dde711e96f51ab43a9fa71de8b148c0\", element=\"5996bf48-b45f-4037-997e-1bbb2eacb4b6\")>]\n"
     ]
    },
    {
     "name": "stderr",
     "output_type": "stream",
     "text": [
      "\n",
      "  5%|███▊                                                                              | 7/150 [00:45<15:38,  6.56s/it]\u001b[A\n"
     ]
    },
    {
     "name": "stdout",
     "output_type": "stream",
     "text": [
      "[<selenium.webdriver.remote.webelement.WebElement (session=\"9dde711e96f51ab43a9fa71de8b148c0\", element=\"a8c5ee95-9a5b-4d2a-b579-f8d4956c346e\")>]\n"
     ]
    },
    {
     "name": "stderr",
     "output_type": "stream",
     "text": [
      "  5%|████▎                                                                             | 8/150 [00:51<14:51,  6.28s/it]\u001b[A"
     ]
    },
    {
     "name": "stdout",
     "output_type": "stream",
     "text": [
      "[<selenium.webdriver.remote.webelement.WebElement (session=\"9dde711e96f51ab43a9fa71de8b148c0\", element=\"73dbb5cd-14bb-431f-8876-953d6162f1db\")>]\n"
     ]
    },
    {
     "name": "stderr",
     "output_type": "stream",
     "text": [
      "\n",
      "  6%|████▉                                                                             | 9/150 [00:57<14:56,  6.36s/it]\u001b[A"
     ]
    },
    {
     "name": "stdout",
     "output_type": "stream",
     "text": [
      "[<selenium.webdriver.remote.webelement.WebElement (session=\"9dde711e96f51ab43a9fa71de8b148c0\", element=\"6fc09aad-d3da-4796-8c7d-2c8e41f9148c\")>]\n"
     ]
    },
    {
     "name": "stderr",
     "output_type": "stream",
     "text": [
      "\n",
      "  7%|█████▍                                                                           | 10/150 [01:04<14:59,  6.42s/it]\u001b[A\n",
      "  7%|█████▉                                                                           | 11/150 [01:10<14:51,  6.41s/it]\u001b[A"
     ]
    },
    {
     "name": "stdout",
     "output_type": "stream",
     "text": [
      "[<selenium.webdriver.remote.webelement.WebElement (session=\"9dde711e96f51ab43a9fa71de8b148c0\", element=\"0a131dad-343d-4732-8806-1bb28ce8ad44\")>]\n"
     ]
    },
    {
     "name": "stderr",
     "output_type": "stream",
     "text": [
      "\n",
      "  8%|██████▍                                                                          | 12/150 [01:17<14:43,  6.40s/it]\u001b[A"
     ]
    },
    {
     "name": "stdout",
     "output_type": "stream",
     "text": [
      "[<selenium.webdriver.remote.webelement.WebElement (session=\"9dde711e96f51ab43a9fa71de8b148c0\", element=\"33571457-7bf1-4d1a-94f5-adca1c3774fe\")>]\n"
     ]
    },
    {
     "name": "stderr",
     "output_type": "stream",
     "text": [
      "  8%|██████▍                                                                          | 12/150 [01:18<15:02,  6.54s/it]\n",
      " 32%|████████████████████████▌                                                    | 21/66 [1:13:21<3:15:04, 260.10s/it]\n",
      "  0%|                                                                                          | 0/150 [00:00<?, ?it/s]\u001b[A\n"
     ]
    },
    {
     "name": "stdout",
     "output_type": "stream",
     "text": [
      "[<selenium.webdriver.remote.webelement.WebElement (session=\"9dde711e96f51ab43a9fa71de8b148c0\", element=\"01dde03a-9e31-4770-9700-0c0afab1c70d\")>]\n"
     ]
    },
    {
     "name": "stderr",
     "output_type": "stream",
     "text": [
      "  1%|▌                                                                                 | 1/150 [00:06<16:19,  6.58s/it]\u001b[A"
     ]
    },
    {
     "name": "stdout",
     "output_type": "stream",
     "text": [
      "[<selenium.webdriver.remote.webelement.WebElement (session=\"9dde711e96f51ab43a9fa71de8b148c0\", element=\"36f61375-fde2-40a9-8e74-f5ec7ef2c921\")>]\n"
     ]
    },
    {
     "name": "stderr",
     "output_type": "stream",
     "text": [
      "\n",
      "  1%|█                                                                                 | 2/150 [00:12<14:58,  6.07s/it]\u001b[A\n",
      "  2%|█▋                                                                                | 3/150 [00:18<15:12,  6.21s/it]\u001b[A"
     ]
    },
    {
     "name": "stdout",
     "output_type": "stream",
     "text": [
      "[<selenium.webdriver.remote.webelement.WebElement (session=\"9dde711e96f51ab43a9fa71de8b148c0\", element=\"54f31f8c-82e5-4ad7-8046-826f81a86692\")>]\n"
     ]
    },
    {
     "name": "stderr",
     "output_type": "stream",
     "text": [
      "\n"
     ]
    },
    {
     "name": "stdout",
     "output_type": "stream",
     "text": [
      "[<selenium.webdriver.remote.webelement.WebElement (session=\"9dde711e96f51ab43a9fa71de8b148c0\", element=\"c60be569-48c0-44a1-81e6-cd77a3ba35d3\")>]\n"
     ]
    },
    {
     "name": "stderr",
     "output_type": "stream",
     "text": [
      "  3%|██▏                                                                               | 4/150 [00:25<15:22,  6.32s/it]\u001b[A\n"
     ]
    },
    {
     "name": "stdout",
     "output_type": "stream",
     "text": [
      "[<selenium.webdriver.remote.webelement.WebElement (session=\"9dde711e96f51ab43a9fa71de8b148c0\", element=\"060b9024-9df8-462f-a3b5-f935040302d3\")>]\n"
     ]
    },
    {
     "name": "stderr",
     "output_type": "stream",
     "text": [
      "  3%|██▋                                                                               | 5/150 [00:31<15:23,  6.37s/it]\u001b[A\n",
      "  4%|███▎                                                                              | 6/150 [00:38<15:19,  6.38s/it]\u001b[A"
     ]
    },
    {
     "name": "stdout",
     "output_type": "stream",
     "text": [
      "[<selenium.webdriver.remote.webelement.WebElement (session=\"9dde711e96f51ab43a9fa71de8b148c0\", element=\"f34255fd-ceb0-410e-9952-bfef2b01f819\")>]\n"
     ]
    },
    {
     "name": "stderr",
     "output_type": "stream",
     "text": [
      "\n",
      "  5%|███▊                                                                              | 7/150 [00:44<15:11,  6.38s/it]\u001b[A"
     ]
    },
    {
     "name": "stdout",
     "output_type": "stream",
     "text": [
      "[<selenium.webdriver.remote.webelement.WebElement (session=\"9dde711e96f51ab43a9fa71de8b148c0\", element=\"46784808-be94-4994-80ad-bab320e33fcf\")>]\n"
     ]
    },
    {
     "name": "stderr",
     "output_type": "stream",
     "text": [
      "\n",
      "  5%|████▎                                                                             | 8/150 [00:50<15:08,  6.40s/it]\u001b[A"
     ]
    },
    {
     "name": "stdout",
     "output_type": "stream",
     "text": [
      "[<selenium.webdriver.remote.webelement.WebElement (session=\"9dde711e96f51ab43a9fa71de8b148c0\", element=\"1922fb0b-0f37-4e21-a62c-8a49e61bca69\")>]\n"
     ]
    },
    {
     "name": "stderr",
     "output_type": "stream",
     "text": [
      "  5%|████▎                                                                             | 8/150 [00:52<15:24,  6.51s/it]\n",
      " 33%|█████████████████████████▋                                                   | 22/66 [1:14:13<2:24:57, 197.67s/it]\n",
      "  0%|                                                                                          | 0/150 [00:00<?, ?it/s]\u001b[A"
     ]
    },
    {
     "name": "stdout",
     "output_type": "stream",
     "text": [
      "[<selenium.webdriver.remote.webelement.WebElement (session=\"9dde711e96f51ab43a9fa71de8b148c0\", element=\"e6b9dcdd-f07f-4aea-a35a-45e262eedfef\")>]\n"
     ]
    },
    {
     "name": "stderr",
     "output_type": "stream",
     "text": [
      "\n",
      "  1%|▌                                                                                 | 1/150 [00:06<16:11,  6.52s/it]\u001b[A"
     ]
    },
    {
     "name": "stdout",
     "output_type": "stream",
     "text": [
      "[<selenium.webdriver.remote.webelement.WebElement (session=\"9dde711e96f51ab43a9fa71de8b148c0\", element=\"53b06719-09ba-4e95-89a0-2f753644566d\")>]\n"
     ]
    },
    {
     "name": "stderr",
     "output_type": "stream",
     "text": [
      "\n",
      "  1%|█                                                                                 | 2/150 [00:13<16:05,  6.52s/it]\u001b[A"
     ]
    },
    {
     "name": "stdout",
     "output_type": "stream",
     "text": [
      "[<selenium.webdriver.remote.webelement.WebElement (session=\"9dde711e96f51ab43a9fa71de8b148c0\", element=\"7dd636a3-9db3-405f-b399-70f9a49d0132\")>]\n"
     ]
    },
    {
     "name": "stderr",
     "output_type": "stream",
     "text": [
      "\n",
      "  2%|█▋                                                                                | 3/150 [00:19<16:01,  6.54s/it]\u001b[A\n",
      "  3%|██▏                                                                               | 4/150 [00:26<15:46,  6.49s/it]\u001b[A"
     ]
    },
    {
     "name": "stdout",
     "output_type": "stream",
     "text": [
      "[<selenium.webdriver.remote.webelement.WebElement (session=\"9dde711e96f51ab43a9fa71de8b148c0\", element=\"09b7999e-1654-434e-a17c-73d3d99e641c\")>]\n",
      "[<selenium.webdriver.remote.webelement.WebElement (session=\"9dde711e96f51ab43a9fa71de8b148c0\", element=\"219392cf-129f-4ffd-8d41-f060a19178c4\")>]\n"
     ]
    },
    {
     "name": "stderr",
     "output_type": "stream",
     "text": [
      "\n",
      "  3%|██▋                                                                               | 5/150 [00:32<15:44,  6.52s/it]\u001b[A\n",
      "  4%|███▎                                                                              | 6/150 [00:39<15:33,  6.48s/it]\u001b[A"
     ]
    },
    {
     "name": "stdout",
     "output_type": "stream",
     "text": [
      "[<selenium.webdriver.remote.webelement.WebElement (session=\"9dde711e96f51ab43a9fa71de8b148c0\", element=\"ed18ab2d-f8f3-48b4-b2cf-da452c8b0da7\")>]\n",
      "[<selenium.webdriver.remote.webelement.WebElement (session=\"9dde711e96f51ab43a9fa71de8b148c0\", element=\"bf5daa91-65a8-43eb-9f85-d9c3aecf41dc\")>]\n"
     ]
    },
    {
     "name": "stderr",
     "output_type": "stream",
     "text": [
      "\n",
      "  5%|███▊                                                                              | 7/150 [00:45<15:33,  6.52s/it]\u001b[A"
     ]
    },
    {
     "name": "stdout",
     "output_type": "stream",
     "text": [
      "[<selenium.webdriver.remote.webelement.WebElement (session=\"9dde711e96f51ab43a9fa71de8b148c0\", element=\"c845579f-3463-496d-9227-aba942615283\")>]\n"
     ]
    },
    {
     "name": "stderr",
     "output_type": "stream",
     "text": [
      "\n",
      "  5%|████▎                                                                             | 8/150 [00:52<15:31,  6.56s/it]\u001b[A"
     ]
    },
    {
     "name": "stdout",
     "output_type": "stream",
     "text": [
      "[<selenium.webdriver.remote.webelement.WebElement (session=\"9dde711e96f51ab43a9fa71de8b148c0\", element=\"6943788c-2616-4454-81f8-58717c656150\")>]\n"
     ]
    },
    {
     "name": "stderr",
     "output_type": "stream",
     "text": [
      "\n",
      "  6%|████▉                                                                             | 9/150 [00:57<14:48,  6.30s/it]\u001b[A"
     ]
    },
    {
     "name": "stdout",
     "output_type": "stream",
     "text": [
      "[<selenium.webdriver.remote.webelement.WebElement (session=\"9dde711e96f51ab43a9fa71de8b148c0\", element=\"707a6912-de77-46df-8f61-dd8b878b3608\")>]\n"
     ]
    },
    {
     "name": "stderr",
     "output_type": "stream",
     "text": [
      "\n",
      "  7%|█████▍                                                                           | 10/150 [01:04<14:57,  6.41s/it]\u001b[A\n"
     ]
    },
    {
     "name": "stdout",
     "output_type": "stream",
     "text": [
      "[<selenium.webdriver.remote.webelement.WebElement (session=\"9dde711e96f51ab43a9fa71de8b148c0\", element=\"dc3b0a54-c79f-46df-8653-c7c178a32aad\")>]\n"
     ]
    },
    {
     "name": "stderr",
     "output_type": "stream",
     "text": [
      "  7%|█████▉                                                                           | 11/150 [01:11<14:54,  6.44s/it]\u001b[A\n",
      "  8%|██████▍                                                                          | 12/150 [01:16<14:12,  6.18s/it]\u001b[A"
     ]
    },
    {
     "name": "stdout",
     "output_type": "stream",
     "text": [
      "[<selenium.webdriver.remote.webelement.WebElement (session=\"9dde711e96f51ab43a9fa71de8b148c0\", element=\"38e4744f-3116-4814-86da-6bf7adfa926a\")>]\n",
      "[<selenium.webdriver.remote.webelement.WebElement (session=\"9dde711e96f51ab43a9fa71de8b148c0\", element=\"84e10efd-ab23-4f40-aa38-377e06737cd9\")>]\n"
     ]
    },
    {
     "name": "stderr",
     "output_type": "stream",
     "text": [
      "\n",
      "  9%|███████                                                                          | 13/150 [01:23<14:21,  6.29s/it]\u001b[A"
     ]
    },
    {
     "name": "stdout",
     "output_type": "stream",
     "text": [
      "[<selenium.webdriver.remote.webelement.WebElement (session=\"9dde711e96f51ab43a9fa71de8b148c0\", element=\"28273f51-40a4-485d-8fc8-c030c7fbe4c7\")>]\n"
     ]
    },
    {
     "name": "stderr",
     "output_type": "stream",
     "text": [
      "\n",
      "  9%|███████▌                                                                         | 14/150 [01:29<14:29,  6.40s/it]\u001b[A\n",
      " 10%|████████                                                                         | 15/150 [01:36<14:26,  6.42s/it]\u001b[A"
     ]
    },
    {
     "name": "stdout",
     "output_type": "stream",
     "text": [
      "[<selenium.webdriver.remote.webelement.WebElement (session=\"9dde711e96f51ab43a9fa71de8b148c0\", element=\"2a17453b-3081-471b-bee0-6433d42be109\")>]\n"
     ]
    },
    {
     "name": "stderr",
     "output_type": "stream",
     "text": [
      "\n",
      " 11%|████████▋                                                                        | 16/150 [01:42<14:23,  6.44s/it]\u001b[A"
     ]
    },
    {
     "name": "stdout",
     "output_type": "stream",
     "text": [
      "[<selenium.webdriver.remote.webelement.WebElement (session=\"9dde711e96f51ab43a9fa71de8b148c0\", element=\"f7fd24e1-f97f-451e-b18b-6b3f2c757021\")>]\n"
     ]
    },
    {
     "name": "stderr",
     "output_type": "stream",
     "text": [
      "\n",
      " 11%|█████████▏                                                                       | 17/150 [01:49<14:14,  6.43s/it]\u001b[A"
     ]
    },
    {
     "name": "stdout",
     "output_type": "stream",
     "text": [
      "[<selenium.webdriver.remote.webelement.WebElement (session=\"9dde711e96f51ab43a9fa71de8b148c0\", element=\"5f395e57-75f5-4765-aa0e-6fe8cfcf943c\")>]\n"
     ]
    },
    {
     "name": "stderr",
     "output_type": "stream",
     "text": [
      "\n",
      " 12%|█████████▋                                                                       | 18/150 [01:55<14:06,  6.42s/it]\u001b[A"
     ]
    },
    {
     "name": "stdout",
     "output_type": "stream",
     "text": [
      "[<selenium.webdriver.remote.webelement.WebElement (session=\"9dde711e96f51ab43a9fa71de8b148c0\", element=\"853b492b-f44a-4d1d-bf5f-705c991280c4\")>]\n",
      "[<selenium.webdriver.remote.webelement.WebElement (session=\"9dde711e96f51ab43a9fa71de8b148c0\", element=\"58109cdb-85e6-494f-bfbd-d68137ce9297\")>]\n"
     ]
    },
    {
     "name": "stderr",
     "output_type": "stream",
     "text": [
      "\n",
      " 13%|██████████▎                                                                      | 19/150 [02:02<14:10,  6.49s/it]\u001b[A\n",
      " 13%|██████████▊                                                                      | 20/150 [02:08<13:56,  6.44s/it]\u001b[A"
     ]
    },
    {
     "name": "stdout",
     "output_type": "stream",
     "text": [
      "[<selenium.webdriver.remote.webelement.WebElement (session=\"9dde711e96f51ab43a9fa71de8b148c0\", element=\"14f60188-566a-4db6-b0ce-fa24b7a557e4\")>]\n"
     ]
    },
    {
     "name": "stderr",
     "output_type": "stream",
     "text": [
      "\n"
     ]
    },
    {
     "name": "stdout",
     "output_type": "stream",
     "text": [
      "[<selenium.webdriver.remote.webelement.WebElement (session=\"9dde711e96f51ab43a9fa71de8b148c0\", element=\"5449f377-70e4-4a09-8be3-941a38387f35\")>]\n"
     ]
    },
    {
     "name": "stderr",
     "output_type": "stream",
     "text": [
      " 14%|███████████▎                                                                     | 21/150 [02:15<13:50,  6.44s/it]\u001b[A"
     ]
    },
    {
     "name": "stdout",
     "output_type": "stream",
     "text": [
      "[<selenium.webdriver.remote.webelement.WebElement (session=\"9dde711e96f51ab43a9fa71de8b148c0\", element=\"eb7e5466-656d-4148-ae4d-755fcc9ed273\")>]\n"
     ]
    },
    {
     "name": "stderr",
     "output_type": "stream",
     "text": [
      "\n",
      " 15%|███████████▉                                                                     | 22/150 [02:20<13:17,  6.23s/it]\u001b[A"
     ]
    },
    {
     "name": "stdout",
     "output_type": "stream",
     "text": [
      "[<selenium.webdriver.remote.webelement.WebElement (session=\"9dde711e96f51ab43a9fa71de8b148c0\", element=\"c620815d-ba24-4199-9fbf-c0de5892422b\")>]\n"
     ]
    },
    {
     "name": "stderr",
     "output_type": "stream",
     "text": [
      "\n",
      " 15%|████████████▍                                                                    | 23/150 [02:27<13:23,  6.33s/it]\u001b[A"
     ]
    },
    {
     "name": "stdout",
     "output_type": "stream",
     "text": [
      "[<selenium.webdriver.remote.webelement.WebElement (session=\"9dde711e96f51ab43a9fa71de8b148c0\", element=\"97629c45-2f4d-4671-b7ce-9fc048321147\")>]\n"
     ]
    },
    {
     "name": "stderr",
     "output_type": "stream",
     "text": [
      "\n",
      " 16%|████████████▉                                                                    | 24/150 [02:33<13:22,  6.37s/it]\u001b[A\n",
      " 17%|█████████████▌                                                                   | 25/150 [02:40<13:18,  6.38s/it]\u001b[A"
     ]
    },
    {
     "name": "stdout",
     "output_type": "stream",
     "text": [
      "[<selenium.webdriver.remote.webelement.WebElement (session=\"9dde711e96f51ab43a9fa71de8b148c0\", element=\"d86a0665-9ca1-4a87-b53a-4268c8e85921\")>]\n",
      "[<selenium.webdriver.remote.webelement.WebElement (session=\"9dde711e96f51ab43a9fa71de8b148c0\", element=\"6505d9c8-0c63-47b1-b172-6d893f357bf7\")>]\n"
     ]
    },
    {
     "name": "stderr",
     "output_type": "stream",
     "text": [
      "\n",
      " 17%|██████████████                                                                   | 26/150 [02:46<13:15,  6.42s/it]\u001b[A\n",
      " 18%|██████████████▌                                                                  | 27/150 [02:53<13:13,  6.45s/it]\u001b[A"
     ]
    },
    {
     "name": "stdout",
     "output_type": "stream",
     "text": [
      "[<selenium.webdriver.remote.webelement.WebElement (session=\"9dde711e96f51ab43a9fa71de8b148c0\", element=\"044ef35b-f596-4576-bf03-c508ec7dd499\")>]\n",
      "[<selenium.webdriver.remote.webelement.WebElement (session=\"9dde711e96f51ab43a9fa71de8b148c0\", element=\"5a7140d3-f2d6-4582-a90b-3e32a949d8cf\")>]\n"
     ]
    },
    {
     "name": "stderr",
     "output_type": "stream",
     "text": [
      "\n",
      " 19%|███████████████                                                                  | 28/150 [02:59<13:13,  6.50s/it]\u001b[A"
     ]
    },
    {
     "name": "stdout",
     "output_type": "stream",
     "text": [
      "[<selenium.webdriver.remote.webelement.WebElement (session=\"9dde711e96f51ab43a9fa71de8b148c0\", element=\"f01a4139-8596-4f34-9b12-ae223f37c8d2\")>]\n"
     ]
    },
    {
     "name": "stderr",
     "output_type": "stream",
     "text": [
      "\n",
      " 19%|███████████████▋                                                                 | 29/150 [03:06<13:10,  6.53s/it]\u001b[A"
     ]
    },
    {
     "name": "stdout",
     "output_type": "stream",
     "text": [
      "[<selenium.webdriver.remote.webelement.WebElement (session=\"9dde711e96f51ab43a9fa71de8b148c0\", element=\"451429fd-6ad9-46bc-910b-8ee737d4ce95\")>]\n"
     ]
    },
    {
     "name": "stderr",
     "output_type": "stream",
     "text": [
      "\n",
      " 20%|████████████████▏                                                                | 30/150 [03:13<13:12,  6.60s/it]\u001b[A\n",
      " 21%|████████████████▋                                                                | 31/150 [03:19<12:56,  6.52s/it]\u001b[A"
     ]
    },
    {
     "name": "stdout",
     "output_type": "stream",
     "text": [
      "[<selenium.webdriver.remote.webelement.WebElement (session=\"9dde711e96f51ab43a9fa71de8b148c0\", element=\"db26b38b-1c3a-4048-a805-3e10e7f07691\")>]\n",
      "[<selenium.webdriver.remote.webelement.WebElement (session=\"9dde711e96f51ab43a9fa71de8b148c0\", element=\"d0fabe5b-8557-4b69-993b-fb0c6dca1e94\")>]\n"
     ]
    },
    {
     "name": "stderr",
     "output_type": "stream",
     "text": [
      "\n",
      " 21%|█████████████████▎                                                               | 32/150 [03:26<12:45,  6.49s/it]\u001b[A"
     ]
    },
    {
     "name": "stdout",
     "output_type": "stream",
     "text": [
      "[<selenium.webdriver.remote.webelement.WebElement (session=\"9dde711e96f51ab43a9fa71de8b148c0\", element=\"5beff30e-a6eb-4dc3-87a8-2eb9626449dd\")>]\n"
     ]
    },
    {
     "name": "stderr",
     "output_type": "stream",
     "text": [
      "\n",
      " 22%|█████████████████▊                                                               | 33/150 [03:32<12:40,  6.50s/it]\u001b[A"
     ]
    },
    {
     "name": "stdout",
     "output_type": "stream",
     "text": [
      "[<selenium.webdriver.remote.webelement.WebElement (session=\"9dde711e96f51ab43a9fa71de8b148c0\", element=\"e8f0dfb7-e40d-4276-a89a-cc5247009520\")>]\n"
     ]
    },
    {
     "name": "stderr",
     "output_type": "stream",
     "text": [
      "\n",
      " 23%|██████████████████▎                                                              | 34/150 [03:38<12:06,  6.26s/it]\u001b[A\n",
      " 23%|██████████████████▉                                                              | 35/150 [03:44<12:03,  6.29s/it]\u001b[A"
     ]
    },
    {
     "name": "stdout",
     "output_type": "stream",
     "text": [
      "[<selenium.webdriver.remote.webelement.WebElement (session=\"9dde711e96f51ab43a9fa71de8b148c0\", element=\"a815665a-7af0-4b70-88f9-9c8cfd1af139\")>]\n",
      "[<selenium.webdriver.remote.webelement.WebElement (session=\"9dde711e96f51ab43a9fa71de8b148c0\", element=\"cc5e0b5c-eb2c-433c-8628-dbe8da29c4cb\")>]\n"
     ]
    },
    {
     "name": "stderr",
     "output_type": "stream",
     "text": [
      "\n",
      " 24%|███████████████████▍                                                             | 36/150 [03:50<11:39,  6.13s/it]\u001b[A"
     ]
    },
    {
     "name": "stdout",
     "output_type": "stream",
     "text": [
      "[<selenium.webdriver.remote.webelement.WebElement (session=\"9dde711e96f51ab43a9fa71de8b148c0\", element=\"815141cf-495a-47a4-91f2-8c6811acaac4\")>]\n"
     ]
    },
    {
     "name": "stderr",
     "output_type": "stream",
     "text": [
      "\n",
      " 25%|███████████████████▉                                                             | 37/150 [03:57<11:55,  6.33s/it]\u001b[A"
     ]
    },
    {
     "name": "stdout",
     "output_type": "stream",
     "text": [
      "[<selenium.webdriver.remote.webelement.WebElement (session=\"9dde711e96f51ab43a9fa71de8b148c0\", element=\"8a472cc4-9cf7-43ac-81cc-d81aa363faa2\")>]\n"
     ]
    },
    {
     "name": "stderr",
     "output_type": "stream",
     "text": [
      "\n",
      " 25%|████████████████████▌                                                            | 38/150 [04:03<11:55,  6.38s/it]\u001b[A\n",
      " 26%|█████████████████████                                                            | 39/150 [04:10<11:50,  6.40s/it]\u001b[A"
     ]
    },
    {
     "name": "stdout",
     "output_type": "stream",
     "text": [
      "[<selenium.webdriver.remote.webelement.WebElement (session=\"9dde711e96f51ab43a9fa71de8b148c0\", element=\"26cd480e-1d4b-41eb-8c92-f97f2f25590b\")>]\n",
      "[<selenium.webdriver.remote.webelement.WebElement (session=\"9dde711e96f51ab43a9fa71de8b148c0\", element=\"13576495-7c78-434d-856d-59e1eb862a18\")>]\n"
     ]
    },
    {
     "name": "stderr",
     "output_type": "stream",
     "text": [
      "\n",
      " 27%|█████████████████████▌                                                           | 40/150 [04:16<11:49,  6.45s/it]\u001b[A"
     ]
    },
    {
     "name": "stdout",
     "output_type": "stream",
     "text": [
      "[<selenium.webdriver.remote.webelement.WebElement (session=\"9dde711e96f51ab43a9fa71de8b148c0\", element=\"5cb53df4-be25-4ec7-b965-6d86b22cb3d3\")>]\n"
     ]
    },
    {
     "name": "stderr",
     "output_type": "stream",
     "text": [
      "\n",
      " 27%|██████████████████████▏                                                          | 41/150 [04:23<11:49,  6.51s/it]\u001b[A"
     ]
    },
    {
     "name": "stdout",
     "output_type": "stream",
     "text": [
      "[<selenium.webdriver.remote.webelement.WebElement (session=\"9dde711e96f51ab43a9fa71de8b148c0\", element=\"43602828-a287-47d2-a4dc-d54c479efb0a\")>]\n"
     ]
    },
    {
     "name": "stderr",
     "output_type": "stream",
     "text": [
      "\n",
      " 28%|██████████████████████▋                                                          | 42/150 [04:29<11:44,  6.52s/it]\u001b[A"
     ]
    },
    {
     "name": "stdout",
     "output_type": "stream",
     "text": [
      "[<selenium.webdriver.remote.webelement.WebElement (session=\"9dde711e96f51ab43a9fa71de8b148c0\", element=\"d66ab11e-db39-4858-bed8-52341c85e761\")>]\n"
     ]
    },
    {
     "name": "stderr",
     "output_type": "stream",
     "text": [
      "\n",
      " 29%|███████████████████████▏                                                         | 43/150 [04:36<11:39,  6.54s/it]\u001b[A"
     ]
    },
    {
     "name": "stdout",
     "output_type": "stream",
     "text": [
      "[<selenium.webdriver.remote.webelement.WebElement (session=\"9dde711e96f51ab43a9fa71de8b148c0\", element=\"b47d5405-b0ea-419a-8eda-b75fcbf91740\")>]\n"
     ]
    },
    {
     "name": "stderr",
     "output_type": "stream",
     "text": [
      "\n",
      " 29%|███████████████████████▊                                                         | 44/150 [04:43<11:34,  6.55s/it]\u001b[A"
     ]
    },
    {
     "name": "stdout",
     "output_type": "stream",
     "text": [
      "[<selenium.webdriver.remote.webelement.WebElement (session=\"9dde711e96f51ab43a9fa71de8b148c0\", element=\"fb636d7c-4ba8-45c4-8df4-04d0ab7d6641\")>]\n"
     ]
    },
    {
     "name": "stderr",
     "output_type": "stream",
     "text": [
      "\n",
      " 30%|████████████████████████▎                                                        | 45/150 [04:49<11:26,  6.54s/it]\u001b[A\n",
      " 31%|████████████████████████▊                                                        | 46/150 [04:55<11:16,  6.50s/it]\u001b[A"
     ]
    },
    {
     "name": "stdout",
     "output_type": "stream",
     "text": [
      "[<selenium.webdriver.remote.webelement.WebElement (session=\"9dde711e96f51ab43a9fa71de8b148c0\", element=\"fd6e1671-dad2-4457-951d-cc24da059b95\")>]\n"
     ]
    },
    {
     "name": "stderr",
     "output_type": "stream",
     "text": [
      "\n"
     ]
    },
    {
     "name": "stdout",
     "output_type": "stream",
     "text": [
      "[<selenium.webdriver.remote.webelement.WebElement (session=\"9dde711e96f51ab43a9fa71de8b148c0\", element=\"8177122d-dabc-42aa-b1ee-c0ad20370b32\")>]\n"
     ]
    },
    {
     "name": "stderr",
     "output_type": "stream",
     "text": [
      " 31%|█████████████████████████▍                                                       | 47/150 [05:02<11:09,  6.50s/it]\u001b[A"
     ]
    },
    {
     "name": "stdout",
     "output_type": "stream",
     "text": [
      "[<selenium.webdriver.remote.webelement.WebElement (session=\"9dde711e96f51ab43a9fa71de8b148c0\", element=\"cf3b784c-e013-42c9-ab88-bfeb1d408bee\")>]\n"
     ]
    },
    {
     "name": "stderr",
     "output_type": "stream",
     "text": [
      "\n",
      " 32%|█████████████████████████▉                                                       | 48/150 [05:08<10:38,  6.26s/it]\u001b[A"
     ]
    },
    {
     "name": "stdout",
     "output_type": "stream",
     "text": [
      "[<selenium.webdriver.remote.webelement.WebElement (session=\"9dde711e96f51ab43a9fa71de8b148c0\", element=\"7f49ac7f-1573-4464-a74b-e996c07cef64\")>]\n"
     ]
    },
    {
     "name": "stderr",
     "output_type": "stream",
     "text": [
      "\n",
      " 33%|██████████████████████████▍                                                      | 49/150 [05:14<10:43,  6.37s/it]\u001b[A\n",
      " 33%|███████████████████████████                                                      | 50/150 [05:21<10:40,  6.41s/it]\u001b[A"
     ]
    },
    {
     "name": "stdout",
     "output_type": "stream",
     "text": [
      "[<selenium.webdriver.remote.webelement.WebElement (session=\"9dde711e96f51ab43a9fa71de8b148c0\", element=\"c5f7b7ae-89ba-4ee1-9551-c679a6aa5451\")>]\n",
      "[<selenium.webdriver.remote.webelement.WebElement (session=\"9dde711e96f51ab43a9fa71de8b148c0\", element=\"7fa51bf6-45f9-4c4d-a1f9-bef81a161ba2\")>]\n"
     ]
    },
    {
     "name": "stderr",
     "output_type": "stream",
     "text": [
      "\n",
      " 34%|███████████████████████████▌                                                     | 51/150 [05:27<10:39,  6.46s/it]\u001b[A\n"
     ]
    },
    {
     "name": "stdout",
     "output_type": "stream",
     "text": [
      "[<selenium.webdriver.remote.webelement.WebElement (session=\"9dde711e96f51ab43a9fa71de8b148c0\", element=\"36040039-b052-4f04-92be-aa58c88923cd\")>]\n"
     ]
    },
    {
     "name": "stderr",
     "output_type": "stream",
     "text": [
      " 35%|████████████████████████████                                                     | 52/150 [05:34<10:36,  6.49s/it]\u001b[A\n",
      " 35%|████████████████████████████▌                                                    | 53/150 [05:40<10:28,  6.48s/it]\u001b[A"
     ]
    },
    {
     "name": "stdout",
     "output_type": "stream",
     "text": [
      "[<selenium.webdriver.remote.webelement.WebElement (session=\"9dde711e96f51ab43a9fa71de8b148c0\", element=\"9e7d1000-7bd3-4545-b785-de15a12cd393\")>]\n",
      "[<selenium.webdriver.remote.webelement.WebElement (session=\"9dde711e96f51ab43a9fa71de8b148c0\", element=\"0b6ba19c-fb59-4575-8e97-809f24ad252b\")>]\n"
     ]
    },
    {
     "name": "stderr",
     "output_type": "stream",
     "text": [
      "\n",
      " 36%|█████████████████████████████▏                                                   | 54/150 [05:47<10:23,  6.49s/it]\u001b[A\n",
      " 37%|█████████████████████████████▋                                                   | 55/150 [05:53<10:16,  6.49s/it]\u001b[A"
     ]
    },
    {
     "name": "stdout",
     "output_type": "stream",
     "text": [
      "[<selenium.webdriver.remote.webelement.WebElement (session=\"9dde711e96f51ab43a9fa71de8b148c0\", element=\"c2a5556c-690d-4fdb-ba0a-fa90e8d65710\")>]\n"
     ]
    },
    {
     "name": "stderr",
     "output_type": "stream",
     "text": [
      "\n",
      " 37%|██████████████████████████████▏                                                  | 56/150 [05:59<09:47,  6.25s/it]\u001b[A"
     ]
    },
    {
     "name": "stdout",
     "output_type": "stream",
     "text": [
      "[<selenium.webdriver.remote.webelement.WebElement (session=\"9dde711e96f51ab43a9fa71de8b148c0\", element=\"54b96686-2716-44f4-9d92-b560e86ccc56\")>]\n",
      "[<selenium.webdriver.remote.webelement.WebElement (session=\"9dde711e96f51ab43a9fa71de8b148c0\", element=\"b91cf5b3-348f-449e-acc1-63be077177c9\")>]\n"
     ]
    },
    {
     "name": "stderr",
     "output_type": "stream",
     "text": [
      "\n",
      " 38%|██████████████████████████████▊                                                  | 57/150 [06:06<09:51,  6.36s/it]\u001b[A\n",
      " 39%|███████████████████████████████▎                                                 | 58/150 [06:12<09:49,  6.40s/it]\u001b[A"
     ]
    },
    {
     "name": "stdout",
     "output_type": "stream",
     "text": [
      "[<selenium.webdriver.remote.webelement.WebElement (session=\"9dde711e96f51ab43a9fa71de8b148c0\", element=\"59156712-73fd-4d49-942b-0f5621184431\")>]\n",
      "[<selenium.webdriver.remote.webelement.WebElement (session=\"9dde711e96f51ab43a9fa71de8b148c0\", element=\"82d100aa-8e95-4c53-a68f-d1d52536666a\")>]\n"
     ]
    },
    {
     "name": "stderr",
     "output_type": "stream",
     "text": [
      "\n",
      " 39%|███████████████████████████████▊                                                 | 59/150 [06:19<09:49,  6.47s/it]\u001b[A"
     ]
    },
    {
     "name": "stdout",
     "output_type": "stream",
     "text": [
      "[<selenium.webdriver.remote.webelement.WebElement (session=\"9dde711e96f51ab43a9fa71de8b148c0\", element=\"585ecf4a-73f3-44b2-b6ea-a0cf65ac5334\")>]\n"
     ]
    },
    {
     "name": "stderr",
     "output_type": "stream",
     "text": [
      "\n",
      " 40%|████████████████████████████████▍                                                | 60/150 [06:25<09:46,  6.52s/it]\u001b[A\n",
      " 41%|████████████████████████████████▉                                                | 61/150 [06:32<09:37,  6.49s/it]\u001b[A"
     ]
    },
    {
     "name": "stdout",
     "output_type": "stream",
     "text": [
      "[<selenium.webdriver.remote.webelement.WebElement (session=\"9dde711e96f51ab43a9fa71de8b148c0\", element=\"9e9b8383-ecdc-4e51-b670-76a90ae18af6\")>]\n"
     ]
    },
    {
     "name": "stderr",
     "output_type": "stream",
     "text": [
      "\n",
      " 41%|█████████████████████████████████▍                                               | 62/150 [06:38<09:29,  6.48s/it]\u001b[A"
     ]
    },
    {
     "name": "stdout",
     "output_type": "stream",
     "text": [
      "[<selenium.webdriver.remote.webelement.WebElement (session=\"9dde711e96f51ab43a9fa71de8b148c0\", element=\"6fedc0a9-451a-43d3-b97b-d7e52dcfb6a3\")>]\n",
      "[<selenium.webdriver.remote.webelement.WebElement (session=\"9dde711e96f51ab43a9fa71de8b148c0\", element=\"df36b35f-f5b3-44af-9812-f319342fce30\")>]\n"
     ]
    },
    {
     "name": "stderr",
     "output_type": "stream",
     "text": [
      "\n",
      " 42%|██████████████████████████████████                                               | 63/150 [06:45<09:23,  6.48s/it]\u001b[A\n",
      " 43%|██████████████████████████████████▌                                              | 64/150 [06:51<09:16,  6.47s/it]\u001b[A"
     ]
    },
    {
     "name": "stdout",
     "output_type": "stream",
     "text": [
      "[<selenium.webdriver.remote.webelement.WebElement (session=\"9dde711e96f51ab43a9fa71de8b148c0\", element=\"cb0d3414-8624-4302-8330-f42592921aab\")>]\n",
      "[<selenium.webdriver.remote.webelement.WebElement (session=\"9dde711e96f51ab43a9fa71de8b148c0\", element=\"c6a32e83-ab89-47d5-8fcb-62ebaf3c08f8\")>]\n"
     ]
    },
    {
     "name": "stderr",
     "output_type": "stream",
     "text": [
      "\n",
      " 43%|███████████████████████████████████                                              | 65/150 [06:58<09:14,  6.52s/it]\u001b[A"
     ]
    },
    {
     "name": "stdout",
     "output_type": "stream",
     "text": [
      "[<selenium.webdriver.remote.webelement.WebElement (session=\"9dde711e96f51ab43a9fa71de8b148c0\", element=\"b0a665e1-5b1f-43b0-9cf2-3903395bc2a6\")>]\n"
     ]
    },
    {
     "name": "stderr",
     "output_type": "stream",
     "text": [
      "\n",
      " 44%|███████████████████████████████████▋                                             | 66/150 [07:05<09:01,  6.45s/it]\u001b[A\n",
      " 35%|██████████████████████████▊                                                  | 23/66 [1:21:18<3:10:38, 266.00s/it]\n",
      "  0%|                                                                                          | 0/150 [00:00<?, ?it/s]\u001b[A"
     ]
    },
    {
     "name": "stdout",
     "output_type": "stream",
     "text": [
      "[<selenium.webdriver.remote.webelement.WebElement (session=\"9dde711e96f51ab43a9fa71de8b148c0\", element=\"5091ab01-b9c8-488f-8150-0af22496b6ee\")>]\n"
     ]
    },
    {
     "name": "stderr",
     "output_type": "stream",
     "text": [
      "\n",
      "  1%|▌                                                                                 | 1/150 [00:06<16:10,  6.51s/it]\u001b[A"
     ]
    },
    {
     "name": "stdout",
     "output_type": "stream",
     "text": [
      "[<selenium.webdriver.remote.webelement.WebElement (session=\"9dde711e96f51ab43a9fa71de8b148c0\", element=\"48ad7ee4-e0cb-4a88-b4df-45243c7563db\")>]\n"
     ]
    },
    {
     "name": "stderr",
     "output_type": "stream",
     "text": [
      "\n",
      "  1%|█                                                                                 | 2/150 [00:13<16:24,  6.65s/it]\u001b[A"
     ]
    },
    {
     "name": "stdout",
     "output_type": "stream",
     "text": [
      "[<selenium.webdriver.remote.webelement.WebElement (session=\"9dde711e96f51ab43a9fa71de8b148c0\", element=\"6c6c0459-b519-4d27-92e4-0d077eae8449\")>]\n"
     ]
    },
    {
     "name": "stderr",
     "output_type": "stream",
     "text": [
      "\n",
      "  2%|█▋                                                                                | 3/150 [00:19<16:11,  6.61s/it]\u001b[A"
     ]
    },
    {
     "name": "stdout",
     "output_type": "stream",
     "text": [
      "[<selenium.webdriver.remote.webelement.WebElement (session=\"9dde711e96f51ab43a9fa71de8b148c0\", element=\"4ee21b48-bd9a-4632-9e15-16525f82846c\")>]\n"
     ]
    },
    {
     "name": "stderr",
     "output_type": "stream",
     "text": [
      "\n",
      "  3%|██▏                                                                               | 4/150 [00:26<16:03,  6.60s/it]\u001b[A"
     ]
    },
    {
     "name": "stdout",
     "output_type": "stream",
     "text": [
      "[<selenium.webdriver.remote.webelement.WebElement (session=\"9dde711e96f51ab43a9fa71de8b148c0\", element=\"cae35208-0be3-4e4a-ae8b-37eeb9ed3163\")>]\n"
     ]
    },
    {
     "name": "stderr",
     "output_type": "stream",
     "text": [
      "\n",
      "  3%|██▋                                                                               | 5/150 [00:32<15:52,  6.57s/it]\u001b[A"
     ]
    },
    {
     "name": "stdout",
     "output_type": "stream",
     "text": [
      "[<selenium.webdriver.remote.webelement.WebElement (session=\"9dde711e96f51ab43a9fa71de8b148c0\", element=\"134787b2-f399-4269-bdd8-5d6264a87d11\")>]\n"
     ]
    },
    {
     "name": "stderr",
     "output_type": "stream",
     "text": [
      "\n",
      "  4%|███▎                                                                              | 6/150 [00:39<15:51,  6.61s/it]\u001b[A"
     ]
    },
    {
     "name": "stdout",
     "output_type": "stream",
     "text": [
      "[<selenium.webdriver.remote.webelement.WebElement (session=\"9dde711e96f51ab43a9fa71de8b148c0\", element=\"754aab9b-41cd-4a0b-8ede-706f01abf668\")>]\n"
     ]
    },
    {
     "name": "stderr",
     "output_type": "stream",
     "text": [
      "\n",
      "  5%|███▊                                                                              | 7/150 [00:46<15:49,  6.64s/it]\u001b[A"
     ]
    },
    {
     "name": "stdout",
     "output_type": "stream",
     "text": [
      "[<selenium.webdriver.remote.webelement.WebElement (session=\"9dde711e96f51ab43a9fa71de8b148c0\", element=\"12323a76-383e-4591-a789-45a07a31e2f2\")>]\n"
     ]
    },
    {
     "name": "stderr",
     "output_type": "stream",
     "text": [
      "\n",
      "  5%|████▎                                                                             | 8/150 [00:52<15:40,  6.62s/it]\u001b[A"
     ]
    },
    {
     "name": "stdout",
     "output_type": "stream",
     "text": [
      "[<selenium.webdriver.remote.webelement.WebElement (session=\"9dde711e96f51ab43a9fa71de8b148c0\", element=\"31641a09-f3bc-49b1-8e06-ae8c623bdc04\")>]\n"
     ]
    },
    {
     "name": "stderr",
     "output_type": "stream",
     "text": [
      "\n",
      "  6%|████▉                                                                             | 9/150 [00:59<15:34,  6.63s/it]\u001b[A"
     ]
    },
    {
     "name": "stdout",
     "output_type": "stream",
     "text": [
      "[<selenium.webdriver.remote.webelement.WebElement (session=\"9dde711e96f51ab43a9fa71de8b148c0\", element=\"0f835d89-3355-4abf-93f1-6ad6f9e8e214\")>]\n"
     ]
    },
    {
     "name": "stderr",
     "output_type": "stream",
     "text": [
      "\n",
      "  7%|█████▍                                                                           | 10/150 [01:06<15:21,  6.59s/it]\u001b[A"
     ]
    },
    {
     "name": "stdout",
     "output_type": "stream",
     "text": [
      "[<selenium.webdriver.remote.webelement.WebElement (session=\"9dde711e96f51ab43a9fa71de8b148c0\", element=\"a558afc9-be22-4a4c-8d84-41558fc990c1\")>]\n"
     ]
    },
    {
     "name": "stderr",
     "output_type": "stream",
     "text": [
      "\n",
      "  7%|█████▉                                                                           | 11/150 [01:12<15:14,  6.58s/it]\u001b[A"
     ]
    },
    {
     "name": "stdout",
     "output_type": "stream",
     "text": [
      "[<selenium.webdriver.remote.webelement.WebElement (session=\"9dde711e96f51ab43a9fa71de8b148c0\", element=\"045f6f3c-e6aa-49ad-aa18-96782ca74ecf\")>]\n"
     ]
    },
    {
     "name": "stderr",
     "output_type": "stream",
     "text": [
      "\n",
      "  8%|██████▍                                                                          | 12/150 [01:19<15:03,  6.55s/it]\u001b[A"
     ]
    },
    {
     "name": "stdout",
     "output_type": "stream",
     "text": [
      "[<selenium.webdriver.remote.webelement.WebElement (session=\"9dde711e96f51ab43a9fa71de8b148c0\", element=\"a9732107-393c-4edf-835a-475ab57326ef\")>]\n"
     ]
    },
    {
     "name": "stderr",
     "output_type": "stream",
     "text": [
      "\n",
      "  9%|███████                                                                          | 13/150 [01:25<15:02,  6.59s/it]\u001b[A"
     ]
    },
    {
     "name": "stdout",
     "output_type": "stream",
     "text": [
      "[<selenium.webdriver.remote.webelement.WebElement (session=\"9dde711e96f51ab43a9fa71de8b148c0\", element=\"b9348a69-9c7a-4cf4-abca-0f52f48817ff\")>]\n"
     ]
    },
    {
     "name": "stderr",
     "output_type": "stream",
     "text": [
      "\n",
      "  9%|███████▌                                                                         | 14/150 [01:32<14:56,  6.59s/it]\u001b[A"
     ]
    },
    {
     "name": "stdout",
     "output_type": "stream",
     "text": [
      "[<selenium.webdriver.remote.webelement.WebElement (session=\"9dde711e96f51ab43a9fa71de8b148c0\", element=\"869d733f-177c-43a3-b754-79d6c8ed8a0a\")>]\n"
     ]
    },
    {
     "name": "stderr",
     "output_type": "stream",
     "text": [
      "\n",
      " 10%|████████                                                                         | 15/150 [01:38<14:48,  6.58s/it]\u001b[A"
     ]
    },
    {
     "name": "stdout",
     "output_type": "stream",
     "text": [
      "[<selenium.webdriver.remote.webelement.WebElement (session=\"9dde711e96f51ab43a9fa71de8b148c0\", element=\"b8b05136-9460-41e6-b82f-b38a7b8dd678\")>]\n"
     ]
    },
    {
     "name": "stderr",
     "output_type": "stream",
     "text": [
      "\n",
      " 11%|████████▋                                                                        | 16/150 [01:45<14:41,  6.58s/it]\u001b[A"
     ]
    },
    {
     "name": "stdout",
     "output_type": "stream",
     "text": [
      "[<selenium.webdriver.remote.webelement.WebElement (session=\"9dde711e96f51ab43a9fa71de8b148c0\", element=\"74bab309-7882-4204-bffd-401846fae291\")>]\n"
     ]
    },
    {
     "name": "stderr",
     "output_type": "stream",
     "text": [
      "\n",
      " 11%|█████████▏                                                                       | 17/150 [01:52<14:36,  6.59s/it]\u001b[A"
     ]
    },
    {
     "name": "stdout",
     "output_type": "stream",
     "text": [
      "[<selenium.webdriver.remote.webelement.WebElement (session=\"9dde711e96f51ab43a9fa71de8b148c0\", element=\"d4806c27-1724-430b-a124-c29e518a41d8\")>]\n"
     ]
    },
    {
     "name": "stderr",
     "output_type": "stream",
     "text": [
      "\n",
      " 12%|█████████▋                                                                       | 18/150 [01:58<14:29,  6.59s/it]\u001b[A\n"
     ]
    },
    {
     "name": "stdout",
     "output_type": "stream",
     "text": [
      "[<selenium.webdriver.remote.webelement.WebElement (session=\"9dde711e96f51ab43a9fa71de8b148c0\", element=\"243a0d6c-3ac8-4cab-8757-599628638cbf\")>]\n"
     ]
    },
    {
     "name": "stderr",
     "output_type": "stream",
     "text": [
      " 13%|██████████▎                                                                      | 19/150 [02:05<14:20,  6.57s/it]\u001b[A"
     ]
    },
    {
     "name": "stdout",
     "output_type": "stream",
     "text": [
      "[<selenium.webdriver.remote.webelement.WebElement (session=\"9dde711e96f51ab43a9fa71de8b148c0\", element=\"45aaf598-f29b-426a-ac02-1ae2fb53ca4d\")>]\n"
     ]
    },
    {
     "name": "stderr",
     "output_type": "stream",
     "text": [
      "\n",
      " 13%|██████████▊                                                                      | 20/150 [02:11<14:16,  6.59s/it]\u001b[A\n"
     ]
    },
    {
     "name": "stdout",
     "output_type": "stream",
     "text": [
      "[<selenium.webdriver.remote.webelement.WebElement (session=\"9dde711e96f51ab43a9fa71de8b148c0\", element=\"52b87263-1fa7-42e3-8576-bb66f426c63a\")>]\n"
     ]
    },
    {
     "name": "stderr",
     "output_type": "stream",
     "text": [
      " 14%|███████████▎                                                                     | 21/150 [02:18<14:04,  6.54s/it]\u001b[A"
     ]
    },
    {
     "name": "stdout",
     "output_type": "stream",
     "text": [
      "[<selenium.webdriver.remote.webelement.WebElement (session=\"9dde711e96f51ab43a9fa71de8b148c0\", element=\"3c32d8d8-8ad6-4da5-aa93-a2ec698d97de\")>]\n"
     ]
    },
    {
     "name": "stderr",
     "output_type": "stream",
     "text": [
      "\n",
      " 15%|███████████▉                                                                     | 22/150 [02:24<13:59,  6.56s/it]\u001b[A"
     ]
    },
    {
     "name": "stdout",
     "output_type": "stream",
     "text": [
      "[<selenium.webdriver.remote.webelement.WebElement (session=\"9dde711e96f51ab43a9fa71de8b148c0\", element=\"918790e2-fe12-46e6-bb8d-549c682cb9d2\")>]\n"
     ]
    },
    {
     "name": "stderr",
     "output_type": "stream",
     "text": [
      "\n",
      " 15%|████████████▍                                                                    | 23/150 [02:31<13:59,  6.61s/it]\u001b[A\n",
      " 16%|████████████▉                                                                    | 24/150 [02:37<13:12,  6.29s/it]\u001b[A"
     ]
    },
    {
     "name": "stdout",
     "output_type": "stream",
     "text": [
      "[<selenium.webdriver.remote.webelement.WebElement (session=\"9dde711e96f51ab43a9fa71de8b148c0\", element=\"d38a1e5b-68e8-4fab-88b0-ec8a35f50bac\")>]\n",
      "[<selenium.webdriver.remote.webelement.WebElement (session=\"9dde711e96f51ab43a9fa71de8b148c0\", element=\"082cf7be-f52a-4882-b283-eb77fe99a937\")>]\n"
     ]
    },
    {
     "name": "stderr",
     "output_type": "stream",
     "text": [
      "\n",
      " 17%|█████████████▌                                                                   | 25/150 [02:43<13:25,  6.45s/it]\u001b[A"
     ]
    },
    {
     "name": "stdout",
     "output_type": "stream",
     "text": [
      "[<selenium.webdriver.remote.webelement.WebElement (session=\"9dde711e96f51ab43a9fa71de8b148c0\", element=\"eb70b9c8-dd8d-45b4-88e7-be21a50d4db6\")>]\n"
     ]
    },
    {
     "name": "stderr",
     "output_type": "stream",
     "text": [
      "\n",
      " 17%|██████████████                                                                   | 26/150 [02:51<14:06,  6.82s/it]\u001b[A"
     ]
    },
    {
     "name": "stdout",
     "output_type": "stream",
     "text": [
      "[<selenium.webdriver.remote.webelement.WebElement (session=\"9dde711e96f51ab43a9fa71de8b148c0\", element=\"96ba07ec-0c4d-4fcd-b023-9a673f077862\")>]\n"
     ]
    },
    {
     "name": "stderr",
     "output_type": "stream",
     "text": [
      "\n",
      " 18%|██████████████▌                                                                  | 27/150 [02:58<13:45,  6.71s/it]\u001b[A"
     ]
    },
    {
     "name": "stdout",
     "output_type": "stream",
     "text": [
      "[<selenium.webdriver.remote.webelement.WebElement (session=\"9dde711e96f51ab43a9fa71de8b148c0\", element=\"a2e6e808-506f-4ad4-9c82-41c37814a212\")>]\n"
     ]
    },
    {
     "name": "stderr",
     "output_type": "stream",
     "text": [
      "\n",
      " 19%|███████████████                                                                  | 28/150 [03:04<13:32,  6.66s/it]\u001b[A"
     ]
    },
    {
     "name": "stdout",
     "output_type": "stream",
     "text": [
      "[<selenium.webdriver.remote.webelement.WebElement (session=\"9dde711e96f51ab43a9fa71de8b148c0\", element=\"420b4cb6-9c89-4a9e-82aa-325fc1c61b55\")>]\n"
     ]
    },
    {
     "name": "stderr",
     "output_type": "stream",
     "text": [
      "\n",
      " 19%|███████████████▋                                                                 | 29/150 [03:11<13:27,  6.67s/it]\u001b[A"
     ]
    },
    {
     "name": "stdout",
     "output_type": "stream",
     "text": [
      "[<selenium.webdriver.remote.webelement.WebElement (session=\"9dde711e96f51ab43a9fa71de8b148c0\", element=\"e91b3153-6212-4a34-8277-eba8b850da38\")>]\n"
     ]
    },
    {
     "name": "stderr",
     "output_type": "stream",
     "text": [
      "\n",
      " 20%|████████████████▏                                                                | 30/150 [03:17<13:17,  6.64s/it]\u001b[A"
     ]
    },
    {
     "name": "stdout",
     "output_type": "stream",
     "text": [
      "[<selenium.webdriver.remote.webelement.WebElement (session=\"9dde711e96f51ab43a9fa71de8b148c0\", element=\"2c7662f4-60ba-4478-93b9-9153d5294925\")>]\n"
     ]
    },
    {
     "name": "stderr",
     "output_type": "stream",
     "text": [
      "\n",
      " 21%|████████████████▋                                                                | 31/150 [03:23<12:45,  6.44s/it]\u001b[A"
     ]
    },
    {
     "name": "stdout",
     "output_type": "stream",
     "text": [
      "[<selenium.webdriver.remote.webelement.WebElement (session=\"9dde711e96f51ab43a9fa71de8b148c0\", element=\"cdf8e738-bcdc-428e-b060-e6dbca1ea88f\")>]\n"
     ]
    },
    {
     "name": "stderr",
     "output_type": "stream",
     "text": [
      "\n",
      " 21%|█████████████████▎                                                               | 32/150 [03:30<12:51,  6.54s/it]\u001b[A"
     ]
    },
    {
     "name": "stdout",
     "output_type": "stream",
     "text": [
      "[<selenium.webdriver.remote.webelement.WebElement (session=\"9dde711e96f51ab43a9fa71de8b148c0\", element=\"ed4dca73-b3da-4aaa-83d7-3f47c0c48bed\")>]\n"
     ]
    },
    {
     "name": "stderr",
     "output_type": "stream",
     "text": [
      "\n",
      " 22%|█████████████████▊                                                               | 33/150 [03:37<12:50,  6.59s/it]\u001b[A"
     ]
    },
    {
     "name": "stdout",
     "output_type": "stream",
     "text": [
      "[<selenium.webdriver.remote.webelement.WebElement (session=\"9dde711e96f51ab43a9fa71de8b148c0\", element=\"8d32582f-2c10-4379-b029-04f199778683\")>]\n"
     ]
    },
    {
     "name": "stderr",
     "output_type": "stream",
     "text": [
      "\n",
      " 23%|██████████████████▎                                                              | 34/150 [03:43<12:39,  6.55s/it]\u001b[A"
     ]
    },
    {
     "name": "stdout",
     "output_type": "stream",
     "text": [
      "[<selenium.webdriver.remote.webelement.WebElement (session=\"9dde711e96f51ab43a9fa71de8b148c0\", element=\"00e01f5c-9c92-4cf3-9d3e-3a3d762a753a\")>]\n"
     ]
    },
    {
     "name": "stderr",
     "output_type": "stream",
     "text": [
      "\n",
      " 23%|██████████████████▉                                                              | 35/150 [03:50<12:30,  6.53s/it]\u001b[A"
     ]
    },
    {
     "name": "stdout",
     "output_type": "stream",
     "text": [
      "[<selenium.webdriver.remote.webelement.WebElement (session=\"9dde711e96f51ab43a9fa71de8b148c0\", element=\"f39a2023-8cf5-4296-b4c4-81a4fb29fa4a\")>]\n"
     ]
    },
    {
     "name": "stderr",
     "output_type": "stream",
     "text": [
      "\n",
      " 24%|███████████████████▍                                                             | 36/150 [03:56<12:28,  6.57s/it]\u001b[A"
     ]
    },
    {
     "name": "stdout",
     "output_type": "stream",
     "text": [
      "[<selenium.webdriver.remote.webelement.WebElement (session=\"9dde711e96f51ab43a9fa71de8b148c0\", element=\"d5c269b0-a7ff-4fd7-9f75-747b7da4d6d3\")>]\n"
     ]
    },
    {
     "name": "stderr",
     "output_type": "stream",
     "text": [
      "\n",
      " 25%|███████████████████▉                                                             | 37/150 [04:03<12:19,  6.54s/it]\u001b[A"
     ]
    },
    {
     "name": "stdout",
     "output_type": "stream",
     "text": [
      "[<selenium.webdriver.remote.webelement.WebElement (session=\"9dde711e96f51ab43a9fa71de8b148c0\", element=\"6eea9578-49d5-485d-b2a4-95be266a164e\")>]\n"
     ]
    },
    {
     "name": "stderr",
     "output_type": "stream",
     "text": [
      "\n",
      " 25%|████████████████████▌                                                            | 38/150 [04:10<12:17,  6.58s/it]\u001b[A"
     ]
    },
    {
     "name": "stdout",
     "output_type": "stream",
     "text": [
      "[<selenium.webdriver.remote.webelement.WebElement (session=\"9dde711e96f51ab43a9fa71de8b148c0\", element=\"85cd8d0b-5f73-43e3-87c5-3612eb443ce7\")>]\n"
     ]
    },
    {
     "name": "stderr",
     "output_type": "stream",
     "text": [
      "\n",
      " 26%|█████████████████████                                                            | 39/150 [04:16<12:08,  6.56s/it]\u001b[A\n"
     ]
    },
    {
     "name": "stdout",
     "output_type": "stream",
     "text": [
      "[<selenium.webdriver.remote.webelement.WebElement (session=\"9dde711e96f51ab43a9fa71de8b148c0\", element=\"50053773-70bd-477d-8d88-90896a2ed217\")>]\n"
     ]
    },
    {
     "name": "stderr",
     "output_type": "stream",
     "text": [
      " 27%|█████████████████████▌                                                           | 40/150 [04:22<11:32,  6.29s/it]\u001b[A"
     ]
    },
    {
     "name": "stdout",
     "output_type": "stream",
     "text": [
      "[<selenium.webdriver.remote.webelement.WebElement (session=\"9dde711e96f51ab43a9fa71de8b148c0\", element=\"676298f9-e1f6-43c7-8276-039483388201\")>]\n"
     ]
    },
    {
     "name": "stderr",
     "output_type": "stream",
     "text": [
      "\n",
      " 27%|██████████████████████▏                                                          | 41/150 [04:28<11:30,  6.34s/it]\u001b[A"
     ]
    },
    {
     "name": "stdout",
     "output_type": "stream",
     "text": [
      "[<selenium.webdriver.remote.webelement.WebElement (session=\"9dde711e96f51ab43a9fa71de8b148c0\", element=\"6f8c415b-2ca8-4084-9bfc-77e7189db1c7\")>]\n"
     ]
    },
    {
     "name": "stderr",
     "output_type": "stream",
     "text": [
      "\n",
      " 28%|██████████████████████▋                                                          | 42/150 [04:34<11:04,  6.15s/it]\u001b[A\n",
      " 29%|███████████████████████▏                                                         | 43/150 [04:40<11:08,  6.24s/it]\u001b[A"
     ]
    },
    {
     "name": "stdout",
     "output_type": "stream",
     "text": [
      "[<selenium.webdriver.remote.webelement.WebElement (session=\"9dde711e96f51ab43a9fa71de8b148c0\", element=\"942136b5-9f2a-4e58-a734-776f5b4a1e25\")>]\n",
      "[<selenium.webdriver.remote.webelement.WebElement (session=\"9dde711e96f51ab43a9fa71de8b148c0\", element=\"a64eb5ad-c9c4-4741-9c8f-4753167ae9f9\")>]\n"
     ]
    },
    {
     "name": "stderr",
     "output_type": "stream",
     "text": [
      "\n",
      " 29%|███████████████████████▊                                                         | 44/150 [04:47<11:15,  6.37s/it]\u001b[A\n",
      " 30%|████████████████████████▎                                                        | 45/150 [04:53<10:43,  6.13s/it]\u001b[A"
     ]
    },
    {
     "name": "stdout",
     "output_type": "stream",
     "text": [
      "[<selenium.webdriver.remote.webelement.WebElement (session=\"9dde711e96f51ab43a9fa71de8b148c0\", element=\"bdc0757f-90c8-45e7-9e1e-9cfa5602131a\")>]\n",
      "[<selenium.webdriver.remote.webelement.WebElement (session=\"9dde711e96f51ab43a9fa71de8b148c0\", element=\"d415259f-c4e8-4470-9e02-73ba2f0094a6\")>]\n"
     ]
    },
    {
     "name": "stderr",
     "output_type": "stream",
     "text": [
      "\n",
      " 31%|████████████████████████▊                                                        | 46/150 [04:59<10:52,  6.27s/it]\u001b[A\n",
      " 31%|█████████████████████████▍                                                       | 47/150 [05:06<10:47,  6.28s/it]\u001b[A"
     ]
    },
    {
     "name": "stdout",
     "output_type": "stream",
     "text": [
      "[<selenium.webdriver.remote.webelement.WebElement (session=\"9dde711e96f51ab43a9fa71de8b148c0\", element=\"b8d4dd06-93ab-4902-bd49-5c4427bf213f\")>]\n",
      "[<selenium.webdriver.remote.webelement.WebElement (session=\"9dde711e96f51ab43a9fa71de8b148c0\", element=\"42780668-f277-43cf-9d53-57718a8467d4\")>]\n"
     ]
    },
    {
     "name": "stderr",
     "output_type": "stream",
     "text": [
      "\n",
      " 32%|█████████████████████████▉                                                       | 48/150 [05:12<10:57,  6.44s/it]\u001b[A"
     ]
    },
    {
     "name": "stdout",
     "output_type": "stream",
     "text": [
      "[<selenium.webdriver.remote.webelement.WebElement (session=\"9dde711e96f51ab43a9fa71de8b148c0\", element=\"17f7f732-f21b-4663-9351-942b609029aa\")>]\n"
     ]
    },
    {
     "name": "stderr",
     "output_type": "stream",
     "text": [
      "\n",
      " 33%|██████████████████████████▍                                                      | 49/150 [05:19<11:02,  6.56s/it]\u001b[A"
     ]
    },
    {
     "name": "stdout",
     "output_type": "stream",
     "text": [
      "[<selenium.webdriver.remote.webelement.WebElement (session=\"9dde711e96f51ab43a9fa71de8b148c0\", element=\"00f274a9-77f9-42cc-aabb-af3a843b292a\")>]\n"
     ]
    },
    {
     "name": "stderr",
     "output_type": "stream",
     "text": [
      "\n",
      " 33%|███████████████████████████                                                      | 50/150 [05:26<11:06,  6.66s/it]\u001b[A"
     ]
    },
    {
     "name": "stdout",
     "output_type": "stream",
     "text": [
      "[<selenium.webdriver.remote.webelement.WebElement (session=\"9dde711e96f51ab43a9fa71de8b148c0\", element=\"1045465b-97c8-46a1-ac46-a70d1c981e54\")>]\n"
     ]
    },
    {
     "name": "stderr",
     "output_type": "stream",
     "text": [
      "\n",
      " 34%|███████████████████████████▌                                                     | 51/150 [05:33<11:14,  6.82s/it]\u001b[A"
     ]
    },
    {
     "name": "stdout",
     "output_type": "stream",
     "text": [
      "[<selenium.webdriver.remote.webelement.WebElement (session=\"9dde711e96f51ab43a9fa71de8b148c0\", element=\"5c7c7a85-1061-4530-b4a7-086514ab7ec7\")>]\n"
     ]
    },
    {
     "name": "stderr",
     "output_type": "stream",
     "text": [
      "\n",
      " 35%|████████████████████████████                                                     | 52/150 [05:41<10:43,  6.57s/it]\u001b[A\n",
      " 36%|████████████████████████████                                                 | 24/66 [1:27:00<3:22:06, 288.72s/it]\n",
      "  0%|                                                                                          | 0/150 [00:00<?, ?it/s]\u001b[A"
     ]
    },
    {
     "name": "stdout",
     "output_type": "stream",
     "text": [
      "[<selenium.webdriver.remote.webelement.WebElement (session=\"9dde711e96f51ab43a9fa71de8b148c0\", element=\"9af2bc79-f085-4bb6-9a7c-cfbf3ad2d0c0\")>]\n"
     ]
    },
    {
     "name": "stderr",
     "output_type": "stream",
     "text": [
      "\n",
      "  1%|▌                                                                                 | 1/150 [00:06<16:19,  6.58s/it]\u001b[A"
     ]
    },
    {
     "name": "stdout",
     "output_type": "stream",
     "text": [
      "[<selenium.webdriver.remote.webelement.WebElement (session=\"9dde711e96f51ab43a9fa71de8b148c0\", element=\"71bc64a3-c02f-4f5b-aa00-f7c1d4dcbfa7\")>]\n"
     ]
    },
    {
     "name": "stderr",
     "output_type": "stream",
     "text": [
      "\n",
      "  1%|█                                                                                 | 2/150 [00:13<16:06,  6.53s/it]\u001b[A"
     ]
    },
    {
     "name": "stdout",
     "output_type": "stream",
     "text": [
      "[<selenium.webdriver.remote.webelement.WebElement (session=\"9dde711e96f51ab43a9fa71de8b148c0\", element=\"4f6a59c7-db38-49b6-ba0c-aa44bbb5583c\")>]\n"
     ]
    },
    {
     "name": "stderr",
     "output_type": "stream",
     "text": [
      "\n",
      "  2%|█▋                                                                                | 3/150 [00:20<16:38,  6.79s/it]\u001b[A"
     ]
    },
    {
     "name": "stdout",
     "output_type": "stream",
     "text": [
      "[<selenium.webdriver.remote.webelement.WebElement (session=\"9dde711e96f51ab43a9fa71de8b148c0\", element=\"dc5af3e4-b13c-4f50-a5c8-98f82b86d0e6\")>]\n"
     ]
    },
    {
     "name": "stderr",
     "output_type": "stream",
     "text": [
      "\n",
      "  3%|██▏                                                                               | 4/150 [00:26<16:16,  6.69s/it]\u001b[A"
     ]
    },
    {
     "name": "stdout",
     "output_type": "stream",
     "text": [
      "[<selenium.webdriver.remote.webelement.WebElement (session=\"9dde711e96f51ab43a9fa71de8b148c0\", element=\"38b61049-5f36-41c1-b132-1ae14994e1c0\")>]\n"
     ]
    },
    {
     "name": "stderr",
     "output_type": "stream",
     "text": [
      "\n",
      "  3%|██▋                                                                               | 5/150 [00:34<16:37,  6.88s/it]\u001b[A\n",
      " 38%|█████████████████████████████▏                                               | 25/66 [1:27:34<2:25:08, 212.41s/it]\n",
      "  0%|                                                                                          | 0/150 [00:00<?, ?it/s]\u001b[A"
     ]
    },
    {
     "name": "stdout",
     "output_type": "stream",
     "text": [
      "[<selenium.webdriver.remote.webelement.WebElement (session=\"9dde711e96f51ab43a9fa71de8b148c0\", element=\"55cfc3be-4689-41c2-ba28-93ff8d05d414\")>]\n"
     ]
    },
    {
     "name": "stderr",
     "output_type": "stream",
     "text": [
      "\n",
      "  1%|▌                                                                                 | 1/150 [00:06<16:17,  6.56s/it]\u001b[A\n",
      "  1%|█                                                                                 | 2/150 [00:12<14:50,  6.01s/it]\u001b[A"
     ]
    },
    {
     "name": "stdout",
     "output_type": "stream",
     "text": [
      "[<selenium.webdriver.remote.webelement.WebElement (session=\"9dde711e96f51ab43a9fa71de8b148c0\", element=\"e67f9807-fcbd-4bf7-88f1-c82b11472ad8\")>]\n",
      "[<selenium.webdriver.remote.webelement.WebElement (session=\"9dde711e96f51ab43a9fa71de8b148c0\", element=\"bd4750e7-c7af-4043-b9e1-db1c92ba88a0\")>]\n"
     ]
    },
    {
     "name": "stderr",
     "output_type": "stream",
     "text": [
      "\n",
      "  2%|█▋                                                                                | 3/150 [00:19<16:25,  6.70s/it]\u001b[A"
     ]
    },
    {
     "name": "stdout",
     "output_type": "stream",
     "text": [
      "[<selenium.webdriver.remote.webelement.WebElement (session=\"9dde711e96f51ab43a9fa71de8b148c0\", element=\"c591f7f8-7b16-4911-b89d-e6d46245f43a\")>]\n"
     ]
    },
    {
     "name": "stderr",
     "output_type": "stream",
     "text": [
      "\n",
      "  3%|██▏                                                                               | 4/150 [00:26<16:04,  6.61s/it]\u001b[A"
     ]
    },
    {
     "name": "stdout",
     "output_type": "stream",
     "text": [
      "[<selenium.webdriver.remote.webelement.WebElement (session=\"9dde711e96f51ab43a9fa71de8b148c0\", element=\"dfdbfbdd-19ee-4cd9-9ec1-8222d7f3c8a4\")>]\n"
     ]
    },
    {
     "name": "stderr",
     "output_type": "stream",
     "text": [
      "\n",
      "  3%|██▋                                                                               | 5/150 [00:32<15:47,  6.54s/it]\u001b[A\n"
     ]
    },
    {
     "name": "stdout",
     "output_type": "stream",
     "text": [
      "[<selenium.webdriver.remote.webelement.WebElement (session=\"9dde711e96f51ab43a9fa71de8b148c0\", element=\"567bad9f-6830-4c85-867a-58b9474b51a2\")>]\n"
     ]
    },
    {
     "name": "stderr",
     "output_type": "stream",
     "text": [
      "  4%|███▎                                                                              | 6/150 [00:39<15:38,  6.52s/it]\u001b[A"
     ]
    },
    {
     "name": "stdout",
     "output_type": "stream",
     "text": [
      "[<selenium.webdriver.remote.webelement.WebElement (session=\"9dde711e96f51ab43a9fa71de8b148c0\", element=\"d75b2341-b130-412b-88e9-188c225c060e\")>]\n"
     ]
    },
    {
     "name": "stderr",
     "output_type": "stream",
     "text": [
      "\n",
      "  5%|███▊                                                                              | 7/150 [00:45<15:39,  6.57s/it]\u001b[A"
     ]
    },
    {
     "name": "stdout",
     "output_type": "stream",
     "text": [
      "[<selenium.webdriver.remote.webelement.WebElement (session=\"9dde711e96f51ab43a9fa71de8b148c0\", element=\"40ecd559-f06e-476f-af6a-fdd555278c43\")>]\n"
     ]
    },
    {
     "name": "stderr",
     "output_type": "stream",
     "text": [
      "\n",
      "  5%|████▎                                                                             | 8/150 [00:52<15:27,  6.53s/it]\u001b[A\n",
      "  6%|████▉                                                                             | 9/150 [00:58<15:17,  6.50s/it]\u001b[A"
     ]
    },
    {
     "name": "stdout",
     "output_type": "stream",
     "text": [
      "[<selenium.webdriver.remote.webelement.WebElement (session=\"9dde711e96f51ab43a9fa71de8b148c0\", element=\"ea199712-dd38-470a-9a3d-99983144dab1\")>]\n",
      "[<selenium.webdriver.remote.webelement.WebElement (session=\"9dde711e96f51ab43a9fa71de8b148c0\", element=\"529f8749-f3d9-4cfc-bf41-6e1533df86e5\")>]\n"
     ]
    },
    {
     "name": "stderr",
     "output_type": "stream",
     "text": [
      "\n",
      "  7%|█████▍                                                                           | 10/150 [01:05<15:11,  6.51s/it]\u001b[A"
     ]
    },
    {
     "name": "stdout",
     "output_type": "stream",
     "text": [
      "[<selenium.webdriver.remote.webelement.WebElement (session=\"9dde711e96f51ab43a9fa71de8b148c0\", element=\"8e1ff7fd-4942-4a02-bfe1-07e14354b2aa\")>]\n"
     ]
    },
    {
     "name": "stderr",
     "output_type": "stream",
     "text": [
      "\n",
      "  7%|█████▉                                                                           | 11/150 [01:11<15:08,  6.54s/it]\u001b[A"
     ]
    },
    {
     "name": "stdout",
     "output_type": "stream",
     "text": [
      "[<selenium.webdriver.remote.webelement.WebElement (session=\"9dde711e96f51ab43a9fa71de8b148c0\", element=\"6cba4eb6-46b5-46db-bb17-4da5235c615d\")>]\n"
     ]
    },
    {
     "name": "stderr",
     "output_type": "stream",
     "text": [
      "\n",
      "  8%|██████▍                                                                          | 12/150 [01:18<15:05,  6.56s/it]\u001b[A"
     ]
    },
    {
     "name": "stdout",
     "output_type": "stream",
     "text": [
      "[<selenium.webdriver.remote.webelement.WebElement (session=\"9dde711e96f51ab43a9fa71de8b148c0\", element=\"8709df5d-b53b-43ce-9238-22f68ca05c74\")>]\n"
     ]
    },
    {
     "name": "stderr",
     "output_type": "stream",
     "text": [
      "\n",
      "  9%|███████                                                                          | 13/150 [01:24<14:58,  6.56s/it]\u001b[A"
     ]
    },
    {
     "name": "stdout",
     "output_type": "stream",
     "text": [
      "[<selenium.webdriver.remote.webelement.WebElement (session=\"9dde711e96f51ab43a9fa71de8b148c0\", element=\"cf309b09-64b4-497d-83da-69765466712e\")>]\n"
     ]
    },
    {
     "name": "stderr",
     "output_type": "stream",
     "text": [
      "\n",
      "  9%|███████▌                                                                         | 14/150 [01:31<14:53,  6.57s/it]\u001b[A\n",
      " 10%|████████                                                                         | 15/150 [01:37<14:38,  6.51s/it]\u001b[A"
     ]
    },
    {
     "name": "stdout",
     "output_type": "stream",
     "text": [
      "[<selenium.webdriver.remote.webelement.WebElement (session=\"9dde711e96f51ab43a9fa71de8b148c0\", element=\"dbd789c7-4de3-4bb5-ab74-870e86eef035\")>]\n",
      "[<selenium.webdriver.remote.webelement.WebElement (session=\"9dde711e96f51ab43a9fa71de8b148c0\", element=\"076e3288-63ca-413f-9f4b-adceb985bee8\")>]\n"
     ]
    },
    {
     "name": "stderr",
     "output_type": "stream",
     "text": [
      "\n",
      " 11%|████████▋                                                                        | 16/150 [01:45<14:56,  6.69s/it]\u001b[A"
     ]
    },
    {
     "name": "stdout",
     "output_type": "stream",
     "text": [
      "[<selenium.webdriver.remote.webelement.WebElement (session=\"9dde711e96f51ab43a9fa71de8b148c0\", element=\"b9d293bb-10aa-47c5-a218-a8148f291820\")>]\n"
     ]
    },
    {
     "name": "stderr",
     "output_type": "stream",
     "text": [
      "\n",
      " 11%|█████████▏                                                                       | 17/150 [01:51<14:45,  6.66s/it]\u001b[A"
     ]
    },
    {
     "name": "stdout",
     "output_type": "stream",
     "text": [
      "[<selenium.webdriver.remote.webelement.WebElement (session=\"9dde711e96f51ab43a9fa71de8b148c0\", element=\"a4f815f5-ae4f-426a-bdb8-32361937312c\")>]\n"
     ]
    },
    {
     "name": "stderr",
     "output_type": "stream",
     "text": [
      "\n",
      " 12%|█████████▋                                                                       | 18/150 [01:58<14:37,  6.64s/it]\u001b[A\n",
      " 13%|██████████▎                                                                      | 19/150 [02:04<14:19,  6.56s/it]\u001b[A"
     ]
    },
    {
     "name": "stdout",
     "output_type": "stream",
     "text": [
      "[<selenium.webdriver.remote.webelement.WebElement (session=\"9dde711e96f51ab43a9fa71de8b148c0\", element=\"1e854c1e-ce85-4a18-99d6-5ca873f5e7d5\")>]\n",
      "[<selenium.webdriver.remote.webelement.WebElement (session=\"9dde711e96f51ab43a9fa71de8b148c0\", element=\"94a23667-82af-4ba4-a5ae-6a1958d09406\")>]\n"
     ]
    },
    {
     "name": "stderr",
     "output_type": "stream",
     "text": [
      "\n",
      " 13%|██████████▊                                                                      | 20/150 [02:11<14:28,  6.68s/it]\u001b[A"
     ]
    },
    {
     "name": "stdout",
     "output_type": "stream",
     "text": [
      "[<selenium.webdriver.remote.webelement.WebElement (session=\"9dde711e96f51ab43a9fa71de8b148c0\", element=\"b007946b-7c06-48b2-8d78-84e3f4e92dcf\")>]\n"
     ]
    },
    {
     "name": "stderr",
     "output_type": "stream",
     "text": [
      "\n",
      " 14%|███████████▎                                                                     | 21/150 [02:17<13:50,  6.44s/it]\u001b[A"
     ]
    },
    {
     "name": "stdout",
     "output_type": "stream",
     "text": [
      "[<selenium.webdriver.remote.webelement.WebElement (session=\"9dde711e96f51ab43a9fa71de8b148c0\", element=\"1e3fd050-2ec4-44ef-b160-dbb7004b1fef\")>]\n"
     ]
    },
    {
     "name": "stderr",
     "output_type": "stream",
     "text": [
      "\n",
      " 15%|███████████▉                                                                     | 22/150 [02:23<13:50,  6.49s/it]\u001b[A"
     ]
    },
    {
     "name": "stdout",
     "output_type": "stream",
     "text": [
      "[<selenium.webdriver.remote.webelement.WebElement (session=\"9dde711e96f51ab43a9fa71de8b148c0\", element=\"6bac41cb-0421-46a2-8597-e773ee29e9b3\")>]\n"
     ]
    },
    {
     "name": "stderr",
     "output_type": "stream",
     "text": [
      "\n",
      " 15%|████████████▍                                                                    | 23/150 [02:30<13:56,  6.59s/it]\u001b[A"
     ]
    },
    {
     "name": "stdout",
     "output_type": "stream",
     "text": [
      "[<selenium.webdriver.remote.webelement.WebElement (session=\"9dde711e96f51ab43a9fa71de8b148c0\", element=\"9e43721d-f661-4efb-a1c7-5c6e8ec8cf4e\")>]\n"
     ]
    },
    {
     "name": "stderr",
     "output_type": "stream",
     "text": [
      "\n",
      " 16%|████████████▉                                                                    | 24/150 [02:37<13:52,  6.60s/it]\u001b[A"
     ]
    },
    {
     "name": "stdout",
     "output_type": "stream",
     "text": [
      "[<selenium.webdriver.remote.webelement.WebElement (session=\"9dde711e96f51ab43a9fa71de8b148c0\", element=\"3fcd8c91-213e-4d3c-aa67-0030432bcf43\")>]\n"
     ]
    },
    {
     "name": "stderr",
     "output_type": "stream",
     "text": [
      "\n",
      " 17%|█████████████▌                                                                   | 25/150 [02:43<13:39,  6.55s/it]\u001b[A"
     ]
    },
    {
     "name": "stdout",
     "output_type": "stream",
     "text": [
      "[<selenium.webdriver.remote.webelement.WebElement (session=\"9dde711e96f51ab43a9fa71de8b148c0\", element=\"e35fd8ea-a740-4b60-9dbc-4bfeed8dc6d3\")>]\n"
     ]
    },
    {
     "name": "stderr",
     "output_type": "stream",
     "text": [
      "\n",
      " 17%|██████████████                                                                   | 26/150 [02:49<13:03,  6.32s/it]\u001b[A"
     ]
    },
    {
     "name": "stdout",
     "output_type": "stream",
     "text": [
      "[<selenium.webdriver.remote.webelement.WebElement (session=\"9dde711e96f51ab43a9fa71de8b148c0\", element=\"e17cf526-4eac-42af-a646-6275348876ae\")>]\n"
     ]
    },
    {
     "name": "stderr",
     "output_type": "stream",
     "text": [
      "\n",
      " 18%|██████████████▌                                                                  | 27/150 [02:56<13:12,  6.45s/it]\u001b[A"
     ]
    },
    {
     "name": "stdout",
     "output_type": "stream",
     "text": [
      "[<selenium.webdriver.remote.webelement.WebElement (session=\"9dde711e96f51ab43a9fa71de8b148c0\", element=\"05ab53f8-c406-4230-8aa0-815965c9f9f3\")>]\n"
     ]
    },
    {
     "name": "stderr",
     "output_type": "stream",
     "text": [
      "\n",
      " 19%|███████████████                                                                  | 28/150 [03:02<13:10,  6.48s/it]\u001b[A"
     ]
    },
    {
     "name": "stdout",
     "output_type": "stream",
     "text": [
      "[<selenium.webdriver.remote.webelement.WebElement (session=\"9dde711e96f51ab43a9fa71de8b148c0\", element=\"f192fe18-1314-447f-bc44-8c733bb095db\")>]\n"
     ]
    },
    {
     "name": "stderr",
     "output_type": "stream",
     "text": [
      "\n",
      " 19%|███████████████▋                                                                 | 29/150 [03:09<13:06,  6.50s/it]\u001b[A"
     ]
    },
    {
     "name": "stdout",
     "output_type": "stream",
     "text": [
      "[<selenium.webdriver.remote.webelement.WebElement (session=\"9dde711e96f51ab43a9fa71de8b148c0\", element=\"c9212397-e411-4619-85c7-02e0dbd38957\")>]\n"
     ]
    },
    {
     "name": "stderr",
     "output_type": "stream",
     "text": [
      "\n",
      " 20%|████████████████▏                                                                | 30/150 [03:16<13:05,  6.55s/it]\u001b[A"
     ]
    },
    {
     "name": "stdout",
     "output_type": "stream",
     "text": [
      "[<selenium.webdriver.remote.webelement.WebElement (session=\"9dde711e96f51ab43a9fa71de8b148c0\", element=\"1cf7508e-1c82-411e-a75e-587c0a0303cf\")>]\n"
     ]
    },
    {
     "name": "stderr",
     "output_type": "stream",
     "text": [
      "\n",
      " 21%|████████████████▋                                                                | 31/150 [03:22<12:58,  6.54s/it]\u001b[A"
     ]
    },
    {
     "name": "stdout",
     "output_type": "stream",
     "text": [
      "[<selenium.webdriver.remote.webelement.WebElement (session=\"9dde711e96f51ab43a9fa71de8b148c0\", element=\"b56d6619-9017-4a4f-b407-721a3e1be1b7\")>]\n"
     ]
    },
    {
     "name": "stderr",
     "output_type": "stream",
     "text": [
      "\n",
      " 21%|█████████████████▎                                                               | 32/150 [03:29<12:55,  6.57s/it]\u001b[A"
     ]
    },
    {
     "name": "stdout",
     "output_type": "stream",
     "text": [
      "[<selenium.webdriver.remote.webelement.WebElement (session=\"9dde711e96f51ab43a9fa71de8b148c0\", element=\"bc90b0ee-f64c-478b-893a-3004db8f8725\")>]\n"
     ]
    },
    {
     "name": "stderr",
     "output_type": "stream",
     "text": [
      "\n",
      " 22%|█████████████████▊                                                               | 33/150 [03:36<12:55,  6.63s/it]\u001b[A"
     ]
    },
    {
     "name": "stdout",
     "output_type": "stream",
     "text": [
      "[<selenium.webdriver.remote.webelement.WebElement (session=\"9dde711e96f51ab43a9fa71de8b148c0\", element=\"139ed28e-9140-4777-be16-9e3529135b29\")>]\n"
     ]
    },
    {
     "name": "stderr",
     "output_type": "stream",
     "text": [
      "\n",
      " 23%|██████████████████▎                                                              | 34/150 [03:42<12:53,  6.66s/it]\u001b[A\n"
     ]
    },
    {
     "name": "stdout",
     "output_type": "stream",
     "text": [
      "[<selenium.webdriver.remote.webelement.WebElement (session=\"9dde711e96f51ab43a9fa71de8b148c0\", element=\"58487803-876b-43a1-a159-6cdbc4a9c9f9\")>]\n"
     ]
    },
    {
     "name": "stderr",
     "output_type": "stream",
     "text": [
      " 23%|██████████████████▉                                                              | 35/150 [03:49<12:37,  6.59s/it]\u001b[A"
     ]
    },
    {
     "name": "stdout",
     "output_type": "stream",
     "text": [
      "[<selenium.webdriver.remote.webelement.WebElement (session=\"9dde711e96f51ab43a9fa71de8b148c0\", element=\"96883190-224e-4bb8-b39b-1b1734086678\")>]\n"
     ]
    },
    {
     "name": "stderr",
     "output_type": "stream",
     "text": [
      "\n",
      " 24%|███████████████████▍                                                             | 36/150 [03:56<12:36,  6.64s/it]\u001b[A"
     ]
    },
    {
     "name": "stdout",
     "output_type": "stream",
     "text": [
      "[<selenium.webdriver.remote.webelement.WebElement (session=\"9dde711e96f51ab43a9fa71de8b148c0\", element=\"65107d87-bb5e-45e0-aafb-9e366e82e24c\")>]\n"
     ]
    },
    {
     "name": "stderr",
     "output_type": "stream",
     "text": [
      "\n",
      " 25%|███████████████████▉                                                             | 37/150 [04:02<12:30,  6.64s/it]\u001b[A"
     ]
    },
    {
     "name": "stdout",
     "output_type": "stream",
     "text": [
      "[<selenium.webdriver.remote.webelement.WebElement (session=\"9dde711e96f51ab43a9fa71de8b148c0\", element=\"770185a1-cf95-4ec6-bf67-74121b7429bf\")>]\n"
     ]
    },
    {
     "name": "stderr",
     "output_type": "stream",
     "text": [
      "\n",
      " 25%|████████████████████▌                                                            | 38/150 [04:09<12:20,  6.61s/it]\u001b[A"
     ]
    },
    {
     "name": "stdout",
     "output_type": "stream",
     "text": [
      "[<selenium.webdriver.remote.webelement.WebElement (session=\"9dde711e96f51ab43a9fa71de8b148c0\", element=\"c0665934-b0cc-41f7-8396-cbf589c6e804\")>]\n"
     ]
    },
    {
     "name": "stderr",
     "output_type": "stream",
     "text": [
      "\n",
      " 26%|█████████████████████                                                            | 39/150 [04:15<12:16,  6.64s/it]\u001b[A"
     ]
    },
    {
     "name": "stdout",
     "output_type": "stream",
     "text": [
      "[<selenium.webdriver.remote.webelement.WebElement (session=\"9dde711e96f51ab43a9fa71de8b148c0\", element=\"04e1c4a5-71bd-4b5a-af2a-359173ccc726\")>]\n"
     ]
    },
    {
     "name": "stderr",
     "output_type": "stream",
     "text": [
      "\n",
      " 27%|█████████████████████▌                                                           | 40/150 [04:22<12:18,  6.72s/it]\u001b[A"
     ]
    },
    {
     "name": "stdout",
     "output_type": "stream",
     "text": [
      "[<selenium.webdriver.remote.webelement.WebElement (session=\"9dde711e96f51ab43a9fa71de8b148c0\", element=\"a915b4cb-62af-4100-94b0-4bc488090329\")>]\n"
     ]
    },
    {
     "name": "stderr",
     "output_type": "stream",
     "text": [
      "\n",
      " 27%|██████████████████████▏                                                          | 41/150 [04:29<12:13,  6.73s/it]\u001b[A"
     ]
    },
    {
     "name": "stdout",
     "output_type": "stream",
     "text": [
      "[<selenium.webdriver.remote.webelement.WebElement (session=\"9dde711e96f51ab43a9fa71de8b148c0\", element=\"48910d93-e688-4e2e-840b-18e6704afbcb\")>]\n"
     ]
    },
    {
     "name": "stderr",
     "output_type": "stream",
     "text": [
      "\n",
      " 28%|██████████████████████▋                                                          | 42/150 [04:36<11:58,  6.65s/it]\u001b[A"
     ]
    },
    {
     "name": "stdout",
     "output_type": "stream",
     "text": [
      "[<selenium.webdriver.remote.webelement.WebElement (session=\"9dde711e96f51ab43a9fa71de8b148c0\", element=\"a8218c3d-62dc-4cc5-a1b2-3814d81e5396\")>]\n"
     ]
    },
    {
     "name": "stderr",
     "output_type": "stream",
     "text": [
      "\n",
      " 29%|███████████████████████▏                                                         | 43/150 [04:42<11:49,  6.63s/it]\u001b[A"
     ]
    },
    {
     "name": "stdout",
     "output_type": "stream",
     "text": [
      "[<selenium.webdriver.remote.webelement.WebElement (session=\"9dde711e96f51ab43a9fa71de8b148c0\", element=\"94140fc8-ae96-4f4c-9a8e-22c07ff360e3\")>]\n"
     ]
    },
    {
     "name": "stderr",
     "output_type": "stream",
     "text": [
      "\n",
      " 29%|███████████████████████▊                                                         | 44/150 [04:49<11:45,  6.66s/it]\u001b[A"
     ]
    },
    {
     "name": "stdout",
     "output_type": "stream",
     "text": [
      "[<selenium.webdriver.remote.webelement.WebElement (session=\"9dde711e96f51ab43a9fa71de8b148c0\", element=\"58931a8e-e556-4643-9e97-98387a81b677\")>]\n"
     ]
    },
    {
     "name": "stderr",
     "output_type": "stream",
     "text": [
      "\n",
      " 30%|████████████████████████▎                                                        | 45/150 [04:56<11:44,  6.71s/it]\u001b[A"
     ]
    },
    {
     "name": "stdout",
     "output_type": "stream",
     "text": [
      "[<selenium.webdriver.remote.webelement.WebElement (session=\"9dde711e96f51ab43a9fa71de8b148c0\", element=\"ca2fc879-9404-497b-bdf0-a630ce6ae259\")>]\n"
     ]
    },
    {
     "name": "stderr",
     "output_type": "stream",
     "text": [
      "\n",
      " 31%|████████████████████████▊                                                        | 46/150 [05:01<11:08,  6.43s/it]\u001b[A"
     ]
    },
    {
     "name": "stdout",
     "output_type": "stream",
     "text": [
      "[<selenium.webdriver.remote.webelement.WebElement (session=\"9dde711e96f51ab43a9fa71de8b148c0\", element=\"3c30ffb5-3525-48e7-9f1b-433534e2db50\")>]\n"
     ]
    },
    {
     "name": "stderr",
     "output_type": "stream",
     "text": [
      "\n",
      " 31%|█████████████████████████▍                                                       | 47/150 [05:08<11:16,  6.57s/it]\u001b[A"
     ]
    },
    {
     "name": "stdout",
     "output_type": "stream",
     "text": [
      "[<selenium.webdriver.remote.webelement.WebElement (session=\"9dde711e96f51ab43a9fa71de8b148c0\", element=\"1fd8ab2d-3b03-44d6-8b98-db5517ef1181\")>]\n"
     ]
    },
    {
     "name": "stderr",
     "output_type": "stream",
     "text": [
      "\n",
      " 32%|█████████████████████████▉                                                       | 48/150 [05:16<11:13,  6.60s/it]\u001b[A\n",
      " 39%|██████████████████████████████▎                                              | 26/66 [1:32:51<2:42:30, 243.75s/it]\n",
      "  0%|                                                                                          | 0/150 [00:00<?, ?it/s]\u001b[A"
     ]
    },
    {
     "name": "stdout",
     "output_type": "stream",
     "text": [
      "[<selenium.webdriver.remote.webelement.WebElement (session=\"9dde711e96f51ab43a9fa71de8b148c0\", element=\"8cf665ab-be0e-4535-abf2-74fa3c96e6c2\")>]\n"
     ]
    },
    {
     "name": "stderr",
     "output_type": "stream",
     "text": [
      "\n",
      "  1%|▌                                                                                 | 1/150 [00:06<17:06,  6.89s/it]\u001b[A"
     ]
    },
    {
     "name": "stdout",
     "output_type": "stream",
     "text": [
      "[<selenium.webdriver.remote.webelement.WebElement (session=\"9dde711e96f51ab43a9fa71de8b148c0\", element=\"14e8d1db-b9f4-4b87-a1fc-568883dfb740\")>]\n"
     ]
    },
    {
     "name": "stderr",
     "output_type": "stream",
     "text": [
      "\n",
      "  1%|█                                                                                 | 2/150 [00:13<17:18,  7.02s/it]\u001b[A"
     ]
    },
    {
     "name": "stdout",
     "output_type": "stream",
     "text": [
      "[<selenium.webdriver.remote.webelement.WebElement (session=\"9dde711e96f51ab43a9fa71de8b148c0\", element=\"8b995104-7bf1-4bfe-a6f2-02b4b0a78f17\")>]\n"
     ]
    },
    {
     "name": "stderr",
     "output_type": "stream",
     "text": [
      "\n",
      "  2%|█▋                                                                                | 3/150 [00:20<16:55,  6.91s/it]\u001b[A"
     ]
    },
    {
     "name": "stdout",
     "output_type": "stream",
     "text": [
      "[<selenium.webdriver.remote.webelement.WebElement (session=\"9dde711e96f51ab43a9fa71de8b148c0\", element=\"c0de651c-8165-4a19-959b-363fdd4f5bc7\")>]\n"
     ]
    },
    {
     "name": "stderr",
     "output_type": "stream",
     "text": [
      "\n",
      "  3%|██▏                                                                               | 4/150 [00:27<16:49,  6.91s/it]\u001b[A"
     ]
    },
    {
     "name": "stdout",
     "output_type": "stream",
     "text": [
      "[<selenium.webdriver.remote.webelement.WebElement (session=\"9dde711e96f51ab43a9fa71de8b148c0\", element=\"5f121769-2ec1-4dc3-bd86-bf85f9ce159c\")>]\n"
     ]
    },
    {
     "name": "stderr",
     "output_type": "stream",
     "text": [
      "\n",
      "  3%|██▋                                                                               | 5/150 [00:34<16:32,  6.84s/it]\u001b[A"
     ]
    },
    {
     "name": "stdout",
     "output_type": "stream",
     "text": [
      "[<selenium.webdriver.remote.webelement.WebElement (session=\"9dde711e96f51ab43a9fa71de8b148c0\", element=\"11fd72c0-2fdf-4f04-95eb-d23c80f7b3e4\")>]\n"
     ]
    },
    {
     "name": "stderr",
     "output_type": "stream",
     "text": [
      "\n",
      "  4%|███▎                                                                              | 6/150 [00:41<16:18,  6.80s/it]\u001b[A"
     ]
    },
    {
     "name": "stdout",
     "output_type": "stream",
     "text": [
      "[<selenium.webdriver.remote.webelement.WebElement (session=\"9dde711e96f51ab43a9fa71de8b148c0\", element=\"abf1a996-71ca-4d3b-bbba-71cde228c551\")>]\n"
     ]
    },
    {
     "name": "stderr",
     "output_type": "stream",
     "text": [
      "\n",
      "  5%|███▊                                                                              | 7/150 [00:47<16:01,  6.73s/it]\u001b[A"
     ]
    },
    {
     "name": "stdout",
     "output_type": "stream",
     "text": [
      "[<selenium.webdriver.remote.webelement.WebElement (session=\"9dde711e96f51ab43a9fa71de8b148c0\", element=\"44fa15c7-1f3d-4518-a221-8a33def21ee8\")>]\n"
     ]
    },
    {
     "name": "stderr",
     "output_type": "stream",
     "text": [
      "\n",
      "  5%|████▎                                                                             | 8/150 [00:54<15:53,  6.72s/it]\u001b[A"
     ]
    },
    {
     "name": "stdout",
     "output_type": "stream",
     "text": [
      "[<selenium.webdriver.remote.webelement.WebElement (session=\"9dde711e96f51ab43a9fa71de8b148c0\", element=\"b1d556d4-3060-4045-bf4e-033fd3f7491c\")>]\n"
     ]
    },
    {
     "name": "stderr",
     "output_type": "stream",
     "text": [
      "\n",
      "  6%|████▉                                                                             | 9/150 [01:00<15:40,  6.67s/it]\u001b[A"
     ]
    },
    {
     "name": "stdout",
     "output_type": "stream",
     "text": [
      "[<selenium.webdriver.remote.webelement.WebElement (session=\"9dde711e96f51ab43a9fa71de8b148c0\", element=\"e72c3a9c-6ad7-40db-a644-b743057e3825\")>]\n"
     ]
    },
    {
     "name": "stderr",
     "output_type": "stream",
     "text": [
      "\n",
      "  7%|█████▍                                                                           | 10/150 [01:06<14:54,  6.39s/it]\u001b[A"
     ]
    },
    {
     "name": "stdout",
     "output_type": "stream",
     "text": [
      "[<selenium.webdriver.remote.webelement.WebElement (session=\"9dde711e96f51ab43a9fa71de8b148c0\", element=\"f253d05d-3a97-4fb9-affb-f38d401ef9c6\")>]\n"
     ]
    },
    {
     "name": "stderr",
     "output_type": "stream",
     "text": [
      "\n",
      "  7%|█████▉                                                                           | 11/150 [01:12<14:35,  6.30s/it]\u001b[A\n",
      "  8%|██████▍                                                                          | 12/150 [01:19<14:36,  6.35s/it]\u001b[A"
     ]
    },
    {
     "name": "stdout",
     "output_type": "stream",
     "text": [
      "[<selenium.webdriver.remote.webelement.WebElement (session=\"9dde711e96f51ab43a9fa71de8b148c0\", element=\"7cfd15d0-29bc-4ff1-bea9-4f3ba0f875a9\")>]\n"
     ]
    },
    {
     "name": "stderr",
     "output_type": "stream",
     "text": [
      "  8%|██████▍                                                                          | 12/150 [01:20<15:26,  6.71s/it]\n",
      " 41%|███████████████████████████████▌                                             | 27/66 [1:34:12<2:06:36, 194.79s/it]\n",
      "  0%|                                                                                          | 0/150 [00:00<?, ?it/s]\u001b[A\n",
      "  1%|▌                                                                                 | 1/150 [00:06<14:56,  6.02s/it]\u001b[A"
     ]
    },
    {
     "name": "stdout",
     "output_type": "stream",
     "text": [
      "[<selenium.webdriver.remote.webelement.WebElement (session=\"9dde711e96f51ab43a9fa71de8b148c0\", element=\"2ad1ea31-b19c-4396-8f5b-44c61cde4793\")>]\n",
      "[<selenium.webdriver.remote.webelement.WebElement (session=\"9dde711e96f51ab43a9fa71de8b148c0\", element=\"88f59591-75d6-48db-98ad-9833bde5806a\")>]\n"
     ]
    },
    {
     "name": "stderr",
     "output_type": "stream",
     "text": [
      "\n",
      "  1%|█                                                                                 | 2/150 [00:12<15:39,  6.35s/it]\u001b[A\n",
      "  2%|█▋                                                                                | 3/150 [00:18<15:32,  6.34s/it]\u001b[A"
     ]
    },
    {
     "name": "stdout",
     "output_type": "stream",
     "text": [
      "[<selenium.webdriver.remote.webelement.WebElement (session=\"9dde711e96f51ab43a9fa71de8b148c0\", element=\"fdf50cd1-fb8d-4c43-a539-0dde94b69326\")>]\n",
      "[<selenium.webdriver.remote.webelement.WebElement (session=\"9dde711e96f51ab43a9fa71de8b148c0\", element=\"508379dd-e9f7-4f6d-96e3-43dfb8adddd1\")>]\n"
     ]
    },
    {
     "name": "stderr",
     "output_type": "stream",
     "text": [
      "\n",
      "  3%|██▏                                                                               | 4/150 [00:25<15:44,  6.47s/it]\u001b[A\n"
     ]
    },
    {
     "name": "stdout",
     "output_type": "stream",
     "text": [
      "[<selenium.webdriver.remote.webelement.WebElement (session=\"9dde711e96f51ab43a9fa71de8b148c0\", element=\"e8995dd9-7786-4bfa-98ac-ac98c82e6c75\")>]\n"
     ]
    },
    {
     "name": "stderr",
     "output_type": "stream",
     "text": [
      "  3%|██▋                                                                               | 5/150 [00:31<15:00,  6.21s/it]\u001b[A\n",
      "  4%|███▎                                                                              | 6/150 [00:37<15:13,  6.35s/it]\u001b[A"
     ]
    },
    {
     "name": "stdout",
     "output_type": "stream",
     "text": [
      "[<selenium.webdriver.remote.webelement.WebElement (session=\"9dde711e96f51ab43a9fa71de8b148c0\", element=\"88cf9c08-a5aa-43c9-953a-189710f3f574\")>]\n"
     ]
    },
    {
     "name": "stderr",
     "output_type": "stream",
     "text": [
      "\n"
     ]
    },
    {
     "name": "stdout",
     "output_type": "stream",
     "text": [
      "[<selenium.webdriver.remote.webelement.WebElement (session=\"9dde711e96f51ab43a9fa71de8b148c0\", element=\"d319d97f-0e6c-416f-ae92-b53635cbe4d4\")>]\n"
     ]
    },
    {
     "name": "stderr",
     "output_type": "stream",
     "text": [
      "  5%|███▊                                                                              | 7/150 [00:44<15:23,  6.46s/it]\u001b[A\n",
      "  5%|████▎                                                                             | 8/150 [00:51<15:17,  6.46s/it]\u001b[A"
     ]
    },
    {
     "name": "stdout",
     "output_type": "stream",
     "text": [
      "[<selenium.webdriver.remote.webelement.WebElement (session=\"9dde711e96f51ab43a9fa71de8b148c0\", element=\"7ca558d2-b9ed-4e5f-b143-d736dc5118c7\")>]\n",
      "[<selenium.webdriver.remote.webelement.WebElement (session=\"9dde711e96f51ab43a9fa71de8b148c0\", element=\"1a97a00d-6731-4cd3-8b25-aaa9fab78383\")>]\n"
     ]
    },
    {
     "name": "stderr",
     "output_type": "stream",
     "text": [
      "\n",
      "  6%|████▉                                                                             | 9/150 [00:57<15:10,  6.46s/it]\u001b[A\n"
     ]
    },
    {
     "name": "stdout",
     "output_type": "stream",
     "text": [
      "[<selenium.webdriver.remote.webelement.WebElement (session=\"9dde711e96f51ab43a9fa71de8b148c0\", element=\"66f7cbb7-cd6f-4876-8824-ed6c0aa462ff\")>]\n"
     ]
    },
    {
     "name": "stderr",
     "output_type": "stream",
     "text": [
      "  7%|█████▍                                                                           | 10/150 [01:04<15:06,  6.47s/it]\u001b[A\n",
      "  7%|█████▉                                                                           | 11/150 [01:10<14:57,  6.45s/it]\u001b[A"
     ]
    },
    {
     "name": "stdout",
     "output_type": "stream",
     "text": [
      "[<selenium.webdriver.remote.webelement.WebElement (session=\"9dde711e96f51ab43a9fa71de8b148c0\", element=\"861648dd-f2df-48d1-8a12-36c3c31a42c3\")>]\n"
     ]
    },
    {
     "name": "stderr",
     "output_type": "stream",
     "text": [
      "\n",
      "  8%|██████▍                                                                          | 12/150 [01:16<14:52,  6.47s/it]\u001b[A"
     ]
    },
    {
     "name": "stdout",
     "output_type": "stream",
     "text": [
      "[<selenium.webdriver.remote.webelement.WebElement (session=\"9dde711e96f51ab43a9fa71de8b148c0\", element=\"4cb9960b-e8e9-4cbd-9605-5780f8b8dc10\")>]\n"
     ]
    },
    {
     "name": "stderr",
     "output_type": "stream",
     "text": [
      "\n"
     ]
    },
    {
     "name": "stdout",
     "output_type": "stream",
     "text": [
      "[<selenium.webdriver.remote.webelement.WebElement (session=\"9dde711e96f51ab43a9fa71de8b148c0\", element=\"341f0ed9-20b4-4c90-8f16-96fe60d3ab42\")>]\n"
     ]
    },
    {
     "name": "stderr",
     "output_type": "stream",
     "text": [
      "  9%|███████                                                                          | 13/150 [01:23<14:53,  6.52s/it]\u001b[A\n",
      "  9%|███████▌                                                                         | 14/150 [01:30<14:43,  6.50s/it]\u001b[A"
     ]
    },
    {
     "name": "stdout",
     "output_type": "stream",
     "text": [
      "[<selenium.webdriver.remote.webelement.WebElement (session=\"9dde711e96f51ab43a9fa71de8b148c0\", element=\"718f5602-f991-4a31-93b5-35aad2f436f8\")>]\n"
     ]
    },
    {
     "name": "stderr",
     "output_type": "stream",
     "text": [
      "  9%|███████▌                                                                         | 14/150 [01:31<14:47,  6.52s/it]\n",
      " 42%|████████████████████████████████▋                                            | 28/66 [1:35:43<1:43:42, 163.75s/it]\n",
      "  0%|                                                                                          | 0/150 [00:00<?, ?it/s]\u001b[A"
     ]
    },
    {
     "name": "stdout",
     "output_type": "stream",
     "text": [
      "[<selenium.webdriver.remote.webelement.WebElement (session=\"9dde711e96f51ab43a9fa71de8b148c0\", element=\"edc9e202-b5cc-42a4-8431-c8a74b71fbc8\")>]\n"
     ]
    },
    {
     "name": "stderr",
     "output_type": "stream",
     "text": [
      "\n",
      "  1%|▌                                                                                 | 1/150 [00:06<16:21,  6.59s/it]\u001b[A"
     ]
    },
    {
     "name": "stdout",
     "output_type": "stream",
     "text": [
      "[<selenium.webdriver.remote.webelement.WebElement (session=\"9dde711e96f51ab43a9fa71de8b148c0\", element=\"5cefe52b-4bbc-41b3-b79c-48e4f83c03b3\")>]\n"
     ]
    },
    {
     "name": "stderr",
     "output_type": "stream",
     "text": [
      "\n",
      "  1%|█                                                                                 | 2/150 [00:13<16:26,  6.67s/it]\u001b[A"
     ]
    },
    {
     "name": "stdout",
     "output_type": "stream",
     "text": [
      "[<selenium.webdriver.remote.webelement.WebElement (session=\"9dde711e96f51ab43a9fa71de8b148c0\", element=\"19365fc7-20d6-4f70-b1d0-0edcfee5cbdf\")>]\n"
     ]
    },
    {
     "name": "stderr",
     "output_type": "stream",
     "text": [
      "\n",
      "  2%|█▋                                                                                | 3/150 [00:21<17:11,  7.01s/it]\u001b[A\n",
      " 44%|█████████████████████████████████▊                                           | 29/66 [1:36:04<1:14:34, 120.93s/it]\n",
      "  0%|                                                                                          | 0/150 [00:00<?, ?it/s]\u001b[A\n"
     ]
    },
    {
     "name": "stdout",
     "output_type": "stream",
     "text": [
      "[<selenium.webdriver.remote.webelement.WebElement (session=\"9dde711e96f51ab43a9fa71de8b148c0\", element=\"7eff118e-626f-4070-a4d4-f48788c50ec3\")>]\n"
     ]
    },
    {
     "name": "stderr",
     "output_type": "stream",
     "text": [
      "  1%|▌                                                                                 | 1/150 [00:06<16:09,  6.50s/it]\u001b[A\n"
     ]
    },
    {
     "name": "stdout",
     "output_type": "stream",
     "text": [
      "[<selenium.webdriver.remote.webelement.WebElement (session=\"9dde711e96f51ab43a9fa71de8b148c0\", element=\"23a2c61f-61c6-4591-a15b-94aac94aabe4\")>]\n"
     ]
    },
    {
     "name": "stderr",
     "output_type": "stream",
     "text": [
      "  1%|█                                                                                 | 2/150 [00:13<16:17,  6.61s/it]\u001b[A\n",
      "  2%|█▋                                                                                | 3/150 [00:19<16:08,  6.59s/it]\u001b[A"
     ]
    },
    {
     "name": "stdout",
     "output_type": "stream",
     "text": [
      "[<selenium.webdriver.remote.webelement.WebElement (session=\"9dde711e96f51ab43a9fa71de8b148c0\", element=\"3312a953-5315-4708-9ebd-4b42b56de825\")>]\n"
     ]
    },
    {
     "name": "stderr",
     "output_type": "stream",
     "text": [
      "\n",
      "  3%|██▏                                                                               | 4/150 [00:26<15:54,  6.54s/it]\u001b[A"
     ]
    },
    {
     "name": "stdout",
     "output_type": "stream",
     "text": [
      "[<selenium.webdriver.remote.webelement.WebElement (session=\"9dde711e96f51ab43a9fa71de8b148c0\", element=\"46f255a3-7531-433e-a329-1c4608e69300\")>]\n",
      "[<selenium.webdriver.remote.webelement.WebElement (session=\"9dde711e96f51ab43a9fa71de8b148c0\", element=\"833683cc-05c4-494c-a3ad-582673c45806\")>]\n"
     ]
    },
    {
     "name": "stderr",
     "output_type": "stream",
     "text": [
      "\n",
      "  3%|██▋                                                                               | 5/150 [00:32<15:52,  6.57s/it]\u001b[A\n",
      "  4%|███▎                                                                              | 6/150 [00:39<15:37,  6.51s/it]\u001b[A"
     ]
    },
    {
     "name": "stdout",
     "output_type": "stream",
     "text": [
      "[<selenium.webdriver.remote.webelement.WebElement (session=\"9dde711e96f51ab43a9fa71de8b148c0\", element=\"7ab0585a-398e-4a4c-be1e-3e091f19ccec\")>]\n"
     ]
    },
    {
     "name": "stderr",
     "output_type": "stream",
     "text": [
      "\n"
     ]
    },
    {
     "name": "stdout",
     "output_type": "stream",
     "text": [
      "[<selenium.webdriver.remote.webelement.WebElement (session=\"9dde711e96f51ab43a9fa71de8b148c0\", element=\"b4894ff2-3386-4b75-ac41-5859aa8a8fb2\")>]\n"
     ]
    },
    {
     "name": "stderr",
     "output_type": "stream",
     "text": [
      "  5%|███▊                                                                              | 7/150 [00:45<15:27,  6.49s/it]\u001b[A\n",
      "  5%|████▎                                                                             | 8/150 [00:51<14:44,  6.23s/it]\u001b[A"
     ]
    },
    {
     "name": "stdout",
     "output_type": "stream",
     "text": [
      "[<selenium.webdriver.remote.webelement.WebElement (session=\"9dde711e96f51ab43a9fa71de8b148c0\", element=\"8d0ee32b-d4e7-4cbf-8616-a0aeb2963759\")>]\n"
     ]
    },
    {
     "name": "stderr",
     "output_type": "stream",
     "text": [
      "\n"
     ]
    },
    {
     "name": "stdout",
     "output_type": "stream",
     "text": [
      "[<selenium.webdriver.remote.webelement.WebElement (session=\"9dde711e96f51ab43a9fa71de8b148c0\", element=\"2309377a-1dc0-4fad-a913-e1b1961af103\")>]\n"
     ]
    },
    {
     "name": "stderr",
     "output_type": "stream",
     "text": [
      "  6%|████▉                                                                             | 9/150 [00:58<15:14,  6.48s/it]\u001b[A\n",
      " 45%|███████████████████████████████████                                          | 30/66 [1:37:02<1:01:17, 102.16s/it]\n",
      "  0%|                                                                                          | 0/150 [00:00<?, ?it/s]\u001b[A"
     ]
    },
    {
     "name": "stdout",
     "output_type": "stream",
     "text": [
      "[<selenium.webdriver.remote.webelement.WebElement (session=\"9dde711e96f51ab43a9fa71de8b148c0\", element=\"78d6ddf1-a713-4b24-8c2b-bd5a7440ab97\")>]\n"
     ]
    },
    {
     "name": "stderr",
     "output_type": "stream",
     "text": [
      "\n",
      "  1%|▌                                                                                 | 1/150 [00:07<19:26,  7.83s/it]\u001b[A\n",
      " 47%|█████████████████████████████████████▌                                          | 31/66 [1:37:10<43:05, 73.86s/it]\n",
      "  0%|                                                                                          | 0/150 [00:00<?, ?it/s]\u001b[A"
     ]
    },
    {
     "name": "stdout",
     "output_type": "stream",
     "text": [
      "[<selenium.webdriver.remote.webelement.WebElement (session=\"9dde711e96f51ab43a9fa71de8b148c0\", element=\"d3fc8d01-a5e9-4a36-b428-5d9ac7035709\")>]\n"
     ]
    },
    {
     "name": "stderr",
     "output_type": "stream",
     "text": [
      "\n",
      "  1%|▌                                                                                 | 1/150 [00:06<16:10,  6.52s/it]\u001b[A\n",
      "  1%|█                                                                                 | 2/150 [00:13<16:05,  6.52s/it]\u001b[A"
     ]
    },
    {
     "name": "stdout",
     "output_type": "stream",
     "text": [
      "[<selenium.webdriver.remote.webelement.WebElement (session=\"9dde711e96f51ab43a9fa71de8b148c0\", element=\"4b70058d-898a-4090-8479-9f253a0d696f\")>]\n"
     ]
    },
    {
     "name": "stderr",
     "output_type": "stream",
     "text": [
      "\n",
      "  2%|█▋                                                                                | 3/150 [00:19<15:58,  6.52s/it]\u001b[A"
     ]
    },
    {
     "name": "stdout",
     "output_type": "stream",
     "text": [
      "[<selenium.webdriver.remote.webelement.WebElement (session=\"9dde711e96f51ab43a9fa71de8b148c0\", element=\"5e060daa-c239-4e50-bce5-838c721ec4b8\")>]\n"
     ]
    },
    {
     "name": "stderr",
     "output_type": "stream",
     "text": [
      "\n",
      "  3%|██▏                                                                               | 4/150 [00:26<15:49,  6.50s/it]\u001b[A"
     ]
    },
    {
     "name": "stdout",
     "output_type": "stream",
     "text": [
      "[<selenium.webdriver.remote.webelement.WebElement (session=\"9dde711e96f51ab43a9fa71de8b148c0\", element=\"b88e9e03-b48d-474c-ab77-2509b64a8c6c\")>]\n"
     ]
    },
    {
     "name": "stderr",
     "output_type": "stream",
     "text": [
      "  3%|██▏                                                                               | 4/150 [00:27<16:32,  6.80s/it]\n",
      " 48%|██████████████████████████████████████▊                                         | 32/66 [1:37:37<33:55, 59.86s/it]\n",
      "  0%|                                                                                          | 0/150 [00:00<?, ?it/s]\u001b[A\n"
     ]
    },
    {
     "name": "stdout",
     "output_type": "stream",
     "text": [
      "[<selenium.webdriver.remote.webelement.WebElement (session=\"9dde711e96f51ab43a9fa71de8b148c0\", element=\"fe0d6451-6869-44d5-8b26-3cef73452e5c\")>]\n"
     ]
    },
    {
     "name": "stderr",
     "output_type": "stream",
     "text": [
      "  1%|▌                                                                                 | 1/150 [00:06<17:01,  6.85s/it]\u001b[A\n",
      "  1%|█                                                                                 | 2/150 [00:13<16:24,  6.65s/it]\u001b[A"
     ]
    },
    {
     "name": "stdout",
     "output_type": "stream",
     "text": [
      "[<selenium.webdriver.remote.webelement.WebElement (session=\"9dde711e96f51ab43a9fa71de8b148c0\", element=\"ac707db0-7b27-4ad3-ba6b-beac3406e0ee\")>]\n"
     ]
    },
    {
     "name": "stderr",
     "output_type": "stream",
     "text": [
      "\n",
      "  2%|█▋                                                                                | 3/150 [00:19<16:03,  6.55s/it]\u001b[A"
     ]
    },
    {
     "name": "stdout",
     "output_type": "stream",
     "text": [
      "[<selenium.webdriver.remote.webelement.WebElement (session=\"9dde711e96f51ab43a9fa71de8b148c0\", element=\"9e9059ef-c43a-474c-bf7a-312d882bdef3\")>]\n"
     ]
    },
    {
     "name": "stderr",
     "output_type": "stream",
     "text": [
      "\n",
      "  3%|██▏                                                                               | 4/150 [00:26<15:54,  6.54s/it]\u001b[A"
     ]
    },
    {
     "name": "stdout",
     "output_type": "stream",
     "text": [
      "[<selenium.webdriver.remote.webelement.WebElement (session=\"9dde711e96f51ab43a9fa71de8b148c0\", element=\"a02e5afa-aa2e-434e-9046-74cc48e19e7d\")>]\n"
     ]
    },
    {
     "name": "stderr",
     "output_type": "stream",
     "text": [
      "\n"
     ]
    },
    {
     "name": "stdout",
     "output_type": "stream",
     "text": [
      "[<selenium.webdriver.remote.webelement.WebElement (session=\"9dde711e96f51ab43a9fa71de8b148c0\", element=\"11ecfade-d6fb-45dd-8426-f26c7dae567b\")>]\n"
     ]
    },
    {
     "name": "stderr",
     "output_type": "stream",
     "text": [
      "  3%|██▋                                                                               | 5/150 [00:33<15:56,  6.60s/it]\u001b[A\n"
     ]
    },
    {
     "name": "stdout",
     "output_type": "stream",
     "text": [
      "[<selenium.webdriver.remote.webelement.WebElement (session=\"9dde711e96f51ab43a9fa71de8b148c0\", element=\"65c6825d-6f91-4011-ad02-264c4071f6ef\")>]\n"
     ]
    },
    {
     "name": "stderr",
     "output_type": "stream",
     "text": [
      "  4%|███▎                                                                              | 6/150 [00:39<15:44,  6.56s/it]\u001b[A"
     ]
    },
    {
     "name": "stdout",
     "output_type": "stream",
     "text": [
      "[<selenium.webdriver.remote.webelement.WebElement (session=\"9dde711e96f51ab43a9fa71de8b148c0\", element=\"f725aacc-779c-491a-bb44-35ad909e4e0c\")>]\n"
     ]
    },
    {
     "name": "stderr",
     "output_type": "stream",
     "text": [
      "\n",
      "  5%|███▊                                                                              | 7/150 [00:46<15:49,  6.64s/it]\u001b[A\n",
      " 50%|████████████████████████████████████████                                        | 33/66 [1:38:24<30:43, 55.85s/it]\n",
      "  0%|                                                                                          | 0/150 [00:00<?, ?it/s]\u001b[A\n"
     ]
    },
    {
     "name": "stdout",
     "output_type": "stream",
     "text": [
      "[<selenium.webdriver.remote.webelement.WebElement (session=\"9dde711e96f51ab43a9fa71de8b148c0\", element=\"afa0433d-d0c0-4b17-8346-02ad4fecb2d9\")>]\n"
     ]
    },
    {
     "name": "stderr",
     "output_type": "stream",
     "text": [
      "  1%|▌                                                                                 | 1/150 [00:06<16:21,  6.59s/it]\u001b[A\n",
      "  1%|█                                                                                 | 2/150 [00:13<17:25,  7.07s/it]\u001b[A"
     ]
    },
    {
     "name": "stdout",
     "output_type": "stream",
     "text": [
      "[<selenium.webdriver.remote.webelement.WebElement (session=\"9dde711e96f51ab43a9fa71de8b148c0\", element=\"685a804f-e087-41ec-a76f-2b5c10faecdf\")>]\n",
      "[<selenium.webdriver.remote.webelement.WebElement (session=\"9dde711e96f51ab43a9fa71de8b148c0\", element=\"d6bc71f2-b2fa-4fb8-8251-ce583016bbfa\")>]\n"
     ]
    },
    {
     "name": "stderr",
     "output_type": "stream",
     "text": [
      "\n",
      "  2%|█▋                                                                                | 3/150 [00:22<17:58,  7.34s/it]\u001b[A\n",
      " 52%|█████████████████████████████████████████▏                                      | 34/66 [1:38:46<24:22, 45.70s/it]\n",
      "  0%|                                                                                          | 0/150 [00:00<?, ?it/s]\u001b[A"
     ]
    },
    {
     "name": "stdout",
     "output_type": "stream",
     "text": [
      "[<selenium.webdriver.remote.webelement.WebElement (session=\"9dde711e96f51ab43a9fa71de8b148c0\", element=\"7319c2bd-283e-4f99-bdfa-81bccfc921c3\")>]\n"
     ]
    },
    {
     "name": "stderr",
     "output_type": "stream",
     "text": [
      "\n",
      "  1%|▌                                                                                 | 1/150 [00:06<16:09,  6.51s/it]\u001b[A"
     ]
    },
    {
     "name": "stdout",
     "output_type": "stream",
     "text": [
      "[<selenium.webdriver.remote.webelement.WebElement (session=\"9dde711e96f51ab43a9fa71de8b148c0\", element=\"440e5d4b-1c55-470d-b290-3c7d5c9244a5\")>]\n"
     ]
    },
    {
     "name": "stderr",
     "output_type": "stream",
     "text": [
      "\n",
      "  1%|█                                                                                 | 2/150 [00:13<16:17,  6.60s/it]\u001b[A"
     ]
    },
    {
     "name": "stdout",
     "output_type": "stream",
     "text": [
      "[<selenium.webdriver.remote.webelement.WebElement (session=\"9dde711e96f51ab43a9fa71de8b148c0\", element=\"9feecaf7-ac6a-44eb-88fc-f1c1eb844f51\")>]\n"
     ]
    },
    {
     "name": "stderr",
     "output_type": "stream",
     "text": [
      "\n",
      "  2%|█▋                                                                                | 3/150 [00:21<17:10,  7.01s/it]\u001b[A\n",
      " 53%|██████████████████████████████████████████▍                                     | 35/66 [1:39:07<19:47, 38.30s/it]\n",
      "  0%|                                                                                          | 0/150 [00:00<?, ?it/s]\u001b[A"
     ]
    },
    {
     "name": "stdout",
     "output_type": "stream",
     "text": [
      "[<selenium.webdriver.remote.webelement.WebElement (session=\"9dde711e96f51ab43a9fa71de8b148c0\", element=\"02a09e3d-74ce-4385-9c95-d9ed48ac0b52\")>]\n"
     ]
    },
    {
     "name": "stderr",
     "output_type": "stream",
     "text": [
      "\n",
      "  1%|▌                                                                                 | 1/150 [00:06<16:10,  6.51s/it]\u001b[A\n",
      "  1%|█                                                                                 | 2/150 [00:12<14:57,  6.06s/it]\u001b[A"
     ]
    },
    {
     "name": "stdout",
     "output_type": "stream",
     "text": [
      "[<selenium.webdriver.remote.webelement.WebElement (session=\"9dde711e96f51ab43a9fa71de8b148c0\", element=\"79759330-1893-4a4f-acda-7fd2dee60c29\")>]\n",
      "[<selenium.webdriver.remote.webelement.WebElement (session=\"9dde711e96f51ab43a9fa71de8b148c0\", element=\"2ac330c2-37fc-4c9a-8c44-b021daf33b15\")>]\n"
     ]
    },
    {
     "name": "stderr",
     "output_type": "stream",
     "text": [
      "\n",
      "  2%|█▋                                                                                | 3/150 [00:19<16:18,  6.66s/it]\u001b[A\n",
      " 55%|███████████████████████████████████████████▋                                    | 36/66 [1:39:27<16:24, 32.80s/it]\n",
      "  0%|                                                                                          | 0/150 [00:00<?, ?it/s]\u001b[A\n",
      "  1%|▌                                                                                 | 1/150 [00:06<16:09,  6.51s/it]\u001b[A"
     ]
    },
    {
     "name": "stdout",
     "output_type": "stream",
     "text": [
      "[<selenium.webdriver.remote.webelement.WebElement (session=\"9dde711e96f51ab43a9fa71de8b148c0\", element=\"ad6b39be-c352-4aec-9117-36e187680e5e\")>]\n",
      "[<selenium.webdriver.remote.webelement.WebElement (session=\"9dde711e96f51ab43a9fa71de8b148c0\", element=\"003c98b5-987d-4144-8f84-a05e4bb28b87\")>]\n"
     ]
    },
    {
     "name": "stderr",
     "output_type": "stream",
     "text": [
      "\n",
      "  1%|█                                                                                 | 2/150 [00:14<17:35,  7.13s/it]\u001b[A\n",
      " 56%|████████████████████████████████████████████▊                                   | 37/66 [1:39:41<13:09, 27.24s/it]\n",
      "  0%|                                                                                          | 0/150 [00:00<?, ?it/s]\u001b[A"
     ]
    },
    {
     "name": "stdout",
     "output_type": "stream",
     "text": [
      "[<selenium.webdriver.remote.webelement.WebElement (session=\"9dde711e96f51ab43a9fa71de8b148c0\", element=\"a5b95a3c-d667-4ef1-8c71-6ceb603c4c41\")>]\n"
     ]
    },
    {
     "name": "stderr",
     "output_type": "stream",
     "text": [
      "\n",
      "  1%|▌                                                                                 | 1/150 [00:05<14:26,  5.81s/it]\u001b[A\n",
      "  1%|█                                                                                 | 2/150 [00:12<15:20,  6.22s/it]\u001b[A"
     ]
    },
    {
     "name": "stdout",
     "output_type": "stream",
     "text": [
      "[<selenium.webdriver.remote.webelement.WebElement (session=\"9dde711e96f51ab43a9fa71de8b148c0\", element=\"abdeb218-0337-4a96-bc3e-3c018aca7b8c\")>]\n"
     ]
    },
    {
     "name": "stderr",
     "output_type": "stream",
     "text": [
      "\n",
      "  2%|█▋                                                                                | 3/150 [00:18<15:30,  6.33s/it]\u001b[A"
     ]
    },
    {
     "name": "stdout",
     "output_type": "stream",
     "text": [
      "[<selenium.webdriver.remote.webelement.WebElement (session=\"9dde711e96f51ab43a9fa71de8b148c0\", element=\"c4828cf4-3fba-4848-b6e5-acf36342383d\")>]\n"
     ]
    },
    {
     "name": "stderr",
     "output_type": "stream",
     "text": [
      "\n",
      "  3%|██▏                                                                               | 4/150 [00:25<15:32,  6.39s/it]\u001b[A"
     ]
    },
    {
     "name": "stdout",
     "output_type": "stream",
     "text": [
      "[<selenium.webdriver.remote.webelement.WebElement (session=\"9dde711e96f51ab43a9fa71de8b148c0\", element=\"49a4c681-7176-49f4-a9d9-6a3fd940e64a\")>]\n"
     ]
    },
    {
     "name": "stderr",
     "output_type": "stream",
     "text": [
      "\n",
      "  3%|██▋                                                                               | 5/150 [00:31<15:31,  6.42s/it]\u001b[A"
     ]
    },
    {
     "name": "stdout",
     "output_type": "stream",
     "text": [
      "[<selenium.webdriver.remote.webelement.WebElement (session=\"9dde711e96f51ab43a9fa71de8b148c0\", element=\"66225bcc-0fd5-4bed-b7f7-fa6bffa8eadf\")>]\n"
     ]
    },
    {
     "name": "stderr",
     "output_type": "stream",
     "text": [
      "\n",
      "  4%|███▎                                                                              | 6/150 [00:38<15:25,  6.43s/it]\u001b[A"
     ]
    },
    {
     "name": "stdout",
     "output_type": "stream",
     "text": [
      "[<selenium.webdriver.remote.webelement.WebElement (session=\"9dde711e96f51ab43a9fa71de8b148c0\", element=\"ab461e44-e84a-4ccb-bdbd-9426b5249448\")>]\n"
     ]
    },
    {
     "name": "stderr",
     "output_type": "stream",
     "text": [
      "\n",
      "  5%|███▊                                                                              | 7/150 [00:44<15:29,  6.50s/it]\u001b[A"
     ]
    },
    {
     "name": "stdout",
     "output_type": "stream",
     "text": [
      "[<selenium.webdriver.remote.webelement.WebElement (session=\"9dde711e96f51ab43a9fa71de8b148c0\", element=\"0b2112be-416e-4a03-85b8-58d0f13c305c\")>]\n",
      "[<selenium.webdriver.remote.webelement.WebElement (session=\"9dde711e96f51ab43a9fa71de8b148c0\", element=\"125f19fe-7337-468a-8141-f04194b6dc7d\")>]\n"
     ]
    },
    {
     "name": "stderr",
     "output_type": "stream",
     "text": [
      "\n",
      "  5%|████▎                                                                             | 8/150 [00:51<15:28,  6.54s/it]\u001b[A\n"
     ]
    },
    {
     "name": "stdout",
     "output_type": "stream",
     "text": [
      "[<selenium.webdriver.remote.webelement.WebElement (session=\"9dde711e96f51ab43a9fa71de8b148c0\", element=\"7970144e-dc5b-4a13-a27d-13a861f8b5a7\")>]\n"
     ]
    },
    {
     "name": "stderr",
     "output_type": "stream",
     "text": [
      "  6%|████▉                                                                             | 9/150 [00:57<15:19,  6.52s/it]\u001b[A\n",
      "  7%|█████▍                                                                           | 10/150 [01:04<15:09,  6.50s/it]\u001b[A"
     ]
    },
    {
     "name": "stdout",
     "output_type": "stream",
     "text": [
      "[<selenium.webdriver.remote.webelement.WebElement (session=\"9dde711e96f51ab43a9fa71de8b148c0\", element=\"6a88fdff-e64f-4f58-a77f-ca4d195bba3e\")>]\n"
     ]
    },
    {
     "name": "stderr",
     "output_type": "stream",
     "text": [
      "\n"
     ]
    },
    {
     "name": "stdout",
     "output_type": "stream",
     "text": [
      "[<selenium.webdriver.remote.webelement.WebElement (session=\"9dde711e96f51ab43a9fa71de8b148c0\", element=\"5155fff7-621f-433c-bdac-4827b842e68d\")>]\n"
     ]
    },
    {
     "name": "stderr",
     "output_type": "stream",
     "text": [
      "  7%|█████▉                                                                           | 11/150 [01:10<15:01,  6.48s/it]\u001b[A\n",
      "  8%|██████▍                                                                          | 12/150 [01:17<14:57,  6.50s/it]\u001b[A"
     ]
    },
    {
     "name": "stdout",
     "output_type": "stream",
     "text": [
      "[<selenium.webdriver.remote.webelement.WebElement (session=\"9dde711e96f51ab43a9fa71de8b148c0\", element=\"a5aa8034-1cf7-47b7-9e5a-9dcd9422795c\")>]\n"
     ]
    },
    {
     "name": "stderr",
     "output_type": "stream",
     "text": [
      "\n",
      "  9%|███████                                                                          | 13/150 [01:23<14:47,  6.48s/it]\u001b[A"
     ]
    },
    {
     "name": "stdout",
     "output_type": "stream",
     "text": [
      "[<selenium.webdriver.remote.webelement.WebElement (session=\"9dde711e96f51ab43a9fa71de8b148c0\", element=\"36402ca8-ae70-4af6-b2d1-fc231a1ba594\")>]\n",
      "[<selenium.webdriver.remote.webelement.WebElement (session=\"9dde711e96f51ab43a9fa71de8b148c0\", element=\"4a98529f-fc17-4fb9-8768-612cfb6dc73a\")>]\n"
     ]
    },
    {
     "name": "stderr",
     "output_type": "stream",
     "text": [
      "\n",
      "  9%|███████▌                                                                         | 14/150 [01:31<14:49,  6.54s/it]\u001b[A\n",
      " 58%|██████████████████████████████████████████████                                  | 38/66 [1:41:13<21:43, 46.55s/it]\n",
      "  0%|                                                                                          | 0/150 [00:00<?, ?it/s]\u001b[A\n",
      "  1%|▌                                                                                 | 1/150 [00:06<15:57,  6.43s/it]\u001b[A"
     ]
    },
    {
     "name": "stdout",
     "output_type": "stream",
     "text": [
      "[<selenium.webdriver.remote.webelement.WebElement (session=\"9dde711e96f51ab43a9fa71de8b148c0\", element=\"cae1e243-9f89-4316-874a-f2bf216d22bc\")>]\n"
     ]
    },
    {
     "name": "stderr",
     "output_type": "stream",
     "text": [
      "\n"
     ]
    },
    {
     "name": "stdout",
     "output_type": "stream",
     "text": [
      "[<selenium.webdriver.remote.webelement.WebElement (session=\"9dde711e96f51ab43a9fa71de8b148c0\", element=\"d211d936-c0a3-4e3b-8c96-1c727f26b57f\")>]\n"
     ]
    },
    {
     "name": "stderr",
     "output_type": "stream",
     "text": [
      "  1%|█                                                                                 | 2/150 [00:12<16:00,  6.49s/it]\u001b[A"
     ]
    },
    {
     "name": "stdout",
     "output_type": "stream",
     "text": [
      "[<selenium.webdriver.remote.webelement.WebElement (session=\"9dde711e96f51ab43a9fa71de8b148c0\", element=\"97c43726-f949-4b1a-94fc-ef0f6ac22f05\")>]\n"
     ]
    },
    {
     "name": "stderr",
     "output_type": "stream",
     "text": [
      "\n",
      "  2%|█▋                                                                                | 3/150 [00:19<15:59,  6.53s/it]\u001b[A\n",
      "  3%|██▏                                                                               | 4/150 [00:25<15:39,  6.44s/it]\u001b[A"
     ]
    },
    {
     "name": "stdout",
     "output_type": "stream",
     "text": [
      "[<selenium.webdriver.remote.webelement.WebElement (session=\"9dde711e96f51ab43a9fa71de8b148c0\", element=\"d0b1af86-00cc-48aa-9e7f-6635b14f5965\")>]\n"
     ]
    },
    {
     "name": "stderr",
     "output_type": "stream",
     "text": [
      "  3%|██▏                                                                               | 4/150 [00:26<16:24,  6.75s/it]\n",
      " 59%|███████████████████████████████████████████████▎                                | 39/66 [1:41:40<18:18, 40.68s/it]\n",
      "  0%|                                                                                          | 0/150 [00:00<?, ?it/s]\u001b[A"
     ]
    },
    {
     "name": "stdout",
     "output_type": "stream",
     "text": [
      "[<selenium.webdriver.remote.webelement.WebElement (session=\"9dde711e96f51ab43a9fa71de8b148c0\", element=\"8cfa52b1-296f-4c2a-80d9-1d379b13abd3\")>]\n"
     ]
    },
    {
     "name": "stderr",
     "output_type": "stream",
     "text": [
      "\n",
      "  1%|▌                                                                                 | 1/150 [00:06<16:17,  6.56s/it]\u001b[A"
     ]
    },
    {
     "name": "stdout",
     "output_type": "stream",
     "text": [
      "[<selenium.webdriver.remote.webelement.WebElement (session=\"9dde711e96f51ab43a9fa71de8b148c0\", element=\"83ebb448-198d-4e41-b79e-b7896a4eed86\")>]\n"
     ]
    },
    {
     "name": "stderr",
     "output_type": "stream",
     "text": [
      "\n",
      "  1%|█                                                                                 | 2/150 [00:13<16:17,  6.61s/it]\u001b[A\n"
     ]
    },
    {
     "name": "stdout",
     "output_type": "stream",
     "text": [
      "[<selenium.webdriver.remote.webelement.WebElement (session=\"9dde711e96f51ab43a9fa71de8b148c0\", element=\"482d57c7-ab66-443b-8e08-36dd158728fe\")>]\n"
     ]
    },
    {
     "name": "stderr",
     "output_type": "stream",
     "text": [
      "  2%|█▋                                                                                | 3/150 [00:19<16:06,  6.57s/it]\u001b[A"
     ]
    },
    {
     "name": "stdout",
     "output_type": "stream",
     "text": [
      "[<selenium.webdriver.remote.webelement.WebElement (session=\"9dde711e96f51ab43a9fa71de8b148c0\", element=\"b763db3e-ab92-4c7c-98c2-f84add96055c\")>]\n"
     ]
    },
    {
     "name": "stderr",
     "output_type": "stream",
     "text": [
      "\n",
      "  3%|██▏                                                                               | 4/150 [00:26<15:59,  6.57s/it]\u001b[A"
     ]
    },
    {
     "name": "stdout",
     "output_type": "stream",
     "text": [
      "[<selenium.webdriver.remote.webelement.WebElement (session=\"9dde711e96f51ab43a9fa71de8b148c0\", element=\"54ee8d3a-ac2c-4f6a-824a-ca5cd7195412\")>]\n"
     ]
    },
    {
     "name": "stderr",
     "output_type": "stream",
     "text": [
      "\n",
      "  3%|██▋                                                                               | 5/150 [00:33<16:03,  6.65s/it]\u001b[A"
     ]
    },
    {
     "name": "stdout",
     "output_type": "stream",
     "text": [
      "[<selenium.webdriver.remote.webelement.WebElement (session=\"9dde711e96f51ab43a9fa71de8b148c0\", element=\"1ddd84b2-c3e4-434f-b2aa-ed10e5c2c2cd\")>]\n"
     ]
    },
    {
     "name": "stderr",
     "output_type": "stream",
     "text": [
      "\n",
      "  4%|███▎                                                                              | 6/150 [00:39<16:02,  6.68s/it]\u001b[A"
     ]
    },
    {
     "name": "stdout",
     "output_type": "stream",
     "text": [
      "[<selenium.webdriver.remote.webelement.WebElement (session=\"9dde711e96f51ab43a9fa71de8b148c0\", element=\"98b48de4-ca4e-4b14-9072-979c2519f1fe\")>]\n"
     ]
    },
    {
     "name": "stderr",
     "output_type": "stream",
     "text": [
      "\n",
      "  5%|███▊                                                                              | 7/150 [00:46<15:49,  6.64s/it]\u001b[A"
     ]
    },
    {
     "name": "stdout",
     "output_type": "stream",
     "text": [
      "[<selenium.webdriver.remote.webelement.WebElement (session=\"9dde711e96f51ab43a9fa71de8b148c0\", element=\"e39abc75-cb1b-4e5e-97d8-18543d87b95c\")>]\n"
     ]
    },
    {
     "name": "stderr",
     "output_type": "stream",
     "text": [
      "\n",
      "  5%|████▎                                                                             | 8/150 [00:53<15:43,  6.65s/it]\u001b[A"
     ]
    },
    {
     "name": "stdout",
     "output_type": "stream",
     "text": [
      "[<selenium.webdriver.remote.webelement.WebElement (session=\"9dde711e96f51ab43a9fa71de8b148c0\", element=\"786d3e69-0f76-4907-bdbe-40a4d3be3068\")>]\n"
     ]
    },
    {
     "name": "stderr",
     "output_type": "stream",
     "text": [
      "\n",
      "  6%|████▉                                                                             | 9/150 [00:59<15:42,  6.68s/it]\u001b[A"
     ]
    },
    {
     "name": "stdout",
     "output_type": "stream",
     "text": [
      "[<selenium.webdriver.remote.webelement.WebElement (session=\"9dde711e96f51ab43a9fa71de8b148c0\", element=\"817ad3d3-1971-4dfc-a863-ee8799fe87f1\")>]\n"
     ]
    },
    {
     "name": "stderr",
     "output_type": "stream",
     "text": [
      "\n",
      "  7%|█████▍                                                                           | 10/150 [01:06<15:44,  6.74s/it]\u001b[A"
     ]
    },
    {
     "name": "stdout",
     "output_type": "stream",
     "text": [
      "[<selenium.webdriver.remote.webelement.WebElement (session=\"9dde711e96f51ab43a9fa71de8b148c0\", element=\"491990ca-92a8-4512-bab6-4ed21e7c3a17\")>]\n"
     ]
    },
    {
     "name": "stderr",
     "output_type": "stream",
     "text": [
      "\n",
      "  7%|█████▉                                                                           | 11/150 [01:13<15:32,  6.71s/it]\u001b[A"
     ]
    },
    {
     "name": "stdout",
     "output_type": "stream",
     "text": [
      "[<selenium.webdriver.remote.webelement.WebElement (session=\"9dde711e96f51ab43a9fa71de8b148c0\", element=\"9ce796b1-2390-4958-be51-8aacc1348f47\")>]\n"
     ]
    },
    {
     "name": "stderr",
     "output_type": "stream",
     "text": [
      "\n",
      "  8%|██████▍                                                                          | 12/150 [01:20<15:32,  6.76s/it]\u001b[A"
     ]
    },
    {
     "name": "stdout",
     "output_type": "stream",
     "text": [
      "[<selenium.webdriver.remote.webelement.WebElement (session=\"9dde711e96f51ab43a9fa71de8b148c0\", element=\"9c39e9ac-5534-4025-9c78-879cb3d2fbe0\")>]\n"
     ]
    },
    {
     "name": "stderr",
     "output_type": "stream",
     "text": [
      "\n",
      "  9%|███████                                                                          | 13/150 [01:27<15:34,  6.82s/it]\u001b[A"
     ]
    },
    {
     "name": "stdout",
     "output_type": "stream",
     "text": [
      "[<selenium.webdriver.remote.webelement.WebElement (session=\"9dde711e96f51ab43a9fa71de8b148c0\", element=\"06042ccc-10cc-4ef2-a76c-1828cd7169f9\")>]\n"
     ]
    },
    {
     "name": "stderr",
     "output_type": "stream",
     "text": [
      "\n",
      "  9%|███████▌                                                                         | 14/150 [01:33<15:28,  6.83s/it]\u001b[A"
     ]
    },
    {
     "name": "stdout",
     "output_type": "stream",
     "text": [
      "[<selenium.webdriver.remote.webelement.WebElement (session=\"9dde711e96f51ab43a9fa71de8b148c0\", element=\"45bd778a-54ce-45e9-895e-74fd7baa8388\")>]\n"
     ]
    },
    {
     "name": "stderr",
     "output_type": "stream",
     "text": [
      "\n",
      " 10%|████████                                                                         | 15/150 [01:40<15:19,  6.81s/it]\u001b[A"
     ]
    },
    {
     "name": "stdout",
     "output_type": "stream",
     "text": [
      "[<selenium.webdriver.remote.webelement.WebElement (session=\"9dde711e96f51ab43a9fa71de8b148c0\", element=\"226d9828-1288-4bb4-b92a-7d491de9c264\")>]\n"
     ]
    },
    {
     "name": "stderr",
     "output_type": "stream",
     "text": [
      "\n",
      " 11%|████████▋                                                                        | 16/150 [01:47<15:08,  6.78s/it]\u001b[A"
     ]
    },
    {
     "name": "stdout",
     "output_type": "stream",
     "text": [
      "[<selenium.webdriver.remote.webelement.WebElement (session=\"9dde711e96f51ab43a9fa71de8b148c0\", element=\"d5ed2145-482d-4684-bc7f-003d184a566b\")>]\n"
     ]
    },
    {
     "name": "stderr",
     "output_type": "stream",
     "text": [
      "\n",
      " 11%|█████████▏                                                                       | 17/150 [01:53<14:24,  6.50s/it]\u001b[A"
     ]
    },
    {
     "name": "stdout",
     "output_type": "stream",
     "text": [
      "[<selenium.webdriver.remote.webelement.WebElement (session=\"9dde711e96f51ab43a9fa71de8b148c0\", element=\"7c9e232d-fbd2-45d1-a590-4db3409cd3f9\")>]\n"
     ]
    },
    {
     "name": "stderr",
     "output_type": "stream",
     "text": [
      "\n",
      " 12%|█████████▋                                                                       | 18/150 [02:00<14:30,  6.59s/it]\u001b[A"
     ]
    },
    {
     "name": "stdout",
     "output_type": "stream",
     "text": [
      "[<selenium.webdriver.remote.webelement.WebElement (session=\"9dde711e96f51ab43a9fa71de8b148c0\", element=\"fbdc150f-bdc0-488b-a39d-a4ab00919edf\")>]\n"
     ]
    },
    {
     "name": "stderr",
     "output_type": "stream",
     "text": [
      "\n",
      " 13%|██████████▎                                                                      | 19/150 [02:06<14:31,  6.66s/it]\u001b[A"
     ]
    },
    {
     "name": "stdout",
     "output_type": "stream",
     "text": [
      "[<selenium.webdriver.remote.webelement.WebElement (session=\"9dde711e96f51ab43a9fa71de8b148c0\", element=\"223e01e3-b077-47d0-9f8a-5d54debaa37f\")>]\n"
     ]
    },
    {
     "name": "stderr",
     "output_type": "stream",
     "text": [
      "\n",
      " 13%|██████████▊                                                                      | 20/150 [02:13<14:29,  6.69s/it]\u001b[A"
     ]
    },
    {
     "name": "stdout",
     "output_type": "stream",
     "text": [
      "[<selenium.webdriver.remote.webelement.WebElement (session=\"9dde711e96f51ab43a9fa71de8b148c0\", element=\"cf234ff4-a2b2-4d10-8557-3d2179197b50\")>]\n"
     ]
    },
    {
     "name": "stderr",
     "output_type": "stream",
     "text": [
      "\n",
      " 14%|███████████▎                                                                     | 21/150 [02:20<14:27,  6.73s/it]\u001b[A"
     ]
    },
    {
     "name": "stdout",
     "output_type": "stream",
     "text": [
      "[<selenium.webdriver.remote.webelement.WebElement (session=\"9dde711e96f51ab43a9fa71de8b148c0\", element=\"206f6fa9-e9d3-4748-92f2-bf594d940710\")>]\n"
     ]
    },
    {
     "name": "stderr",
     "output_type": "stream",
     "text": [
      "\n",
      " 15%|███████████▉                                                                     | 22/150 [02:27<14:23,  6.75s/it]\u001b[A"
     ]
    },
    {
     "name": "stdout",
     "output_type": "stream",
     "text": [
      "[<selenium.webdriver.remote.webelement.WebElement (session=\"9dde711e96f51ab43a9fa71de8b148c0\", element=\"d97ad908-2034-485a-a682-6d2b43de5a0b\")>]\n"
     ]
    },
    {
     "name": "stderr",
     "output_type": "stream",
     "text": [
      "\n",
      " 15%|████████████▍                                                                    | 23/150 [02:34<14:14,  6.73s/it]\u001b[A"
     ]
    },
    {
     "name": "stdout",
     "output_type": "stream",
     "text": [
      "[<selenium.webdriver.remote.webelement.WebElement (session=\"9dde711e96f51ab43a9fa71de8b148c0\", element=\"e8bb6ed2-08f3-4095-9c4e-a56171f7a83f\")>]\n"
     ]
    },
    {
     "name": "stderr",
     "output_type": "stream",
     "text": [
      "\n",
      " 16%|████████████▉                                                                    | 24/150 [02:40<13:47,  6.57s/it]\u001b[A"
     ]
    },
    {
     "name": "stdout",
     "output_type": "stream",
     "text": [
      "[<selenium.webdriver.remote.webelement.WebElement (session=\"9dde711e96f51ab43a9fa71de8b148c0\", element=\"0b3ec861-98f4-44ca-a89c-f566899d0e28\")>]\n"
     ]
    },
    {
     "name": "stderr",
     "output_type": "stream",
     "text": [
      "\n",
      " 17%|█████████████▌                                                                   | 25/150 [02:47<13:53,  6.67s/it]\u001b[A"
     ]
    },
    {
     "name": "stdout",
     "output_type": "stream",
     "text": [
      "[<selenium.webdriver.remote.webelement.WebElement (session=\"9dde711e96f51ab43a9fa71de8b148c0\", element=\"a8305a37-ad87-4dc0-bc89-ed18567d9080\")>]\n"
     ]
    },
    {
     "name": "stderr",
     "output_type": "stream",
     "text": [
      "\n",
      " 17%|██████████████                                                                   | 26/150 [02:54<14:13,  6.88s/it]\u001b[A"
     ]
    },
    {
     "name": "stdout",
     "output_type": "stream",
     "text": [
      "[<selenium.webdriver.remote.webelement.WebElement (session=\"9dde711e96f51ab43a9fa71de8b148c0\", element=\"fa9fb9e8-1afb-4113-bbfe-1102e3ff197f\")>]\n"
     ]
    },
    {
     "name": "stderr",
     "output_type": "stream",
     "text": [
      "\n",
      " 18%|██████████████▌                                                                  | 27/150 [03:01<14:18,  6.98s/it]\u001b[A"
     ]
    },
    {
     "name": "stdout",
     "output_type": "stream",
     "text": [
      "[<selenium.webdriver.remote.webelement.WebElement (session=\"9dde711e96f51ab43a9fa71de8b148c0\", element=\"f7ea1137-7bdb-4514-aaef-4f7adb621887\")>]\n"
     ]
    },
    {
     "name": "stderr",
     "output_type": "stream",
     "text": [
      "\n",
      " 19%|███████████████                                                                  | 28/150 [03:09<13:46,  6.77s/it]\u001b[A\n",
      " 61%|████████████████████████████████████████████████▍                               | 40/66 [1:44:49<36:59, 85.35s/it]\n",
      "  0%|                                                                                          | 0/150 [00:00<?, ?it/s]\u001b[A"
     ]
    },
    {
     "name": "stdout",
     "output_type": "stream",
     "text": [
      "[<selenium.webdriver.remote.webelement.WebElement (session=\"9dde711e96f51ab43a9fa71de8b148c0\", element=\"3274c0a2-811c-427d-bd1d-804481ea1a9a\")>]\n"
     ]
    },
    {
     "name": "stderr",
     "output_type": "stream",
     "text": [
      "\n",
      "  1%|▌                                                                                 | 1/150 [00:06<17:07,  6.90s/it]\u001b[A"
     ]
    },
    {
     "name": "stdout",
     "output_type": "stream",
     "text": [
      "[<selenium.webdriver.remote.webelement.WebElement (session=\"9dde711e96f51ab43a9fa71de8b148c0\", element=\"ab4db5a5-7082-47a5-9399-3f5f22a19104\")>]\n"
     ]
    },
    {
     "name": "stderr",
     "output_type": "stream",
     "text": [
      "\n",
      "  1%|█                                                                                 | 2/150 [00:13<16:50,  6.83s/it]\u001b[A"
     ]
    },
    {
     "name": "stdout",
     "output_type": "stream",
     "text": [
      "[<selenium.webdriver.remote.webelement.WebElement (session=\"9dde711e96f51ab43a9fa71de8b148c0\", element=\"e3e47c9b-7313-4473-a61f-886434d1a858\")>]\n"
     ]
    },
    {
     "name": "stderr",
     "output_type": "stream",
     "text": [
      "\n",
      "  2%|█▋                                                                                | 3/150 [00:20<16:40,  6.81s/it]\u001b[A"
     ]
    },
    {
     "name": "stdout",
     "output_type": "stream",
     "text": [
      "[<selenium.webdriver.remote.webelement.WebElement (session=\"9dde711e96f51ab43a9fa71de8b148c0\", element=\"e7f9628c-35a6-428e-82a4-64242c47950d\")>]\n"
     ]
    },
    {
     "name": "stderr",
     "output_type": "stream",
     "text": [
      "\n",
      "  3%|██▏                                                                               | 4/150 [00:27<16:38,  6.84s/it]\u001b[A"
     ]
    },
    {
     "name": "stdout",
     "output_type": "stream",
     "text": [
      "[<selenium.webdriver.remote.webelement.WebElement (session=\"9dde711e96f51ab43a9fa71de8b148c0\", element=\"17fb0675-0d4f-44a1-a5d4-cbd82f541165\")>]\n"
     ]
    },
    {
     "name": "stderr",
     "output_type": "stream",
     "text": [
      "\n",
      "  3%|██▋                                                                               | 5/150 [00:34<16:32,  6.84s/it]\u001b[A"
     ]
    },
    {
     "name": "stdout",
     "output_type": "stream",
     "text": [
      "[<selenium.webdriver.remote.webelement.WebElement (session=\"9dde711e96f51ab43a9fa71de8b148c0\", element=\"6556e1fa-6182-40d4-9215-b47575a498dc\")>]\n"
     ]
    },
    {
     "name": "stderr",
     "output_type": "stream",
     "text": [
      "\n",
      "  4%|███▎                                                                              | 6/150 [00:41<16:32,  6.89s/it]\u001b[A"
     ]
    },
    {
     "name": "stdout",
     "output_type": "stream",
     "text": [
      "[<selenium.webdriver.remote.webelement.WebElement (session=\"9dde711e96f51ab43a9fa71de8b148c0\", element=\"87a7e96c-0bae-4d1b-9c50-57f69029bee5\")>]\n"
     ]
    },
    {
     "name": "stderr",
     "output_type": "stream",
     "text": [
      "\n",
      "  5%|███▊                                                                              | 7/150 [00:47<16:19,  6.85s/it]\u001b[A"
     ]
    },
    {
     "name": "stdout",
     "output_type": "stream",
     "text": [
      "[<selenium.webdriver.remote.webelement.WebElement (session=\"9dde711e96f51ab43a9fa71de8b148c0\", element=\"b38cd074-34cb-47c6-ac63-b40b16bddce9\")>]\n"
     ]
    },
    {
     "name": "stderr",
     "output_type": "stream",
     "text": [
      "\n",
      "  5%|████▎                                                                             | 8/150 [00:54<16:08,  6.82s/it]\u001b[A"
     ]
    },
    {
     "name": "stdout",
     "output_type": "stream",
     "text": [
      "[<selenium.webdriver.remote.webelement.WebElement (session=\"9dde711e96f51ab43a9fa71de8b148c0\", element=\"d0ee85e0-04e9-4673-81f0-6ce586057b91\")>]\n"
     ]
    },
    {
     "name": "stderr",
     "output_type": "stream",
     "text": [
      "\n",
      "  6%|████▉                                                                             | 9/150 [01:01<16:07,  6.86s/it]\u001b[A"
     ]
    },
    {
     "name": "stdout",
     "output_type": "stream",
     "text": [
      "[<selenium.webdriver.remote.webelement.WebElement (session=\"9dde711e96f51ab43a9fa71de8b148c0\", element=\"8e8b97b9-f6ed-44a6-a254-47fd7ba1105c\")>]\n"
     ]
    },
    {
     "name": "stderr",
     "output_type": "stream",
     "text": [
      "\n",
      "  7%|█████▍                                                                           | 10/150 [01:08<16:07,  6.91s/it]\u001b[A"
     ]
    },
    {
     "name": "stdout",
     "output_type": "stream",
     "text": [
      "[<selenium.webdriver.remote.webelement.WebElement (session=\"9dde711e96f51ab43a9fa71de8b148c0\", element=\"efaea273-433a-4f22-b3b8-69a8014bb1f2\")>]\n"
     ]
    },
    {
     "name": "stderr",
     "output_type": "stream",
     "text": [
      "\n",
      "  7%|█████▉                                                                           | 11/150 [01:15<15:55,  6.87s/it]\u001b[A"
     ]
    },
    {
     "name": "stdout",
     "output_type": "stream",
     "text": [
      "[<selenium.webdriver.remote.webelement.WebElement (session=\"9dde711e96f51ab43a9fa71de8b148c0\", element=\"bf223492-0bba-4c4f-8e76-29f4f1dd93ff\")>]\n"
     ]
    },
    {
     "name": "stderr",
     "output_type": "stream",
     "text": [
      "\n",
      "  8%|██████▍                                                                          | 12/150 [01:21<15:01,  6.53s/it]\u001b[A"
     ]
    },
    {
     "name": "stdout",
     "output_type": "stream",
     "text": [
      "[<selenium.webdriver.remote.webelement.WebElement (session=\"9dde711e96f51ab43a9fa71de8b148c0\", element=\"dc5f2258-16fe-4494-aeb6-4a70bf81a994\")>]\n"
     ]
    },
    {
     "name": "stderr",
     "output_type": "stream",
     "text": [
      "\n",
      "  9%|███████                                                                          | 13/150 [01:27<15:02,  6.59s/it]\u001b[A"
     ]
    },
    {
     "name": "stdout",
     "output_type": "stream",
     "text": [
      "[<selenium.webdriver.remote.webelement.WebElement (session=\"9dde711e96f51ab43a9fa71de8b148c0\", element=\"2cd26a44-173e-4eab-9f41-40a0d9737a91\")>]\n"
     ]
    },
    {
     "name": "stderr",
     "output_type": "stream",
     "text": [
      "\n",
      "  9%|███████▌                                                                         | 14/150 [01:34<14:48,  6.54s/it]\u001b[A"
     ]
    },
    {
     "name": "stdout",
     "output_type": "stream",
     "text": [
      "[<selenium.webdriver.remote.webelement.WebElement (session=\"9dde711e96f51ab43a9fa71de8b148c0\", element=\"f89fee91-68e1-4764-ad6c-484733beae8a\")>]\n"
     ]
    },
    {
     "name": "stderr",
     "output_type": "stream",
     "text": [
      "\n",
      " 10%|████████                                                                         | 15/150 [01:41<14:56,  6.64s/it]\u001b[A"
     ]
    },
    {
     "name": "stdout",
     "output_type": "stream",
     "text": [
      "[<selenium.webdriver.remote.webelement.WebElement (session=\"9dde711e96f51ab43a9fa71de8b148c0\", element=\"24830eb7-0ed1-42c0-889e-b72f9f99ae2b\")>]\n"
     ]
    },
    {
     "name": "stderr",
     "output_type": "stream",
     "text": [
      "\n",
      " 11%|████████▋                                                                        | 16/150 [01:49<15:13,  6.82s/it]\u001b[A\n",
      " 62%|█████████████████████████████████████████████████▋                              | 41/66 [1:46:38<38:31, 92.47s/it]\n",
      "  0%|                                                                                          | 0/150 [00:00<?, ?it/s]\u001b[A"
     ]
    },
    {
     "name": "stdout",
     "output_type": "stream",
     "text": [
      "[<selenium.webdriver.remote.webelement.WebElement (session=\"9dde711e96f51ab43a9fa71de8b148c0\", element=\"54ead08b-d5b8-452b-b997-26319b925ac2\")>]\n"
     ]
    },
    {
     "name": "stderr",
     "output_type": "stream",
     "text": [
      "\n",
      "  1%|▌                                                                                 | 1/150 [00:07<17:48,  7.17s/it]\u001b[A"
     ]
    },
    {
     "name": "stdout",
     "output_type": "stream",
     "text": [
      "[<selenium.webdriver.remote.webelement.WebElement (session=\"9dde711e96f51ab43a9fa71de8b148c0\", element=\"0b28cb28-3e91-4ccd-bab7-07f4737ecd3e\")>]\n"
     ]
    },
    {
     "name": "stderr",
     "output_type": "stream",
     "text": [
      "\n",
      "  1%|█                                                                                 | 2/150 [00:13<16:15,  6.59s/it]\u001b[A"
     ]
    },
    {
     "name": "stdout",
     "output_type": "stream",
     "text": [
      "[<selenium.webdriver.remote.webelement.WebElement (session=\"9dde711e96f51ab43a9fa71de8b148c0\", element=\"d3a8b3fb-4ce2-4ad3-a2a2-9b1fabdbe81a\")>]\n"
     ]
    },
    {
     "name": "stderr",
     "output_type": "stream",
     "text": [
      "\n",
      "  2%|█▋                                                                                | 3/150 [00:20<16:21,  6.67s/it]\u001b[A"
     ]
    },
    {
     "name": "stdout",
     "output_type": "stream",
     "text": [
      "[<selenium.webdriver.remote.webelement.WebElement (session=\"9dde711e96f51ab43a9fa71de8b148c0\", element=\"10c47b65-233e-43ca-9126-9171a5f1b3cf\")>]\n"
     ]
    },
    {
     "name": "stderr",
     "output_type": "stream",
     "text": [
      "\n",
      "  3%|██▏                                                                               | 4/150 [00:27<16:41,  6.86s/it]\u001b[A"
     ]
    },
    {
     "name": "stdout",
     "output_type": "stream",
     "text": [
      "[<selenium.webdriver.remote.webelement.WebElement (session=\"9dde711e96f51ab43a9fa71de8b148c0\", element=\"effa1e9a-79d7-4ef6-b77e-17d8d3954da4\")>]\n"
     ]
    },
    {
     "name": "stderr",
     "output_type": "stream",
     "text": [
      "\n",
      "  3%|██▋                                                                               | 5/150 [00:34<16:29,  6.82s/it]\u001b[A"
     ]
    },
    {
     "name": "stdout",
     "output_type": "stream",
     "text": [
      "[<selenium.webdriver.remote.webelement.WebElement (session=\"9dde711e96f51ab43a9fa71de8b148c0\", element=\"957fb787-d320-4d08-abcf-67088ae20a1c\")>]\n"
     ]
    },
    {
     "name": "stderr",
     "output_type": "stream",
     "text": [
      "\n",
      "  4%|███▎                                                                              | 6/150 [00:40<16:26,  6.85s/it]\u001b[A"
     ]
    },
    {
     "name": "stdout",
     "output_type": "stream",
     "text": [
      "[<selenium.webdriver.remote.webelement.WebElement (session=\"9dde711e96f51ab43a9fa71de8b148c0\", element=\"952bbee8-bec0-4c9f-84dc-d72c7ef365c4\")>]\n"
     ]
    },
    {
     "name": "stderr",
     "output_type": "stream",
     "text": [
      "\n",
      "  5%|███▊                                                                              | 7/150 [00:48<16:30,  6.93s/it]\u001b[A"
     ]
    },
    {
     "name": "stdout",
     "output_type": "stream",
     "text": [
      "[<selenium.webdriver.remote.webelement.WebElement (session=\"9dde711e96f51ab43a9fa71de8b148c0\", element=\"26f6e3fe-76a7-47d7-bc63-061555fc9507\")>]\n"
     ]
    },
    {
     "name": "stderr",
     "output_type": "stream",
     "text": [
      "\n",
      "  5%|████▎                                                                             | 8/150 [00:55<16:33,  6.99s/it]\u001b[A"
     ]
    },
    {
     "name": "stdout",
     "output_type": "stream",
     "text": [
      "[<selenium.webdriver.remote.webelement.WebElement (session=\"9dde711e96f51ab43a9fa71de8b148c0\", element=\"1840df85-9f1e-4c5d-b27e-ea44636937da\")>]\n"
     ]
    },
    {
     "name": "stderr",
     "output_type": "stream",
     "text": [
      "\n",
      "  6%|████▉                                                                             | 9/150 [01:02<16:30,  7.03s/it]\u001b[A"
     ]
    },
    {
     "name": "stdout",
     "output_type": "stream",
     "text": [
      "[<selenium.webdriver.remote.webelement.WebElement (session=\"9dde711e96f51ab43a9fa71de8b148c0\", element=\"183be7e3-aa1f-4fb7-ae2b-89d5172550c5\")>]\n"
     ]
    },
    {
     "name": "stderr",
     "output_type": "stream",
     "text": [
      "\n",
      "  7%|█████▍                                                                           | 10/150 [01:08<15:38,  6.71s/it]\u001b[A"
     ]
    },
    {
     "name": "stdout",
     "output_type": "stream",
     "text": [
      "[<selenium.webdriver.remote.webelement.WebElement (session=\"9dde711e96f51ab43a9fa71de8b148c0\", element=\"b9f3d653-e8b8-408b-a16e-589a0abf41f4\")>]\n"
     ]
    },
    {
     "name": "stderr",
     "output_type": "stream",
     "text": [
      "\n",
      "  7%|█████▉                                                                           | 11/150 [01:14<15:12,  6.56s/it]\u001b[A"
     ]
    },
    {
     "name": "stdout",
     "output_type": "stream",
     "text": [
      "[<selenium.webdriver.remote.webelement.WebElement (session=\"9dde711e96f51ab43a9fa71de8b148c0\", element=\"f7910076-f361-420c-8586-ddb7e66a5b90\")>]\n"
     ]
    },
    {
     "name": "stderr",
     "output_type": "stream",
     "text": [
      "\n",
      "  8%|██████▍                                                                          | 12/150 [01:22<16:09,  7.02s/it]\u001b[A"
     ]
    },
    {
     "name": "stdout",
     "output_type": "stream",
     "text": [
      "[<selenium.webdriver.remote.webelement.WebElement (session=\"9dde711e96f51ab43a9fa71de8b148c0\", element=\"781b2507-b109-4099-9ca6-9b844ace2160\")>]\n"
     ]
    },
    {
     "name": "stderr",
     "output_type": "stream",
     "text": [
      "\n",
      "  9%|███████                                                                          | 13/150 [01:29<15:51,  6.94s/it]\u001b[A"
     ]
    },
    {
     "name": "stdout",
     "output_type": "stream",
     "text": [
      "[<selenium.webdriver.remote.webelement.WebElement (session=\"9dde711e96f51ab43a9fa71de8b148c0\", element=\"4bf257f5-f86a-4a72-b8e0-896acd5d0285\")>]\n"
     ]
    },
    {
     "name": "stderr",
     "output_type": "stream",
     "text": [
      "\n",
      "  9%|███████▌                                                                         | 14/150 [01:36<15:36,  6.88s/it]\u001b[A"
     ]
    },
    {
     "name": "stdout",
     "output_type": "stream",
     "text": [
      "[<selenium.webdriver.remote.webelement.WebElement (session=\"9dde711e96f51ab43a9fa71de8b148c0\", element=\"de7a7262-7103-4796-9157-00e33c5a9b6a\")>]\n"
     ]
    },
    {
     "name": "stderr",
     "output_type": "stream",
     "text": [
      "\n",
      " 10%|████████                                                                         | 15/150 [01:42<15:24,  6.85s/it]\u001b[A"
     ]
    },
    {
     "name": "stdout",
     "output_type": "stream",
     "text": [
      "[<selenium.webdriver.remote.webelement.WebElement (session=\"9dde711e96f51ab43a9fa71de8b148c0\", element=\"2678d06e-a3ac-41d7-b834-937c1ae4bd44\")>]\n"
     ]
    },
    {
     "name": "stderr",
     "output_type": "stream",
     "text": [
      "\n",
      " 11%|████████▋                                                                        | 16/150 [01:49<15:13,  6.82s/it]\u001b[A"
     ]
    },
    {
     "name": "stdout",
     "output_type": "stream",
     "text": [
      "[<selenium.webdriver.remote.webelement.WebElement (session=\"9dde711e96f51ab43a9fa71de8b148c0\", element=\"681adede-a4d8-4524-b42d-162cfae27f98\")>]\n"
     ]
    },
    {
     "name": "stderr",
     "output_type": "stream",
     "text": [
      "\n",
      " 11%|█████████▏                                                                       | 17/150 [01:56<15:05,  6.81s/it]\u001b[A"
     ]
    },
    {
     "name": "stdout",
     "output_type": "stream",
     "text": [
      "[<selenium.webdriver.remote.webelement.WebElement (session=\"9dde711e96f51ab43a9fa71de8b148c0\", element=\"691ca23d-4cd3-4a41-bc53-7d8cf37cd6ae\")>]\n"
     ]
    },
    {
     "name": "stderr",
     "output_type": "stream",
     "text": [
      "\n",
      " 12%|█████████▋                                                                       | 18/150 [02:03<15:00,  6.82s/it]\u001b[A"
     ]
    },
    {
     "name": "stdout",
     "output_type": "stream",
     "text": [
      "[<selenium.webdriver.remote.webelement.WebElement (session=\"9dde711e96f51ab43a9fa71de8b148c0\", element=\"46e74265-bd52-4864-9ab3-4c2c2514d014\")>]\n"
     ]
    },
    {
     "name": "stderr",
     "output_type": "stream",
     "text": [
      "\n",
      " 13%|██████████▎                                                                      | 19/150 [02:10<14:58,  6.86s/it]\u001b[A"
     ]
    },
    {
     "name": "stdout",
     "output_type": "stream",
     "text": [
      "[<selenium.webdriver.remote.webelement.WebElement (session=\"9dde711e96f51ab43a9fa71de8b148c0\", element=\"fa24c307-69ef-421b-b41d-c30aa2b9505f\")>]\n"
     ]
    },
    {
     "name": "stderr",
     "output_type": "stream",
     "text": [
      "\n",
      " 13%|██████████▊                                                                      | 20/150 [02:17<14:54,  6.88s/it]\u001b[A"
     ]
    },
    {
     "name": "stdout",
     "output_type": "stream",
     "text": [
      "[<selenium.webdriver.remote.webelement.WebElement (session=\"9dde711e96f51ab43a9fa71de8b148c0\", element=\"945f308f-f0c3-431e-b1c8-c62cc03d7300\")>]\n"
     ]
    },
    {
     "name": "stderr",
     "output_type": "stream",
     "text": [
      "\n",
      " 14%|███████████▎                                                                     | 21/150 [02:23<14:41,  6.84s/it]\u001b[A"
     ]
    },
    {
     "name": "stdout",
     "output_type": "stream",
     "text": [
      "[<selenium.webdriver.remote.webelement.WebElement (session=\"9dde711e96f51ab43a9fa71de8b148c0\", element=\"62c3d820-5441-433b-a145-b1577da654ac\")>]\n"
     ]
    },
    {
     "name": "stderr",
     "output_type": "stream",
     "text": [
      "\n",
      " 15%|███████████▉                                                                     | 22/150 [02:30<14:46,  6.92s/it]\u001b[A"
     ]
    },
    {
     "name": "stdout",
     "output_type": "stream",
     "text": [
      "[<selenium.webdriver.remote.webelement.WebElement (session=\"9dde711e96f51ab43a9fa71de8b148c0\", element=\"e40c5fdc-3dfa-4a6a-9040-926fc23b997e\")>]\n"
     ]
    },
    {
     "name": "stderr",
     "output_type": "stream",
     "text": [
      "\n",
      " 15%|████████████▍                                                                    | 23/150 [02:37<14:39,  6.93s/it]\u001b[A"
     ]
    },
    {
     "name": "stdout",
     "output_type": "stream",
     "text": [
      "[<selenium.webdriver.remote.webelement.WebElement (session=\"9dde711e96f51ab43a9fa71de8b148c0\", element=\"fd2f9e01-b934-48e4-bc2f-2b5882606866\")>]\n"
     ]
    },
    {
     "name": "stderr",
     "output_type": "stream",
     "text": [
      "\n",
      " 16%|████████████▉                                                                    | 24/150 [02:46<14:31,  6.92s/it]\u001b[A\n",
      " 64%|██████████████████████████████████████████████████▎                            | 42/66 [1:49:24<45:49, 114.54s/it]\n",
      "  0%|                                                                                          | 0/150 [00:00<?, ?it/s]\u001b[A"
     ]
    },
    {
     "name": "stdout",
     "output_type": "stream",
     "text": [
      "[<selenium.webdriver.remote.webelement.WebElement (session=\"9dde711e96f51ab43a9fa71de8b148c0\", element=\"383e4d43-ef8b-48ce-bb60-c982f26ec185\")>]\n"
     ]
    },
    {
     "name": "stderr",
     "output_type": "stream",
     "text": [
      "\n",
      "  1%|▌                                                                                 | 1/150 [00:06<16:53,  6.80s/it]\u001b[A"
     ]
    },
    {
     "name": "stdout",
     "output_type": "stream",
     "text": [
      "[<selenium.webdriver.remote.webelement.WebElement (session=\"9dde711e96f51ab43a9fa71de8b148c0\", element=\"591bd385-df8e-4a67-a252-189eefee3ba0\")>]\n"
     ]
    },
    {
     "name": "stderr",
     "output_type": "stream",
     "text": [
      "\n",
      "  1%|█                                                                                 | 2/150 [00:13<16:34,  6.72s/it]\u001b[A"
     ]
    },
    {
     "name": "stdout",
     "output_type": "stream",
     "text": [
      "[<selenium.webdriver.remote.webelement.WebElement (session=\"9dde711e96f51ab43a9fa71de8b148c0\", element=\"b4f71d2b-9506-4649-be9e-3631522e0dac\")>]\n"
     ]
    },
    {
     "name": "stderr",
     "output_type": "stream",
     "text": [
      "\n",
      "  2%|█▋                                                                                | 3/150 [00:20<16:30,  6.74s/it]\u001b[A"
     ]
    },
    {
     "name": "stdout",
     "output_type": "stream",
     "text": [
      "[<selenium.webdriver.remote.webelement.WebElement (session=\"9dde711e96f51ab43a9fa71de8b148c0\", element=\"0e774fbd-e5d3-45f8-97b4-51d5f2c03797\")>]\n"
     ]
    },
    {
     "name": "stderr",
     "output_type": "stream",
     "text": [
      "\n",
      "  3%|██▏                                                                               | 4/150 [00:27<16:33,  6.81s/it]\u001b[A"
     ]
    },
    {
     "name": "stdout",
     "output_type": "stream",
     "text": [
      "[<selenium.webdriver.remote.webelement.WebElement (session=\"9dde711e96f51ab43a9fa71de8b148c0\", element=\"71dc5a39-c9f4-4ffd-b739-653c89095497\")>]\n"
     ]
    },
    {
     "name": "stderr",
     "output_type": "stream",
     "text": [
      "\n",
      "  3%|██▋                                                                               | 5/150 [00:34<16:31,  6.84s/it]\u001b[A"
     ]
    },
    {
     "name": "stdout",
     "output_type": "stream",
     "text": [
      "[<selenium.webdriver.remote.webelement.WebElement (session=\"9dde711e96f51ab43a9fa71de8b148c0\", element=\"16a72f1d-3860-492e-a5a7-12170c691b87\")>]\n"
     ]
    },
    {
     "name": "stderr",
     "output_type": "stream",
     "text": [
      "\n",
      "  4%|███▎                                                                              | 6/150 [00:41<16:51,  7.02s/it]\u001b[A"
     ]
    },
    {
     "name": "stdout",
     "output_type": "stream",
     "text": [
      "[<selenium.webdriver.remote.webelement.WebElement (session=\"9dde711e96f51ab43a9fa71de8b148c0\", element=\"59ee827e-81f0-4d99-9e20-9a8cd5293f2b\")>]\n"
     ]
    },
    {
     "name": "stderr",
     "output_type": "stream",
     "text": [
      "\n",
      "  5%|███▊                                                                              | 7/150 [00:48<16:43,  7.02s/it]\u001b[A"
     ]
    },
    {
     "name": "stdout",
     "output_type": "stream",
     "text": [
      "[<selenium.webdriver.remote.webelement.WebElement (session=\"9dde711e96f51ab43a9fa71de8b148c0\", element=\"3bc04281-b80a-456f-8fb6-1752f15801d7\")>]\n"
     ]
    },
    {
     "name": "stderr",
     "output_type": "stream",
     "text": [
      "\n",
      "  5%|████▎                                                                             | 8/150 [00:55<16:32,  6.99s/it]\u001b[A"
     ]
    },
    {
     "name": "stdout",
     "output_type": "stream",
     "text": [
      "[<selenium.webdriver.remote.webelement.WebElement (session=\"9dde711e96f51ab43a9fa71de8b148c0\", element=\"b8eebc84-3c2f-4008-a65d-e70d3da6f43e\")>]\n"
     ]
    },
    {
     "name": "stderr",
     "output_type": "stream",
     "text": [
      "\n",
      "  6%|████▉                                                                             | 9/150 [01:01<15:40,  6.67s/it]\u001b[A"
     ]
    },
    {
     "name": "stdout",
     "output_type": "stream",
     "text": [
      "[<selenium.webdriver.remote.webelement.WebElement (session=\"9dde711e96f51ab43a9fa71de8b148c0\", element=\"ceba4e7e-f7db-4518-9ffd-305d78aa9cb8\")>]\n"
     ]
    },
    {
     "name": "stderr",
     "output_type": "stream",
     "text": [
      "\n",
      "  7%|█████▍                                                                           | 10/150 [01:08<15:38,  6.70s/it]\u001b[A"
     ]
    },
    {
     "name": "stdout",
     "output_type": "stream",
     "text": [
      "[<selenium.webdriver.remote.webelement.WebElement (session=\"9dde711e96f51ab43a9fa71de8b148c0\", element=\"e3aead18-4514-4613-abc1-14a9742ba092\")>]\n"
     ]
    },
    {
     "name": "stderr",
     "output_type": "stream",
     "text": [
      "\n",
      "  7%|█████▉                                                                           | 11/150 [01:15<15:46,  6.81s/it]\u001b[A"
     ]
    },
    {
     "name": "stdout",
     "output_type": "stream",
     "text": [
      "[<selenium.webdriver.remote.webelement.WebElement (session=\"9dde711e96f51ab43a9fa71de8b148c0\", element=\"8df3891b-e7b9-4d85-81f8-4ad844a86363\")>]\n"
     ]
    },
    {
     "name": "stderr",
     "output_type": "stream",
     "text": [
      "\n",
      "  8%|██████▍                                                                          | 12/150 [01:21<15:09,  6.59s/it]\u001b[A"
     ]
    },
    {
     "name": "stdout",
     "output_type": "stream",
     "text": [
      "[<selenium.webdriver.remote.webelement.WebElement (session=\"9dde711e96f51ab43a9fa71de8b148c0\", element=\"f792f044-76be-4460-b952-297ead842eff\")>]\n"
     ]
    },
    {
     "name": "stderr",
     "output_type": "stream",
     "text": [
      "\n",
      "  9%|███████                                                                          | 13/150 [01:28<15:14,  6.68s/it]\u001b[A"
     ]
    },
    {
     "name": "stdout",
     "output_type": "stream",
     "text": [
      "[<selenium.webdriver.remote.webelement.WebElement (session=\"9dde711e96f51ab43a9fa71de8b148c0\", element=\"8a3f739a-6c0d-49fb-8438-26d1fe38e03c\")>]\n"
     ]
    },
    {
     "name": "stderr",
     "output_type": "stream",
     "text": [
      "\n",
      "  9%|███████▌                                                                         | 14/150 [01:33<14:34,  6.43s/it]\u001b[A"
     ]
    },
    {
     "name": "stdout",
     "output_type": "stream",
     "text": [
      "[<selenium.webdriver.remote.webelement.WebElement (session=\"9dde711e96f51ab43a9fa71de8b148c0\", element=\"1355991d-815c-457f-a7ca-062db7dd0423\")>]\n"
     ]
    },
    {
     "name": "stderr",
     "output_type": "stream",
     "text": [
      "\n",
      " 10%|████████                                                                         | 15/150 [01:40<14:36,  6.49s/it]\u001b[A"
     ]
    },
    {
     "name": "stdout",
     "output_type": "stream",
     "text": [
      "[<selenium.webdriver.remote.webelement.WebElement (session=\"9dde711e96f51ab43a9fa71de8b148c0\", element=\"93b2d3c9-1fe5-452c-9d84-82361489c237\")>]\n"
     ]
    },
    {
     "name": "stderr",
     "output_type": "stream",
     "text": [
      "\n",
      " 11%|████████▋                                                                        | 16/150 [01:47<14:37,  6.55s/it]\u001b[A"
     ]
    },
    {
     "name": "stdout",
     "output_type": "stream",
     "text": [
      "[<selenium.webdriver.remote.webelement.WebElement (session=\"9dde711e96f51ab43a9fa71de8b148c0\", element=\"0e17f0ba-1c3e-45ac-9a7c-26eb47ec8da3\")>]\n"
     ]
    },
    {
     "name": "stderr",
     "output_type": "stream",
     "text": [
      "\n",
      " 11%|█████████▏                                                                       | 17/150 [01:53<14:31,  6.55s/it]\u001b[A"
     ]
    },
    {
     "name": "stdout",
     "output_type": "stream",
     "text": [
      "[<selenium.webdriver.remote.webelement.WebElement (session=\"9dde711e96f51ab43a9fa71de8b148c0\", element=\"94932de3-f453-4746-b853-7018ae5dd78a\")>]\n"
     ]
    },
    {
     "name": "stderr",
     "output_type": "stream",
     "text": [
      "\n",
      " 12%|█████████▋                                                                       | 18/150 [02:00<14:29,  6.59s/it]\u001b[A"
     ]
    },
    {
     "name": "stdout",
     "output_type": "stream",
     "text": [
      "[<selenium.webdriver.remote.webelement.WebElement (session=\"9dde711e96f51ab43a9fa71de8b148c0\", element=\"5ee94d27-d593-4c90-82f8-22a6c34945aa\")>]\n"
     ]
    },
    {
     "name": "stderr",
     "output_type": "stream",
     "text": [
      "\n",
      " 13%|██████████▎                                                                      | 19/150 [02:07<14:33,  6.67s/it]\u001b[A"
     ]
    },
    {
     "name": "stdout",
     "output_type": "stream",
     "text": [
      "[<selenium.webdriver.remote.webelement.WebElement (session=\"9dde711e96f51ab43a9fa71de8b148c0\", element=\"eded18bb-fde3-4e17-a8ee-b69a7acddf9f\")>]\n"
     ]
    },
    {
     "name": "stderr",
     "output_type": "stream",
     "text": [
      "\n",
      " 13%|██████████▊                                                                      | 20/150 [02:13<14:25,  6.66s/it]\u001b[A"
     ]
    },
    {
     "name": "stdout",
     "output_type": "stream",
     "text": [
      "[<selenium.webdriver.remote.webelement.WebElement (session=\"9dde711e96f51ab43a9fa71de8b148c0\", element=\"d90ed3a5-c3cd-41a6-936c-6ce2fe49f1ef\")>]\n"
     ]
    },
    {
     "name": "stderr",
     "output_type": "stream",
     "text": [
      "\n",
      " 14%|███████████▎                                                                     | 21/150 [02:21<14:31,  6.75s/it]\u001b[A\n",
      " 65%|███████████████████████████████████████████████████▍                           | 43/66 [1:51:46<47:02, 122.73s/it]\n",
      "  0%|                                                                                          | 0/150 [00:00<?, ?it/s]\u001b[A"
     ]
    },
    {
     "name": "stdout",
     "output_type": "stream",
     "text": [
      "[<selenium.webdriver.remote.webelement.WebElement (session=\"9dde711e96f51ab43a9fa71de8b148c0\", element=\"3f3ae49b-d52f-421b-b91c-a48002209127\")>]\n"
     ]
    },
    {
     "name": "stderr",
     "output_type": "stream",
     "text": [
      "\n",
      "  1%|▌                                                                                 | 1/150 [00:06<16:38,  6.70s/it]\u001b[A"
     ]
    },
    {
     "name": "stdout",
     "output_type": "stream",
     "text": [
      "[<selenium.webdriver.remote.webelement.WebElement (session=\"9dde711e96f51ab43a9fa71de8b148c0\", element=\"6f72698c-043b-48bd-8f11-e1494cdd8ae0\")>]\n"
     ]
    },
    {
     "name": "stderr",
     "output_type": "stream",
     "text": [
      "\n",
      "  1%|█                                                                                 | 2/150 [00:13<16:56,  6.87s/it]\u001b[A"
     ]
    },
    {
     "name": "stdout",
     "output_type": "stream",
     "text": [
      "[<selenium.webdriver.remote.webelement.WebElement (session=\"9dde711e96f51ab43a9fa71de8b148c0\", element=\"356b7f86-ccee-4d4f-9f6b-8c993e1c7b91\")>]\n"
     ]
    },
    {
     "name": "stderr",
     "output_type": "stream",
     "text": [
      "\n",
      "  2%|█▋                                                                                | 3/150 [00:20<16:32,  6.75s/it]\u001b[A"
     ]
    },
    {
     "name": "stdout",
     "output_type": "stream",
     "text": [
      "[<selenium.webdriver.remote.webelement.WebElement (session=\"9dde711e96f51ab43a9fa71de8b148c0\", element=\"4434f75c-1147-437c-8ff1-6b8a69426a8c\")>]\n"
     ]
    },
    {
     "name": "stderr",
     "output_type": "stream",
     "text": [
      "\n",
      "  3%|██▏                                                                               | 4/150 [00:26<16:21,  6.72s/it]\u001b[A"
     ]
    },
    {
     "name": "stdout",
     "output_type": "stream",
     "text": [
      "[<selenium.webdriver.remote.webelement.WebElement (session=\"9dde711e96f51ab43a9fa71de8b148c0\", element=\"8b020cba-895c-4a21-94ac-b5bd82b560cd\")>]\n"
     ]
    },
    {
     "name": "stderr",
     "output_type": "stream",
     "text": [
      "\n",
      "  3%|██▋                                                                               | 5/150 [00:33<16:22,  6.78s/it]\u001b[A"
     ]
    },
    {
     "name": "stdout",
     "output_type": "stream",
     "text": [
      "[<selenium.webdriver.remote.webelement.WebElement (session=\"9dde711e96f51ab43a9fa71de8b148c0\", element=\"8ebf0978-65f9-4552-a2f5-9b95ea1ffb06\")>]\n"
     ]
    },
    {
     "name": "stderr",
     "output_type": "stream",
     "text": [
      "\n",
      "  4%|███▎                                                                              | 6/150 [00:40<16:03,  6.69s/it]\u001b[A"
     ]
    },
    {
     "name": "stdout",
     "output_type": "stream",
     "text": [
      "[<selenium.webdriver.remote.webelement.WebElement (session=\"9dde711e96f51ab43a9fa71de8b148c0\", element=\"1f08dfd2-3190-49e5-816a-a7f4434ec5a1\")>]\n"
     ]
    },
    {
     "name": "stderr",
     "output_type": "stream",
     "text": [
      "\n",
      "  5%|███▊                                                                              | 7/150 [00:47<16:10,  6.79s/it]\u001b[A"
     ]
    },
    {
     "name": "stdout",
     "output_type": "stream",
     "text": [
      "[<selenium.webdriver.remote.webelement.WebElement (session=\"9dde711e96f51ab43a9fa71de8b148c0\", element=\"b989c871-6680-4ac9-b483-93831106f1d6\")>]\n"
     ]
    },
    {
     "name": "stderr",
     "output_type": "stream",
     "text": [
      "\n",
      "  5%|████▎                                                                             | 8/150 [00:54<16:06,  6.81s/it]\u001b[A"
     ]
    },
    {
     "name": "stdout",
     "output_type": "stream",
     "text": [
      "[<selenium.webdriver.remote.webelement.WebElement (session=\"9dde711e96f51ab43a9fa71de8b148c0\", element=\"c1a372c4-8091-4f3e-991f-c25d5897b4cc\")>]\n"
     ]
    },
    {
     "name": "stderr",
     "output_type": "stream",
     "text": [
      "\n",
      "  6%|████▉                                                                             | 9/150 [01:01<16:05,  6.85s/it]\u001b[A"
     ]
    },
    {
     "name": "stdout",
     "output_type": "stream",
     "text": [
      "[<selenium.webdriver.remote.webelement.WebElement (session=\"9dde711e96f51ab43a9fa71de8b148c0\", element=\"fc84f8ba-4ae0-4a71-8ea2-a8c051fda072\")>]\n"
     ]
    },
    {
     "name": "stderr",
     "output_type": "stream",
     "text": [
      "\n",
      "  7%|█████▍                                                                           | 10/150 [01:07<15:28,  6.63s/it]\u001b[A"
     ]
    },
    {
     "name": "stdout",
     "output_type": "stream",
     "text": [
      "[<selenium.webdriver.remote.webelement.WebElement (session=\"9dde711e96f51ab43a9fa71de8b148c0\", element=\"01e1e8e1-ed5d-4774-9976-324676062b5e\")>]\n"
     ]
    },
    {
     "name": "stderr",
     "output_type": "stream",
     "text": [
      "\n",
      "  7%|█████▉                                                                           | 11/150 [01:13<14:49,  6.40s/it]\u001b[A"
     ]
    },
    {
     "name": "stdout",
     "output_type": "stream",
     "text": [
      "[<selenium.webdriver.remote.webelement.WebElement (session=\"9dde711e96f51ab43a9fa71de8b148c0\", element=\"19c86cac-d2ed-4bfa-b442-24f6e5e60962\")>]\n"
     ]
    },
    {
     "name": "stderr",
     "output_type": "stream",
     "text": [
      "\n",
      "  8%|██████▍                                                                          | 12/150 [01:19<14:49,  6.45s/it]\u001b[A"
     ]
    },
    {
     "name": "stdout",
     "output_type": "stream",
     "text": [
      "[<selenium.webdriver.remote.webelement.WebElement (session=\"9dde711e96f51ab43a9fa71de8b148c0\", element=\"8dd2f70b-e9b6-42ba-813b-67f450ef67e1\")>]\n"
     ]
    },
    {
     "name": "stderr",
     "output_type": "stream",
     "text": [
      "\n",
      "  9%|███████                                                                          | 13/150 [01:25<14:29,  6.35s/it]\u001b[A"
     ]
    },
    {
     "name": "stdout",
     "output_type": "stream",
     "text": [
      "[<selenium.webdriver.remote.webelement.WebElement (session=\"9dde711e96f51ab43a9fa71de8b148c0\", element=\"3623b2fe-4032-4ea9-bd48-f0b36725f921\")>]\n"
     ]
    },
    {
     "name": "stderr",
     "output_type": "stream",
     "text": [
      "\n",
      "  9%|███████▌                                                                         | 14/150 [01:32<14:39,  6.46s/it]\u001b[A"
     ]
    },
    {
     "name": "stdout",
     "output_type": "stream",
     "text": [
      "[<selenium.webdriver.remote.webelement.WebElement (session=\"9dde711e96f51ab43a9fa71de8b148c0\", element=\"414b654b-dfc2-47ea-82a5-e351fe86e4f9\")>]\n"
     ]
    },
    {
     "name": "stderr",
     "output_type": "stream",
     "text": [
      "\n",
      " 10%|████████                                                                         | 15/150 [01:39<14:48,  6.58s/it]\u001b[A"
     ]
    },
    {
     "name": "stdout",
     "output_type": "stream",
     "text": [
      "[<selenium.webdriver.remote.webelement.WebElement (session=\"9dde711e96f51ab43a9fa71de8b148c0\", element=\"fcd5dc2a-6eda-4b4d-99a5-5b0a42c59ae3\")>]\n"
     ]
    },
    {
     "name": "stderr",
     "output_type": "stream",
     "text": [
      "\n",
      " 11%|████████▋                                                                        | 16/150 [01:46<14:48,  6.63s/it]\u001b[A"
     ]
    },
    {
     "name": "stdout",
     "output_type": "stream",
     "text": [
      "[<selenium.webdriver.remote.webelement.WebElement (session=\"9dde711e96f51ab43a9fa71de8b148c0\", element=\"c1b0a6d7-be58-43bc-a903-21bf22fe9f03\")>]\n"
     ]
    },
    {
     "name": "stderr",
     "output_type": "stream",
     "text": [
      "\n",
      " 11%|█████████▏                                                                       | 17/150 [01:52<14:45,  6.66s/it]\u001b[A"
     ]
    },
    {
     "name": "stdout",
     "output_type": "stream",
     "text": [
      "[<selenium.webdriver.remote.webelement.WebElement (session=\"9dde711e96f51ab43a9fa71de8b148c0\", element=\"92fc01bb-221d-41bb-a8da-8e586d740f30\")>]\n"
     ]
    },
    {
     "name": "stderr",
     "output_type": "stream",
     "text": [
      "\n",
      " 12%|█████████▋                                                                       | 18/150 [01:58<14:06,  6.41s/it]\u001b[A"
     ]
    },
    {
     "name": "stdout",
     "output_type": "stream",
     "text": [
      "[<selenium.webdriver.remote.webelement.WebElement (session=\"9dde711e96f51ab43a9fa71de8b148c0\", element=\"ce061a58-6073-4af8-a24a-a43a90bf51d5\")>]\n"
     ]
    },
    {
     "name": "stderr",
     "output_type": "stream",
     "text": [
      "\n",
      " 13%|██████████▎                                                                      | 19/150 [02:05<14:16,  6.54s/it]\u001b[A"
     ]
    },
    {
     "name": "stdout",
     "output_type": "stream",
     "text": [
      "[<selenium.webdriver.remote.webelement.WebElement (session=\"9dde711e96f51ab43a9fa71de8b148c0\", element=\"1738af4e-b7d9-416b-b09e-af19e0085fd7\")>]\n"
     ]
    },
    {
     "name": "stderr",
     "output_type": "stream",
     "text": [
      "\n",
      " 13%|██████████▊                                                                      | 20/150 [02:12<14:20,  6.62s/it]\u001b[A"
     ]
    },
    {
     "name": "stdout",
     "output_type": "stream",
     "text": [
      "[<selenium.webdriver.remote.webelement.WebElement (session=\"9dde711e96f51ab43a9fa71de8b148c0\", element=\"09f421da-507f-4a4c-9edc-14b6196e93b6\")>]\n"
     ]
    },
    {
     "name": "stderr",
     "output_type": "stream",
     "text": [
      "\n",
      " 14%|███████████▎                                                                     | 21/150 [02:19<14:24,  6.70s/it]\u001b[A"
     ]
    },
    {
     "name": "stdout",
     "output_type": "stream",
     "text": [
      "[<selenium.webdriver.remote.webelement.WebElement (session=\"9dde711e96f51ab43a9fa71de8b148c0\", element=\"e562399c-6158-489f-b5cc-f78d0eff46b8\")>]\n"
     ]
    },
    {
     "name": "stderr",
     "output_type": "stream",
     "text": [
      "\n",
      " 15%|███████████▉                                                                     | 22/150 [02:25<14:17,  6.70s/it]\u001b[A"
     ]
    },
    {
     "name": "stdout",
     "output_type": "stream",
     "text": [
      "[<selenium.webdriver.remote.webelement.WebElement (session=\"9dde711e96f51ab43a9fa71de8b148c0\", element=\"88c832db-daa8-4fc6-9e24-b223ceb565f6\")>]\n"
     ]
    },
    {
     "name": "stderr",
     "output_type": "stream",
     "text": [
      "\n",
      " 15%|████████████▍                                                                    | 23/150 [02:32<14:15,  6.74s/it]\u001b[A"
     ]
    },
    {
     "name": "stdout",
     "output_type": "stream",
     "text": [
      "[<selenium.webdriver.remote.webelement.WebElement (session=\"9dde711e96f51ab43a9fa71de8b148c0\", element=\"44a2cb57-f4a3-435d-ae1a-21944257a63a\")>]\n"
     ]
    },
    {
     "name": "stderr",
     "output_type": "stream",
     "text": [
      "\n",
      " 16%|████████████▉                                                                    | 24/150 [02:39<14:04,  6.70s/it]\u001b[A"
     ]
    },
    {
     "name": "stdout",
     "output_type": "stream",
     "text": [
      "[<selenium.webdriver.remote.webelement.WebElement (session=\"9dde711e96f51ab43a9fa71de8b148c0\", element=\"c093636f-f3f2-428e-9702-6db274efe660\")>]\n"
     ]
    },
    {
     "name": "stderr",
     "output_type": "stream",
     "text": [
      "\n",
      " 17%|█████████████▌                                                                   | 25/150 [02:46<13:58,  6.70s/it]\u001b[A"
     ]
    },
    {
     "name": "stdout",
     "output_type": "stream",
     "text": [
      "[<selenium.webdriver.remote.webelement.WebElement (session=\"9dde711e96f51ab43a9fa71de8b148c0\", element=\"9bb1e29b-1474-4fdd-870d-ca9d2f9697fb\")>]\n"
     ]
    },
    {
     "name": "stderr",
     "output_type": "stream",
     "text": [
      "\n",
      " 17%|██████████████                                                                   | 26/150 [02:52<13:55,  6.74s/it]\u001b[A"
     ]
    },
    {
     "name": "stdout",
     "output_type": "stream",
     "text": [
      "[<selenium.webdriver.remote.webelement.WebElement (session=\"9dde711e96f51ab43a9fa71de8b148c0\", element=\"07e8acba-fe86-455a-942a-b2f109266f5e\")>]\n"
     ]
    },
    {
     "name": "stderr",
     "output_type": "stream",
     "text": [
      "\n",
      " 18%|██████████████▌                                                                  | 27/150 [03:00<14:02,  6.85s/it]\u001b[A"
     ]
    },
    {
     "name": "stdout",
     "output_type": "stream",
     "text": [
      "[<selenium.webdriver.remote.webelement.WebElement (session=\"9dde711e96f51ab43a9fa71de8b148c0\", element=\"ab69b689-b683-4ce7-a00e-d1af1e76d477\")>]\n"
     ]
    },
    {
     "name": "stderr",
     "output_type": "stream",
     "text": [
      "\n",
      " 19%|███████████████                                                                  | 28/150 [03:08<13:40,  6.72s/it]\u001b[A\n",
      " 67%|████████████████████████████████████████████████████▋                          | 44/66 [1:54:54<52:12, 142.38s/it]\n",
      "  0%|                                                                                          | 0/150 [00:00<?, ?it/s]\u001b[A"
     ]
    },
    {
     "name": "stdout",
     "output_type": "stream",
     "text": [
      "[<selenium.webdriver.remote.webelement.WebElement (session=\"9dde711e96f51ab43a9fa71de8b148c0\", element=\"f3ba2568-cab7-4aa0-b8f1-ebbd61a1c425\")>]\n"
     ]
    },
    {
     "name": "stderr",
     "output_type": "stream",
     "text": [
      "\n",
      "  1%|▌                                                                                 | 1/150 [00:06<16:43,  6.74s/it]\u001b[A"
     ]
    },
    {
     "name": "stdout",
     "output_type": "stream",
     "text": [
      "[<selenium.webdriver.remote.webelement.WebElement (session=\"9dde711e96f51ab43a9fa71de8b148c0\", element=\"48602f92-89db-4932-835c-088813c57237\")>]\n"
     ]
    },
    {
     "name": "stderr",
     "output_type": "stream",
     "text": [
      "\n",
      "  1%|█                                                                                 | 2/150 [00:13<16:37,  6.74s/it]\u001b[A"
     ]
    },
    {
     "name": "stdout",
     "output_type": "stream",
     "text": [
      "[<selenium.webdriver.remote.webelement.WebElement (session=\"9dde711e96f51ab43a9fa71de8b148c0\", element=\"a04d6de5-8375-4457-9815-b516259be7e2\")>]\n"
     ]
    },
    {
     "name": "stderr",
     "output_type": "stream",
     "text": [
      "\n",
      "  2%|█▋                                                                                | 3/150 [00:20<16:27,  6.72s/it]\u001b[A"
     ]
    },
    {
     "name": "stdout",
     "output_type": "stream",
     "text": [
      "[<selenium.webdriver.remote.webelement.WebElement (session=\"9dde711e96f51ab43a9fa71de8b148c0\", element=\"667bc754-4b08-44db-8429-a65773c21b5b\")>]\n"
     ]
    },
    {
     "name": "stderr",
     "output_type": "stream",
     "text": [
      "\n",
      "  3%|██▏                                                                               | 4/150 [00:26<16:15,  6.68s/it]\u001b[A"
     ]
    },
    {
     "name": "stdout",
     "output_type": "stream",
     "text": [
      "[<selenium.webdriver.remote.webelement.WebElement (session=\"9dde711e96f51ab43a9fa71de8b148c0\", element=\"6a461e84-b734-4e03-b1c1-a850830adccb\")>]\n"
     ]
    },
    {
     "name": "stderr",
     "output_type": "stream",
     "text": [
      "\n",
      "  3%|██▋                                                                               | 5/150 [00:33<16:10,  6.69s/it]\u001b[A"
     ]
    },
    {
     "name": "stdout",
     "output_type": "stream",
     "text": [
      "[<selenium.webdriver.remote.webelement.WebElement (session=\"9dde711e96f51ab43a9fa71de8b148c0\", element=\"bb20bca3-e026-47a5-85fc-b1242619657d\")>]\n"
     ]
    },
    {
     "name": "stderr",
     "output_type": "stream",
     "text": [
      "\n",
      "  4%|███▎                                                                              | 6/150 [00:40<16:02,  6.69s/it]\u001b[A"
     ]
    },
    {
     "name": "stdout",
     "output_type": "stream",
     "text": [
      "[<selenium.webdriver.remote.webelement.WebElement (session=\"9dde711e96f51ab43a9fa71de8b148c0\", element=\"c3bf9b25-d228-4f05-8429-e04d87ab19ab\")>]\n"
     ]
    },
    {
     "name": "stderr",
     "output_type": "stream",
     "text": [
      "\n",
      "  5%|███▊                                                                              | 7/150 [00:46<15:55,  6.68s/it]\u001b[A"
     ]
    },
    {
     "name": "stdout",
     "output_type": "stream",
     "text": [
      "[<selenium.webdriver.remote.webelement.WebElement (session=\"9dde711e96f51ab43a9fa71de8b148c0\", element=\"1dd65d0c-2b54-4658-8660-ce407b216dd6\")>]\n"
     ]
    },
    {
     "name": "stderr",
     "output_type": "stream",
     "text": [
      "\n",
      "  5%|████▎                                                                             | 8/150 [00:53<15:55,  6.73s/it]\u001b[A"
     ]
    },
    {
     "name": "stdout",
     "output_type": "stream",
     "text": [
      "[<selenium.webdriver.remote.webelement.WebElement (session=\"9dde711e96f51ab43a9fa71de8b148c0\", element=\"f38aba5d-ad4a-4859-8a1f-57e110695fa6\")>]\n"
     ]
    },
    {
     "name": "stderr",
     "output_type": "stream",
     "text": [
      "\n",
      "  6%|████▉                                                                             | 9/150 [00:59<15:14,  6.49s/it]\u001b[A"
     ]
    },
    {
     "name": "stdout",
     "output_type": "stream",
     "text": [
      "[<selenium.webdriver.remote.webelement.WebElement (session=\"9dde711e96f51ab43a9fa71de8b148c0\", element=\"16bb92ee-6cf5-4e1a-8c8b-6d194a05e58e\")>]\n"
     ]
    },
    {
     "name": "stderr",
     "output_type": "stream",
     "text": [
      "\n",
      "  7%|█████▍                                                                           | 10/150 [01:06<15:14,  6.53s/it]\u001b[A"
     ]
    },
    {
     "name": "stdout",
     "output_type": "stream",
     "text": [
      "[<selenium.webdriver.remote.webelement.WebElement (session=\"9dde711e96f51ab43a9fa71de8b148c0\", element=\"6d8bd667-9c3a-45a6-bcfb-02d79623f155\")>]\n"
     ]
    },
    {
     "name": "stderr",
     "output_type": "stream",
     "text": [
      "\n",
      "  7%|█████▉                                                                           | 11/150 [01:13<15:18,  6.61s/it]\u001b[A"
     ]
    },
    {
     "name": "stdout",
     "output_type": "stream",
     "text": [
      "[<selenium.webdriver.remote.webelement.WebElement (session=\"9dde711e96f51ab43a9fa71de8b148c0\", element=\"999394ff-af40-4283-b0ff-5b65f85da558\")>]\n"
     ]
    },
    {
     "name": "stderr",
     "output_type": "stream",
     "text": [
      "\n",
      "  8%|██████▍                                                                          | 12/150 [01:19<15:11,  6.61s/it]\u001b[A\n",
      "  9%|███████                                                                          | 13/150 [01:26<14:59,  6.56s/it]\u001b[A"
     ]
    },
    {
     "name": "stdout",
     "output_type": "stream",
     "text": [
      "[<selenium.webdriver.remote.webelement.WebElement (session=\"9dde711e96f51ab43a9fa71de8b148c0\", element=\"f46a8a87-a248-40f2-b380-46b6203b3e79\")>]\n",
      "[<selenium.webdriver.remote.webelement.WebElement (session=\"9dde711e96f51ab43a9fa71de8b148c0\", element=\"72dae0d3-6344-4027-9667-505e6e32499f\")>]\n"
     ]
    },
    {
     "name": "stderr",
     "output_type": "stream",
     "text": [
      "\n",
      "  9%|███████▌                                                                         | 14/150 [01:32<14:50,  6.55s/it]\u001b[A"
     ]
    },
    {
     "name": "stdout",
     "output_type": "stream",
     "text": [
      "[<selenium.webdriver.remote.webelement.WebElement (session=\"9dde711e96f51ab43a9fa71de8b148c0\", element=\"992d07e0-eb84-4926-bdcf-a22a58c6819c\")>]\n"
     ]
    },
    {
     "name": "stderr",
     "output_type": "stream",
     "text": [
      "\n",
      " 10%|████████                                                                         | 15/150 [01:39<14:48,  6.58s/it]\u001b[A"
     ]
    },
    {
     "name": "stdout",
     "output_type": "stream",
     "text": [
      "[<selenium.webdriver.remote.webelement.WebElement (session=\"9dde711e96f51ab43a9fa71de8b148c0\", element=\"91c8c625-f9f8-473a-820e-e5b8853062ae\")>]\n"
     ]
    },
    {
     "name": "stderr",
     "output_type": "stream",
     "text": [
      "\n",
      " 11%|████████▋                                                                        | 16/150 [01:47<14:59,  6.71s/it]\u001b[A\n",
      " 68%|█████████████████████████████████████████████████████▊                         | 45/66 [1:56:42<46:09, 131.88s/it]\n",
      "  0%|                                                                                          | 0/150 [00:00<?, ?it/s]\u001b[A"
     ]
    },
    {
     "name": "stdout",
     "output_type": "stream",
     "text": [
      "[<selenium.webdriver.remote.webelement.WebElement (session=\"9dde711e96f51ab43a9fa71de8b148c0\", element=\"92b721af-ad7e-45c0-b7dd-1b834a80d6dc\")>]\n"
     ]
    },
    {
     "name": "stderr",
     "output_type": "stream",
     "text": [
      "\n",
      "  1%|▌                                                                                 | 1/150 [00:05<14:42,  5.92s/it]\u001b[A"
     ]
    },
    {
     "name": "stdout",
     "output_type": "stream",
     "text": [
      "[<selenium.webdriver.remote.webelement.WebElement (session=\"9dde711e96f51ab43a9fa71de8b148c0\", element=\"04f9cfa8-a6eb-4991-92fe-f884b2e5eab3\")>]\n"
     ]
    },
    {
     "name": "stderr",
     "output_type": "stream",
     "text": [
      "\n",
      "  1%|█                                                                                 | 2/150 [00:12<15:28,  6.27s/it]\u001b[A"
     ]
    },
    {
     "name": "stdout",
     "output_type": "stream",
     "text": [
      "[<selenium.webdriver.remote.webelement.WebElement (session=\"9dde711e96f51ab43a9fa71de8b148c0\", element=\"4052ca90-d695-4adf-9dac-9607ae489e83\")>]\n"
     ]
    },
    {
     "name": "stderr",
     "output_type": "stream",
     "text": [
      "\n",
      "  2%|█▋                                                                                | 3/150 [00:19<15:52,  6.48s/it]\u001b[A"
     ]
    },
    {
     "name": "stdout",
     "output_type": "stream",
     "text": [
      "[<selenium.webdriver.remote.webelement.WebElement (session=\"9dde711e96f51ab43a9fa71de8b148c0\", element=\"1f7c932f-dca1-4d94-817c-0765184bdaf7\")>]\n"
     ]
    },
    {
     "name": "stderr",
     "output_type": "stream",
     "text": [
      "\n",
      "  3%|██▏                                                                               | 4/150 [00:25<15:58,  6.56s/it]\u001b[A\n",
      "  3%|██▋                                                                               | 5/150 [00:32<15:56,  6.60s/it]\u001b[A"
     ]
    },
    {
     "name": "stdout",
     "output_type": "stream",
     "text": [
      "[<selenium.webdriver.remote.webelement.WebElement (session=\"9dde711e96f51ab43a9fa71de8b148c0\", element=\"f3492528-9955-439d-8114-6ece5d82e8f3\")>]\n",
      "[<selenium.webdriver.remote.webelement.WebElement (session=\"9dde711e96f51ab43a9fa71de8b148c0\", element=\"21eccd68-b0fa-4c69-9b58-860eda8fd6d3\")>]\n"
     ]
    },
    {
     "name": "stderr",
     "output_type": "stream",
     "text": [
      "\n",
      "  4%|███▎                                                                              | 6/150 [00:38<14:58,  6.24s/it]\u001b[A"
     ]
    },
    {
     "name": "stdout",
     "output_type": "stream",
     "text": [
      "[<selenium.webdriver.remote.webelement.WebElement (session=\"9dde711e96f51ab43a9fa71de8b148c0\", element=\"236aa4f6-1328-496e-a46e-16b87822cec9\")>]\n"
     ]
    },
    {
     "name": "stderr",
     "output_type": "stream",
     "text": [
      "\n",
      "  5%|███▊                                                                              | 7/150 [00:44<15:21,  6.44s/it]\u001b[A\n",
      "  5%|████▎                                                                             | 8/150 [00:51<15:12,  6.43s/it]\u001b[A"
     ]
    },
    {
     "name": "stdout",
     "output_type": "stream",
     "text": [
      "[<selenium.webdriver.remote.webelement.WebElement (session=\"9dde711e96f51ab43a9fa71de8b148c0\", element=\"52bea8fb-8f2e-4945-a5ff-697a5611ec96\")>]\n",
      "[<selenium.webdriver.remote.webelement.WebElement (session=\"9dde711e96f51ab43a9fa71de8b148c0\", element=\"4e7ccef5-4d16-4f35-b60e-efab305b50be\")>]\n"
     ]
    },
    {
     "name": "stderr",
     "output_type": "stream",
     "text": [
      "\n",
      "  6%|████▉                                                                             | 9/150 [00:57<15:14,  6.49s/it]\u001b[A"
     ]
    },
    {
     "name": "stdout",
     "output_type": "stream",
     "text": [
      "[<selenium.webdriver.remote.webelement.WebElement (session=\"9dde711e96f51ab43a9fa71de8b148c0\", element=\"48df25fb-a9bb-4dbe-8509-d77aae7cf694\")>]\n"
     ]
    },
    {
     "name": "stderr",
     "output_type": "stream",
     "text": [
      "\n",
      "  7%|█████▍                                                                           | 10/150 [01:04<15:26,  6.62s/it]\u001b[A"
     ]
    },
    {
     "name": "stdout",
     "output_type": "stream",
     "text": [
      "[<selenium.webdriver.remote.webelement.WebElement (session=\"9dde711e96f51ab43a9fa71de8b148c0\", element=\"84f83073-49d5-46d3-8738-01c8af2732be\")>]\n"
     ]
    },
    {
     "name": "stderr",
     "output_type": "stream",
     "text": [
      "\n",
      "  7%|█████▉                                                                           | 11/150 [01:11<15:24,  6.65s/it]\u001b[A"
     ]
    },
    {
     "name": "stdout",
     "output_type": "stream",
     "text": [
      "[<selenium.webdriver.remote.webelement.WebElement (session=\"9dde711e96f51ab43a9fa71de8b148c0\", element=\"9237aa42-8040-4e50-b5a4-2e35b9d15a7f\")>]\n"
     ]
    },
    {
     "name": "stderr",
     "output_type": "stream",
     "text": [
      "\n",
      "  8%|██████▍                                                                          | 12/150 [01:17<14:46,  6.43s/it]\u001b[A\n"
     ]
    },
    {
     "name": "stdout",
     "output_type": "stream",
     "text": [
      "[<selenium.webdriver.remote.webelement.WebElement (session=\"9dde711e96f51ab43a9fa71de8b148c0\", element=\"e7d5a803-ab2f-41cf-8c29-2babd754916a\")>]\n"
     ]
    },
    {
     "name": "stderr",
     "output_type": "stream",
     "text": [
      "  9%|███████                                                                          | 13/150 [01:24<14:44,  6.46s/it]\u001b[A"
     ]
    },
    {
     "name": "stdout",
     "output_type": "stream",
     "text": [
      "[<selenium.webdriver.remote.webelement.WebElement (session=\"9dde711e96f51ab43a9fa71de8b148c0\", element=\"99d72be9-7af7-45de-8c99-05112bf6fc61\")>]\n"
     ]
    },
    {
     "name": "stderr",
     "output_type": "stream",
     "text": [
      "\n",
      "  9%|███████▌                                                                         | 14/150 [01:30<14:53,  6.57s/it]\u001b[A"
     ]
    },
    {
     "name": "stdout",
     "output_type": "stream",
     "text": [
      "[<selenium.webdriver.remote.webelement.WebElement (session=\"9dde711e96f51ab43a9fa71de8b148c0\", element=\"edae89bf-5969-4b61-b5cc-51600184f2e9\")>]\n"
     ]
    },
    {
     "name": "stderr",
     "output_type": "stream",
     "text": [
      "\n",
      " 10%|████████                                                                         | 15/150 [01:37<14:36,  6.49s/it]\u001b[A"
     ]
    },
    {
     "name": "stdout",
     "output_type": "stream",
     "text": [
      "[<selenium.webdriver.remote.webelement.WebElement (session=\"9dde711e96f51ab43a9fa71de8b148c0\", element=\"622a4928-4ec8-4e50-a900-09a5fba995fc\")>]\n"
     ]
    },
    {
     "name": "stderr",
     "output_type": "stream",
     "text": [
      "\n",
      " 11%|████████▋                                                                        | 16/150 [01:45<14:41,  6.58s/it]\u001b[A\n",
      " 70%|███████████████████████████████████████████████████████                        | 46/66 [1:58:27<41:17, 123.89s/it]\n",
      "  0%|                                                                                          | 0/150 [00:00<?, ?it/s]\u001b[A"
     ]
    },
    {
     "name": "stdout",
     "output_type": "stream",
     "text": [
      "[<selenium.webdriver.remote.webelement.WebElement (session=\"9dde711e96f51ab43a9fa71de8b148c0\", element=\"a601d7b9-7fc2-422d-91c1-ba94a9bf3334\")>]\n"
     ]
    },
    {
     "name": "stderr",
     "output_type": "stream",
     "text": [
      "\n",
      "  1%|▌                                                                                 | 1/150 [00:06<16:31,  6.66s/it]\u001b[A\n"
     ]
    },
    {
     "name": "stdout",
     "output_type": "stream",
     "text": [
      "[<selenium.webdriver.remote.webelement.WebElement (session=\"9dde711e96f51ab43a9fa71de8b148c0\", element=\"d9a9aa2c-8964-4b8f-ae75-e85ff14b24c3\")>]\n"
     ]
    },
    {
     "name": "stderr",
     "output_type": "stream",
     "text": [
      "  1%|█                                                                                 | 2/150 [00:12<15:14,  6.18s/it]\u001b[A"
     ]
    },
    {
     "name": "stdout",
     "output_type": "stream",
     "text": [
      "[<selenium.webdriver.remote.webelement.WebElement (session=\"9dde711e96f51ab43a9fa71de8b148c0\", element=\"d5b0063d-2728-474c-b685-7d9b45110ab6\")>]\n"
     ]
    },
    {
     "name": "stderr",
     "output_type": "stream",
     "text": [
      "\n",
      "  2%|█▋                                                                                | 3/150 [00:19<15:35,  6.36s/it]\u001b[A"
     ]
    },
    {
     "name": "stdout",
     "output_type": "stream",
     "text": [
      "[<selenium.webdriver.remote.webelement.WebElement (session=\"9dde711e96f51ab43a9fa71de8b148c0\", element=\"9430337a-b4aa-4e44-be98-5a20e863f6f2\")>]\n"
     ]
    },
    {
     "name": "stderr",
     "output_type": "stream",
     "text": [
      "\n",
      "  3%|██▏                                                                               | 4/150 [00:25<15:44,  6.47s/it]\u001b[A"
     ]
    },
    {
     "name": "stdout",
     "output_type": "stream",
     "text": [
      "[<selenium.webdriver.remote.webelement.WebElement (session=\"9dde711e96f51ab43a9fa71de8b148c0\", element=\"4fd7d25f-d620-4d90-bed8-93d833464d8f\")>]\n"
     ]
    },
    {
     "name": "stderr",
     "output_type": "stream",
     "text": [
      "\n",
      "  3%|██▋                                                                               | 5/150 [00:32<15:48,  6.54s/it]\u001b[A"
     ]
    },
    {
     "name": "stdout",
     "output_type": "stream",
     "text": [
      "[<selenium.webdriver.remote.webelement.WebElement (session=\"9dde711e96f51ab43a9fa71de8b148c0\", element=\"7d983f9b-94d6-4f22-8527-0c8d7f071fca\")>]\n"
     ]
    },
    {
     "name": "stderr",
     "output_type": "stream",
     "text": [
      "\n",
      "  4%|███▎                                                                              | 6/150 [00:39<15:46,  6.57s/it]\u001b[A"
     ]
    },
    {
     "name": "stdout",
     "output_type": "stream",
     "text": [
      "[<selenium.webdriver.remote.webelement.WebElement (session=\"9dde711e96f51ab43a9fa71de8b148c0\", element=\"65c49228-c239-40d8-86dc-e7bb65603bfb\")>]\n"
     ]
    },
    {
     "name": "stderr",
     "output_type": "stream",
     "text": [
      "\n",
      "  5%|███▊                                                                              | 7/150 [00:45<15:45,  6.61s/it]\u001b[A"
     ]
    },
    {
     "name": "stdout",
     "output_type": "stream",
     "text": [
      "[<selenium.webdriver.remote.webelement.WebElement (session=\"9dde711e96f51ab43a9fa71de8b148c0\", element=\"d1cbe93e-80a9-493b-8694-b590134ff2cf\")>]\n"
     ]
    },
    {
     "name": "stderr",
     "output_type": "stream",
     "text": [
      "\n",
      "  5%|████▎                                                                             | 8/150 [00:52<15:38,  6.61s/it]\u001b[A"
     ]
    },
    {
     "name": "stdout",
     "output_type": "stream",
     "text": [
      "[<selenium.webdriver.remote.webelement.WebElement (session=\"9dde711e96f51ab43a9fa71de8b148c0\", element=\"45266660-e8b7-4f73-811a-520aece5d460\")>]\n"
     ]
    },
    {
     "name": "stderr",
     "output_type": "stream",
     "text": [
      "\n",
      "  6%|████▉                                                                             | 9/150 [00:58<14:57,  6.37s/it]\u001b[A"
     ]
    },
    {
     "name": "stdout",
     "output_type": "stream",
     "text": [
      "[<selenium.webdriver.remote.webelement.WebElement (session=\"9dde711e96f51ab43a9fa71de8b148c0\", element=\"a4be968e-b09d-4f7c-a84b-01fd614aefef\")>]\n"
     ]
    },
    {
     "name": "stderr",
     "output_type": "stream",
     "text": [
      "\n",
      "  7%|█████▍                                                                           | 10/150 [01:03<14:27,  6.20s/it]\u001b[A"
     ]
    },
    {
     "name": "stdout",
     "output_type": "stream",
     "text": [
      "[<selenium.webdriver.remote.webelement.WebElement (session=\"9dde711e96f51ab43a9fa71de8b148c0\", element=\"36f83be8-00b9-4197-acc8-e957744b6dc7\")>]\n"
     ]
    },
    {
     "name": "stderr",
     "output_type": "stream",
     "text": [
      "\n",
      "  7%|█████▉                                                                           | 11/150 [01:10<14:46,  6.38s/it]\u001b[A"
     ]
    },
    {
     "name": "stdout",
     "output_type": "stream",
     "text": [
      "[<selenium.webdriver.remote.webelement.WebElement (session=\"9dde711e96f51ab43a9fa71de8b148c0\", element=\"9a89a0fc-2ef3-4576-a177-4952347aa535\")>]\n"
     ]
    },
    {
     "name": "stderr",
     "output_type": "stream",
     "text": [
      "\n",
      "  8%|██████▍                                                                          | 12/150 [01:17<14:47,  6.43s/it]\u001b[A\n"
     ]
    },
    {
     "name": "stdout",
     "output_type": "stream",
     "text": [
      "[<selenium.webdriver.remote.webelement.WebElement (session=\"9dde711e96f51ab43a9fa71de8b148c0\", element=\"cb8bc141-4c02-4c3b-84f7-9550756ee197\")>]\n"
     ]
    },
    {
     "name": "stderr",
     "output_type": "stream",
     "text": [
      "  9%|███████                                                                          | 13/150 [01:24<14:49,  6.49s/it]\u001b[A\n",
      " 71%|████████████████████████████████████████████████████████▎                      | 47/66 [1:59:51<35:28, 112.03s/it]\n",
      "  0%|                                                                                          | 0/150 [00:00<?, ?it/s]\u001b[A"
     ]
    },
    {
     "name": "stdout",
     "output_type": "stream",
     "text": [
      "[<selenium.webdriver.remote.webelement.WebElement (session=\"9dde711e96f51ab43a9fa71de8b148c0\", element=\"c2015e62-cb96-4cc3-b2d0-5058d4aea665\")>]\n"
     ]
    },
    {
     "name": "stderr",
     "output_type": "stream",
     "text": [
      "\n",
      "  1%|▌                                                                                 | 1/150 [00:05<14:39,  5.90s/it]\u001b[A"
     ]
    },
    {
     "name": "stdout",
     "output_type": "stream",
     "text": [
      "[<selenium.webdriver.remote.webelement.WebElement (session=\"9dde711e96f51ab43a9fa71de8b148c0\", element=\"2175a20d-79e6-4dc3-b126-138d224c36d5\")>]\n"
     ]
    },
    {
     "name": "stderr",
     "output_type": "stream",
     "text": [
      "\n",
      "  1%|█                                                                                 | 2/150 [00:12<16:04,  6.52s/it]\u001b[A"
     ]
    },
    {
     "name": "stdout",
     "output_type": "stream",
     "text": [
      "[<selenium.webdriver.remote.webelement.WebElement (session=\"9dde711e96f51ab43a9fa71de8b148c0\", element=\"0702be56-34d1-46f2-ae5f-8726929a8207\")>]\n"
     ]
    },
    {
     "name": "stderr",
     "output_type": "stream",
     "text": [
      "\n",
      "  2%|█▋                                                                                | 3/150 [00:19<16:26,  6.71s/it]\u001b[A"
     ]
    },
    {
     "name": "stdout",
     "output_type": "stream",
     "text": [
      "[<selenium.webdriver.remote.webelement.WebElement (session=\"9dde711e96f51ab43a9fa71de8b148c0\", element=\"6b6c077b-3808-4236-959e-8a46eacc9399\")>]\n"
     ]
    },
    {
     "name": "stderr",
     "output_type": "stream",
     "text": [
      "\n",
      "  3%|██▏                                                                               | 4/150 [00:26<16:27,  6.76s/it]\u001b[A"
     ]
    },
    {
     "name": "stdout",
     "output_type": "stream",
     "text": [
      "[<selenium.webdriver.remote.webelement.WebElement (session=\"9dde711e96f51ab43a9fa71de8b148c0\", element=\"ce1d5c38-25c5-4466-853a-017629196629\")>]\n"
     ]
    },
    {
     "name": "stderr",
     "output_type": "stream",
     "text": [
      "\n",
      "  3%|██▋                                                                               | 5/150 [00:33<16:15,  6.73s/it]\u001b[A"
     ]
    },
    {
     "name": "stdout",
     "output_type": "stream",
     "text": [
      "[<selenium.webdriver.remote.webelement.WebElement (session=\"9dde711e96f51ab43a9fa71de8b148c0\", element=\"9a87b82c-c64f-416c-8f42-db7b12b2bb62\")>]\n"
     ]
    },
    {
     "name": "stderr",
     "output_type": "stream",
     "text": [
      "\n",
      "  4%|███▎                                                                              | 6/150 [00:40<16:09,  6.73s/it]\u001b[A\n",
      " 73%|██████████████████████████████████████████████████████████▏                     | 48/66 [2:00:32<27:09, 90.54s/it]\n",
      "  0%|                                                                                          | 0/150 [00:00<?, ?it/s]\u001b[A"
     ]
    },
    {
     "name": "stdout",
     "output_type": "stream",
     "text": [
      "[<selenium.webdriver.remote.webelement.WebElement (session=\"9dde711e96f51ab43a9fa71de8b148c0\", element=\"6249b966-61b0-4b1d-9622-061f21b470e4\")>]\n"
     ]
    },
    {
     "name": "stderr",
     "output_type": "stream",
     "text": [
      "\n",
      "  1%|▌                                                                                 | 1/150 [00:06<16:25,  6.61s/it]\u001b[A"
     ]
    },
    {
     "name": "stdout",
     "output_type": "stream",
     "text": [
      "[<selenium.webdriver.remote.webelement.WebElement (session=\"9dde711e96f51ab43a9fa71de8b148c0\", element=\"31f25c37-1a83-4c13-ac21-352529b919ae\")>]\n"
     ]
    },
    {
     "name": "stderr",
     "output_type": "stream",
     "text": [
      "\n",
      "  1%|█                                                                                 | 2/150 [00:13<16:15,  6.59s/it]\u001b[A"
     ]
    },
    {
     "name": "stdout",
     "output_type": "stream",
     "text": [
      "[<selenium.webdriver.remote.webelement.WebElement (session=\"9dde711e96f51ab43a9fa71de8b148c0\", element=\"633f053a-aa3a-447c-a966-fbf654cb249d\")>]\n"
     ]
    },
    {
     "name": "stderr",
     "output_type": "stream",
     "text": [
      "\n",
      "  2%|█▋                                                                                | 3/150 [00:19<16:15,  6.64s/it]\u001b[A"
     ]
    },
    {
     "name": "stdout",
     "output_type": "stream",
     "text": [
      "[<selenium.webdriver.remote.webelement.WebElement (session=\"9dde711e96f51ab43a9fa71de8b148c0\", element=\"f9d19ce5-6089-4268-b47e-c97418ba2fef\")>]\n"
     ]
    },
    {
     "name": "stderr",
     "output_type": "stream",
     "text": [
      "\n",
      "  3%|██▏                                                                               | 4/150 [00:26<16:09,  6.64s/it]\u001b[A"
     ]
    },
    {
     "name": "stdout",
     "output_type": "stream",
     "text": [
      "[<selenium.webdriver.remote.webelement.WebElement (session=\"9dde711e96f51ab43a9fa71de8b148c0\", element=\"eb264d08-645c-4cd1-bd64-8488f030bc34\")>]\n"
     ]
    },
    {
     "name": "stderr",
     "output_type": "stream",
     "text": [
      "\n",
      "  3%|██▋                                                                               | 5/150 [00:33<16:05,  6.66s/it]\u001b[A"
     ]
    },
    {
     "name": "stdout",
     "output_type": "stream",
     "text": [
      "[<selenium.webdriver.remote.webelement.WebElement (session=\"9dde711e96f51ab43a9fa71de8b148c0\", element=\"998dcd3d-b4f9-4164-84ad-3a6fd27e101a\")>]\n"
     ]
    },
    {
     "name": "stderr",
     "output_type": "stream",
     "text": [
      "\n",
      "  4%|███▎                                                                              | 6/150 [00:41<16:26,  6.85s/it]\u001b[A\n",
      " 74%|███████████████████████████████████████████████████████████▍                    | 49/66 [2:01:13<21:27, 75.71s/it]\n",
      "  0%|                                                                                          | 0/150 [00:00<?, ?it/s]\u001b[A"
     ]
    },
    {
     "name": "stdout",
     "output_type": "stream",
     "text": [
      "[<selenium.webdriver.remote.webelement.WebElement (session=\"9dde711e96f51ab43a9fa71de8b148c0\", element=\"8c8c20f9-42d7-4f5e-a9fb-984f45e0c8d6\")>]\n"
     ]
    },
    {
     "name": "stderr",
     "output_type": "stream",
     "text": [
      "\n",
      "  1%|▌                                                                                 | 1/150 [00:06<16:31,  6.65s/it]\u001b[A"
     ]
    },
    {
     "name": "stdout",
     "output_type": "stream",
     "text": [
      "[<selenium.webdriver.remote.webelement.WebElement (session=\"9dde711e96f51ab43a9fa71de8b148c0\", element=\"3f83b07d-9610-40e3-bd69-ca590627265a\")>]\n"
     ]
    },
    {
     "name": "stderr",
     "output_type": "stream",
     "text": [
      "\n",
      "  1%|█                                                                                 | 2/150 [00:13<16:37,  6.74s/it]\u001b[A"
     ]
    },
    {
     "name": "stdout",
     "output_type": "stream",
     "text": [
      "[<selenium.webdriver.remote.webelement.WebElement (session=\"9dde711e96f51ab43a9fa71de8b148c0\", element=\"c31d3247-51cf-4b4a-a925-976e18edc7fe\")>]\n"
     ]
    },
    {
     "name": "stderr",
     "output_type": "stream",
     "text": [
      "\n",
      "  2%|█▋                                                                                | 3/150 [00:19<15:31,  6.34s/it]\u001b[A"
     ]
    },
    {
     "name": "stdout",
     "output_type": "stream",
     "text": [
      "[<selenium.webdriver.remote.webelement.WebElement (session=\"9dde711e96f51ab43a9fa71de8b148c0\", element=\"ceb2177f-67a4-48bd-b8c8-495ad909ccdf\")>]\n"
     ]
    },
    {
     "name": "stderr",
     "output_type": "stream",
     "text": [
      "\n",
      "  3%|██▏                                                                               | 4/150 [00:27<16:34,  6.81s/it]\u001b[A\n",
      " 76%|████████████████████████████████████████████████████████████▌                   | 50/66 [2:01:40<16:18, 61.18s/it]\n",
      "  0%|                                                                                          | 0/150 [00:00<?, ?it/s]\u001b[A"
     ]
    },
    {
     "name": "stdout",
     "output_type": "stream",
     "text": [
      "[<selenium.webdriver.remote.webelement.WebElement (session=\"9dde711e96f51ab43a9fa71de8b148c0\", element=\"a56b1ba4-0378-47da-a453-f2c56f3124af\")>]\n"
     ]
    },
    {
     "name": "stderr",
     "output_type": "stream",
     "text": [
      "\n",
      "  1%|▌                                                                                 | 1/150 [00:06<16:40,  6.72s/it]\u001b[A"
     ]
    },
    {
     "name": "stdout",
     "output_type": "stream",
     "text": [
      "[<selenium.webdriver.remote.webelement.WebElement (session=\"9dde711e96f51ab43a9fa71de8b148c0\", element=\"a16f6c24-d231-4509-998b-df78331c62fb\")>]\n"
     ]
    },
    {
     "name": "stderr",
     "output_type": "stream",
     "text": [
      "\n",
      "  1%|█                                                                                 | 2/150 [00:13<16:33,  6.71s/it]\u001b[A"
     ]
    },
    {
     "name": "stdout",
     "output_type": "stream",
     "text": [
      "[<selenium.webdriver.remote.webelement.WebElement (session=\"9dde711e96f51ab43a9fa71de8b148c0\", element=\"c3c91daf-f9f3-4089-8533-71c7f7b490cb\")>]\n"
     ]
    },
    {
     "name": "stderr",
     "output_type": "stream",
     "text": [
      "\n",
      "  2%|█▋                                                                                | 3/150 [00:20<16:18,  6.66s/it]\u001b[A"
     ]
    },
    {
     "name": "stdout",
     "output_type": "stream",
     "text": [
      "[<selenium.webdriver.remote.webelement.WebElement (session=\"9dde711e96f51ab43a9fa71de8b148c0\", element=\"a6404010-6a7d-4ec2-9aa6-c969f9e3d045\")>]\n"
     ]
    },
    {
     "name": "stderr",
     "output_type": "stream",
     "text": [
      "\n",
      "  3%|██▏                                                                               | 4/150 [00:27<16:54,  6.95s/it]\u001b[A\n",
      " 77%|█████████████████████████████████████████████████████████████▊                  | 51/66 [2:02:08<12:47, 51.17s/it]\n",
      "  0%|                                                                                          | 0/150 [00:00<?, ?it/s]\u001b[A\n",
      "  1%|▌                                                                                 | 1/150 [00:06<16:05,  6.48s/it]\u001b[A"
     ]
    },
    {
     "name": "stdout",
     "output_type": "stream",
     "text": [
      "[<selenium.webdriver.remote.webelement.WebElement (session=\"9dde711e96f51ab43a9fa71de8b148c0\", element=\"0d4eac78-03f6-4714-80d5-5805facec352\")>]\n",
      "[<selenium.webdriver.remote.webelement.WebElement (session=\"9dde711e96f51ab43a9fa71de8b148c0\", element=\"7558b3ba-ee0f-426c-9249-a4c5e916d6b9\")>]\n"
     ]
    },
    {
     "name": "stderr",
     "output_type": "stream",
     "text": [
      "\n",
      "  1%|█                                                                                 | 2/150 [00:13<16:20,  6.62s/it]\u001b[A\n",
      "  2%|█▋                                                                                | 3/150 [00:19<16:15,  6.63s/it]\u001b[A"
     ]
    },
    {
     "name": "stdout",
     "output_type": "stream",
     "text": [
      "[<selenium.webdriver.remote.webelement.WebElement (session=\"9dde711e96f51ab43a9fa71de8b148c0\", element=\"f29e6297-4f62-4ea5-9efe-f330b45839bd\")>]\n",
      "[<selenium.webdriver.remote.webelement.WebElement (session=\"9dde711e96f51ab43a9fa71de8b148c0\", element=\"b3065898-0972-45aa-916d-0f2d20889d4a\")>]\n"
     ]
    },
    {
     "name": "stderr",
     "output_type": "stream",
     "text": [
      "\n",
      "  3%|██▏                                                                               | 4/150 [00:26<16:10,  6.65s/it]\u001b[A"
     ]
    },
    {
     "name": "stdout",
     "output_type": "stream",
     "text": [
      "[<selenium.webdriver.remote.webelement.WebElement (session=\"9dde711e96f51ab43a9fa71de8b148c0\", element=\"c0add047-4c39-46b6-b6e6-b014ea749cd7\")>]\n"
     ]
    },
    {
     "name": "stderr",
     "output_type": "stream",
     "text": [
      "\n",
      "  3%|██▋                                                                               | 5/150 [00:34<16:40,  6.90s/it]\u001b[A\n",
      " 79%|███████████████████████████████████████████████████████████████                 | 52/66 [2:02:43<10:46, 46.17s/it]\n",
      "  0%|                                                                                          | 0/150 [00:00<?, ?it/s]\u001b[A\n",
      "  1%|▌                                                                                 | 1/150 [00:06<16:07,  6.49s/it]\u001b[A"
     ]
    },
    {
     "name": "stdout",
     "output_type": "stream",
     "text": [
      "[<selenium.webdriver.remote.webelement.WebElement (session=\"9dde711e96f51ab43a9fa71de8b148c0\", element=\"6f80a5fa-14bd-4fef-b7fb-2e58906400a9\")>]\n",
      "[<selenium.webdriver.remote.webelement.WebElement (session=\"9dde711e96f51ab43a9fa71de8b148c0\", element=\"cec71627-8eae-47e5-a922-38ff98260a14\")>]\n"
     ]
    },
    {
     "name": "stderr",
     "output_type": "stream",
     "text": [
      "\n",
      "  1%|█                                                                                 | 2/150 [00:13<16:11,  6.56s/it]\u001b[A"
     ]
    },
    {
     "name": "stdout",
     "output_type": "stream",
     "text": [
      "[<selenium.webdriver.remote.webelement.WebElement (session=\"9dde711e96f51ab43a9fa71de8b148c0\", element=\"8f554b4b-a57d-4f6e-9204-492109178ff7\")>]\n"
     ]
    },
    {
     "name": "stderr",
     "output_type": "stream",
     "text": [
      "\n",
      "  2%|█▋                                                                                | 3/150 [00:21<17:12,  7.03s/it]\u001b[A\n",
      " 80%|████████████████████████████████████████████████████████████████▏               | 53/66 [2:03:04<08:22, 38.64s/it]\n",
      "  0%|                                                                                          | 0/150 [00:00<?, ?it/s]\u001b[A"
     ]
    },
    {
     "name": "stdout",
     "output_type": "stream",
     "text": [
      "[<selenium.webdriver.remote.webelement.WebElement (session=\"9dde711e96f51ab43a9fa71de8b148c0\", element=\"b031a5df-0fc1-49a8-9272-426036aa9747\")>]\n"
     ]
    },
    {
     "name": "stderr",
     "output_type": "stream",
     "text": [
      "\n",
      "  1%|▌                                                                                 | 1/150 [00:06<16:28,  6.63s/it]\u001b[A\n"
     ]
    },
    {
     "name": "stdout",
     "output_type": "stream",
     "text": [
      "[<selenium.webdriver.remote.webelement.WebElement (session=\"9dde711e96f51ab43a9fa71de8b148c0\", element=\"c0426845-4a3b-4585-9922-d951e87b8ece\")>]\n"
     ]
    },
    {
     "name": "stderr",
     "output_type": "stream",
     "text": [
      "  1%|█                                                                                 | 2/150 [00:13<16:25,  6.66s/it]\u001b[A"
     ]
    },
    {
     "name": "stdout",
     "output_type": "stream",
     "text": [
      "[<selenium.webdriver.remote.webelement.WebElement (session=\"9dde711e96f51ab43a9fa71de8b148c0\", element=\"70798eb2-c127-48ed-9011-b1ab62b982ae\")>]\n"
     ]
    },
    {
     "name": "stderr",
     "output_type": "stream",
     "text": [
      "\n",
      "  2%|█▋                                                                                | 3/150 [00:19<16:19,  6.67s/it]\u001b[A\n"
     ]
    },
    {
     "name": "stdout",
     "output_type": "stream",
     "text": [
      "[<selenium.webdriver.remote.webelement.WebElement (session=\"9dde711e96f51ab43a9fa71de8b148c0\", element=\"54a79817-84a4-449b-9a4f-6d1e765e0993\")>]\n"
     ]
    },
    {
     "name": "stderr",
     "output_type": "stream",
     "text": [
      "  3%|██▏                                                                               | 4/150 [00:25<15:25,  6.34s/it]\u001b[A"
     ]
    },
    {
     "name": "stdout",
     "output_type": "stream",
     "text": [
      "[<selenium.webdriver.remote.webelement.WebElement (session=\"9dde711e96f51ab43a9fa71de8b148c0\", element=\"1d5ae595-3993-44e7-a480-a3abf12148e1\")>]\n"
     ]
    },
    {
     "name": "stderr",
     "output_type": "stream",
     "text": [
      "\n",
      "  3%|██▋                                                                               | 5/150 [00:31<14:57,  6.19s/it]\u001b[A"
     ]
    },
    {
     "name": "stdout",
     "output_type": "stream",
     "text": [
      "[<selenium.webdriver.remote.webelement.WebElement (session=\"9dde711e96f51ab43a9fa71de8b148c0\", element=\"60f70710-b224-460c-af86-a5425cbff206\")>]\n"
     ]
    },
    {
     "name": "stderr",
     "output_type": "stream",
     "text": [
      "\n",
      "  4%|███▎                                                                              | 6/150 [00:39<15:51,  6.61s/it]\u001b[A\n",
      " 82%|█████████████████████████████████████████████████████████████████▍              | 54/66 [2:03:43<07:47, 38.94s/it]\n",
      "  0%|                                                                                          | 0/150 [00:00<?, ?it/s]\u001b[A"
     ]
    },
    {
     "name": "stdout",
     "output_type": "stream",
     "text": [
      "[<selenium.webdriver.remote.webelement.WebElement (session=\"9dde711e96f51ab43a9fa71de8b148c0\", element=\"daf333c2-f75d-4adc-8439-d1a618cf9767\")>]\n"
     ]
    },
    {
     "name": "stderr",
     "output_type": "stream",
     "text": [
      "\n",
      "  1%|▌                                                                                 | 1/150 [00:06<16:11,  6.52s/it]\u001b[A"
     ]
    },
    {
     "name": "stdout",
     "output_type": "stream",
     "text": [
      "[<selenium.webdriver.remote.webelement.WebElement (session=\"9dde711e96f51ab43a9fa71de8b148c0\", element=\"d5ebec5f-7277-44de-af94-818b1e7cc0a8\")>]\n"
     ]
    },
    {
     "name": "stderr",
     "output_type": "stream",
     "text": [
      "\n",
      "  1%|█                                                                                 | 2/150 [00:13<16:14,  6.59s/it]\u001b[A"
     ]
    },
    {
     "name": "stdout",
     "output_type": "stream",
     "text": [
      "[<selenium.webdriver.remote.webelement.WebElement (session=\"9dde711e96f51ab43a9fa71de8b148c0\", element=\"455eb15d-7fc8-4a28-b31d-d313af7051ed\")>]\n"
     ]
    },
    {
     "name": "stderr",
     "output_type": "stream",
     "text": [
      "\n",
      "  2%|█▋                                                                                | 3/150 [00:19<16:05,  6.57s/it]\u001b[A"
     ]
    },
    {
     "name": "stdout",
     "output_type": "stream",
     "text": [
      "[<selenium.webdriver.remote.webelement.WebElement (session=\"9dde711e96f51ab43a9fa71de8b148c0\", element=\"419f1dae-0918-4771-a475-eeb643b0ed4e\")>]\n"
     ]
    },
    {
     "name": "stderr",
     "output_type": "stream",
     "text": [
      "\n",
      "  3%|██▏                                                                               | 4/150 [00:27<16:47,  6.90s/it]\u001b[A\n",
      " 83%|██████████████████████████████████████████████████████████████████▋             | 55/66 [2:04:11<06:30, 35.54s/it]\n",
      "  0%|                                                                                          | 0/150 [00:00<?, ?it/s]\u001b[A\n"
     ]
    },
    {
     "name": "stdout",
     "output_type": "stream",
     "text": [
      "[<selenium.webdriver.remote.webelement.WebElement (session=\"9dde711e96f51ab43a9fa71de8b148c0\", element=\"d8d7cdfe-4c8f-4a54-a80a-68714b8e35e0\")>]\n"
     ]
    },
    {
     "name": "stderr",
     "output_type": "stream",
     "text": [
      "  1%|▌                                                                                 | 1/150 [00:06<16:18,  6.57s/it]\u001b[A\n"
     ]
    },
    {
     "name": "stdout",
     "output_type": "stream",
     "text": [
      "[<selenium.webdriver.remote.webelement.WebElement (session=\"9dde711e96f51ab43a9fa71de8b148c0\", element=\"3b39b4ac-b03b-4805-a28a-f5ac2c9336ff\")>]\n"
     ]
    },
    {
     "name": "stderr",
     "output_type": "stream",
     "text": [
      "  1%|█                                                                                 | 2/150 [00:13<16:11,  6.57s/it]\u001b[A\n"
     ]
    },
    {
     "name": "stdout",
     "output_type": "stream",
     "text": [
      "[<selenium.webdriver.remote.webelement.WebElement (session=\"9dde711e96f51ab43a9fa71de8b148c0\", element=\"06bd65bc-25f7-46d1-b07f-e7474a6ded9c\")>]\n"
     ]
    },
    {
     "name": "stderr",
     "output_type": "stream",
     "text": [
      "  2%|█▋                                                                                | 3/150 [00:20<17:02,  6.96s/it]\u001b[A\n",
      " 85%|███████████████████████████████████████████████████████████████████▉            | 56/66 [2:04:32<05:11, 31.14s/it]\n",
      "  0%|                                                                                          | 0/150 [00:00<?, ?it/s]\u001b[A"
     ]
    },
    {
     "name": "stdout",
     "output_type": "stream",
     "text": [
      "[<selenium.webdriver.remote.webelement.WebElement (session=\"9dde711e96f51ab43a9fa71de8b148c0\", element=\"ba9b345f-b759-4998-a91a-bad4f9edf4de\")>]\n"
     ]
    },
    {
     "name": "stderr",
     "output_type": "stream",
     "text": [
      "\n",
      "  1%|▌                                                                                 | 1/150 [00:07<19:38,  7.91s/it]\u001b[A\n",
      " 86%|█████████████████████████████████████████████████████████████████████           | 57/66 [2:04:40<03:37, 24.17s/it]\n",
      "  0%|                                                                                          | 0/150 [00:00<?, ?it/s]\u001b[A\n",
      "  1%|▌                                                                                 | 1/150 [00:06<16:12,  6.53s/it]\u001b[A"
     ]
    },
    {
     "name": "stdout",
     "output_type": "stream",
     "text": [
      "[<selenium.webdriver.remote.webelement.WebElement (session=\"9dde711e96f51ab43a9fa71de8b148c0\", element=\"2fcc16c4-48a9-4434-a714-9f31fafb62e0\")>]\n",
      "[<selenium.webdriver.remote.webelement.WebElement (session=\"9dde711e96f51ab43a9fa71de8b148c0\", element=\"ebeeb058-9338-4a28-a221-4d662fb8c751\")>]\n"
     ]
    },
    {
     "name": "stderr",
     "output_type": "stream",
     "text": [
      "\n",
      "  1%|█                                                                                 | 2/150 [00:13<16:02,  6.50s/it]\u001b[A"
     ]
    },
    {
     "name": "stdout",
     "output_type": "stream",
     "text": [
      "[<selenium.webdriver.remote.webelement.WebElement (session=\"9dde711e96f51ab43a9fa71de8b148c0\", element=\"85454300-1fde-4905-a476-0c7855cdf6ca\")>]\n"
     ]
    },
    {
     "name": "stderr",
     "output_type": "stream",
     "text": [
      "\n",
      "  2%|█▋                                                                                | 3/150 [00:19<16:03,  6.55s/it]\u001b[A\n"
     ]
    },
    {
     "name": "stdout",
     "output_type": "stream",
     "text": [
      "[<selenium.webdriver.remote.webelement.WebElement (session=\"9dde711e96f51ab43a9fa71de8b148c0\", element=\"44642fb4-ed9a-41a4-b270-c34d85417011\")>]\n"
     ]
    },
    {
     "name": "stderr",
     "output_type": "stream",
     "text": [
      "  3%|██▏                                                                               | 4/150 [00:26<15:57,  6.56s/it]\u001b[A\n"
     ]
    },
    {
     "name": "stdout",
     "output_type": "stream",
     "text": [
      "[<selenium.webdriver.remote.webelement.WebElement (session=\"9dde711e96f51ab43a9fa71de8b148c0\", element=\"9ca575e5-2406-4836-af4c-10833e9539b0\")>]\n"
     ]
    },
    {
     "name": "stderr",
     "output_type": "stream",
     "text": [
      "  3%|██▋                                                                               | 5/150 [00:32<15:52,  6.57s/it]\u001b[A"
     ]
    },
    {
     "name": "stdout",
     "output_type": "stream",
     "text": [
      "[<selenium.webdriver.remote.webelement.WebElement (session=\"9dde711e96f51ab43a9fa71de8b148c0\", element=\"b69e17ab-daeb-4c92-9588-16c5d59930b4\")>]\n"
     ]
    },
    {
     "name": "stderr",
     "output_type": "stream",
     "text": [
      "\n",
      "  4%|███▎                                                                              | 6/150 [00:39<15:48,  6.59s/it]\u001b[A"
     ]
    },
    {
     "name": "stdout",
     "output_type": "stream",
     "text": [
      "[<selenium.webdriver.remote.webelement.WebElement (session=\"9dde711e96f51ab43a9fa71de8b148c0\", element=\"e1182d7d-1297-455d-8082-5b1932f17c80\")>]\n"
     ]
    },
    {
     "name": "stderr",
     "output_type": "stream",
     "text": [
      "\n",
      "  5%|███▊                                                                              | 7/150 [00:46<15:50,  6.65s/it]\u001b[A\n",
      "  5%|████▎                                                                             | 8/150 [00:52<15:37,  6.60s/it]\u001b[A"
     ]
    },
    {
     "name": "stdout",
     "output_type": "stream",
     "text": [
      "[<selenium.webdriver.remote.webelement.WebElement (session=\"9dde711e96f51ab43a9fa71de8b148c0\", element=\"a2d58107-f46f-42eb-966f-390b0673cde9\")>]\n",
      "[<selenium.webdriver.remote.webelement.WebElement (session=\"9dde711e96f51ab43a9fa71de8b148c0\", element=\"03487961-0968-44c8-98ce-012eaf01ff76\")>]\n"
     ]
    },
    {
     "name": "stderr",
     "output_type": "stream",
     "text": [
      "\n",
      "  6%|████▉                                                                             | 9/150 [00:59<15:40,  6.67s/it]\u001b[A"
     ]
    },
    {
     "name": "stdout",
     "output_type": "stream",
     "text": [
      "[<selenium.webdriver.remote.webelement.WebElement (session=\"9dde711e96f51ab43a9fa71de8b148c0\", element=\"2eef55f8-a166-409f-8ef0-56522722ba91\")>]\n"
     ]
    },
    {
     "name": "stderr",
     "output_type": "stream",
     "text": [
      "\n",
      "  7%|█████▍                                                                           | 10/150 [01:06<15:44,  6.75s/it]\u001b[A"
     ]
    },
    {
     "name": "stdout",
     "output_type": "stream",
     "text": [
      "[<selenium.webdriver.remote.webelement.WebElement (session=\"9dde711e96f51ab43a9fa71de8b148c0\", element=\"a6ef8764-6cc6-4dcf-b7cc-c16df1379d14\")>]\n"
     ]
    },
    {
     "name": "stderr",
     "output_type": "stream",
     "text": [
      "\n",
      "  7%|█████▉                                                                           | 11/150 [01:13<15:48,  6.82s/it]\u001b[A"
     ]
    },
    {
     "name": "stdout",
     "output_type": "stream",
     "text": [
      "[<selenium.webdriver.remote.webelement.WebElement (session=\"9dde711e96f51ab43a9fa71de8b148c0\", element=\"c6bebb96-db3a-4eeb-9d87-6fad6d1f0476\")>]\n"
     ]
    },
    {
     "name": "stderr",
     "output_type": "stream",
     "text": [
      "\n",
      "  8%|██████▍                                                                          | 12/150 [01:20<15:44,  6.85s/it]\u001b[A"
     ]
    },
    {
     "name": "stdout",
     "output_type": "stream",
     "text": [
      "[<selenium.webdriver.remote.webelement.WebElement (session=\"9dde711e96f51ab43a9fa71de8b148c0\", element=\"d580fab1-7139-4131-81e1-971a988a76db\")>]\n"
     ]
    },
    {
     "name": "stderr",
     "output_type": "stream",
     "text": [
      "\n",
      "  9%|███████                                                                          | 13/150 [01:28<15:29,  6.79s/it]\u001b[A\n",
      " 88%|██████████████████████████████████████████████████████████████████████▎         | 58/66 [2:06:08<05:47, 43.40s/it]\n",
      "  0%|                                                                                          | 0/150 [00:00<?, ?it/s]\u001b[A"
     ]
    },
    {
     "name": "stdout",
     "output_type": "stream",
     "text": [
      "[<selenium.webdriver.remote.webelement.WebElement (session=\"9dde711e96f51ab43a9fa71de8b148c0\", element=\"cb2657e7-f495-428f-bca9-851c15d2c2a1\")>]\n"
     ]
    },
    {
     "name": "stderr",
     "output_type": "stream",
     "text": [
      "\n",
      "  1%|▌                                                                                 | 1/150 [00:06<16:47,  6.76s/it]\u001b[A"
     ]
    },
    {
     "name": "stdout",
     "output_type": "stream",
     "text": [
      "[<selenium.webdriver.remote.webelement.WebElement (session=\"9dde711e96f51ab43a9fa71de8b148c0\", element=\"fcbc7670-43bb-4f7e-b1ca-5d2cc790554a\")>]\n"
     ]
    },
    {
     "name": "stderr",
     "output_type": "stream",
     "text": [
      "\n",
      "  1%|█                                                                                 | 2/150 [00:13<16:44,  6.79s/it]\u001b[A"
     ]
    },
    {
     "name": "stdout",
     "output_type": "stream",
     "text": [
      "[<selenium.webdriver.remote.webelement.WebElement (session=\"9dde711e96f51ab43a9fa71de8b148c0\", element=\"42b7a290-f304-4a33-9b22-d2444b9c4419\")>]\n"
     ]
    },
    {
     "name": "stderr",
     "output_type": "stream",
     "text": [
      "\n",
      "  2%|█▋                                                                                | 3/150 [00:20<16:29,  6.73s/it]\u001b[A"
     ]
    },
    {
     "name": "stdout",
     "output_type": "stream",
     "text": [
      "[<selenium.webdriver.remote.webelement.WebElement (session=\"9dde711e96f51ab43a9fa71de8b148c0\", element=\"981268c0-734a-4391-9789-ce38f75cf038\")>]\n"
     ]
    },
    {
     "name": "stderr",
     "output_type": "stream",
     "text": [
      "\n",
      "  3%|██▏                                                                               | 4/150 [00:26<16:18,  6.70s/it]\u001b[A"
     ]
    },
    {
     "name": "stdout",
     "output_type": "stream",
     "text": [
      "[<selenium.webdriver.remote.webelement.WebElement (session=\"9dde711e96f51ab43a9fa71de8b148c0\", element=\"15eef12d-ad86-447f-a77d-c107afe87a54\")>]\n"
     ]
    },
    {
     "name": "stderr",
     "output_type": "stream",
     "text": [
      "\n",
      "  3%|██▋                                                                               | 5/150 [00:34<16:46,  6.94s/it]\u001b[A\n",
      " 89%|███████████████████████████████████████████████████████████████████████▌        | 59/66 [2:06:43<04:45, 40.79s/it]\n",
      "  0%|                                                                                          | 0/150 [00:00<?, ?it/s]\u001b[A"
     ]
    },
    {
     "name": "stdout",
     "output_type": "stream",
     "text": [
      "[<selenium.webdriver.remote.webelement.WebElement (session=\"9dde711e96f51ab43a9fa71de8b148c0\", element=\"bd26483c-fc3d-466b-8383-af55adb501be\")>]\n"
     ]
    },
    {
     "name": "stderr",
     "output_type": "stream",
     "text": [
      "\n",
      "  1%|▌                                                                                 | 1/150 [00:06<16:22,  6.60s/it]\u001b[A"
     ]
    },
    {
     "name": "stdout",
     "output_type": "stream",
     "text": [
      "[<selenium.webdriver.remote.webelement.WebElement (session=\"9dde711e96f51ab43a9fa71de8b148c0\", element=\"0c03c98b-29ec-49e0-809d-9c514f1a7ac5\")>]\n"
     ]
    },
    {
     "name": "stderr",
     "output_type": "stream",
     "text": [
      "\n",
      "  1%|█                                                                                 | 2/150 [00:13<16:26,  6.66s/it]\u001b[A"
     ]
    },
    {
     "name": "stdout",
     "output_type": "stream",
     "text": [
      "[<selenium.webdriver.remote.webelement.WebElement (session=\"9dde711e96f51ab43a9fa71de8b148c0\", element=\"99b52a93-7043-4ebb-9f71-c219298e1bd3\")>]\n"
     ]
    },
    {
     "name": "stderr",
     "output_type": "stream",
     "text": [
      "\n",
      "  2%|█▋                                                                                | 3/150 [00:19<16:17,  6.65s/it]\u001b[A"
     ]
    },
    {
     "name": "stdout",
     "output_type": "stream",
     "text": [
      "[<selenium.webdriver.remote.webelement.WebElement (session=\"9dde711e96f51ab43a9fa71de8b148c0\", element=\"00c2f62a-7777-4dae-b222-9844d883bc79\")>]\n"
     ]
    },
    {
     "name": "stderr",
     "output_type": "stream",
     "text": [
      "\n",
      "  3%|██▏                                                                               | 4/150 [00:26<16:13,  6.67s/it]\u001b[A\n"
     ]
    },
    {
     "name": "stdout",
     "output_type": "stream",
     "text": [
      "[<selenium.webdriver.remote.webelement.WebElement (session=\"9dde711e96f51ab43a9fa71de8b148c0\", element=\"06e3120b-b9d1-49a6-a2eb-8657472f76d0\")>]\n"
     ]
    },
    {
     "name": "stderr",
     "output_type": "stream",
     "text": [
      "  3%|██▋                                                                               | 5/150 [00:34<16:37,  6.88s/it]\u001b[A\n",
      " 91%|████████████████████████████████████████████████████████████████████████▋       | 60/66 [2:07:17<03:53, 38.88s/it]\n",
      "  0%|                                                                                          | 0/150 [00:00<?, ?it/s]\u001b[A"
     ]
    },
    {
     "name": "stdout",
     "output_type": "stream",
     "text": [
      "[<selenium.webdriver.remote.webelement.WebElement (session=\"9dde711e96f51ab43a9fa71de8b148c0\", element=\"417cfe7b-68df-4857-b757-44c5595d5884\")>]\n"
     ]
    },
    {
     "name": "stderr",
     "output_type": "stream",
     "text": [
      "\n",
      "  1%|▌                                                                                 | 1/150 [00:06<16:27,  6.63s/it]\u001b[A"
     ]
    },
    {
     "name": "stdout",
     "output_type": "stream",
     "text": [
      "[<selenium.webdriver.remote.webelement.WebElement (session=\"9dde711e96f51ab43a9fa71de8b148c0\", element=\"6a2047b7-9c80-461f-97b5-daab828ea1cc\")>]\n"
     ]
    },
    {
     "name": "stderr",
     "output_type": "stream",
     "text": [
      "\n",
      "  1%|█                                                                                 | 2/150 [00:13<16:31,  6.70s/it]\u001b[A"
     ]
    },
    {
     "name": "stdout",
     "output_type": "stream",
     "text": [
      "[<selenium.webdriver.remote.webelement.WebElement (session=\"9dde711e96f51ab43a9fa71de8b148c0\", element=\"3347d029-857e-43c0-8a9e-2692bc3056f3\")>]\n"
     ]
    },
    {
     "name": "stderr",
     "output_type": "stream",
     "text": [
      "\n",
      "  2%|█▋                                                                                | 3/150 [00:21<17:37,  7.20s/it]\u001b[A\n",
      " 92%|█████████████████████████████████████████████████████████████████████████▉      | 61/66 [2:07:39<02:48, 33.69s/it]\n",
      "  0%|                                                                                          | 0/150 [00:00<?, ?it/s]\u001b[A\n",
      "  1%|▌                                                                                 | 1/150 [00:06<15:59,  6.44s/it]\u001b[A"
     ]
    },
    {
     "name": "stdout",
     "output_type": "stream",
     "text": [
      "[<selenium.webdriver.remote.webelement.WebElement (session=\"9dde711e96f51ab43a9fa71de8b148c0\", element=\"cdc1af4b-fad2-440f-ab59-605c4ac32007\")>]\n",
      "[<selenium.webdriver.remote.webelement.WebElement (session=\"9dde711e96f51ab43a9fa71de8b148c0\", element=\"5155fb1c-f61a-422f-b937-91e01cb4d045\")>]\n"
     ]
    },
    {
     "name": "stderr",
     "output_type": "stream",
     "text": [
      "\n",
      "  1%|█                                                                                 | 2/150 [00:13<16:10,  6.56s/it]\u001b[A"
     ]
    },
    {
     "name": "stdout",
     "output_type": "stream",
     "text": [
      "[<selenium.webdriver.remote.webelement.WebElement (session=\"9dde711e96f51ab43a9fa71de8b148c0\", element=\"fa783be8-5ae6-4a24-a9cf-92551264538a\")>]\n"
     ]
    },
    {
     "name": "stderr",
     "output_type": "stream",
     "text": [
      "\n",
      "  2%|█▋                                                                                | 3/150 [00:19<16:10,  6.61s/it]\u001b[A"
     ]
    },
    {
     "name": "stdout",
     "output_type": "stream",
     "text": [
      "[<selenium.webdriver.remote.webelement.WebElement (session=\"9dde711e96f51ab43a9fa71de8b148c0\", element=\"185fd891-739f-4ba9-b72a-7dc643a03948\")>]\n"
     ]
    },
    {
     "name": "stderr",
     "output_type": "stream",
     "text": [
      "\n",
      "  3%|██▏                                                                               | 4/150 [00:26<16:02,  6.59s/it]\u001b[A"
     ]
    },
    {
     "name": "stdout",
     "output_type": "stream",
     "text": [
      "[<selenium.webdriver.remote.webelement.WebElement (session=\"9dde711e96f51ab43a9fa71de8b148c0\", element=\"ea90d8c9-5881-4845-91f8-7d7083b1cdf5\")>]\n"
     ]
    },
    {
     "name": "stderr",
     "output_type": "stream",
     "text": [
      "\n",
      "  3%|██▋                                                                               | 5/150 [00:34<16:27,  6.81s/it]\u001b[A\n",
      " 94%|███████████████████████████████████████████████████████████████████████████▏    | 62/66 [2:08:13<02:15, 33.80s/it]\n",
      "  0%|                                                                                          | 0/150 [00:00<?, ?it/s]\u001b[A\n",
      "  1%|▌                                                                                 | 1/150 [00:06<16:04,  6.47s/it]\u001b[A"
     ]
    },
    {
     "name": "stdout",
     "output_type": "stream",
     "text": [
      "[<selenium.webdriver.remote.webelement.WebElement (session=\"9dde711e96f51ab43a9fa71de8b148c0\", element=\"7733a629-4d29-4c6c-b84b-28db7d1e1412\")>]\n"
     ]
    },
    {
     "name": "stderr",
     "output_type": "stream",
     "text": [
      "  1%|▌                                                                                 | 1/150 [00:06<17:14,  6.94s/it]\n",
      " 95%|████████████████████████████████████████████████████████████████████████████▎   | 63/66 [2:08:20<01:17, 25.74s/it]\n",
      "  0%|                                                                                          | 0/150 [00:00<?, ?it/s]\u001b[A\n",
      "  1%|▌                                                                                 | 1/150 [00:11<28:09, 11.34s/it]\u001b[A"
     ]
    },
    {
     "name": "stdout",
     "output_type": "stream",
     "text": [
      "[]\n"
     ]
    },
    {
     "name": "stderr",
     "output_type": "stream",
     "text": [
      "  1%|▌                                                                                 | 1/150 [00:12<31:16, 12.59s/it]\n",
      " 97%|█████████████████████████████████████████████████████████████████████████████▌  | 64/66 [2:08:32<00:43, 21.80s/it]\n",
      "  0%|                                                                                          | 0/150 [00:00<?, ?it/s]\u001b[A"
     ]
    },
    {
     "name": "stdout",
     "output_type": "stream",
     "text": [
      "[<selenium.webdriver.remote.webelement.WebElement (session=\"9dde711e96f51ab43a9fa71de8b148c0\", element=\"6f2e1440-1627-4269-9e9c-d5e04e346159\")>]\n"
     ]
    },
    {
     "name": "stderr",
     "output_type": "stream",
     "text": [
      "\n",
      "  1%|▌                                                                                 | 1/150 [00:07<19:32,  7.87s/it]\u001b[A\n",
      " 98%|██████████████████████████████████████████████████████████████████████████████▊ | 65/66 [2:08:40<00:17, 17.62s/it]\n",
      "  0%|                                                                                          | 0/150 [00:00<?, ?it/s]\u001b[A"
     ]
    },
    {
     "name": "stdout",
     "output_type": "stream",
     "text": [
      "[<selenium.webdriver.remote.webelement.WebElement (session=\"9dde711e96f51ab43a9fa71de8b148c0\", element=\"6f5b5230-7315-4ff1-9c64-2bf83d531ff4\")>]\n"
     ]
    },
    {
     "name": "stderr",
     "output_type": "stream",
     "text": [
      "\n",
      "  1%|▌                                                                                 | 1/150 [00:06<16:12,  6.53s/it]\u001b[A"
     ]
    },
    {
     "name": "stdout",
     "output_type": "stream",
     "text": [
      "[<selenium.webdriver.remote.webelement.WebElement (session=\"9dde711e96f51ab43a9fa71de8b148c0\", element=\"aea9eda7-0ecb-4702-80fe-54067b2799ae\")>]\n"
     ]
    },
    {
     "name": "stderr",
     "output_type": "stream",
     "text": [
      "\n",
      "  1%|█                                                                                 | 2/150 [00:13<16:20,  6.62s/it]\u001b[A"
     ]
    },
    {
     "name": "stdout",
     "output_type": "stream",
     "text": [
      "[<selenium.webdriver.remote.webelement.WebElement (session=\"9dde711e96f51ab43a9fa71de8b148c0\", element=\"33efbea3-eaa7-49e4-90dd-9803a660a6c5\")>]\n"
     ]
    },
    {
     "name": "stderr",
     "output_type": "stream",
     "text": [
      "\n",
      "  2%|█▋                                                                                | 3/150 [00:19<16:08,  6.59s/it]\u001b[A\n",
      "  3%|██▏                                                                               | 4/150 [00:26<15:51,  6.52s/it]\u001b[A"
     ]
    },
    {
     "name": "stdout",
     "output_type": "stream",
     "text": [
      "[<selenium.webdriver.remote.webelement.WebElement (session=\"9dde711e96f51ab43a9fa71de8b148c0\", element=\"74f4f758-6302-459a-926e-390c19e6aa5c\")>]\n"
     ]
    },
    {
     "name": "stderr",
     "output_type": "stream",
     "text": [
      "\n",
      "  3%|██▋                                                                               | 5/150 [00:32<15:44,  6.51s/it]\u001b[A"
     ]
    },
    {
     "name": "stdout",
     "output_type": "stream",
     "text": [
      "[<selenium.webdriver.remote.webelement.WebElement (session=\"9dde711e96f51ab43a9fa71de8b148c0\", element=\"cf5bde48-3d58-4aff-a78a-da4906fda7ef\")>]\n",
      "[<selenium.webdriver.remote.webelement.WebElement (session=\"9dde711e96f51ab43a9fa71de8b148c0\", element=\"b9b17ea4-45c5-47bf-9753-6bfb81d3f582\")>]\n"
     ]
    },
    {
     "name": "stderr",
     "output_type": "stream",
     "text": [
      "\n",
      "  4%|███▎                                                                              | 6/150 [00:39<15:36,  6.51s/it]\u001b[A"
     ]
    },
    {
     "name": "stdout",
     "output_type": "stream",
     "text": [
      "[<selenium.webdriver.remote.webelement.WebElement (session=\"9dde711e96f51ab43a9fa71de8b148c0\", element=\"ea27f4cd-1f97-4d0b-8ecd-ed5b00d7da91\")>]\n"
     ]
    },
    {
     "name": "stderr",
     "output_type": "stream",
     "text": [
      "\n",
      "  5%|███▊                                                                              | 7/150 [00:45<15:32,  6.52s/it]\u001b[A\n",
      "  5%|████▎                                                                             | 8/150 [00:52<15:23,  6.50s/it]\u001b[A"
     ]
    },
    {
     "name": "stdout",
     "output_type": "stream",
     "text": [
      "[<selenium.webdriver.remote.webelement.WebElement (session=\"9dde711e96f51ab43a9fa71de8b148c0\", element=\"3526f664-0548-45e8-b5c2-92a347c8a014\")>]\n",
      "[<selenium.webdriver.remote.webelement.WebElement (session=\"9dde711e96f51ab43a9fa71de8b148c0\", element=\"9623aaf1-6cf9-435a-81e2-2b17a5437624\")>]\n"
     ]
    },
    {
     "name": "stderr",
     "output_type": "stream",
     "text": [
      "\n",
      "  6%|████▉                                                                             | 9/150 [00:58<15:20,  6.53s/it]\u001b[A\n",
      "  7%|█████▍                                                                           | 10/150 [01:05<15:09,  6.49s/it]\u001b[A"
     ]
    },
    {
     "name": "stdout",
     "output_type": "stream",
     "text": [
      "[<selenium.webdriver.remote.webelement.WebElement (session=\"9dde711e96f51ab43a9fa71de8b148c0\", element=\"ba745c2b-6087-4a02-8bec-1b43be4c0f8f\")>]\n",
      "[<selenium.webdriver.remote.webelement.WebElement (session=\"9dde711e96f51ab43a9fa71de8b148c0\", element=\"1121f729-e014-4368-8e05-f0bb845070cb\")>]\n"
     ]
    },
    {
     "name": "stderr",
     "output_type": "stream",
     "text": [
      "\n",
      "  7%|█████▉                                                                           | 11/150 [01:11<15:02,  6.49s/it]\u001b[A"
     ]
    },
    {
     "name": "stdout",
     "output_type": "stream",
     "text": [
      "[<selenium.webdriver.remote.webelement.WebElement (session=\"9dde711e96f51ab43a9fa71de8b148c0\", element=\"b2b035ad-ccfa-4ed1-80a8-7430db194bd6\")>]\n"
     ]
    },
    {
     "name": "stderr",
     "output_type": "stream",
     "text": [
      "\n",
      "  8%|██████▍                                                                          | 12/150 [01:18<14:59,  6.52s/it]\u001b[A"
     ]
    },
    {
     "name": "stdout",
     "output_type": "stream",
     "text": [
      "[<selenium.webdriver.remote.webelement.WebElement (session=\"9dde711e96f51ab43a9fa71de8b148c0\", element=\"e8fd86b5-11fa-4789-ac36-9463a8817170\")>]\n"
     ]
    },
    {
     "name": "stderr",
     "output_type": "stream",
     "text": [
      "\n",
      "  9%|███████                                                                          | 13/150 [01:24<14:59,  6.57s/it]\u001b[A"
     ]
    },
    {
     "name": "stdout",
     "output_type": "stream",
     "text": [
      "[<selenium.webdriver.remote.webelement.WebElement (session=\"9dde711e96f51ab43a9fa71de8b148c0\", element=\"13154825-62ed-4bd9-950a-eae3861cb417\")>]\n"
     ]
    },
    {
     "name": "stderr",
     "output_type": "stream",
     "text": [
      "\n",
      "  9%|███████▌                                                                         | 14/150 [01:30<14:19,  6.32s/it]\u001b[A\n",
      " 10%|████████                                                                         | 15/150 [01:37<14:20,  6.37s/it]\u001b[A"
     ]
    },
    {
     "name": "stdout",
     "output_type": "stream",
     "text": [
      "[<selenium.webdriver.remote.webelement.WebElement (session=\"9dde711e96f51ab43a9fa71de8b148c0\", element=\"c349e9e8-7099-4ded-b47d-8edd58e0ed7c\")>]\n",
      "[<selenium.webdriver.remote.webelement.WebElement (session=\"9dde711e96f51ab43a9fa71de8b148c0\", element=\"faabc9a0-d854-46b2-a734-30c2745667f2\")>]\n"
     ]
    },
    {
     "name": "stderr",
     "output_type": "stream",
     "text": [
      "\n",
      " 11%|████████▋                                                                        | 16/150 [01:43<14:19,  6.42s/it]\u001b[A"
     ]
    },
    {
     "name": "stdout",
     "output_type": "stream",
     "text": [
      "[<selenium.webdriver.remote.webelement.WebElement (session=\"9dde711e96f51ab43a9fa71de8b148c0\", element=\"154ca98b-9fb1-40fc-914e-293a49c0c9c9\")>]\n"
     ]
    },
    {
     "name": "stderr",
     "output_type": "stream",
     "text": [
      "\n",
      " 11%|█████████▏                                                                       | 17/150 [01:50<14:20,  6.47s/it]\u001b[A"
     ]
    },
    {
     "name": "stdout",
     "output_type": "stream",
     "text": [
      "[<selenium.webdriver.remote.webelement.WebElement (session=\"9dde711e96f51ab43a9fa71de8b148c0\", element=\"f1712ec1-a71f-4072-84c9-5234d72a33c6\")>]\n"
     ]
    },
    {
     "name": "stderr",
     "output_type": "stream",
     "text": [
      "\n",
      " 12%|█████████▋                                                                       | 18/150 [01:56<14:22,  6.53s/it]\u001b[A"
     ]
    },
    {
     "name": "stdout",
     "output_type": "stream",
     "text": [
      "[<selenium.webdriver.remote.webelement.WebElement (session=\"9dde711e96f51ab43a9fa71de8b148c0\", element=\"8896273e-d732-415d-8068-b442f0ac87fe\")>]\n"
     ]
    },
    {
     "name": "stderr",
     "output_type": "stream",
     "text": [
      "\n",
      " 13%|██████████▎                                                                      | 19/150 [02:03<14:15,  6.53s/it]\u001b[A\n"
     ]
    },
    {
     "name": "stdout",
     "output_type": "stream",
     "text": [
      "[<selenium.webdriver.remote.webelement.WebElement (session=\"9dde711e96f51ab43a9fa71de8b148c0\", element=\"bafedfe9-bf4b-40a6-84c6-ce818efa9720\")>]\n"
     ]
    },
    {
     "name": "stderr",
     "output_type": "stream",
     "text": [
      " 13%|██████████▊                                                                      | 20/150 [02:10<14:09,  6.54s/it]\u001b[A"
     ]
    },
    {
     "name": "stdout",
     "output_type": "stream",
     "text": [
      "[<selenium.webdriver.remote.webelement.WebElement (session=\"9dde711e96f51ab43a9fa71de8b148c0\", element=\"01d9f465-ff4e-46e9-ad76-a4fa892d7c59\")>]\n"
     ]
    },
    {
     "name": "stderr",
     "output_type": "stream",
     "text": [
      "\n",
      " 14%|███████████▎                                                                     | 21/150 [02:16<14:05,  6.55s/it]\u001b[A"
     ]
    },
    {
     "name": "stdout",
     "output_type": "stream",
     "text": [
      "[<selenium.webdriver.remote.webelement.WebElement (session=\"9dde711e96f51ab43a9fa71de8b148c0\", element=\"db8cb552-ecfe-4eb4-a8bb-3314cf1db02f\")>]\n"
     ]
    },
    {
     "name": "stderr",
     "output_type": "stream",
     "text": [
      "\n",
      " 15%|███████████▉                                                                     | 22/150 [02:23<13:55,  6.52s/it]\u001b[A\n",
      "100%|███████████████████████████████████████████████████████████████████████████████| 66/66 [2:11:04<00:00, 119.15s/it]\n"
     ]
    }
   ],
   "source": [
    "from cgitb import text\n",
    "import unittest\n",
    "from selenium import webdriver\n",
    "from selenium.webdriver.common.keys import Keys\n",
    "from selenium.webdriver.common.by import By\n",
    "import os\n",
    "from webdriver_manager.chrome import ChromeDriverManager\n",
    "from tqdm import tqdm\n",
    "import pandas as pd\n",
    "import bangla\n",
    "\n",
    "\n",
    "os.environ[\"PATH\"] += r\"F:\\selenium driver\"\n",
    "\n",
    "driver = webdriver.Chrome(ChromeDriverManager().install())\n",
    "#url = f\"https://www.wordproject.org/bibles/ben/{elm}/1.htm#0\"\n",
    "#driver.get(\"https://www.wordproject.org/bibles/ben/01/1.htm#0\")\n",
    "\n",
    "bible_para_xpath = \"/html/body/div[2]/div/div/div[6]/div/p\"\n",
    "chapter_title_xpath = \"/html/body/div[2]/div/div/div[1]/h1\"\n",
    "chapter_xpath = \"/html/body/div[2]/div/div/div[4]/div/div/div[2]/div[2]/ul/li/a\"\n",
    "\n",
    "bible_para_lst = []\n",
    "chapter_title = []\n",
    "chapter_name = []\n",
    "chapter_no = []\n",
    "verse_no = []\n",
    "\n",
    "\n",
    "for k in tqdm(range(1,67,1)):\n",
    "    flag = True\n",
    "    k = str(k)\n",
    "    if len(k) == 1:\n",
    "        k = \"0\"+k\n",
    "    for l in tqdm(range(1,151)):\n",
    "\n",
    "        if flag == False:\n",
    "            break\n",
    "\n",
    "        url = f\"https://www.wordproject.org/bibles/ben/{k}/{l}.htm#0\"\n",
    "        driver.get(url)\n",
    "        driver.implicitly_wait(5)\n",
    "        try:\n",
    "            yoyo = driver.find_element(By.XPATH,\"/html/body/center[1]/h1\")\n",
    "            if yoyo.text == \"404 Not Found\":\n",
    "                flag = False\n",
    "                break\n",
    "        except:\n",
    "\n",
    "\n",
    "\n",
    "\n",
    "\n",
    "\n",
    "            elem = driver.find_elements(By.XPATH,bible_para_xpath)\n",
    "\n",
    "            #print(\"#################\")\n",
    "            #print(elem)\n",
    "            word = \"\"\n",
    "            #count = 1\n",
    "            chapter_title_web = driver.find_element(By.XPATH,chapter_title_xpath)\n",
    "            print((elem))\n",
    "            for elm in elem:\n",
    "\n",
    "                \n",
    "\n",
    "                #print(count)\n",
    "                #result = ''.join([i for i in elm.text if not i.isdigit()])\n",
    "                result = \"\"\n",
    "                #print(elm.text)\n",
    "                #mouly = elm.text.split()\n",
    "                #print(mouly)\n",
    "                tempnum = 1\n",
    "                for i in elm.text.split():\n",
    "                    \n",
    "                    if i.isdigit():\n",
    "                        temp_i = int(i)-1\n",
    "                        #print(i)\n",
    "                        #print(temp_i)\n",
    "                        #print(tempnum)\n",
    "                        if temp_i == tempnum:\n",
    "                            \n",
    "                        \n",
    "                            result += \"GG\" +\" \"\n",
    "                            tempnum = int(i)\n",
    "                        else:\n",
    "                            result +=bangla.convert_english_digit_to_bangla_digit(i) + \" \"\n",
    "                    \n",
    "                    else:\n",
    "                        result += i + \" \"\n",
    "                fresult = result.split(\"GG\")\n",
    "                \n",
    "                result = fresult\n",
    "                #for elm in fresult:\n",
    "                    #if len(elm) >1:\n",
    "                        #result.append(elm)\n",
    "                \n",
    "                    \n",
    "                count = 1\n",
    "                #print((result))\n",
    "                for i in result:\n",
    "                    #chapter_title_web = driver.find_element(By.XPATH,chapter_title_xpath)\n",
    "                    chapter_title.append(chapter_title_web.text) #chapter name only \n",
    "\n",
    "                    #chapter_name_web = driver.find_element(By.XPATH,chapter_xpath)\n",
    "                    chpt_name_temp = f\"{chapter_title_web.text} {str(bangla.convert_english_digit_to_bangla_digit(l))}:{bangla.convert_english_digit_to_bangla_digit(str(count))}\"\n",
    "                    chapter_name.append(chpt_name_temp)  #chapter name boro\n",
    "                    chapter_no.append(bangla.convert_english_digit_to_bangla_digit(l))\n",
    "                    verse_no.append(bangla.convert_english_digit_to_bangla_digit(count))\n",
    "                    \n",
    "                    \n",
    "                    \n",
    "                    bible_para_lst.append(i)\n",
    "                    count += 1\n",
    "            #word = word.rstrip(\"\\n\")\n",
    "            #bible_para_lst.append(word)\n",
    "            #print(\"##############\")"
   ]
  },
  {
   "cell_type": "code",
   "execution_count": 50,
   "id": "7bc0c5fe",
   "metadata": {},
   "outputs": [
    {
     "name": "stdout",
     "output_type": "stream",
     "text": [
      "31091\n",
      "31091\n",
      "31091\n",
      "31091\n",
      "31091\n",
      "                citation         book chapter verse  \\\n",
      "0          আদিপুস্তক ১:১    আদিপুস্তক       ১     ১   \n",
      "1          আদিপুস্তক ১:২    আদিপুস্তক       ১     ২   \n",
      "2          আদিপুস্তক ১:৩    আদিপুস্তক       ১     ৩   \n",
      "3          আদিপুস্তক ১:৪    আদিপুস্তক       ১     ৪   \n",
      "4          আদিপুস্তক ১:৫    আদিপুস্তক       ১     ৫   \n",
      "...                  ...          ...     ...   ...   \n",
      "31086  पপ্রত্যাদেশ ২২:১৭  पপ্রত্যাদেশ      ২২    ১৭   \n",
      "31087  पপ্রত্যাদেশ ২২:১৮  पপ্রত্যাদেশ      ২২    ১৮   \n",
      "31088  पপ্রত্যাদেশ ২২:১৯  पপ্রত্যাদেশ      ২২    ১৯   \n",
      "31089  पপ্রত্যাদেশ ২২:২০  पপ্রত্যাদেশ      ২২    ২০   \n",
      "31090  पপ্রত্যাদেশ ২২:২১  पপ্রত্যাদেশ      ২২    ২১   \n",
      "\n",
      "                                                    text  \n",
      "0      শুরুতে, ঈশ্বর আকাশ ও পৃথিবী সৃষ্টি করলেন| প্রথ...  \n",
      "1       অন্ধকারে আবৃত ছিল জলরাশি আর ঈশ্বরের আত্মা সেই...  \n",
      "2       তারপর ঈশ্বর বললেন, “আলো ফুটুক!” তখনই আলো ফুটত...  \n",
      "3       আলো দেখে ঈশ্বর বুঝলেন, আলো ভাল| তখন ঈশ্বর অন্...  \n",
      "4       ঈশ্বর আলোর নাম দিলেন, “দিন” এবং অন্ধকারের নাম...  \n",
      "...                                                  ...  \n",
      "31086   আত্মা ও বধূ বলছেন, ‘এস!’ য়ে একথা শোনে সেও বল...  \n",
      "31087   এই পুস্তকের সব ভাববাণী যাঁরা শুনবে, আমি তাদের...  \n",
      "31088   কেউ যদি এই ভাববাণী পুস্তকের বাক্য থেকে কিছু ব...  \n",
      "31089   যীশু যিনি বলছেন এই বিষয়গুলি সত্য, এখন তিনিই ...  \n",
      "31090   প্রভু যীশুর অনুগ্রহ তাঁর সকল লোকের সহবর্তী হো...  \n",
      "\n",
      "[31091 rows x 5 columns]\n"
     ]
    }
   ],
   "source": [
    "print(len(chapter_name))\n",
    "print(len(chapter_title))\n",
    "print(len(chapter_no))\n",
    "print(len(verse_no))\n",
    "print(len(bible_para_lst))\n",
    "\n",
    "data = {\n",
    "    \"citation\":chapter_name,\n",
    "    \"book\":chapter_title,\n",
    "    \"chapter\":chapter_no,\n",
    "    \"verse\": verse_no,\n",
    "    \"text\":bible_para_lst\n",
    "}\n",
    "df = pd.DataFrame(data)\n",
    "print(df)\n",
    "df.to_csv (r'F:\\Bible\\export_dataframe.csv', index = False, header=True)"
   ]
  },
  {
   "cell_type": "code",
   "execution_count": null,
   "id": "cc544b79",
   "metadata": {},
   "outputs": [],
   "source": []
  }
 ],
 "metadata": {
  "kernelspec": {
   "display_name": "Python 3 (ipykernel)",
   "language": "python",
   "name": "python3"
  },
  "language_info": {
   "codemirror_mode": {
    "name": "ipython",
    "version": 3
   },
   "file_extension": ".py",
   "mimetype": "text/x-python",
   "name": "python",
   "nbconvert_exporter": "python",
   "pygments_lexer": "ipython3",
   "version": "3.9.12"
  }
 },
 "nbformat": 4,
 "nbformat_minor": 5
}
